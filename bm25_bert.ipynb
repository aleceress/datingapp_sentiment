{
 "cells": [
  {
   "cell_type": "code",
   "execution_count": 1,
   "metadata": {},
   "outputs": [
    {
     "name": "stderr",
     "output_type": "stream",
     "text": [
      "2023-05-25 23:43:30.899947: I tensorflow/core/platform/cpu_feature_guard.cc:182] This TensorFlow binary is optimized to use available CPU instructions in performance-critical operations.\n",
      "To enable the following instructions: AVX2 FMA, in other operations, rebuild TensorFlow with the appropriate compiler flags.\n",
      "2023-05-25 23:43:32.413688: W tensorflow/compiler/tf2tensorrt/utils/py_utils.cc:38] TF-TRT Warning: Could not find TensorRT\n",
      "2023-05-25 23:43:34.800539: I tensorflow/compiler/xla/stream_executor/cuda/cuda_gpu_executor.cc:996] successful NUMA node read from SysFS had negative value (-1), but there must be at least one NUMA node, so returning NUMA node zero. See more at https://github.com/torvalds/linux/blob/v6.0/Documentation/ABI/testing/sysfs-bus-pci#L344-L355\n",
      "2023-05-25 23:43:34.868796: I tensorflow/compiler/xla/stream_executor/cuda/cuda_gpu_executor.cc:996] successful NUMA node read from SysFS had negative value (-1), but there must be at least one NUMA node, so returning NUMA node zero. See more at https://github.com/torvalds/linux/blob/v6.0/Documentation/ABI/testing/sysfs-bus-pci#L344-L355\n",
      "2023-05-25 23:43:34.869912: I tensorflow/compiler/xla/stream_executor/cuda/cuda_gpu_executor.cc:996] successful NUMA node read from SysFS had negative value (-1), but there must be at least one NUMA node, so returning NUMA node zero. See more at https://github.com/torvalds/linux/blob/v6.0/Documentation/ABI/testing/sysfs-bus-pci#L344-L355\n"
     ]
    }
   ],
   "source": [
    "import importlib\n",
    "from utils import aspect_extraction, sentiment_extraction, general, embeddings, visualizer\n",
    "import warnings\n",
    "import pickle\n",
    "warnings.filterwarnings(\"ignore\")"
   ]
  },
  {
   "cell_type": "code",
   "execution_count": 2,
   "metadata": {},
   "outputs": [
    {
     "data": {
      "text/plain": [
       "<module 'utils.embeddings' from '/home/alessia/Documenti/University/Text mining and sentiment analysis/progetto/tinder/utils/embeddings.py'>"
      ]
     },
     "execution_count": 2,
     "metadata": {},
     "output_type": "execute_result"
    }
   ],
   "source": [
    "importlib.reload(aspect_extraction)\n",
    "importlib.reload(sentiment_extraction)\n",
    "importlib.reload(general)\n",
    "importlib.reload(visualizer)\n",
    "importlib.reload(embeddings)"
   ]
  },
  {
   "cell_type": "code",
   "execution_count": 3,
   "metadata": {},
   "outputs": [],
   "source": [
    "aspects_polarity = {}\n",
    "\n",
    "def save_results(app, aspect, aspects_polarity, pos, neg):\n",
    "    if app not in aspects_polarity:\n",
    "        aspects_polarity[app] = {}\n",
    "\n",
    "    aspects_polarity[app][aspect] = {}\n",
    "    aspects_polarity[app][aspect][\"pos\"] = pos\n",
    "    aspects_polarity[app][aspect][\"neg\"] = neg\n",
    "    return aspects_polarity"
   ]
  },
  {
   "attachments": {},
   "cell_type": "markdown",
   "metadata": {},
   "source": [
    "## __Tinder__"
   ]
  },
  {
   "cell_type": "code",
   "execution_count": 4,
   "metadata": {},
   "outputs": [],
   "source": [
    "queries = [\"casual sex\", \"relationship couple boyfriend girlfriend\", \"friendship friends\", \"curiosity novelty experience\",  \"self esteem confidence\", \"women girls\", \"men boys\", \"attractiveness beauty\", \"intelligence\"]\n",
    "annotated_tinder = general.bm25_annotate(queries, app=\"tinder\")"
   ]
  },
  {
   "cell_type": "code",
   "execution_count": 5,
   "metadata": {},
   "outputs": [
    {
     "data": {
      "text/plain": [
       "category\n",
       "attractiveness      51\n",
       "casual            1082\n",
       "curiosity         2339\n",
       "friendship        3062\n",
       "intelligence        12\n",
       "men               1117\n",
       "relationship      2029\n",
       "self               538\n",
       "women             3983\n",
       "Name: reviewId, dtype: int64"
      ]
     },
     "execution_count": 5,
     "metadata": {},
     "output_type": "execute_result"
    }
   ],
   "source": [
    "annotated_tinder.groupby(\"category\")[\"reviewId\"].count()"
   ]
  },
  {
   "attachments": {},
   "cell_type": "markdown",
   "metadata": {},
   "source": [
    "__Casual sex__"
   ]
  },
  {
   "cell_type": "code",
   "execution_count": null,
   "metadata": {},
   "outputs": [],
   "source": [
    "casual_sex_polarities = sentiment_extraction.get_reviews_polarities(annotated_tinder[annotated_tinder.category == \"casual\"])"
   ]
  },
  {
   "cell_type": "code",
   "execution_count": 7,
   "metadata": {},
   "outputs": [
    {
     "data": {
      "text/html": [
       "<div>\n",
       "<style scoped>\n",
       "    .dataframe tbody tr th:only-of-type {\n",
       "        vertical-align: middle;\n",
       "    }\n",
       "\n",
       "    .dataframe tbody tr th {\n",
       "        vertical-align: top;\n",
       "    }\n",
       "\n",
       "    .dataframe thead th {\n",
       "        text-align: right;\n",
       "    }\n",
       "</style>\n",
       "<table border=\"1\" class=\"dataframe\">\n",
       "  <thead>\n",
       "    <tr style=\"text-align: right;\">\n",
       "      <th></th>\n",
       "      <th>reviewId</th>\n",
       "      <th>content</th>\n",
       "      <th>score</th>\n",
       "      <th>at</th>\n",
       "      <th>bm25_score</th>\n",
       "      <th>category</th>\n",
       "      <th>pos</th>\n",
       "      <th>neg</th>\n",
       "    </tr>\n",
       "  </thead>\n",
       "  <tbody>\n",
       "    <tr>\n",
       "      <th>56945</th>\n",
       "      <td>969b3289-b743-4843-8ab5-bbb2bea5367e</td>\n",
       "      <td>Need casual sex option😔</td>\n",
       "      <td>3</td>\n",
       "      <td>2022-04-08 03:09:10</td>\n",
       "      <td>20.337098</td>\n",
       "      <td>casual</td>\n",
       "      <td>0.030786</td>\n",
       "      <td>0.969214</td>\n",
       "    </tr>\n",
       "    <tr>\n",
       "      <th>363052</th>\n",
       "      <td>bdaec147-a6b0-4f97-ab8d-f9e86a276f9d</td>\n",
       "      <td>So good for casual gay sex</td>\n",
       "      <td>5</td>\n",
       "      <td>2017-10-27 13:39:50</td>\n",
       "      <td>18.687423</td>\n",
       "      <td>casual</td>\n",
       "      <td>0.999331</td>\n",
       "      <td>0.000669</td>\n",
       "    </tr>\n",
       "    <tr>\n",
       "      <th>494717</th>\n",
       "      <td>151351b4-27fd-48ea-bbe2-fa510c9c0a04</td>\n",
       "      <td>I've had so much casual sex thanks to Tinder!</td>\n",
       "      <td>5</td>\n",
       "      <td>2015-09-05 21:11:04</td>\n",
       "      <td>16.660286</td>\n",
       "      <td>casual</td>\n",
       "      <td>0.999021</td>\n",
       "      <td>0.000979</td>\n",
       "    </tr>\n",
       "    <tr>\n",
       "      <th>406137</th>\n",
       "      <td>9a68a8ed-c473-42ea-8a1d-57745c7d37bb</td>\n",
       "      <td>This app is for casual sex which is badd</td>\n",
       "      <td>1</td>\n",
       "      <td>2017-02-24 17:37:25</td>\n",
       "      <td>16.660286</td>\n",
       "      <td>casual</td>\n",
       "      <td>0.001389</td>\n",
       "      <td>0.998611</td>\n",
       "    </tr>\n",
       "    <tr>\n",
       "      <th>379864</th>\n",
       "      <td>58811c8c-5371-4774-acac-71c3e1cd9ac5</td>\n",
       "      <td>More of a casual sex up though..serious men 2%</td>\n",
       "      <td>4</td>\n",
       "      <td>2017-08-02 04:27:02</td>\n",
       "      <td>16.660286</td>\n",
       "      <td>casual</td>\n",
       "      <td>0.390191</td>\n",
       "      <td>0.609809</td>\n",
       "    </tr>\n",
       "  </tbody>\n",
       "</table>\n",
       "</div>"
      ],
      "text/plain": [
       "                                    reviewId  \\\n",
       "56945   969b3289-b743-4843-8ab5-bbb2bea5367e   \n",
       "363052  bdaec147-a6b0-4f97-ab8d-f9e86a276f9d   \n",
       "494717  151351b4-27fd-48ea-bbe2-fa510c9c0a04   \n",
       "406137  9a68a8ed-c473-42ea-8a1d-57745c7d37bb   \n",
       "379864  58811c8c-5371-4774-acac-71c3e1cd9ac5   \n",
       "\n",
       "                                               content  score  \\\n",
       "56945                          Need casual sex option😔      3   \n",
       "363052                      So good for casual gay sex      5   \n",
       "494717   I've had so much casual sex thanks to Tinder!      5   \n",
       "406137        This app is for casual sex which is badd      1   \n",
       "379864  More of a casual sex up though..serious men 2%      4   \n",
       "\n",
       "                        at  bm25_score category       pos       neg  \n",
       "56945  2022-04-08 03:09:10   20.337098   casual  0.030786  0.969214  \n",
       "363052 2017-10-27 13:39:50   18.687423   casual  0.999331  0.000669  \n",
       "494717 2015-09-05 21:11:04   16.660286   casual  0.999021  0.000979  \n",
       "406137 2017-02-24 17:37:25   16.660286   casual  0.001389  0.998611  \n",
       "379864 2017-08-02 04:27:02   16.660286   casual  0.390191  0.609809  "
      ]
     },
     "execution_count": 7,
     "metadata": {},
     "output_type": "execute_result"
    }
   ],
   "source": [
    "casual_sex_polarities.head()"
   ]
  },
  {
   "cell_type": "code",
   "execution_count": 8,
   "metadata": {},
   "outputs": [
    {
     "name": "stdout",
     "output_type": "stream",
     "text": [
      "pos: 0.3953488372093023, neg: 0.6046511627906976\n"
     ]
    }
   ],
   "source": [
    "pos = len(casual_sex_polarities[casual_sex_polarities.pos >= .70])/len(casual_sex_polarities[(casual_sex_polarities.pos >= .70) | (casual_sex_polarities.neg >= .70)])\n",
    "neg = len(casual_sex_polarities[casual_sex_polarities.neg >= .70])/len(casual_sex_polarities[(casual_sex_polarities.pos >= .70) | (casual_sex_polarities.neg >= .70)])\n",
    "print(f\"pos: {pos}, neg: {neg}\")\n",
    "aspects_polarity = save_results(\"tinder\", \"casual sex\", aspects_polarity, pos, neg)"
   ]
  },
  {
   "cell_type": "code",
   "execution_count": 9,
   "metadata": {},
   "outputs": [
    {
     "data": {
      "text/html": [
       "<div>\n",
       "<style scoped>\n",
       "    .dataframe tbody tr th:only-of-type {\n",
       "        vertical-align: middle;\n",
       "    }\n",
       "\n",
       "    .dataframe tbody tr th {\n",
       "        vertical-align: top;\n",
       "    }\n",
       "\n",
       "    .dataframe thead th {\n",
       "        text-align: right;\n",
       "    }\n",
       "</style>\n",
       "<table border=\"1\" class=\"dataframe\">\n",
       "  <thead>\n",
       "    <tr style=\"text-align: right;\">\n",
       "      <th></th>\n",
       "      <th>score</th>\n",
       "      <th>pos</th>\n",
       "    </tr>\n",
       "  </thead>\n",
       "  <tbody>\n",
       "    <tr>\n",
       "      <th>score</th>\n",
       "      <td>1.000000</td>\n",
       "      <td>0.646071</td>\n",
       "    </tr>\n",
       "    <tr>\n",
       "      <th>pos</th>\n",
       "      <td>0.646071</td>\n",
       "      <td>1.000000</td>\n",
       "    </tr>\n",
       "  </tbody>\n",
       "</table>\n",
       "</div>"
      ],
      "text/plain": [
       "          score       pos\n",
       "score  1.000000  0.646071\n",
       "pos    0.646071  1.000000"
      ]
     },
     "execution_count": 9,
     "metadata": {},
     "output_type": "execute_result"
    }
   ],
   "source": [
    "casual_sex_polarities[[\"score\", \"pos\"]].corr()"
   ]
  },
  {
   "attachments": {},
   "cell_type": "markdown",
   "metadata": {},
   "source": [
    "__Relationship__"
   ]
  },
  {
   "cell_type": "code",
   "execution_count": null,
   "metadata": {},
   "outputs": [],
   "source": [
    "relationship_polarities = sentiment_extraction.get_reviews_polarities(annotated_tinder[annotated_tinder.category == \"relationship\"])"
   ]
  },
  {
   "cell_type": "code",
   "execution_count": 11,
   "metadata": {},
   "outputs": [
    {
     "data": {
      "text/html": [
       "<div>\n",
       "<style scoped>\n",
       "    .dataframe tbody tr th:only-of-type {\n",
       "        vertical-align: middle;\n",
       "    }\n",
       "\n",
       "    .dataframe tbody tr th {\n",
       "        vertical-align: top;\n",
       "    }\n",
       "\n",
       "    .dataframe thead th {\n",
       "        text-align: right;\n",
       "    }\n",
       "</style>\n",
       "<table border=\"1\" class=\"dataframe\">\n",
       "  <thead>\n",
       "    <tr style=\"text-align: right;\">\n",
       "      <th></th>\n",
       "      <th>reviewId</th>\n",
       "      <th>content</th>\n",
       "      <th>score</th>\n",
       "      <th>at</th>\n",
       "      <th>bm25_score</th>\n",
       "      <th>category</th>\n",
       "      <th>pos</th>\n",
       "      <th>neg</th>\n",
       "    </tr>\n",
       "  </thead>\n",
       "  <tbody>\n",
       "    <tr>\n",
       "      <th>210731</th>\n",
       "      <td>b9f09ba3-7f98-481d-a6c2-cc3e825c8f87</td>\n",
       "      <td>Good app and easy to find friends and boyfrien...</td>\n",
       "      <td>5</td>\n",
       "      <td>2019-10-18 22:02:07</td>\n",
       "      <td>16.433566</td>\n",
       "      <td>relationship</td>\n",
       "      <td>0.999789</td>\n",
       "      <td>0.000211</td>\n",
       "    </tr>\n",
       "    <tr>\n",
       "      <th>458420</th>\n",
       "      <td>6af7303d-d32c-4b9f-868c-8273fa30a6e5</td>\n",
       "      <td>Great way to either make some friends or to tr...</td>\n",
       "      <td>5</td>\n",
       "      <td>2016-04-09 19:31:10</td>\n",
       "      <td>14.062603</td>\n",
       "      <td>relationship</td>\n",
       "      <td>0.999380</td>\n",
       "      <td>0.000620</td>\n",
       "    </tr>\n",
       "    <tr>\n",
       "      <th>101187</th>\n",
       "      <td>f5f30bc2-90c3-4f86-b016-ac113dac72dc</td>\n",
       "      <td>Bad app no good, no dates, no girlfriend me sp...</td>\n",
       "      <td>1</td>\n",
       "      <td>2021-06-15 15:03:34</td>\n",
       "      <td>13.295326</td>\n",
       "      <td>relationship</td>\n",
       "      <td>0.000372</td>\n",
       "      <td>0.999628</td>\n",
       "    </tr>\n",
       "    <tr>\n",
       "      <th>136251</th>\n",
       "      <td>492f8ca2-3360-45da-8993-f087d21904cc</td>\n",
       "      <td>1 star for letting my boyfriend use this throu...</td>\n",
       "      <td>1</td>\n",
       "      <td>2020-11-28 00:13:36</td>\n",
       "      <td>11.831465</td>\n",
       "      <td>relationship</td>\n",
       "      <td>0.005834</td>\n",
       "      <td>0.994166</td>\n",
       "    </tr>\n",
       "    <tr>\n",
       "      <th>74399</th>\n",
       "      <td>59d386f6-012e-4b8c-9aec-683301b3e84c</td>\n",
       "      <td>Got girlfriend</td>\n",
       "      <td>5</td>\n",
       "      <td>2021-12-14 12:01:53</td>\n",
       "      <td>11.505533</td>\n",
       "      <td>relationship</td>\n",
       "      <td>0.996761</td>\n",
       "      <td>0.003239</td>\n",
       "    </tr>\n",
       "  </tbody>\n",
       "</table>\n",
       "</div>"
      ],
      "text/plain": [
       "                                    reviewId  \\\n",
       "210731  b9f09ba3-7f98-481d-a6c2-cc3e825c8f87   \n",
       "458420  6af7303d-d32c-4b9f-868c-8273fa30a6e5   \n",
       "101187  f5f30bc2-90c3-4f86-b016-ac113dac72dc   \n",
       "136251  492f8ca2-3360-45da-8993-f087d21904cc   \n",
       "74399   59d386f6-012e-4b8c-9aec-683301b3e84c   \n",
       "\n",
       "                                                  content  score  \\\n",
       "210731  Good app and easy to find friends and boyfrien...      5   \n",
       "458420  Great way to either make some friends or to tr...      5   \n",
       "101187  Bad app no good, no dates, no girlfriend me sp...      1   \n",
       "136251  1 star for letting my boyfriend use this throu...      1   \n",
       "74399                                      Got girlfriend      5   \n",
       "\n",
       "                        at  bm25_score      category       pos       neg  \n",
       "210731 2019-10-18 22:02:07   16.433566  relationship  0.999789  0.000211  \n",
       "458420 2016-04-09 19:31:10   14.062603  relationship  0.999380  0.000620  \n",
       "101187 2021-06-15 15:03:34   13.295326  relationship  0.000372  0.999628  \n",
       "136251 2020-11-28 00:13:36   11.831465  relationship  0.005834  0.994166  \n",
       "74399  2021-12-14 12:01:53   11.505533  relationship  0.996761  0.003239  "
      ]
     },
     "execution_count": 11,
     "metadata": {},
     "output_type": "execute_result"
    }
   ],
   "source": [
    "relationship_polarities.head()"
   ]
  },
  {
   "cell_type": "code",
   "execution_count": 12,
   "metadata": {},
   "outputs": [
    {
     "name": "stdout",
     "output_type": "stream",
     "text": [
      "pos: 0.5146761133603239, neg: 0.4853238866396761\n"
     ]
    }
   ],
   "source": [
    "pos = len(relationship_polarities[relationship_polarities.pos >= .70])/len(relationship_polarities[(relationship_polarities.pos >= .70) | (relationship_polarities.neg >= .70)])\n",
    "neg = len(relationship_polarities[relationship_polarities.neg >= .70])/len(relationship_polarities[(relationship_polarities.pos >= .70) | (relationship_polarities.neg >= .70)])\n",
    "print(f\"pos: {pos}, neg: {neg}\")\n",
    "aspects_polarity = save_results(\"tinder\", \"relationship\", aspects_polarity, pos, neg)"
   ]
  },
  {
   "cell_type": "code",
   "execution_count": 13,
   "metadata": {},
   "outputs": [
    {
     "data": {
      "text/html": [
       "<div>\n",
       "<style scoped>\n",
       "    .dataframe tbody tr th:only-of-type {\n",
       "        vertical-align: middle;\n",
       "    }\n",
       "\n",
       "    .dataframe tbody tr th {\n",
       "        vertical-align: top;\n",
       "    }\n",
       "\n",
       "    .dataframe thead th {\n",
       "        text-align: right;\n",
       "    }\n",
       "</style>\n",
       "<table border=\"1\" class=\"dataframe\">\n",
       "  <thead>\n",
       "    <tr style=\"text-align: right;\">\n",
       "      <th></th>\n",
       "      <th>pos</th>\n",
       "      <th>score</th>\n",
       "    </tr>\n",
       "  </thead>\n",
       "  <tbody>\n",
       "    <tr>\n",
       "      <th>pos</th>\n",
       "      <td>1.000000</td>\n",
       "      <td>0.661604</td>\n",
       "    </tr>\n",
       "    <tr>\n",
       "      <th>score</th>\n",
       "      <td>0.661604</td>\n",
       "      <td>1.000000</td>\n",
       "    </tr>\n",
       "  </tbody>\n",
       "</table>\n",
       "</div>"
      ],
      "text/plain": [
       "            pos     score\n",
       "pos    1.000000  0.661604\n",
       "score  0.661604  1.000000"
      ]
     },
     "execution_count": 13,
     "metadata": {},
     "output_type": "execute_result"
    }
   ],
   "source": [
    "relationship_polarities[[\"pos\", \"score\"]].corr()"
   ]
  },
  {
   "cell_type": "markdown",
   "metadata": {},
   "source": [
    "__Friendship__"
   ]
  },
  {
   "cell_type": "code",
   "execution_count": null,
   "metadata": {},
   "outputs": [],
   "source": [
    "friendship_polarities = sentiment_extraction.get_reviews_polarities(annotated_tinder[annotated_tinder.category == \"friendship\"])"
   ]
  },
  {
   "cell_type": "code",
   "execution_count": 15,
   "metadata": {},
   "outputs": [
    {
     "data": {
      "text/html": [
       "<div>\n",
       "<style scoped>\n",
       "    .dataframe tbody tr th:only-of-type {\n",
       "        vertical-align: middle;\n",
       "    }\n",
       "\n",
       "    .dataframe tbody tr th {\n",
       "        vertical-align: top;\n",
       "    }\n",
       "\n",
       "    .dataframe thead th {\n",
       "        text-align: right;\n",
       "    }\n",
       "</style>\n",
       "<table border=\"1\" class=\"dataframe\">\n",
       "  <thead>\n",
       "    <tr style=\"text-align: right;\">\n",
       "      <th></th>\n",
       "      <th>reviewId</th>\n",
       "      <th>content</th>\n",
       "      <th>score</th>\n",
       "      <th>at</th>\n",
       "      <th>bm25_score</th>\n",
       "      <th>category</th>\n",
       "      <th>pos</th>\n",
       "      <th>neg</th>\n",
       "    </tr>\n",
       "  </thead>\n",
       "  <tbody>\n",
       "    <tr>\n",
       "      <th>243041</th>\n",
       "      <td>b2a10cd8-c77a-40eb-a99f-2c9c5f5b0e8a</td>\n",
       "      <td>Excellent Chat friendship app.... i got 3 dece...</td>\n",
       "      <td>5</td>\n",
       "      <td>2019-06-03 16:00:58</td>\n",
       "      <td>14.010916</td>\n",
       "      <td>friendship</td>\n",
       "      <td>0.998957</td>\n",
       "      <td>0.001043</td>\n",
       "    </tr>\n",
       "    <tr>\n",
       "      <th>19387</th>\n",
       "      <td>10faf559-bdc7-40e4-b47c-8e65b2002dd2</td>\n",
       "      <td>friendship goal</td>\n",
       "      <td>5</td>\n",
       "      <td>2022-12-01 04:45:02</td>\n",
       "      <td>13.120790</td>\n",
       "      <td>friendship</td>\n",
       "      <td>0.999828</td>\n",
       "      <td>0.000172</td>\n",
       "    </tr>\n",
       "    <tr>\n",
       "      <th>121127</th>\n",
       "      <td>951f6319-9df5-43a9-802d-88ec389dedc1</td>\n",
       "      <td>Find friendship</td>\n",
       "      <td>5</td>\n",
       "      <td>2021-02-22 18:30:07</td>\n",
       "      <td>13.120790</td>\n",
       "      <td>friendship</td>\n",
       "      <td>0.999794</td>\n",
       "      <td>0.000206</td>\n",
       "    </tr>\n",
       "    <tr>\n",
       "      <th>2350</th>\n",
       "      <td>6208b7b7-64a1-4e13-ad7b-fdf2d8fca737</td>\n",
       "      <td>friendship good work</td>\n",
       "      <td>5</td>\n",
       "      <td>2023-02-28 18:26:25</td>\n",
       "      <td>12.514914</td>\n",
       "      <td>friendship</td>\n",
       "      <td>0.999869</td>\n",
       "      <td>0.000131</td>\n",
       "    </tr>\n",
       "    <tr>\n",
       "      <th>416751</th>\n",
       "      <td>20f1e402-c688-40e2-a369-5860e23355a8</td>\n",
       "      <td>Application for friendship</td>\n",
       "      <td>5</td>\n",
       "      <td>2016-12-20 03:36:22</td>\n",
       "      <td>12.514914</td>\n",
       "      <td>friendship</td>\n",
       "      <td>0.997227</td>\n",
       "      <td>0.002773</td>\n",
       "    </tr>\n",
       "  </tbody>\n",
       "</table>\n",
       "</div>"
      ],
      "text/plain": [
       "                                    reviewId  \\\n",
       "243041  b2a10cd8-c77a-40eb-a99f-2c9c5f5b0e8a   \n",
       "19387   10faf559-bdc7-40e4-b47c-8e65b2002dd2   \n",
       "121127  951f6319-9df5-43a9-802d-88ec389dedc1   \n",
       "2350    6208b7b7-64a1-4e13-ad7b-fdf2d8fca737   \n",
       "416751  20f1e402-c688-40e2-a369-5860e23355a8   \n",
       "\n",
       "                                                  content  score  \\\n",
       "243041  Excellent Chat friendship app.... i got 3 dece...      5   \n",
       "19387                                     friendship goal      5   \n",
       "121127                                    Find friendship      5   \n",
       "2350                                 friendship good work      5   \n",
       "416751                         Application for friendship      5   \n",
       "\n",
       "                        at  bm25_score    category       pos       neg  \n",
       "243041 2019-06-03 16:00:58   14.010916  friendship  0.998957  0.001043  \n",
       "19387  2022-12-01 04:45:02   13.120790  friendship  0.999828  0.000172  \n",
       "121127 2021-02-22 18:30:07   13.120790  friendship  0.999794  0.000206  \n",
       "2350   2023-02-28 18:26:25   12.514914  friendship  0.999869  0.000131  \n",
       "416751 2016-12-20 03:36:22   12.514914  friendship  0.997227  0.002773  "
      ]
     },
     "execution_count": 15,
     "metadata": {},
     "output_type": "execute_result"
    }
   ],
   "source": [
    "friendship_polarities.head()"
   ]
  },
  {
   "cell_type": "code",
   "execution_count": 16,
   "metadata": {},
   "outputs": [
    {
     "name": "stdout",
     "output_type": "stream",
     "text": [
      "pos: 0.8420013166556946, neg: 0.15799868334430547\n"
     ]
    }
   ],
   "source": [
    "pos = len(friendship_polarities[friendship_polarities.pos >= .70])/len(friendship_polarities[(friendship_polarities.pos >= .70) | (friendship_polarities.neg >= .70)])\n",
    "neg = len(friendship_polarities[friendship_polarities.neg >= .70])/len(friendship_polarities[(friendship_polarities.pos >= .70) | (friendship_polarities.neg >= .70)])\n",
    "print(f\"pos: {pos}, neg: {neg}\")\n",
    "aspects_polarity = save_results(\"tinder\", \"friendship\", aspects_polarity, pos, neg)"
   ]
  },
  {
   "cell_type": "code",
   "execution_count": 17,
   "metadata": {},
   "outputs": [
    {
     "data": {
      "text/html": [
       "<div>\n",
       "<style scoped>\n",
       "    .dataframe tbody tr th:only-of-type {\n",
       "        vertical-align: middle;\n",
       "    }\n",
       "\n",
       "    .dataframe tbody tr th {\n",
       "        vertical-align: top;\n",
       "    }\n",
       "\n",
       "    .dataframe thead th {\n",
       "        text-align: right;\n",
       "    }\n",
       "</style>\n",
       "<table border=\"1\" class=\"dataframe\">\n",
       "  <thead>\n",
       "    <tr style=\"text-align: right;\">\n",
       "      <th></th>\n",
       "      <th>pos</th>\n",
       "      <th>score</th>\n",
       "    </tr>\n",
       "  </thead>\n",
       "  <tbody>\n",
       "    <tr>\n",
       "      <th>pos</th>\n",
       "      <td>1.000000</td>\n",
       "      <td>0.662075</td>\n",
       "    </tr>\n",
       "    <tr>\n",
       "      <th>score</th>\n",
       "      <td>0.662075</td>\n",
       "      <td>1.000000</td>\n",
       "    </tr>\n",
       "  </tbody>\n",
       "</table>\n",
       "</div>"
      ],
      "text/plain": [
       "            pos     score\n",
       "pos    1.000000  0.662075\n",
       "score  0.662075  1.000000"
      ]
     },
     "execution_count": 17,
     "metadata": {},
     "output_type": "execute_result"
    }
   ],
   "source": [
    "friendship_polarities[[\"pos\", \"score\"]].corr()"
   ]
  },
  {
   "attachments": {},
   "cell_type": "markdown",
   "metadata": {},
   "source": [
    "__Curiosity__"
   ]
  },
  {
   "cell_type": "code",
   "execution_count": null,
   "metadata": {},
   "outputs": [],
   "source": [
    "curiosity_polarities = sentiment_extraction.get_reviews_polarities(annotated_tinder[annotated_tinder.category == \"curiosity\"])"
   ]
  },
  {
   "cell_type": "code",
   "execution_count": 19,
   "metadata": {},
   "outputs": [
    {
     "data": {
      "text/html": [
       "<div>\n",
       "<style scoped>\n",
       "    .dataframe tbody tr th:only-of-type {\n",
       "        vertical-align: middle;\n",
       "    }\n",
       "\n",
       "    .dataframe tbody tr th {\n",
       "        vertical-align: top;\n",
       "    }\n",
       "\n",
       "    .dataframe thead th {\n",
       "        text-align: right;\n",
       "    }\n",
       "</style>\n",
       "<table border=\"1\" class=\"dataframe\">\n",
       "  <thead>\n",
       "    <tr style=\"text-align: right;\">\n",
       "      <th></th>\n",
       "      <th>reviewId</th>\n",
       "      <th>content</th>\n",
       "      <th>score</th>\n",
       "      <th>at</th>\n",
       "      <th>bm25_score</th>\n",
       "      <th>category</th>\n",
       "      <th>pos</th>\n",
       "      <th>neg</th>\n",
       "    </tr>\n",
       "  </thead>\n",
       "  <tbody>\n",
       "    <tr>\n",
       "      <th>468392</th>\n",
       "      <td>e427285d-8a28-422b-8482-fd91a2af46b4</td>\n",
       "      <td>Concept is a novelty that wears off however</td>\n",
       "      <td>4</td>\n",
       "      <td>2016-02-13 17:33:50</td>\n",
       "      <td>14.317041</td>\n",
       "      <td>curiosity</td>\n",
       "      <td>0.001714</td>\n",
       "      <td>0.998286</td>\n",
       "    </tr>\n",
       "    <tr>\n",
       "      <th>488972</th>\n",
       "      <td>d0cfa4e5-fd92-4926-b760-52b75677021b</td>\n",
       "      <td>My sociopathic curiosity and appetite for cons...</td>\n",
       "      <td>5</td>\n",
       "      <td>2015-10-14 21:33:53</td>\n",
       "      <td>9.744409</td>\n",
       "      <td>curiosity</td>\n",
       "      <td>0.979886</td>\n",
       "      <td>0.020114</td>\n",
       "    </tr>\n",
       "    <tr>\n",
       "      <th>226051</th>\n",
       "      <td>5bde8454-8d95-4bec-b289-91a1e8804ad0</td>\n",
       "      <td>faltuest app, i ever used. everyone are offlin...</td>\n",
       "      <td>1</td>\n",
       "      <td>2019-08-11 14:27:30</td>\n",
       "      <td>8.946905</td>\n",
       "      <td>curiosity</td>\n",
       "      <td>0.010401</td>\n",
       "      <td>0.989599</td>\n",
       "    </tr>\n",
       "    <tr>\n",
       "      <th>416609</th>\n",
       "      <td>81e0af1d-01c4-4b2a-a4ee-647b32578a3f</td>\n",
       "      <td>experience</td>\n",
       "      <td>5</td>\n",
       "      <td>2016-12-21 04:02:30</td>\n",
       "      <td>8.471395</td>\n",
       "      <td>curiosity</td>\n",
       "      <td>0.980141</td>\n",
       "      <td>0.019859</td>\n",
       "    </tr>\n",
       "    <tr>\n",
       "      <th>47787</th>\n",
       "      <td>736fb889-f02a-4c06-853a-f392a52e6ca4</td>\n",
       "      <td>Worse experience years back. Worst experience ...</td>\n",
       "      <td>1</td>\n",
       "      <td>2022-06-05 18:24:18</td>\n",
       "      <td>8.279315</td>\n",
       "      <td>curiosity</td>\n",
       "      <td>0.000291</td>\n",
       "      <td>0.999709</td>\n",
       "    </tr>\n",
       "  </tbody>\n",
       "</table>\n",
       "</div>"
      ],
      "text/plain": [
       "                                    reviewId  \\\n",
       "468392  e427285d-8a28-422b-8482-fd91a2af46b4   \n",
       "488972  d0cfa4e5-fd92-4926-b760-52b75677021b   \n",
       "226051  5bde8454-8d95-4bec-b289-91a1e8804ad0   \n",
       "416609  81e0af1d-01c4-4b2a-a4ee-647b32578a3f   \n",
       "47787   736fb889-f02a-4c06-853a-f392a52e6ca4   \n",
       "\n",
       "                                                  content  score  \\\n",
       "468392        Concept is a novelty that wears off however      4   \n",
       "488972  My sociopathic curiosity and appetite for cons...      5   \n",
       "226051  faltuest app, i ever used. everyone are offlin...      1   \n",
       "416609                                         experience      5   \n",
       "47787   Worse experience years back. Worst experience ...      1   \n",
       "\n",
       "                        at  bm25_score   category       pos       neg  \n",
       "468392 2016-02-13 17:33:50   14.317041  curiosity  0.001714  0.998286  \n",
       "488972 2015-10-14 21:33:53    9.744409  curiosity  0.979886  0.020114  \n",
       "226051 2019-08-11 14:27:30    8.946905  curiosity  0.010401  0.989599  \n",
       "416609 2016-12-21 04:02:30    8.471395  curiosity  0.980141  0.019859  \n",
       "47787  2022-06-05 18:24:18    8.279315  curiosity  0.000291  0.999709  "
      ]
     },
     "execution_count": 19,
     "metadata": {},
     "output_type": "execute_result"
    }
   ],
   "source": [
    "curiosity_polarities.head()"
   ]
  },
  {
   "cell_type": "code",
   "execution_count": 20,
   "metadata": {},
   "outputs": [
    {
     "name": "stdout",
     "output_type": "stream",
     "text": [
      "pos: 0.5334195774040534, neg: 0.4665804225959465\n"
     ]
    }
   ],
   "source": [
    "pos = len(curiosity_polarities[curiosity_polarities.pos >= .70])/len(curiosity_polarities[(curiosity_polarities.pos >= .70) | (curiosity_polarities.neg >= .70)])\n",
    "neg = len(curiosity_polarities[curiosity_polarities.neg >= .70])/len(curiosity_polarities[(curiosity_polarities.pos >= .70) | (curiosity_polarities.neg >= .70)])\n",
    "print(f\"pos: {pos}, neg: {neg}\")\n",
    "aspects_polarity = save_results(\"tinder\", \"curiosity\", aspects_polarity, pos, neg)"
   ]
  },
  {
   "cell_type": "code",
   "execution_count": 21,
   "metadata": {},
   "outputs": [
    {
     "data": {
      "text/html": [
       "<div>\n",
       "<style scoped>\n",
       "    .dataframe tbody tr th:only-of-type {\n",
       "        vertical-align: middle;\n",
       "    }\n",
       "\n",
       "    .dataframe tbody tr th {\n",
       "        vertical-align: top;\n",
       "    }\n",
       "\n",
       "    .dataframe thead th {\n",
       "        text-align: right;\n",
       "    }\n",
       "</style>\n",
       "<table border=\"1\" class=\"dataframe\">\n",
       "  <thead>\n",
       "    <tr style=\"text-align: right;\">\n",
       "      <th></th>\n",
       "      <th>pos</th>\n",
       "      <th>score</th>\n",
       "    </tr>\n",
       "  </thead>\n",
       "  <tbody>\n",
       "    <tr>\n",
       "      <th>pos</th>\n",
       "      <td>1.000000</td>\n",
       "      <td>0.828971</td>\n",
       "    </tr>\n",
       "    <tr>\n",
       "      <th>score</th>\n",
       "      <td>0.828971</td>\n",
       "      <td>1.000000</td>\n",
       "    </tr>\n",
       "  </tbody>\n",
       "</table>\n",
       "</div>"
      ],
      "text/plain": [
       "            pos     score\n",
       "pos    1.000000  0.828971\n",
       "score  0.828971  1.000000"
      ]
     },
     "execution_count": 21,
     "metadata": {},
     "output_type": "execute_result"
    }
   ],
   "source": [
    "curiosity_polarities[[\"pos\", \"score\"]].corr()"
   ]
  },
  {
   "attachments": {},
   "cell_type": "markdown",
   "metadata": {},
   "source": [
    "__Women__"
   ]
  },
  {
   "cell_type": "code",
   "execution_count": null,
   "metadata": {},
   "outputs": [],
   "source": [
    "women_polarities = sentiment_extraction.get_reviews_polarities(annotated_tinder[annotated_tinder.category == \"women\"])"
   ]
  },
  {
   "cell_type": "code",
   "execution_count": 23,
   "metadata": {},
   "outputs": [
    {
     "data": {
      "text/html": [
       "<div>\n",
       "<style scoped>\n",
       "    .dataframe tbody tr th:only-of-type {\n",
       "        vertical-align: middle;\n",
       "    }\n",
       "\n",
       "    .dataframe tbody tr th {\n",
       "        vertical-align: top;\n",
       "    }\n",
       "\n",
       "    .dataframe thead th {\n",
       "        text-align: right;\n",
       "    }\n",
       "</style>\n",
       "<table border=\"1\" class=\"dataframe\">\n",
       "  <thead>\n",
       "    <tr style=\"text-align: right;\">\n",
       "      <th></th>\n",
       "      <th>reviewId</th>\n",
       "      <th>content</th>\n",
       "      <th>score</th>\n",
       "      <th>at</th>\n",
       "      <th>bm25_score</th>\n",
       "      <th>category</th>\n",
       "      <th>pos</th>\n",
       "      <th>neg</th>\n",
       "    </tr>\n",
       "  </thead>\n",
       "  <tbody>\n",
       "    <tr>\n",
       "      <th>166481</th>\n",
       "      <td>4081fd71-5987-4850-b160-8ea3551f5544</td>\n",
       "      <td>The women here are call girls</td>\n",
       "      <td>2</td>\n",
       "      <td>2020-06-13 06:45:02</td>\n",
       "      <td>13.108369</td>\n",
       "      <td>women</td>\n",
       "      <td>0.310496</td>\n",
       "      <td>0.689504</td>\n",
       "    </tr>\n",
       "    <tr>\n",
       "      <th>319617</th>\n",
       "      <td>5bcfcd6a-d9b2-4811-81a5-129f8455ffbd</td>\n",
       "      <td>Want girls or women for sexting</td>\n",
       "      <td>5</td>\n",
       "      <td>2018-07-21 10:11:28</td>\n",
       "      <td>13.108369</td>\n",
       "      <td>women</td>\n",
       "      <td>0.018871</td>\n",
       "      <td>0.981129</td>\n",
       "    </tr>\n",
       "    <tr>\n",
       "      <th>65429</th>\n",
       "      <td>52fc6995-1d63-4b67-85f5-c77573406f5c</td>\n",
       "      <td>Fat girls and women not my thing</td>\n",
       "      <td>1</td>\n",
       "      <td>2022-02-11 22:11:30</td>\n",
       "      <td>12.597438</td>\n",
       "      <td>women</td>\n",
       "      <td>0.001642</td>\n",
       "      <td>0.998358</td>\n",
       "    </tr>\n",
       "    <tr>\n",
       "      <th>179461</th>\n",
       "      <td>cfada6ec-0b50-4486-9de4-17baf7a9e689</td>\n",
       "      <td>Great!...but too much hook up girls and fake w...</td>\n",
       "      <td>1</td>\n",
       "      <td>2020-04-07 19:03:59</td>\n",
       "      <td>11.278606</td>\n",
       "      <td>women</td>\n",
       "      <td>0.019424</td>\n",
       "      <td>0.980576</td>\n",
       "    </tr>\n",
       "    <tr>\n",
       "      <th>289822</th>\n",
       "      <td>25cba2ae-fe82-4c17-9002-22da1f7c23b6</td>\n",
       "      <td>It's cool a better quality of women was sick o...</td>\n",
       "      <td>3</td>\n",
       "      <td>2018-11-30 02:53:37</td>\n",
       "      <td>10.542786</td>\n",
       "      <td>women</td>\n",
       "      <td>0.970372</td>\n",
       "      <td>0.029628</td>\n",
       "    </tr>\n",
       "  </tbody>\n",
       "</table>\n",
       "</div>"
      ],
      "text/plain": [
       "                                    reviewId  \\\n",
       "166481  4081fd71-5987-4850-b160-8ea3551f5544   \n",
       "319617  5bcfcd6a-d9b2-4811-81a5-129f8455ffbd   \n",
       "65429   52fc6995-1d63-4b67-85f5-c77573406f5c   \n",
       "179461  cfada6ec-0b50-4486-9de4-17baf7a9e689   \n",
       "289822  25cba2ae-fe82-4c17-9002-22da1f7c23b6   \n",
       "\n",
       "                                                  content  score  \\\n",
       "166481                      The women here are call girls      2   \n",
       "319617                    Want girls or women for sexting      5   \n",
       "65429                    Fat girls and women not my thing      1   \n",
       "179461  Great!...but too much hook up girls and fake w...      1   \n",
       "289822  It's cool a better quality of women was sick o...      3   \n",
       "\n",
       "                        at  bm25_score category       pos       neg  \n",
       "166481 2020-06-13 06:45:02   13.108369    women  0.310496  0.689504  \n",
       "319617 2018-07-21 10:11:28   13.108369    women  0.018871  0.981129  \n",
       "65429  2022-02-11 22:11:30   12.597438    women  0.001642  0.998358  \n",
       "179461 2020-04-07 19:03:59   11.278606    women  0.019424  0.980576  \n",
       "289822 2018-11-30 02:53:37   10.542786    women  0.970372  0.029628  "
      ]
     },
     "execution_count": 23,
     "metadata": {},
     "output_type": "execute_result"
    }
   ],
   "source": [
    "women_polarities.head()"
   ]
  },
  {
   "cell_type": "code",
   "execution_count": 24,
   "metadata": {},
   "outputs": [
    {
     "name": "stdout",
     "output_type": "stream",
     "text": [
      "pos: 0.4649010028284906, neg: 0.5350989971715094\n"
     ]
    }
   ],
   "source": [
    "pos = len(women_polarities[women_polarities.pos >= .70])/len(women_polarities[(women_polarities.pos >= .70) | (women_polarities.neg >= .70)])\n",
    "neg = len(women_polarities[women_polarities.neg >= .70])/len(women_polarities[(women_polarities.pos >= .70) | (women_polarities.neg >= .70)])\n",
    "print(f\"pos: {pos}, neg: {neg}\")\n",
    "aspects_polarity = save_results(\"tinder\", \"women\", aspects_polarity, pos, neg)"
   ]
  },
  {
   "cell_type": "code",
   "execution_count": 25,
   "metadata": {},
   "outputs": [
    {
     "data": {
      "text/html": [
       "<div>\n",
       "<style scoped>\n",
       "    .dataframe tbody tr th:only-of-type {\n",
       "        vertical-align: middle;\n",
       "    }\n",
       "\n",
       "    .dataframe tbody tr th {\n",
       "        vertical-align: top;\n",
       "    }\n",
       "\n",
       "    .dataframe thead th {\n",
       "        text-align: right;\n",
       "    }\n",
       "</style>\n",
       "<table border=\"1\" class=\"dataframe\">\n",
       "  <thead>\n",
       "    <tr style=\"text-align: right;\">\n",
       "      <th></th>\n",
       "      <th>pos</th>\n",
       "      <th>score</th>\n",
       "    </tr>\n",
       "  </thead>\n",
       "  <tbody>\n",
       "    <tr>\n",
       "      <th>pos</th>\n",
       "      <td>1.000000</td>\n",
       "      <td>0.659197</td>\n",
       "    </tr>\n",
       "    <tr>\n",
       "      <th>score</th>\n",
       "      <td>0.659197</td>\n",
       "      <td>1.000000</td>\n",
       "    </tr>\n",
       "  </tbody>\n",
       "</table>\n",
       "</div>"
      ],
      "text/plain": [
       "            pos     score\n",
       "pos    1.000000  0.659197\n",
       "score  0.659197  1.000000"
      ]
     },
     "execution_count": 25,
     "metadata": {},
     "output_type": "execute_result"
    }
   ],
   "source": [
    "women_polarities[[\"pos\", \"score\"]].corr()"
   ]
  },
  {
   "attachments": {},
   "cell_type": "markdown",
   "metadata": {},
   "source": [
    "__Men__"
   ]
  },
  {
   "cell_type": "code",
   "execution_count": null,
   "metadata": {},
   "outputs": [],
   "source": [
    "men_polarities = sentiment_extraction.get_reviews_polarities(annotated_tinder[annotated_tinder.category == \"men\"])"
   ]
  },
  {
   "cell_type": "code",
   "execution_count": 27,
   "metadata": {},
   "outputs": [
    {
     "data": {
      "text/html": [
       "<div>\n",
       "<style scoped>\n",
       "    .dataframe tbody tr th:only-of-type {\n",
       "        vertical-align: middle;\n",
       "    }\n",
       "\n",
       "    .dataframe tbody tr th {\n",
       "        vertical-align: top;\n",
       "    }\n",
       "\n",
       "    .dataframe thead th {\n",
       "        text-align: right;\n",
       "    }\n",
       "</style>\n",
       "<table border=\"1\" class=\"dataframe\">\n",
       "  <thead>\n",
       "    <tr style=\"text-align: right;\">\n",
       "      <th></th>\n",
       "      <th>reviewId</th>\n",
       "      <th>content</th>\n",
       "      <th>score</th>\n",
       "      <th>at</th>\n",
       "      <th>bm25_score</th>\n",
       "      <th>category</th>\n",
       "      <th>pos</th>\n",
       "      <th>neg</th>\n",
       "    </tr>\n",
       "  </thead>\n",
       "  <tbody>\n",
       "    <tr>\n",
       "      <th>325143</th>\n",
       "      <td>35436e03-61a8-4d0d-b82d-40ca780c247f</td>\n",
       "      <td>It's a easy way to meet men and ignore the boy...</td>\n",
       "      <td>4</td>\n",
       "      <td>2018-06-13 21:25:44</td>\n",
       "      <td>13.217527</td>\n",
       "      <td>men</td>\n",
       "      <td>0.988655</td>\n",
       "      <td>0.011344</td>\n",
       "    </tr>\n",
       "    <tr>\n",
       "      <th>554541</th>\n",
       "      <td>a6aa434e-0bd7-4c1f-86f9-e8d876cfae98</td>\n",
       "      <td>Hot boys</td>\n",
       "      <td>5</td>\n",
       "      <td>2014-06-30 12:59:57</td>\n",
       "      <td>12.387445</td>\n",
       "      <td>men</td>\n",
       "      <td>0.991739</td>\n",
       "      <td>0.008261</td>\n",
       "    </tr>\n",
       "    <tr>\n",
       "      <th>158019</th>\n",
       "      <td>192968d9-6859-45ce-93ea-e38760840f00</td>\n",
       "      <td>Spam boys</td>\n",
       "      <td>2</td>\n",
       "      <td>2020-07-27 04:28:00</td>\n",
       "      <td>12.387445</td>\n",
       "      <td>men</td>\n",
       "      <td>0.016981</td>\n",
       "      <td>0.983019</td>\n",
       "    </tr>\n",
       "    <tr>\n",
       "      <th>512798</th>\n",
       "      <td>382de61a-8082-4a17-bb56-c5ecaeb96ed4</td>\n",
       "      <td>I want boys</td>\n",
       "      <td>5</td>\n",
       "      <td>2015-05-04 13:00:28</td>\n",
       "      <td>11.815432</td>\n",
       "      <td>men</td>\n",
       "      <td>0.995150</td>\n",
       "      <td>0.004850</td>\n",
       "    </tr>\n",
       "    <tr>\n",
       "      <th>220879</th>\n",
       "      <td>780604fb-2b2b-485f-b7e2-303883d02c5b</td>\n",
       "      <td>Fake all boys</td>\n",
       "      <td>1</td>\n",
       "      <td>2019-09-04 10:06:58</td>\n",
       "      <td>11.815432</td>\n",
       "      <td>men</td>\n",
       "      <td>0.002787</td>\n",
       "      <td>0.997213</td>\n",
       "    </tr>\n",
       "  </tbody>\n",
       "</table>\n",
       "</div>"
      ],
      "text/plain": [
       "                                    reviewId  \\\n",
       "325143  35436e03-61a8-4d0d-b82d-40ca780c247f   \n",
       "554541  a6aa434e-0bd7-4c1f-86f9-e8d876cfae98   \n",
       "158019  192968d9-6859-45ce-93ea-e38760840f00   \n",
       "512798  382de61a-8082-4a17-bb56-c5ecaeb96ed4   \n",
       "220879  780604fb-2b2b-485f-b7e2-303883d02c5b   \n",
       "\n",
       "                                                  content  score  \\\n",
       "325143  It's a easy way to meet men and ignore the boy...      4   \n",
       "554541                                           Hot boys      5   \n",
       "158019                                          Spam boys      2   \n",
       "512798                                        I want boys      5   \n",
       "220879                                      Fake all boys      1   \n",
       "\n",
       "                        at  bm25_score category       pos       neg  \n",
       "325143 2018-06-13 21:25:44   13.217527      men  0.988655  0.011344  \n",
       "554541 2014-06-30 12:59:57   12.387445      men  0.991739  0.008261  \n",
       "158019 2020-07-27 04:28:00   12.387445      men  0.016981  0.983019  \n",
       "512798 2015-05-04 13:00:28   11.815432      men  0.995150  0.004850  \n",
       "220879 2019-09-04 10:06:58   11.815432      men  0.002787  0.997213  "
      ]
     },
     "execution_count": 27,
     "metadata": {},
     "output_type": "execute_result"
    }
   ],
   "source": [
    "men_polarities.head()"
   ]
  },
  {
   "cell_type": "code",
   "execution_count": 28,
   "metadata": {},
   "outputs": [
    {
     "name": "stdout",
     "output_type": "stream",
     "text": [
      "pos: 0.2704691812327507, neg: 0.7295308187672493\n"
     ]
    }
   ],
   "source": [
    "pos = len(men_polarities[men_polarities.pos >= .70])/len(men_polarities[(men_polarities.pos >= .70) | (men_polarities.neg >= .70)])\n",
    "neg = len(men_polarities[men_polarities.neg >= .70])/len(men_polarities[(men_polarities.pos >= .70) | (men_polarities.neg >= .70)])\n",
    "print(f\"pos: {pos}, neg: {neg}\")\n",
    "aspects_polarity = save_results(\"tinder\", \"men\", aspects_polarity, pos, neg)"
   ]
  },
  {
   "cell_type": "code",
   "execution_count": 29,
   "metadata": {},
   "outputs": [
    {
     "data": {
      "text/html": [
       "<div>\n",
       "<style scoped>\n",
       "    .dataframe tbody tr th:only-of-type {\n",
       "        vertical-align: middle;\n",
       "    }\n",
       "\n",
       "    .dataframe tbody tr th {\n",
       "        vertical-align: top;\n",
       "    }\n",
       "\n",
       "    .dataframe thead th {\n",
       "        text-align: right;\n",
       "    }\n",
       "</style>\n",
       "<table border=\"1\" class=\"dataframe\">\n",
       "  <thead>\n",
       "    <tr style=\"text-align: right;\">\n",
       "      <th></th>\n",
       "      <th>pos</th>\n",
       "      <th>score</th>\n",
       "    </tr>\n",
       "  </thead>\n",
       "  <tbody>\n",
       "    <tr>\n",
       "      <th>pos</th>\n",
       "      <td>1.00000</td>\n",
       "      <td>0.62502</td>\n",
       "    </tr>\n",
       "    <tr>\n",
       "      <th>score</th>\n",
       "      <td>0.62502</td>\n",
       "      <td>1.00000</td>\n",
       "    </tr>\n",
       "  </tbody>\n",
       "</table>\n",
       "</div>"
      ],
      "text/plain": [
       "           pos    score\n",
       "pos    1.00000  0.62502\n",
       "score  0.62502  1.00000"
      ]
     },
     "execution_count": 29,
     "metadata": {},
     "output_type": "execute_result"
    }
   ],
   "source": [
    "men_polarities[[\"pos\", \"score\"]].corr()"
   ]
  },
  {
   "attachments": {},
   "cell_type": "markdown",
   "metadata": {},
   "source": [
    "__Self Esteem__"
   ]
  },
  {
   "cell_type": "code",
   "execution_count": null,
   "metadata": {},
   "outputs": [],
   "source": [
    "self_esteem_polarities = sentiment_extraction.get_reviews_polarities(annotated_tinder[annotated_tinder.category == \"self\"])"
   ]
  },
  {
   "cell_type": "code",
   "execution_count": 31,
   "metadata": {},
   "outputs": [
    {
     "data": {
      "text/html": [
       "<div>\n",
       "<style scoped>\n",
       "    .dataframe tbody tr th:only-of-type {\n",
       "        vertical-align: middle;\n",
       "    }\n",
       "\n",
       "    .dataframe tbody tr th {\n",
       "        vertical-align: top;\n",
       "    }\n",
       "\n",
       "    .dataframe thead th {\n",
       "        text-align: right;\n",
       "    }\n",
       "</style>\n",
       "<table border=\"1\" class=\"dataframe\">\n",
       "  <thead>\n",
       "    <tr style=\"text-align: right;\">\n",
       "      <th></th>\n",
       "      <th>reviewId</th>\n",
       "      <th>content</th>\n",
       "      <th>score</th>\n",
       "      <th>at</th>\n",
       "      <th>bm25_score</th>\n",
       "      <th>category</th>\n",
       "      <th>pos</th>\n",
       "      <th>neg</th>\n",
       "    </tr>\n",
       "  </thead>\n",
       "  <tbody>\n",
       "    <tr>\n",
       "      <th>93502</th>\n",
       "      <td>3e71baf1-161f-4055-80c3-947aff5aef39</td>\n",
       "      <td>Bad for self esteem</td>\n",
       "      <td>1</td>\n",
       "      <td>2021-08-05 13:20:11</td>\n",
       "      <td>22.592201</td>\n",
       "      <td>self</td>\n",
       "      <td>0.000360</td>\n",
       "      <td>0.999640</td>\n",
       "    </tr>\n",
       "    <tr>\n",
       "      <th>289871</th>\n",
       "      <td>68815561-3bf1-4466-a6cc-e2b9a3705ca3</td>\n",
       "      <td>Makes and breaks my self esteem</td>\n",
       "      <td>5</td>\n",
       "      <td>2018-11-29 20:31:07</td>\n",
       "      <td>20.759600</td>\n",
       "      <td>self</td>\n",
       "      <td>0.044463</td>\n",
       "      <td>0.955537</td>\n",
       "    </tr>\n",
       "    <tr>\n",
       "      <th>546757</th>\n",
       "      <td>68711547-ef2a-498c-ada4-0ba7ccff6abf</td>\n",
       "      <td>Does wonders for my self esteem</td>\n",
       "      <td>5</td>\n",
       "      <td>2014-09-08 04:02:01</td>\n",
       "      <td>20.759600</td>\n",
       "      <td>self</td>\n",
       "      <td>0.999841</td>\n",
       "      <td>0.000158</td>\n",
       "    </tr>\n",
       "    <tr>\n",
       "      <th>224445</th>\n",
       "      <td>ec884d4e-161a-453d-8ba7-5c3d84f80e8b</td>\n",
       "      <td>Helps boost my low self esteem</td>\n",
       "      <td>5</td>\n",
       "      <td>2019-08-18 16:27:33</td>\n",
       "      <td>20.759600</td>\n",
       "      <td>self</td>\n",
       "      <td>0.993773</td>\n",
       "      <td>0.006227</td>\n",
       "    </tr>\n",
       "    <tr>\n",
       "      <th>45396</th>\n",
       "      <td>cd5b6287-9ecd-443a-98cc-2d0c76443084</td>\n",
       "      <td>Perfect app for ruining your self esteem</td>\n",
       "      <td>1</td>\n",
       "      <td>2022-06-20 23:16:40</td>\n",
       "      <td>19.950444</td>\n",
       "      <td>self</td>\n",
       "      <td>0.744997</td>\n",
       "      <td>0.255003</td>\n",
       "    </tr>\n",
       "  </tbody>\n",
       "</table>\n",
       "</div>"
      ],
      "text/plain": [
       "                                    reviewId  \\\n",
       "93502   3e71baf1-161f-4055-80c3-947aff5aef39   \n",
       "289871  68815561-3bf1-4466-a6cc-e2b9a3705ca3   \n",
       "546757  68711547-ef2a-498c-ada4-0ba7ccff6abf   \n",
       "224445  ec884d4e-161a-453d-8ba7-5c3d84f80e8b   \n",
       "45396   cd5b6287-9ecd-443a-98cc-2d0c76443084   \n",
       "\n",
       "                                         content  score                  at  \\\n",
       "93502                        Bad for self esteem      1 2021-08-05 13:20:11   \n",
       "289871           Makes and breaks my self esteem      5 2018-11-29 20:31:07   \n",
       "546757           Does wonders for my self esteem      5 2014-09-08 04:02:01   \n",
       "224445            Helps boost my low self esteem      5 2019-08-18 16:27:33   \n",
       "45396   Perfect app for ruining your self esteem      1 2022-06-20 23:16:40   \n",
       "\n",
       "        bm25_score category       pos       neg  \n",
       "93502    22.592201     self  0.000360  0.999640  \n",
       "289871   20.759600     self  0.044463  0.955537  \n",
       "546757   20.759600     self  0.999841  0.000158  \n",
       "224445   20.759600     self  0.993773  0.006227  \n",
       "45396    19.950444     self  0.744997  0.255003  "
      ]
     },
     "execution_count": 31,
     "metadata": {},
     "output_type": "execute_result"
    }
   ],
   "source": [
    "self_esteem_polarities.head()"
   ]
  },
  {
   "cell_type": "code",
   "execution_count": 32,
   "metadata": {},
   "outputs": [
    {
     "name": "stdout",
     "output_type": "stream",
     "text": [
      "pos: 0.31297709923664124, neg: 0.6870229007633588\n"
     ]
    }
   ],
   "source": [
    "pos = len(self_esteem_polarities[self_esteem_polarities.pos >= .70])/len(self_esteem_polarities[(self_esteem_polarities.pos >= .70) | (self_esteem_polarities.neg >= .70)])\n",
    "neg = len(self_esteem_polarities[self_esteem_polarities.neg >= .70])/len(self_esteem_polarities[(self_esteem_polarities.pos >= .70) | (self_esteem_polarities.neg >= .70)])\n",
    "print(f\"pos: {pos}, neg: {neg}\")\n",
    "aspects_polarity  = save_results(\"tinder\", \"self esteem\", aspects_polarity, pos, neg)"
   ]
  },
  {
   "cell_type": "code",
   "execution_count": 33,
   "metadata": {},
   "outputs": [
    {
     "data": {
      "text/html": [
       "<div>\n",
       "<style scoped>\n",
       "    .dataframe tbody tr th:only-of-type {\n",
       "        vertical-align: middle;\n",
       "    }\n",
       "\n",
       "    .dataframe tbody tr th {\n",
       "        vertical-align: top;\n",
       "    }\n",
       "\n",
       "    .dataframe thead th {\n",
       "        text-align: right;\n",
       "    }\n",
       "</style>\n",
       "<table border=\"1\" class=\"dataframe\">\n",
       "  <thead>\n",
       "    <tr style=\"text-align: right;\">\n",
       "      <th></th>\n",
       "      <th>pos</th>\n",
       "      <th>score</th>\n",
       "    </tr>\n",
       "  </thead>\n",
       "  <tbody>\n",
       "    <tr>\n",
       "      <th>pos</th>\n",
       "      <td>1.000000</td>\n",
       "      <td>0.616828</td>\n",
       "    </tr>\n",
       "    <tr>\n",
       "      <th>score</th>\n",
       "      <td>0.616828</td>\n",
       "      <td>1.000000</td>\n",
       "    </tr>\n",
       "  </tbody>\n",
       "</table>\n",
       "</div>"
      ],
      "text/plain": [
       "            pos     score\n",
       "pos    1.000000  0.616828\n",
       "score  0.616828  1.000000"
      ]
     },
     "execution_count": 33,
     "metadata": {},
     "output_type": "execute_result"
    }
   ],
   "source": [
    "self_esteem_polarities[[\"pos\", \"score\"]].corr()"
   ]
  },
  {
   "attachments": {},
   "cell_type": "markdown",
   "metadata": {},
   "source": [
    "__Attractiveness (appearence)__"
   ]
  },
  {
   "cell_type": "code",
   "execution_count": null,
   "metadata": {},
   "outputs": [],
   "source": [
    "attractiveness_polarities = sentiment_extraction.get_reviews_polarities(annotated_tinder[annotated_tinder.category == \"attractiveness\"])"
   ]
  },
  {
   "cell_type": "code",
   "execution_count": 35,
   "metadata": {},
   "outputs": [
    {
     "data": {
      "text/html": [
       "<div>\n",
       "<style scoped>\n",
       "    .dataframe tbody tr th:only-of-type {\n",
       "        vertical-align: middle;\n",
       "    }\n",
       "\n",
       "    .dataframe tbody tr th {\n",
       "        vertical-align: top;\n",
       "    }\n",
       "\n",
       "    .dataframe thead th {\n",
       "        text-align: right;\n",
       "    }\n",
       "</style>\n",
       "<table border=\"1\" class=\"dataframe\">\n",
       "  <thead>\n",
       "    <tr style=\"text-align: right;\">\n",
       "      <th></th>\n",
       "      <th>reviewId</th>\n",
       "      <th>content</th>\n",
       "      <th>score</th>\n",
       "      <th>at</th>\n",
       "      <th>bm25_score</th>\n",
       "      <th>category</th>\n",
       "      <th>pos</th>\n",
       "      <th>neg</th>\n",
       "    </tr>\n",
       "  </thead>\n",
       "  <tbody>\n",
       "    <tr>\n",
       "      <th>396572</th>\n",
       "      <td>d9490bbd-0907-4b4f-b535-a21dab7f1020</td>\n",
       "      <td>Its beauty</td>\n",
       "      <td>5</td>\n",
       "      <td>2017-04-21 06:16:18</td>\n",
       "      <td>15.311775</td>\n",
       "      <td>attractiveness</td>\n",
       "      <td>0.999863</td>\n",
       "      <td>0.000137</td>\n",
       "    </tr>\n",
       "    <tr>\n",
       "      <th>203213</th>\n",
       "      <td>16261f9b-c6c2-4a90-90a6-10a28477e286</td>\n",
       "      <td>Fiber beauty</td>\n",
       "      <td>5</td>\n",
       "      <td>2019-11-28 10:49:25</td>\n",
       "      <td>15.311775</td>\n",
       "      <td>attractiveness</td>\n",
       "      <td>0.999784</td>\n",
       "      <td>0.000216</td>\n",
       "    </tr>\n",
       "    <tr>\n",
       "      <th>83605</th>\n",
       "      <td>31df8e56-b3b2-4c03-af23-8209e3b86f92</td>\n",
       "      <td>Ispe inner beauty chalegi...?</td>\n",
       "      <td>2</td>\n",
       "      <td>2021-10-12 14:32:45</td>\n",
       "      <td>13.960094</td>\n",
       "      <td>attractiveness</td>\n",
       "      <td>0.102347</td>\n",
       "      <td>0.897653</td>\n",
       "    </tr>\n",
       "    <tr>\n",
       "      <th>421478</th>\n",
       "      <td>75973bfc-52e0-45c3-9e29-cfd25a1418e7</td>\n",
       "      <td>the garden of beauty</td>\n",
       "      <td>5</td>\n",
       "      <td>2016-11-19 03:01:12</td>\n",
       "      <td>13.960094</td>\n",
       "      <td>attractiveness</td>\n",
       "      <td>0.999861</td>\n",
       "      <td>0.000139</td>\n",
       "    </tr>\n",
       "    <tr>\n",
       "      <th>298628</th>\n",
       "      <td>f10dcefa-e9b1-4a6b-bf14-49757ebe7a3b</td>\n",
       "      <td>Enjoy pictures of mixed beauty</td>\n",
       "      <td>5</td>\n",
       "      <td>2018-10-25 03:00:03</td>\n",
       "      <td>13.369962</td>\n",
       "      <td>attractiveness</td>\n",
       "      <td>0.999832</td>\n",
       "      <td>0.000168</td>\n",
       "    </tr>\n",
       "  </tbody>\n",
       "</table>\n",
       "</div>"
      ],
      "text/plain": [
       "                                    reviewId                         content  \\\n",
       "396572  d9490bbd-0907-4b4f-b535-a21dab7f1020                      Its beauty   \n",
       "203213  16261f9b-c6c2-4a90-90a6-10a28477e286                    Fiber beauty   \n",
       "83605   31df8e56-b3b2-4c03-af23-8209e3b86f92   Ispe inner beauty chalegi...?   \n",
       "421478  75973bfc-52e0-45c3-9e29-cfd25a1418e7            the garden of beauty   \n",
       "298628  f10dcefa-e9b1-4a6b-bf14-49757ebe7a3b  Enjoy pictures of mixed beauty   \n",
       "\n",
       "        score                  at  bm25_score        category       pos  \\\n",
       "396572      5 2017-04-21 06:16:18   15.311775  attractiveness  0.999863   \n",
       "203213      5 2019-11-28 10:49:25   15.311775  attractiveness  0.999784   \n",
       "83605       2 2021-10-12 14:32:45   13.960094  attractiveness  0.102347   \n",
       "421478      5 2016-11-19 03:01:12   13.960094  attractiveness  0.999861   \n",
       "298628      5 2018-10-25 03:00:03   13.369962  attractiveness  0.999832   \n",
       "\n",
       "             neg  \n",
       "396572  0.000137  \n",
       "203213  0.000216  \n",
       "83605   0.897653  \n",
       "421478  0.000139  \n",
       "298628  0.000168  "
      ]
     },
     "execution_count": 35,
     "metadata": {},
     "output_type": "execute_result"
    }
   ],
   "source": [
    "attractiveness_polarities.head()"
   ]
  },
  {
   "cell_type": "code",
   "execution_count": 36,
   "metadata": {},
   "outputs": [
    {
     "name": "stdout",
     "output_type": "stream",
     "text": [
      "pos: 0.5294117647058824, neg: 0.47058823529411764\n"
     ]
    }
   ],
   "source": [
    "pos = len(attractiveness_polarities[attractiveness_polarities.pos >= .70])/len(attractiveness_polarities[(attractiveness_polarities.pos >= .70) | (attractiveness_polarities.neg >= .70)])\n",
    "neg = len(attractiveness_polarities[attractiveness_polarities.neg >= .70])/len(attractiveness_polarities[(attractiveness_polarities.pos >= .70) | (attractiveness_polarities.neg >= .70)])\n",
    "print(f\"pos: {pos}, neg: {neg}\")\n",
    "aspects_polarity = save_results(\"tinder\", \"attractiveness\", aspects_polarity, pos, neg)"
   ]
  },
  {
   "cell_type": "code",
   "execution_count": 37,
   "metadata": {},
   "outputs": [
    {
     "data": {
      "text/html": [
       "<div>\n",
       "<style scoped>\n",
       "    .dataframe tbody tr th:only-of-type {\n",
       "        vertical-align: middle;\n",
       "    }\n",
       "\n",
       "    .dataframe tbody tr th {\n",
       "        vertical-align: top;\n",
       "    }\n",
       "\n",
       "    .dataframe thead th {\n",
       "        text-align: right;\n",
       "    }\n",
       "</style>\n",
       "<table border=\"1\" class=\"dataframe\">\n",
       "  <thead>\n",
       "    <tr style=\"text-align: right;\">\n",
       "      <th></th>\n",
       "      <th>pos</th>\n",
       "      <th>score</th>\n",
       "    </tr>\n",
       "  </thead>\n",
       "  <tbody>\n",
       "    <tr>\n",
       "      <th>pos</th>\n",
       "      <td>1.000000</td>\n",
       "      <td>0.785353</td>\n",
       "    </tr>\n",
       "    <tr>\n",
       "      <th>score</th>\n",
       "      <td>0.785353</td>\n",
       "      <td>1.000000</td>\n",
       "    </tr>\n",
       "  </tbody>\n",
       "</table>\n",
       "</div>"
      ],
      "text/plain": [
       "            pos     score\n",
       "pos    1.000000  0.785353\n",
       "score  0.785353  1.000000"
      ]
     },
     "execution_count": 37,
     "metadata": {},
     "output_type": "execute_result"
    }
   ],
   "source": [
    "attractiveness_polarities[[\"pos\", \"score\"]].corr()"
   ]
  },
  {
   "cell_type": "markdown",
   "metadata": {},
   "source": [
    "__Attractiveness (intelligence)__"
   ]
  },
  {
   "cell_type": "code",
   "execution_count": null,
   "metadata": {},
   "outputs": [],
   "source": [
    "intelligence_polarities = sentiment_extraction.get_reviews_polarities(annotated_tinder[annotated_tinder.category == \"intelligence\"])"
   ]
  },
  {
   "cell_type": "code",
   "execution_count": 39,
   "metadata": {},
   "outputs": [
    {
     "data": {
      "text/html": [
       "<div>\n",
       "<style scoped>\n",
       "    .dataframe tbody tr th:only-of-type {\n",
       "        vertical-align: middle;\n",
       "    }\n",
       "\n",
       "    .dataframe tbody tr th {\n",
       "        vertical-align: top;\n",
       "    }\n",
       "\n",
       "    .dataframe thead th {\n",
       "        text-align: right;\n",
       "    }\n",
       "</style>\n",
       "<table border=\"1\" class=\"dataframe\">\n",
       "  <thead>\n",
       "    <tr style=\"text-align: right;\">\n",
       "      <th></th>\n",
       "      <th>reviewId</th>\n",
       "      <th>content</th>\n",
       "      <th>score</th>\n",
       "      <th>at</th>\n",
       "      <th>bm25_score</th>\n",
       "      <th>category</th>\n",
       "      <th>pos</th>\n",
       "      <th>neg</th>\n",
       "    </tr>\n",
       "  </thead>\n",
       "  <tbody>\n",
       "    <tr>\n",
       "      <th>278218</th>\n",
       "      <td>1cb7ff53-7356-45c7-b8e2-17559f92c1f1</td>\n",
       "      <td>Most of people here, I can say more than 95% h...</td>\n",
       "      <td>1</td>\n",
       "      <td>2019-01-20 14:11:55</td>\n",
       "      <td>10.544621</td>\n",
       "      <td>intelligence</td>\n",
       "      <td>0.000601</td>\n",
       "      <td>0.999399</td>\n",
       "    </tr>\n",
       "    <tr>\n",
       "      <th>116585</th>\n",
       "      <td>3a5ef8cb-d436-4702-a0af-edfe20687b74</td>\n",
       "      <td>This is fruad app don't download. They just ea...</td>\n",
       "      <td>1</td>\n",
       "      <td>2021-03-23 15:16:02</td>\n",
       "      <td>7.606512</td>\n",
       "      <td>intelligence</td>\n",
       "      <td>0.001012</td>\n",
       "      <td>0.998988</td>\n",
       "    </tr>\n",
       "    <tr>\n",
       "      <th>305262</th>\n",
       "      <td>3beeb3b1-86bc-4fbe-8864-bdd6489ae95f</td>\n",
       "      <td>All smart use of members behaviour and matchin...</td>\n",
       "      <td>1</td>\n",
       "      <td>2018-10-02 14:04:13</td>\n",
       "      <td>7.446899</td>\n",
       "      <td>intelligence</td>\n",
       "      <td>0.936424</td>\n",
       "      <td>0.063576</td>\n",
       "    </tr>\n",
       "    <tr>\n",
       "      <th>48667</th>\n",
       "      <td>9596498d-3102-4334-aea9-49510f1521ac</td>\n",
       "      <td>Tinder isn't about helping you find a mate, it...</td>\n",
       "      <td>1</td>\n",
       "      <td>2022-05-31 03:50:49</td>\n",
       "      <td>7.293847</td>\n",
       "      <td>intelligence</td>\n",
       "      <td>0.080856</td>\n",
       "      <td>0.919144</td>\n",
       "    </tr>\n",
       "    <tr>\n",
       "      <th>318017</th>\n",
       "      <td>8aa9fc42-7705-4af6-8044-a98e4cce6f82</td>\n",
       "      <td>Don't bother... After artificial intelligence ...</td>\n",
       "      <td>1</td>\n",
       "      <td>2018-07-31 08:52:15</td>\n",
       "      <td>7.146959</td>\n",
       "      <td>intelligence</td>\n",
       "      <td>0.004649</td>\n",
       "      <td>0.995350</td>\n",
       "    </tr>\n",
       "  </tbody>\n",
       "</table>\n",
       "</div>"
      ],
      "text/plain": [
       "                                    reviewId  \\\n",
       "278218  1cb7ff53-7356-45c7-b8e2-17559f92c1f1   \n",
       "116585  3a5ef8cb-d436-4702-a0af-edfe20687b74   \n",
       "305262  3beeb3b1-86bc-4fbe-8864-bdd6489ae95f   \n",
       "48667   9596498d-3102-4334-aea9-49510f1521ac   \n",
       "318017  8aa9fc42-7705-4af6-8044-a98e4cce6f82   \n",
       "\n",
       "                                                  content  score  \\\n",
       "278218  Most of people here, I can say more than 95% h...      1   \n",
       "116585  This is fruad app don't download. They just ea...      1   \n",
       "305262  All smart use of members behaviour and matchin...      1   \n",
       "48667   Tinder isn't about helping you find a mate, it...      1   \n",
       "318017  Don't bother... After artificial intelligence ...      1   \n",
       "\n",
       "                        at  bm25_score      category       pos       neg  \n",
       "278218 2019-01-20 14:11:55   10.544621  intelligence  0.000601  0.999399  \n",
       "116585 2021-03-23 15:16:02    7.606512  intelligence  0.001012  0.998988  \n",
       "305262 2018-10-02 14:04:13    7.446899  intelligence  0.936424  0.063576  \n",
       "48667  2022-05-31 03:50:49    7.293847  intelligence  0.080856  0.919144  \n",
       "318017 2018-07-31 08:52:15    7.146959  intelligence  0.004649  0.995350  "
      ]
     },
     "execution_count": 39,
     "metadata": {},
     "output_type": "execute_result"
    }
   ],
   "source": [
    "intelligence_polarities.head()"
   ]
  },
  {
   "cell_type": "code",
   "execution_count": 40,
   "metadata": {},
   "outputs": [
    {
     "name": "stdout",
     "output_type": "stream",
     "text": [
      "pos: 0.16666666666666666, neg: 0.8333333333333334\n"
     ]
    }
   ],
   "source": [
    "pos = len(intelligence_polarities[intelligence_polarities.pos >= .70])/len(intelligence_polarities[(intelligence_polarities.pos >= .70) | (intelligence_polarities.neg >= .70)])\n",
    "neg = len(intelligence_polarities[intelligence_polarities.neg >= .70])/len(intelligence_polarities[(intelligence_polarities.pos >= .70) | (intelligence_polarities.neg >= .70)])\n",
    "print(f\"pos: {pos}, neg: {neg}\")\n",
    "aspects_polarity  = save_results(\"tinder\", \"intelligence\", aspects_polarity, pos, neg)"
   ]
  },
  {
   "cell_type": "code",
   "execution_count": 41,
   "metadata": {},
   "outputs": [
    {
     "data": {
      "text/html": [
       "<div>\n",
       "<style scoped>\n",
       "    .dataframe tbody tr th:only-of-type {\n",
       "        vertical-align: middle;\n",
       "    }\n",
       "\n",
       "    .dataframe tbody tr th {\n",
       "        vertical-align: top;\n",
       "    }\n",
       "\n",
       "    .dataframe thead th {\n",
       "        text-align: right;\n",
       "    }\n",
       "</style>\n",
       "<table border=\"1\" class=\"dataframe\">\n",
       "  <thead>\n",
       "    <tr style=\"text-align: right;\">\n",
       "      <th></th>\n",
       "      <th>pos</th>\n",
       "      <th>score</th>\n",
       "    </tr>\n",
       "  </thead>\n",
       "  <tbody>\n",
       "    <tr>\n",
       "      <th>pos</th>\n",
       "      <td>1.000000</td>\n",
       "      <td>0.281658</td>\n",
       "    </tr>\n",
       "    <tr>\n",
       "      <th>score</th>\n",
       "      <td>0.281658</td>\n",
       "      <td>1.000000</td>\n",
       "    </tr>\n",
       "  </tbody>\n",
       "</table>\n",
       "</div>"
      ],
      "text/plain": [
       "            pos     score\n",
       "pos    1.000000  0.281658\n",
       "score  0.281658  1.000000"
      ]
     },
     "execution_count": 41,
     "metadata": {},
     "output_type": "execute_result"
    }
   ],
   "source": [
    "intelligence_polarities[[\"pos\", \"score\"]].corr()"
   ]
  },
  {
   "attachments": {},
   "cell_type": "markdown",
   "metadata": {},
   "source": [
    "## __Bumble__"
   ]
  },
  {
   "cell_type": "code",
   "execution_count": 42,
   "metadata": {},
   "outputs": [],
   "source": [
    "queries = [\"casual sex\", \"relationship couple boyfriend girlfriend\", \"friendship friends\", \"curiosity novelty experience\",  \"self esteem confidence\", \"women girls\", \"men boys\", \"attractiveness beauty\", \"intelligence\"]\n",
    "annotated_bumble = general.bm25_annotate(queries, app=\"bumble\")"
   ]
  },
  {
   "cell_type": "code",
   "execution_count": 43,
   "metadata": {},
   "outputs": [
    {
     "data": {
      "text/plain": [
       "category\n",
       "attractiveness      17\n",
       "casual             164\n",
       "curiosity          619\n",
       "friendship         586\n",
       "intelligence         5\n",
       "men                548\n",
       "relationship       532\n",
       "self               173\n",
       "women             1082\n",
       "Name: reviewId, dtype: int64"
      ]
     },
     "execution_count": 43,
     "metadata": {},
     "output_type": "execute_result"
    }
   ],
   "source": [
    "annotated_bumble.groupby(\"category\")[\"reviewId\"].count()"
   ]
  },
  {
   "attachments": {},
   "cell_type": "markdown",
   "metadata": {},
   "source": [
    "__Casual sex__"
   ]
  },
  {
   "cell_type": "code",
   "execution_count": null,
   "metadata": {},
   "outputs": [],
   "source": [
    "casual_sex_polarities = sentiment_extraction.get_reviews_polarities(annotated_bumble[annotated_bumble.category == \"casual\"])"
   ]
  },
  {
   "cell_type": "code",
   "execution_count": 45,
   "metadata": {},
   "outputs": [
    {
     "data": {
      "text/html": [
       "<div>\n",
       "<style scoped>\n",
       "    .dataframe tbody tr th:only-of-type {\n",
       "        vertical-align: middle;\n",
       "    }\n",
       "\n",
       "    .dataframe tbody tr th {\n",
       "        vertical-align: top;\n",
       "    }\n",
       "\n",
       "    .dataframe thead th {\n",
       "        text-align: right;\n",
       "    }\n",
       "</style>\n",
       "<table border=\"1\" class=\"dataframe\">\n",
       "  <thead>\n",
       "    <tr style=\"text-align: right;\">\n",
       "      <th></th>\n",
       "      <th>reviewId</th>\n",
       "      <th>content</th>\n",
       "      <th>score</th>\n",
       "      <th>at</th>\n",
       "      <th>bm25_score</th>\n",
       "      <th>category</th>\n",
       "      <th>pos</th>\n",
       "      <th>neg</th>\n",
       "    </tr>\n",
       "  </thead>\n",
       "  <tbody>\n",
       "    <tr>\n",
       "      <th>566321</th>\n",
       "      <td>39705</td>\n",
       "      <td>Negative experience. This app is used by men t...</td>\n",
       "      <td>1</td>\n",
       "      <td>2020-07-02 03:21:00</td>\n",
       "      <td>13.692075</td>\n",
       "      <td>casual</td>\n",
       "      <td>0.193397</td>\n",
       "      <td>0.806603</td>\n",
       "    </tr>\n",
       "    <tr>\n",
       "      <th>621772</th>\n",
       "      <td>95156</td>\n",
       "      <td>Some casual luck...</td>\n",
       "      <td>5</td>\n",
       "      <td>2017-04-07 21:07:00</td>\n",
       "      <td>12.321515</td>\n",
       "      <td>casual</td>\n",
       "      <td>0.998831</td>\n",
       "      <td>0.001169</td>\n",
       "    </tr>\n",
       "    <tr>\n",
       "      <th>593370</th>\n",
       "      <td>66754</td>\n",
       "      <td>Easy to use, feels casual and inviting.</td>\n",
       "      <td>5</td>\n",
       "      <td>2019-05-01 21:10:00</td>\n",
       "      <td>10.915296</td>\n",
       "      <td>casual</td>\n",
       "      <td>0.999848</td>\n",
       "      <td>0.000152</td>\n",
       "    </tr>\n",
       "    <tr>\n",
       "      <th>552867</th>\n",
       "      <td>26251</td>\n",
       "      <td>Great app for casual or serious relationship.....</td>\n",
       "      <td>5</td>\n",
       "      <td>2021-02-15 15:27:00</td>\n",
       "      <td>10.612502</td>\n",
       "      <td>casual</td>\n",
       "      <td>0.999512</td>\n",
       "      <td>0.000488</td>\n",
       "    </tr>\n",
       "    <tr>\n",
       "      <th>597106</th>\n",
       "      <td>70490</td>\n",
       "      <td>gud sex</td>\n",
       "      <td>4</td>\n",
       "      <td>2019-03-09 21:13:00</td>\n",
       "      <td>10.529449</td>\n",
       "      <td>casual</td>\n",
       "      <td>0.151440</td>\n",
       "      <td>0.848560</td>\n",
       "    </tr>\n",
       "  </tbody>\n",
       "</table>\n",
       "</div>"
      ],
      "text/plain": [
       "        reviewId                                            content  score  \\\n",
       "566321     39705  Negative experience. This app is used by men t...      1   \n",
       "621772     95156                                Some casual luck...      5   \n",
       "593370     66754            Easy to use, feels casual and inviting.      5   \n",
       "552867     26251  Great app for casual or serious relationship.....      5   \n",
       "597106     70490                                            gud sex      4   \n",
       "\n",
       "                        at  bm25_score category       pos       neg  \n",
       "566321 2020-07-02 03:21:00   13.692075   casual  0.193397  0.806603  \n",
       "621772 2017-04-07 21:07:00   12.321515   casual  0.998831  0.001169  \n",
       "593370 2019-05-01 21:10:00   10.915296   casual  0.999848  0.000152  \n",
       "552867 2021-02-15 15:27:00   10.612502   casual  0.999512  0.000488  \n",
       "597106 2019-03-09 21:13:00   10.529449   casual  0.151440  0.848560  "
      ]
     },
     "execution_count": 45,
     "metadata": {},
     "output_type": "execute_result"
    }
   ],
   "source": [
    "casual_sex_polarities.head()"
   ]
  },
  {
   "cell_type": "code",
   "execution_count": 46,
   "metadata": {},
   "outputs": [
    {
     "name": "stdout",
     "output_type": "stream",
     "text": [
      "pos: 0.32515337423312884, neg: 0.6748466257668712\n"
     ]
    }
   ],
   "source": [
    "pos = len(casual_sex_polarities[casual_sex_polarities.pos >= .70])/len(casual_sex_polarities[(casual_sex_polarities.pos >= .70) | (casual_sex_polarities.neg >= .70)])\n",
    "neg = len(casual_sex_polarities[casual_sex_polarities.neg >= .70])/len(casual_sex_polarities[(casual_sex_polarities.pos >= .70) | (casual_sex_polarities.neg >= .70)])\n",
    "print(f\"pos: {pos}, neg: {neg}\")\n",
    "aspects_polarity  = save_results(\"bumble\", \"casual sex\", aspects_polarity, pos, neg)"
   ]
  },
  {
   "cell_type": "code",
   "execution_count": 47,
   "metadata": {},
   "outputs": [
    {
     "data": {
      "text/html": [
       "<div>\n",
       "<style scoped>\n",
       "    .dataframe tbody tr th:only-of-type {\n",
       "        vertical-align: middle;\n",
       "    }\n",
       "\n",
       "    .dataframe tbody tr th {\n",
       "        vertical-align: top;\n",
       "    }\n",
       "\n",
       "    .dataframe thead th {\n",
       "        text-align: right;\n",
       "    }\n",
       "</style>\n",
       "<table border=\"1\" class=\"dataframe\">\n",
       "  <thead>\n",
       "    <tr style=\"text-align: right;\">\n",
       "      <th></th>\n",
       "      <th>pos</th>\n",
       "      <th>score</th>\n",
       "    </tr>\n",
       "  </thead>\n",
       "  <tbody>\n",
       "    <tr>\n",
       "      <th>pos</th>\n",
       "      <td>1.000000</td>\n",
       "      <td>0.671149</td>\n",
       "    </tr>\n",
       "    <tr>\n",
       "      <th>score</th>\n",
       "      <td>0.671149</td>\n",
       "      <td>1.000000</td>\n",
       "    </tr>\n",
       "  </tbody>\n",
       "</table>\n",
       "</div>"
      ],
      "text/plain": [
       "            pos     score\n",
       "pos    1.000000  0.671149\n",
       "score  0.671149  1.000000"
      ]
     },
     "execution_count": 47,
     "metadata": {},
     "output_type": "execute_result"
    }
   ],
   "source": [
    "casual_sex_polarities[[\"pos\", \"score\"]].corr()"
   ]
  },
  {
   "attachments": {},
   "cell_type": "markdown",
   "metadata": {},
   "source": [
    "__Relationship__"
   ]
  },
  {
   "cell_type": "code",
   "execution_count": null,
   "metadata": {},
   "outputs": [],
   "source": [
    "relationship_polarities = sentiment_extraction.get_reviews_polarities(annotated_bumble[annotated_bumble.category == \"relationship\"])"
   ]
  },
  {
   "cell_type": "code",
   "execution_count": 49,
   "metadata": {},
   "outputs": [
    {
     "data": {
      "text/html": [
       "<div>\n",
       "<style scoped>\n",
       "    .dataframe tbody tr th:only-of-type {\n",
       "        vertical-align: middle;\n",
       "    }\n",
       "\n",
       "    .dataframe tbody tr th {\n",
       "        vertical-align: top;\n",
       "    }\n",
       "\n",
       "    .dataframe thead th {\n",
       "        text-align: right;\n",
       "    }\n",
       "</style>\n",
       "<table border=\"1\" class=\"dataframe\">\n",
       "  <thead>\n",
       "    <tr style=\"text-align: right;\">\n",
       "      <th></th>\n",
       "      <th>reviewId</th>\n",
       "      <th>content</th>\n",
       "      <th>score</th>\n",
       "      <th>at</th>\n",
       "      <th>bm25_score</th>\n",
       "      <th>category</th>\n",
       "      <th>pos</th>\n",
       "      <th>neg</th>\n",
       "    </tr>\n",
       "  </thead>\n",
       "  <tbody>\n",
       "    <tr>\n",
       "      <th>582416</th>\n",
       "      <td>55800</td>\n",
       "      <td>Still no girlfriend 🤷‍♂️</td>\n",
       "      <td>4</td>\n",
       "      <td>2019-10-13 22:36:00</td>\n",
       "      <td>11.240558</td>\n",
       "      <td>relationship</td>\n",
       "      <td>0.025740</td>\n",
       "      <td>0.974260</td>\n",
       "    </tr>\n",
       "    <tr>\n",
       "      <th>556947</th>\n",
       "      <td>30331</td>\n",
       "      <td>I love this app!! My beautiful girlfriend had ...</td>\n",
       "      <td>5</td>\n",
       "      <td>2020-12-10 11:56:00</td>\n",
       "      <td>11.119943</td>\n",
       "      <td>relationship</td>\n",
       "      <td>0.999631</td>\n",
       "      <td>0.000369</td>\n",
       "    </tr>\n",
       "    <tr>\n",
       "      <th>548212</th>\n",
       "      <td>21596</td>\n",
       "      <td>I found an amazing girlfriend here on Bumble w...</td>\n",
       "      <td>5</td>\n",
       "      <td>2021-05-02 08:09:00</td>\n",
       "      <td>10.745423</td>\n",
       "      <td>relationship</td>\n",
       "      <td>0.999494</td>\n",
       "      <td>0.000506</td>\n",
       "    </tr>\n",
       "    <tr>\n",
       "      <th>569075</th>\n",
       "      <td>42459</td>\n",
       "      <td>Tried steal my boyfriend mf disrespectful</td>\n",
       "      <td>1</td>\n",
       "      <td>2020-05-19 18:25:00</td>\n",
       "      <td>10.650436</td>\n",
       "      <td>relationship</td>\n",
       "      <td>0.002942</td>\n",
       "      <td>0.997058</td>\n",
       "    </tr>\n",
       "    <tr>\n",
       "      <th>605578</th>\n",
       "      <td>78962</td>\n",
       "      <td>Met my girlfriend on this app.</td>\n",
       "      <td>4</td>\n",
       "      <td>2018-09-29 22:43:00</td>\n",
       "      <td>10.580293</td>\n",
       "      <td>relationship</td>\n",
       "      <td>0.981539</td>\n",
       "      <td>0.018461</td>\n",
       "    </tr>\n",
       "  </tbody>\n",
       "</table>\n",
       "</div>"
      ],
      "text/plain": [
       "        reviewId                                            content  score  \\\n",
       "582416     55800                           Still no girlfriend 🤷‍♂️      4   \n",
       "556947     30331  I love this app!! My beautiful girlfriend had ...      5   \n",
       "548212     21596  I found an amazing girlfriend here on Bumble w...      5   \n",
       "569075     42459          Tried steal my boyfriend mf disrespectful      1   \n",
       "605578     78962                     Met my girlfriend on this app.      4   \n",
       "\n",
       "                        at  bm25_score      category       pos       neg  \n",
       "582416 2019-10-13 22:36:00   11.240558  relationship  0.025740  0.974260  \n",
       "556947 2020-12-10 11:56:00   11.119943  relationship  0.999631  0.000369  \n",
       "548212 2021-05-02 08:09:00   10.745423  relationship  0.999494  0.000506  \n",
       "569075 2020-05-19 18:25:00   10.650436  relationship  0.002942  0.997058  \n",
       "605578 2018-09-29 22:43:00   10.580293  relationship  0.981539  0.018461  "
      ]
     },
     "execution_count": 49,
     "metadata": {},
     "output_type": "execute_result"
    }
   ],
   "source": [
    "relationship_polarities.head()"
   ]
  },
  {
   "cell_type": "code",
   "execution_count": 50,
   "metadata": {},
   "outputs": [
    {
     "name": "stdout",
     "output_type": "stream",
     "text": [
      "pos: 0.4816955684007707, neg: 0.5183044315992292\n"
     ]
    }
   ],
   "source": [
    "pos = len(relationship_polarities[relationship_polarities.pos >= .70])/len(relationship_polarities[(relationship_polarities.pos >= .70) | (relationship_polarities.neg >= .70)])\n",
    "neg = len(relationship_polarities[relationship_polarities.neg >= .70])/len(relationship_polarities[(relationship_polarities.pos >= .70) | (relationship_polarities.neg >= .70)])\n",
    "print(f\"pos: {pos}, neg: {neg}\")\n",
    "aspects_polarity  = save_results(\"bumble\", \"relationship\", aspects_polarity, pos, neg)"
   ]
  },
  {
   "cell_type": "code",
   "execution_count": 51,
   "metadata": {},
   "outputs": [
    {
     "data": {
      "text/html": [
       "<div>\n",
       "<style scoped>\n",
       "    .dataframe tbody tr th:only-of-type {\n",
       "        vertical-align: middle;\n",
       "    }\n",
       "\n",
       "    .dataframe tbody tr th {\n",
       "        vertical-align: top;\n",
       "    }\n",
       "\n",
       "    .dataframe thead th {\n",
       "        text-align: right;\n",
       "    }\n",
       "</style>\n",
       "<table border=\"1\" class=\"dataframe\">\n",
       "  <thead>\n",
       "    <tr style=\"text-align: right;\">\n",
       "      <th></th>\n",
       "      <th>pos</th>\n",
       "      <th>score</th>\n",
       "    </tr>\n",
       "  </thead>\n",
       "  <tbody>\n",
       "    <tr>\n",
       "      <th>pos</th>\n",
       "      <td>1.000000</td>\n",
       "      <td>0.719049</td>\n",
       "    </tr>\n",
       "    <tr>\n",
       "      <th>score</th>\n",
       "      <td>0.719049</td>\n",
       "      <td>1.000000</td>\n",
       "    </tr>\n",
       "  </tbody>\n",
       "</table>\n",
       "</div>"
      ],
      "text/plain": [
       "            pos     score\n",
       "pos    1.000000  0.719049\n",
       "score  0.719049  1.000000"
      ]
     },
     "execution_count": 51,
     "metadata": {},
     "output_type": "execute_result"
    }
   ],
   "source": [
    "relationship_polarities[[\"pos\", \"score\"]].corr()"
   ]
  },
  {
   "attachments": {},
   "cell_type": "markdown",
   "metadata": {},
   "source": [
    "__Friendship__"
   ]
  },
  {
   "cell_type": "code",
   "execution_count": null,
   "metadata": {},
   "outputs": [],
   "source": [
    "friendship_polarities = sentiment_extraction.get_reviews_polarities(annotated_bumble[annotated_bumble.category == \"friendship\"])"
   ]
  },
  {
   "cell_type": "code",
   "execution_count": 53,
   "metadata": {},
   "outputs": [
    {
     "data": {
      "text/html": [
       "<div>\n",
       "<style scoped>\n",
       "    .dataframe tbody tr th:only-of-type {\n",
       "        vertical-align: middle;\n",
       "    }\n",
       "\n",
       "    .dataframe tbody tr th {\n",
       "        vertical-align: top;\n",
       "    }\n",
       "\n",
       "    .dataframe thead th {\n",
       "        text-align: right;\n",
       "    }\n",
       "</style>\n",
       "<table border=\"1\" class=\"dataframe\">\n",
       "  <thead>\n",
       "    <tr style=\"text-align: right;\">\n",
       "      <th></th>\n",
       "      <th>reviewId</th>\n",
       "      <th>content</th>\n",
       "      <th>score</th>\n",
       "      <th>at</th>\n",
       "      <th>bm25_score</th>\n",
       "      <th>category</th>\n",
       "      <th>pos</th>\n",
       "      <th>neg</th>\n",
       "    </tr>\n",
       "  </thead>\n",
       "  <tbody>\n",
       "    <tr>\n",
       "      <th>570385</th>\n",
       "      <td>43769</td>\n",
       "      <td>Ultimate app for friendship</td>\n",
       "      <td>5</td>\n",
       "      <td>2020-04-26 22:32:00</td>\n",
       "      <td>11.630401</td>\n",
       "      <td>friendship</td>\n",
       "      <td>0.999774</td>\n",
       "      <td>0.000226</td>\n",
       "    </tr>\n",
       "    <tr>\n",
       "      <th>586615</th>\n",
       "      <td>59999</td>\n",
       "      <td>met some great friendship</td>\n",
       "      <td>5</td>\n",
       "      <td>2019-08-04 04:46:00</td>\n",
       "      <td>11.630401</td>\n",
       "      <td>friendship</td>\n",
       "      <td>0.999835</td>\n",
       "      <td>0.000165</td>\n",
       "    </tr>\n",
       "    <tr>\n",
       "      <th>564397</th>\n",
       "      <td>37781</td>\n",
       "      <td>Just signed up, looking for friends in the are...</td>\n",
       "      <td>1</td>\n",
       "      <td>2020-08-01 23:25:00</td>\n",
       "      <td>10.602594</td>\n",
       "      <td>friendship</td>\n",
       "      <td>0.003260</td>\n",
       "      <td>0.996740</td>\n",
       "    </tr>\n",
       "    <tr>\n",
       "      <th>601415</th>\n",
       "      <td>74799</td>\n",
       "      <td>love this app, but its lowkey sexist that yall...</td>\n",
       "      <td>3</td>\n",
       "      <td>2018-12-30 00:07:00</td>\n",
       "      <td>9.818210</td>\n",
       "      <td>friendship</td>\n",
       "      <td>0.064823</td>\n",
       "      <td>0.935177</td>\n",
       "    </tr>\n",
       "    <tr>\n",
       "      <th>532768</th>\n",
       "      <td>6152</td>\n",
       "      <td>I appreciate all the women trying to make frie...</td>\n",
       "      <td>4</td>\n",
       "      <td>2021-12-22 15:03:00</td>\n",
       "      <td>9.818210</td>\n",
       "      <td>friendship</td>\n",
       "      <td>0.999190</td>\n",
       "      <td>0.000810</td>\n",
       "    </tr>\n",
       "  </tbody>\n",
       "</table>\n",
       "</div>"
      ],
      "text/plain": [
       "        reviewId                                            content  score  \\\n",
       "570385     43769                        Ultimate app for friendship      5   \n",
       "586615     59999                          met some great friendship      5   \n",
       "564397     37781  Just signed up, looking for friends in the are...      1   \n",
       "601415     74799  love this app, but its lowkey sexist that yall...      3   \n",
       "532768      6152  I appreciate all the women trying to make frie...      4   \n",
       "\n",
       "                        at  bm25_score    category       pos       neg  \n",
       "570385 2020-04-26 22:32:00   11.630401  friendship  0.999774  0.000226  \n",
       "586615 2019-08-04 04:46:00   11.630401  friendship  0.999835  0.000165  \n",
       "564397 2020-08-01 23:25:00   10.602594  friendship  0.003260  0.996740  \n",
       "601415 2018-12-30 00:07:00    9.818210  friendship  0.064823  0.935177  \n",
       "532768 2021-12-22 15:03:00    9.818210  friendship  0.999190  0.000810  "
      ]
     },
     "execution_count": 53,
     "metadata": {},
     "output_type": "execute_result"
    }
   ],
   "source": [
    "friendship_polarities.head()"
   ]
  },
  {
   "cell_type": "code",
   "execution_count": 54,
   "metadata": {},
   "outputs": [
    {
     "name": "stdout",
     "output_type": "stream",
     "text": [
      "pos: 0.7065972222222222, neg: 0.2934027777777778\n"
     ]
    }
   ],
   "source": [
    "pos = len(friendship_polarities[friendship_polarities.pos >= .70])/len(friendship_polarities[(friendship_polarities.pos >= .70) | (friendship_polarities.neg >= .70)])\n",
    "neg = len(friendship_polarities[friendship_polarities.neg >= .70])/len(friendship_polarities[(friendship_polarities.pos >= .70) | (friendship_polarities.neg >= .70)])\n",
    "print(f\"pos: {pos}, neg: {neg}\")\n",
    "aspects_polarity  = save_results(\"bumble\", \"friendship\", aspects_polarity, pos, neg)"
   ]
  },
  {
   "cell_type": "code",
   "execution_count": 55,
   "metadata": {},
   "outputs": [
    {
     "data": {
      "text/html": [
       "<div>\n",
       "<style scoped>\n",
       "    .dataframe tbody tr th:only-of-type {\n",
       "        vertical-align: middle;\n",
       "    }\n",
       "\n",
       "    .dataframe tbody tr th {\n",
       "        vertical-align: top;\n",
       "    }\n",
       "\n",
       "    .dataframe thead th {\n",
       "        text-align: right;\n",
       "    }\n",
       "</style>\n",
       "<table border=\"1\" class=\"dataframe\">\n",
       "  <thead>\n",
       "    <tr style=\"text-align: right;\">\n",
       "      <th></th>\n",
       "      <th>pos</th>\n",
       "      <th>score</th>\n",
       "    </tr>\n",
       "  </thead>\n",
       "  <tbody>\n",
       "    <tr>\n",
       "      <th>pos</th>\n",
       "      <td>1.000000</td>\n",
       "      <td>0.735685</td>\n",
       "    </tr>\n",
       "    <tr>\n",
       "      <th>score</th>\n",
       "      <td>0.735685</td>\n",
       "      <td>1.000000</td>\n",
       "    </tr>\n",
       "  </tbody>\n",
       "</table>\n",
       "</div>"
      ],
      "text/plain": [
       "            pos     score\n",
       "pos    1.000000  0.735685\n",
       "score  0.735685  1.000000"
      ]
     },
     "execution_count": 55,
     "metadata": {},
     "output_type": "execute_result"
    }
   ],
   "source": [
    "friendship_polarities[[\"pos\", \"score\"]].corr()"
   ]
  },
  {
   "attachments": {},
   "cell_type": "markdown",
   "metadata": {},
   "source": [
    "__Curiosity__"
   ]
  },
  {
   "cell_type": "code",
   "execution_count": null,
   "metadata": {},
   "outputs": [],
   "source": [
    "curiosity_polarities = sentiment_extraction.get_reviews_polarities(annotated_bumble[annotated_bumble.category == \"curiosity\"])"
   ]
  },
  {
   "cell_type": "code",
   "execution_count": 57,
   "metadata": {},
   "outputs": [
    {
     "data": {
      "text/html": [
       "<div>\n",
       "<style scoped>\n",
       "    .dataframe tbody tr th:only-of-type {\n",
       "        vertical-align: middle;\n",
       "    }\n",
       "\n",
       "    .dataframe tbody tr th {\n",
       "        vertical-align: top;\n",
       "    }\n",
       "\n",
       "    .dataframe thead th {\n",
       "        text-align: right;\n",
       "    }\n",
       "</style>\n",
       "<table border=\"1\" class=\"dataframe\">\n",
       "  <thead>\n",
       "    <tr style=\"text-align: right;\">\n",
       "      <th></th>\n",
       "      <th>reviewId</th>\n",
       "      <th>content</th>\n",
       "      <th>score</th>\n",
       "      <th>at</th>\n",
       "      <th>bm25_score</th>\n",
       "      <th>category</th>\n",
       "      <th>pos</th>\n",
       "      <th>neg</th>\n",
       "    </tr>\n",
       "  </thead>\n",
       "  <tbody>\n",
       "    <tr>\n",
       "      <th>562001</th>\n",
       "      <td>35385</td>\n",
       "      <td>I doenloaded this app out of curiosity and end...</td>\n",
       "      <td>5</td>\n",
       "      <td>2020-09-11 10:50:00</td>\n",
       "      <td>7.989356</td>\n",
       "      <td>curiosity</td>\n",
       "      <td>0.130996</td>\n",
       "      <td>0.869004</td>\n",
       "    </tr>\n",
       "    <tr>\n",
       "      <th>579205</th>\n",
       "      <td>52589</td>\n",
       "      <td>Three months with 10+/2 and not a single girl ...</td>\n",
       "      <td>2</td>\n",
       "      <td>2019-12-08 05:37:00</td>\n",
       "      <td>7.596750</td>\n",
       "      <td>curiosity</td>\n",
       "      <td>0.095174</td>\n",
       "      <td>0.904826</td>\n",
       "    </tr>\n",
       "    <tr>\n",
       "      <th>566036</th>\n",
       "      <td>39420</td>\n",
       "      <td>Good experience</td>\n",
       "      <td>4</td>\n",
       "      <td>2020-07-06 19:38:00</td>\n",
       "      <td>7.374881</td>\n",
       "      <td>curiosity</td>\n",
       "      <td>0.999860</td>\n",
       "      <td>0.000140</td>\n",
       "    </tr>\n",
       "    <tr>\n",
       "      <th>564952</th>\n",
       "      <td>38336</td>\n",
       "      <td>Bad experience</td>\n",
       "      <td>1</td>\n",
       "      <td>2020-07-24 06:08:00</td>\n",
       "      <td>7.374881</td>\n",
       "      <td>curiosity</td>\n",
       "      <td>0.000217</td>\n",
       "      <td>0.999783</td>\n",
       "    </tr>\n",
       "    <tr>\n",
       "      <th>566382</th>\n",
       "      <td>39766</td>\n",
       "      <td>Great experience</td>\n",
       "      <td>5</td>\n",
       "      <td>2020-07-01 04:49:00</td>\n",
       "      <td>7.374881</td>\n",
       "      <td>curiosity</td>\n",
       "      <td>0.999872</td>\n",
       "      <td>0.000128</td>\n",
       "    </tr>\n",
       "  </tbody>\n",
       "</table>\n",
       "</div>"
      ],
      "text/plain": [
       "        reviewId                                            content  score  \\\n",
       "562001     35385  I doenloaded this app out of curiosity and end...      5   \n",
       "579205     52589  Three months with 10+/2 and not a single girl ...      2   \n",
       "566036     39420                                    Good experience      4   \n",
       "564952     38336                                     Bad experience      1   \n",
       "566382     39766                                   Great experience      5   \n",
       "\n",
       "                        at  bm25_score   category       pos       neg  \n",
       "562001 2020-09-11 10:50:00    7.989356  curiosity  0.130996  0.869004  \n",
       "579205 2019-12-08 05:37:00    7.596750  curiosity  0.095174  0.904826  \n",
       "566036 2020-07-06 19:38:00    7.374881  curiosity  0.999860  0.000140  \n",
       "564952 2020-07-24 06:08:00    7.374881  curiosity  0.000217  0.999783  \n",
       "566382 2020-07-01 04:49:00    7.374881  curiosity  0.999872  0.000128  "
      ]
     },
     "execution_count": 57,
     "metadata": {},
     "output_type": "execute_result"
    }
   ],
   "source": [
    "curiosity_polarities.head()"
   ]
  },
  {
   "cell_type": "code",
   "execution_count": 58,
   "metadata": {},
   "outputs": [
    {
     "name": "stdout",
     "output_type": "stream",
     "text": [
      "pos: 0.6288998357963875, neg: 0.37110016420361247\n"
     ]
    }
   ],
   "source": [
    "pos = len(curiosity_polarities[curiosity_polarities.pos >= .70])/len(curiosity_polarities[(curiosity_polarities.pos >= .70) | (curiosity_polarities.neg >= .70)])\n",
    "neg = len(curiosity_polarities[curiosity_polarities.neg >= .70])/len(curiosity_polarities[(curiosity_polarities.pos >= .70) | (curiosity_polarities.neg >= .70)])\n",
    "print(f\"pos: {pos}, neg: {neg}\")\n",
    "aspects_polarity  = save_results(\"bumble\", \"curiosity\", aspects_polarity, pos, neg)"
   ]
  },
  {
   "cell_type": "code",
   "execution_count": 59,
   "metadata": {},
   "outputs": [
    {
     "data": {
      "text/html": [
       "<div>\n",
       "<style scoped>\n",
       "    .dataframe tbody tr th:only-of-type {\n",
       "        vertical-align: middle;\n",
       "    }\n",
       "\n",
       "    .dataframe tbody tr th {\n",
       "        vertical-align: top;\n",
       "    }\n",
       "\n",
       "    .dataframe thead th {\n",
       "        text-align: right;\n",
       "    }\n",
       "</style>\n",
       "<table border=\"1\" class=\"dataframe\">\n",
       "  <thead>\n",
       "    <tr style=\"text-align: right;\">\n",
       "      <th></th>\n",
       "      <th>pos</th>\n",
       "      <th>score</th>\n",
       "    </tr>\n",
       "  </thead>\n",
       "  <tbody>\n",
       "    <tr>\n",
       "      <th>pos</th>\n",
       "      <td>1.0000</td>\n",
       "      <td>0.8308</td>\n",
       "    </tr>\n",
       "    <tr>\n",
       "      <th>score</th>\n",
       "      <td>0.8308</td>\n",
       "      <td>1.0000</td>\n",
       "    </tr>\n",
       "  </tbody>\n",
       "</table>\n",
       "</div>"
      ],
      "text/plain": [
       "          pos   score\n",
       "pos    1.0000  0.8308\n",
       "score  0.8308  1.0000"
      ]
     },
     "execution_count": 59,
     "metadata": {},
     "output_type": "execute_result"
    }
   ],
   "source": [
    "curiosity_polarities[[\"pos\", \"score\"]].corr()"
   ]
  },
  {
   "attachments": {},
   "cell_type": "markdown",
   "metadata": {},
   "source": [
    "__Women__"
   ]
  },
  {
   "cell_type": "code",
   "execution_count": null,
   "metadata": {},
   "outputs": [],
   "source": [
    "women_polarities = sentiment_extraction.get_reviews_polarities(annotated_bumble[annotated_bumble.category == \"women\"])"
   ]
  },
  {
   "cell_type": "code",
   "execution_count": 61,
   "metadata": {},
   "outputs": [
    {
     "data": {
      "text/html": [
       "<div>\n",
       "<style scoped>\n",
       "    .dataframe tbody tr th:only-of-type {\n",
       "        vertical-align: middle;\n",
       "    }\n",
       "\n",
       "    .dataframe tbody tr th {\n",
       "        vertical-align: top;\n",
       "    }\n",
       "\n",
       "    .dataframe thead th {\n",
       "        text-align: right;\n",
       "    }\n",
       "</style>\n",
       "<table border=\"1\" class=\"dataframe\">\n",
       "  <thead>\n",
       "    <tr style=\"text-align: right;\">\n",
       "      <th></th>\n",
       "      <th>reviewId</th>\n",
       "      <th>content</th>\n",
       "      <th>score</th>\n",
       "      <th>at</th>\n",
       "      <th>bm25_score</th>\n",
       "      <th>category</th>\n",
       "      <th>pos</th>\n",
       "      <th>neg</th>\n",
       "    </tr>\n",
       "  </thead>\n",
       "  <tbody>\n",
       "    <tr>\n",
       "      <th>628208</th>\n",
       "      <td>101592</td>\n",
       "      <td>Good idea but the girls don't initiate anythin...</td>\n",
       "      <td>2</td>\n",
       "      <td>2016-03-03 13:34:00</td>\n",
       "      <td>8.403657</td>\n",
       "      <td>women</td>\n",
       "      <td>0.001125</td>\n",
       "      <td>0.998875</td>\n",
       "    </tr>\n",
       "    <tr>\n",
       "      <th>585895</th>\n",
       "      <td>59279</td>\n",
       "      <td>women have to make the first move, its very re...</td>\n",
       "      <td>5</td>\n",
       "      <td>2019-08-15 15:58:00</td>\n",
       "      <td>7.236424</td>\n",
       "      <td>women</td>\n",
       "      <td>0.999643</td>\n",
       "      <td>0.000357</td>\n",
       "    </tr>\n",
       "    <tr>\n",
       "      <th>625022</th>\n",
       "      <td>98406</td>\n",
       "      <td>Because of the girls message first feature, on...</td>\n",
       "      <td>5</td>\n",
       "      <td>2016-09-21 10:49:00</td>\n",
       "      <td>7.204325</td>\n",
       "      <td>women</td>\n",
       "      <td>0.002044</td>\n",
       "      <td>0.997956</td>\n",
       "    </tr>\n",
       "    <tr>\n",
       "      <th>627962</th>\n",
       "      <td>101346</td>\n",
       "      <td>Horrible concept the only girls I match with a...</td>\n",
       "      <td>1</td>\n",
       "      <td>2016-03-22 10:35:00</td>\n",
       "      <td>6.922072</td>\n",
       "      <td>women</td>\n",
       "      <td>0.000266</td>\n",
       "      <td>0.999734</td>\n",
       "    </tr>\n",
       "    <tr>\n",
       "      <th>602854</th>\n",
       "      <td>76238</td>\n",
       "      <td>Please add a complaint option for women that p...</td>\n",
       "      <td>3</td>\n",
       "      <td>2018-11-29 04:47:00</td>\n",
       "      <td>6.922072</td>\n",
       "      <td>women</td>\n",
       "      <td>0.013827</td>\n",
       "      <td>0.986173</td>\n",
       "    </tr>\n",
       "  </tbody>\n",
       "</table>\n",
       "</div>"
      ],
      "text/plain": [
       "        reviewId                                            content  score  \\\n",
       "628208    101592  Good idea but the girls don't initiate anythin...      2   \n",
       "585895     59279  women have to make the first move, its very re...      5   \n",
       "625022     98406  Because of the girls message first feature, on...      5   \n",
       "627962    101346  Horrible concept the only girls I match with a...      1   \n",
       "602854     76238  Please add a complaint option for women that p...      3   \n",
       "\n",
       "                        at  bm25_score category       pos       neg  \n",
       "628208 2016-03-03 13:34:00    8.403657    women  0.001125  0.998875  \n",
       "585895 2019-08-15 15:58:00    7.236424    women  0.999643  0.000357  \n",
       "625022 2016-09-21 10:49:00    7.204325    women  0.002044  0.997956  \n",
       "627962 2016-03-22 10:35:00    6.922072    women  0.000266  0.999734  \n",
       "602854 2018-11-29 04:47:00    6.922072    women  0.013827  0.986173  "
      ]
     },
     "execution_count": 61,
     "metadata": {},
     "output_type": "execute_result"
    }
   ],
   "source": [
    "women_polarities.head()"
   ]
  },
  {
   "cell_type": "code",
   "execution_count": 62,
   "metadata": {},
   "outputs": [
    {
     "name": "stdout",
     "output_type": "stream",
     "text": [
      "pos: 0.529245283018868, neg: 0.4707547169811321\n"
     ]
    }
   ],
   "source": [
    "pos = len(women_polarities[women_polarities.pos >= .70])/len(women_polarities[(women_polarities.pos >= .70) | (women_polarities.neg >= .70)])\n",
    "neg = len(women_polarities[women_polarities.neg >= .70])/len(women_polarities[(women_polarities.pos >= .70) | (women_polarities.neg >= .70)])\n",
    "print(f\"pos: {pos}, neg: {neg}\")\n",
    "aspects_polarity  = save_results(\"bumble\", \"women\", aspects_polarity, pos, neg)"
   ]
  },
  {
   "cell_type": "code",
   "execution_count": 63,
   "metadata": {},
   "outputs": [
    {
     "data": {
      "text/html": [
       "<div>\n",
       "<style scoped>\n",
       "    .dataframe tbody tr th:only-of-type {\n",
       "        vertical-align: middle;\n",
       "    }\n",
       "\n",
       "    .dataframe tbody tr th {\n",
       "        vertical-align: top;\n",
       "    }\n",
       "\n",
       "    .dataframe thead th {\n",
       "        text-align: right;\n",
       "    }\n",
       "</style>\n",
       "<table border=\"1\" class=\"dataframe\">\n",
       "  <thead>\n",
       "    <tr style=\"text-align: right;\">\n",
       "      <th></th>\n",
       "      <th>reviewId</th>\n",
       "      <th>content</th>\n",
       "      <th>score</th>\n",
       "      <th>at</th>\n",
       "      <th>bm25_score</th>\n",
       "      <th>category</th>\n",
       "      <th>pos</th>\n",
       "      <th>neg</th>\n",
       "    </tr>\n",
       "  </thead>\n",
       "  <tbody>\n",
       "    <tr>\n",
       "      <th>628208</th>\n",
       "      <td>101592</td>\n",
       "      <td>Good idea but the girls don't initiate anythin...</td>\n",
       "      <td>2</td>\n",
       "      <td>2016-03-03 13:34:00</td>\n",
       "      <td>8.403657</td>\n",
       "      <td>women</td>\n",
       "      <td>0.001125</td>\n",
       "      <td>0.998875</td>\n",
       "    </tr>\n",
       "    <tr>\n",
       "      <th>585895</th>\n",
       "      <td>59279</td>\n",
       "      <td>women have to make the first move, its very re...</td>\n",
       "      <td>5</td>\n",
       "      <td>2019-08-15 15:58:00</td>\n",
       "      <td>7.236424</td>\n",
       "      <td>women</td>\n",
       "      <td>0.999643</td>\n",
       "      <td>0.000357</td>\n",
       "    </tr>\n",
       "    <tr>\n",
       "      <th>625022</th>\n",
       "      <td>98406</td>\n",
       "      <td>Because of the girls message first feature, on...</td>\n",
       "      <td>5</td>\n",
       "      <td>2016-09-21 10:49:00</td>\n",
       "      <td>7.204325</td>\n",
       "      <td>women</td>\n",
       "      <td>0.002044</td>\n",
       "      <td>0.997956</td>\n",
       "    </tr>\n",
       "    <tr>\n",
       "      <th>627962</th>\n",
       "      <td>101346</td>\n",
       "      <td>Horrible concept the only girls I match with a...</td>\n",
       "      <td>1</td>\n",
       "      <td>2016-03-22 10:35:00</td>\n",
       "      <td>6.922072</td>\n",
       "      <td>women</td>\n",
       "      <td>0.000266</td>\n",
       "      <td>0.999734</td>\n",
       "    </tr>\n",
       "    <tr>\n",
       "      <th>602854</th>\n",
       "      <td>76238</td>\n",
       "      <td>Please add a complaint option for women that p...</td>\n",
       "      <td>3</td>\n",
       "      <td>2018-11-29 04:47:00</td>\n",
       "      <td>6.922072</td>\n",
       "      <td>women</td>\n",
       "      <td>0.013827</td>\n",
       "      <td>0.986173</td>\n",
       "    </tr>\n",
       "    <tr>\n",
       "      <th>...</th>\n",
       "      <td>...</td>\n",
       "      <td>...</td>\n",
       "      <td>...</td>\n",
       "      <td>...</td>\n",
       "      <td>...</td>\n",
       "      <td>...</td>\n",
       "      <td>...</td>\n",
       "      <td>...</td>\n",
       "    </tr>\n",
       "    <tr>\n",
       "      <th>553125</th>\n",
       "      <td>26509</td>\n",
       "      <td>Wait so girls can post bikini photos where the...</td>\n",
       "      <td>1</td>\n",
       "      <td>2021-02-12 12:06:00</td>\n",
       "      <td>4.023587</td>\n",
       "      <td>women</td>\n",
       "      <td>0.001734</td>\n",
       "      <td>0.998266</td>\n",
       "    </tr>\n",
       "    <tr>\n",
       "      <th>610451</th>\n",
       "      <td>83835</td>\n",
       "      <td>It's a great concept but the only matches I've...</td>\n",
       "      <td>4</td>\n",
       "      <td>2018-04-09 08:45:00</td>\n",
       "      <td>4.013263</td>\n",
       "      <td>women</td>\n",
       "      <td>0.996412</td>\n",
       "      <td>0.003588</td>\n",
       "    </tr>\n",
       "    <tr>\n",
       "      <th>612291</th>\n",
       "      <td>85675</td>\n",
       "      <td>This is literally the worst of all these apps,...</td>\n",
       "      <td>1</td>\n",
       "      <td>2018-01-29 18:35:00</td>\n",
       "      <td>4.009553</td>\n",
       "      <td>women</td>\n",
       "      <td>0.000203</td>\n",
       "      <td>0.999797</td>\n",
       "    </tr>\n",
       "    <tr>\n",
       "      <th>535378</th>\n",
       "      <td>8762</td>\n",
       "      <td>Its hard enough to get a match, from girls in ...</td>\n",
       "      <td>1</td>\n",
       "      <td>2021-11-23 04:49:00</td>\n",
       "      <td>4.009553</td>\n",
       "      <td>women</td>\n",
       "      <td>0.000254</td>\n",
       "      <td>0.999746</td>\n",
       "    </tr>\n",
       "    <tr>\n",
       "      <th>533602</th>\n",
       "      <td>6986</td>\n",
       "      <td>Decent dating app if you're willing to pay for...</td>\n",
       "      <td>3</td>\n",
       "      <td>2021-12-16 12:35:00</td>\n",
       "      <td>4.005052</td>\n",
       "      <td>women</td>\n",
       "      <td>0.005504</td>\n",
       "      <td>0.994497</td>\n",
       "    </tr>\n",
       "  </tbody>\n",
       "</table>\n",
       "<p>1082 rows × 8 columns</p>\n",
       "</div>"
      ],
      "text/plain": [
       "        reviewId                                            content  score  \\\n",
       "628208    101592  Good idea but the girls don't initiate anythin...      2   \n",
       "585895     59279  women have to make the first move, its very re...      5   \n",
       "625022     98406  Because of the girls message first feature, on...      5   \n",
       "627962    101346  Horrible concept the only girls I match with a...      1   \n",
       "602854     76238  Please add a complaint option for women that p...      3   \n",
       "...          ...                                                ...    ...   \n",
       "553125     26509  Wait so girls can post bikini photos where the...      1   \n",
       "610451     83835  It's a great concept but the only matches I've...      4   \n",
       "612291     85675  This is literally the worst of all these apps,...      1   \n",
       "535378      8762  Its hard enough to get a match, from girls in ...      1   \n",
       "533602      6986  Decent dating app if you're willing to pay for...      3   \n",
       "\n",
       "                        at  bm25_score category       pos       neg  \n",
       "628208 2016-03-03 13:34:00    8.403657    women  0.001125  0.998875  \n",
       "585895 2019-08-15 15:58:00    7.236424    women  0.999643  0.000357  \n",
       "625022 2016-09-21 10:49:00    7.204325    women  0.002044  0.997956  \n",
       "627962 2016-03-22 10:35:00    6.922072    women  0.000266  0.999734  \n",
       "602854 2018-11-29 04:47:00    6.922072    women  0.013827  0.986173  \n",
       "...                    ...         ...      ...       ...       ...  \n",
       "553125 2021-02-12 12:06:00    4.023587    women  0.001734  0.998266  \n",
       "610451 2018-04-09 08:45:00    4.013263    women  0.996412  0.003588  \n",
       "612291 2018-01-29 18:35:00    4.009553    women  0.000203  0.999797  \n",
       "535378 2021-11-23 04:49:00    4.009553    women  0.000254  0.999746  \n",
       "533602 2021-12-16 12:35:00    4.005052    women  0.005504  0.994497  \n",
       "\n",
       "[1082 rows x 8 columns]"
      ]
     },
     "execution_count": 63,
     "metadata": {},
     "output_type": "execute_result"
    }
   ],
   "source": [
    "women_polarities"
   ]
  },
  {
   "cell_type": "code",
   "execution_count": 64,
   "metadata": {},
   "outputs": [
    {
     "data": {
      "text/html": [
       "<div>\n",
       "<style scoped>\n",
       "    .dataframe tbody tr th:only-of-type {\n",
       "        vertical-align: middle;\n",
       "    }\n",
       "\n",
       "    .dataframe tbody tr th {\n",
       "        vertical-align: top;\n",
       "    }\n",
       "\n",
       "    .dataframe thead th {\n",
       "        text-align: right;\n",
       "    }\n",
       "</style>\n",
       "<table border=\"1\" class=\"dataframe\">\n",
       "  <thead>\n",
       "    <tr style=\"text-align: right;\">\n",
       "      <th></th>\n",
       "      <th>pos</th>\n",
       "      <th>score</th>\n",
       "    </tr>\n",
       "  </thead>\n",
       "  <tbody>\n",
       "    <tr>\n",
       "      <th>pos</th>\n",
       "      <td>1.000000</td>\n",
       "      <td>0.664325</td>\n",
       "    </tr>\n",
       "    <tr>\n",
       "      <th>score</th>\n",
       "      <td>0.664325</td>\n",
       "      <td>1.000000</td>\n",
       "    </tr>\n",
       "  </tbody>\n",
       "</table>\n",
       "</div>"
      ],
      "text/plain": [
       "            pos     score\n",
       "pos    1.000000  0.664325\n",
       "score  0.664325  1.000000"
      ]
     },
     "execution_count": 64,
     "metadata": {},
     "output_type": "execute_result"
    }
   ],
   "source": [
    "women_polarities[[\"pos\", \"score\"]].corr()"
   ]
  },
  {
   "cell_type": "markdown",
   "metadata": {},
   "source": [
    "__Men__"
   ]
  },
  {
   "cell_type": "code",
   "execution_count": null,
   "metadata": {},
   "outputs": [],
   "source": [
    "men_polarities = sentiment_extraction.get_reviews_polarities(annotated_bumble[annotated_bumble.category == \"men\"])\n",
    "men_polarities.head()"
   ]
  },
  {
   "cell_type": "code",
   "execution_count": 66,
   "metadata": {},
   "outputs": [
    {
     "data": {
      "text/html": [
       "<div>\n",
       "<style scoped>\n",
       "    .dataframe tbody tr th:only-of-type {\n",
       "        vertical-align: middle;\n",
       "    }\n",
       "\n",
       "    .dataframe tbody tr th {\n",
       "        vertical-align: top;\n",
       "    }\n",
       "\n",
       "    .dataframe thead th {\n",
       "        text-align: right;\n",
       "    }\n",
       "</style>\n",
       "<table border=\"1\" class=\"dataframe\">\n",
       "  <thead>\n",
       "    <tr style=\"text-align: right;\">\n",
       "      <th></th>\n",
       "      <th>reviewId</th>\n",
       "      <th>content</th>\n",
       "      <th>score</th>\n",
       "      <th>at</th>\n",
       "      <th>bm25_score</th>\n",
       "      <th>category</th>\n",
       "      <th>pos</th>\n",
       "      <th>neg</th>\n",
       "    </tr>\n",
       "  </thead>\n",
       "  <tbody>\n",
       "    <tr>\n",
       "      <th>628208</th>\n",
       "      <td>101592</td>\n",
       "      <td>Good idea but the girls don't initiate anythin...</td>\n",
       "      <td>2</td>\n",
       "      <td>2016-03-03 13:34:00</td>\n",
       "      <td>8.403657</td>\n",
       "      <td>women</td>\n",
       "      <td>0.001125</td>\n",
       "      <td>0.998875</td>\n",
       "    </tr>\n",
       "    <tr>\n",
       "      <th>585895</th>\n",
       "      <td>59279</td>\n",
       "      <td>women have to make the first move, its very re...</td>\n",
       "      <td>5</td>\n",
       "      <td>2019-08-15 15:58:00</td>\n",
       "      <td>7.236424</td>\n",
       "      <td>women</td>\n",
       "      <td>0.999643</td>\n",
       "      <td>0.000357</td>\n",
       "    </tr>\n",
       "    <tr>\n",
       "      <th>625022</th>\n",
       "      <td>98406</td>\n",
       "      <td>Because of the girls message first feature, on...</td>\n",
       "      <td>5</td>\n",
       "      <td>2016-09-21 10:49:00</td>\n",
       "      <td>7.204325</td>\n",
       "      <td>women</td>\n",
       "      <td>0.002044</td>\n",
       "      <td>0.997956</td>\n",
       "    </tr>\n",
       "    <tr>\n",
       "      <th>627962</th>\n",
       "      <td>101346</td>\n",
       "      <td>Horrible concept the only girls I match with a...</td>\n",
       "      <td>1</td>\n",
       "      <td>2016-03-22 10:35:00</td>\n",
       "      <td>6.922072</td>\n",
       "      <td>women</td>\n",
       "      <td>0.000266</td>\n",
       "      <td>0.999734</td>\n",
       "    </tr>\n",
       "    <tr>\n",
       "      <th>602854</th>\n",
       "      <td>76238</td>\n",
       "      <td>Please add a complaint option for women that p...</td>\n",
       "      <td>3</td>\n",
       "      <td>2018-11-29 04:47:00</td>\n",
       "      <td>6.922072</td>\n",
       "      <td>women</td>\n",
       "      <td>0.013827</td>\n",
       "      <td>0.986173</td>\n",
       "    </tr>\n",
       "  </tbody>\n",
       "</table>\n",
       "</div>"
      ],
      "text/plain": [
       "        reviewId                                            content  score  \\\n",
       "628208    101592  Good idea but the girls don't initiate anythin...      2   \n",
       "585895     59279  women have to make the first move, its very re...      5   \n",
       "625022     98406  Because of the girls message first feature, on...      5   \n",
       "627962    101346  Horrible concept the only girls I match with a...      1   \n",
       "602854     76238  Please add a complaint option for women that p...      3   \n",
       "\n",
       "                        at  bm25_score category       pos       neg  \n",
       "628208 2016-03-03 13:34:00    8.403657    women  0.001125  0.998875  \n",
       "585895 2019-08-15 15:58:00    7.236424    women  0.999643  0.000357  \n",
       "625022 2016-09-21 10:49:00    7.204325    women  0.002044  0.997956  \n",
       "627962 2016-03-22 10:35:00    6.922072    women  0.000266  0.999734  \n",
       "602854 2018-11-29 04:47:00    6.922072    women  0.013827  0.986173  "
      ]
     },
     "execution_count": 66,
     "metadata": {},
     "output_type": "execute_result"
    }
   ],
   "source": [
    "women_polarities.head()"
   ]
  },
  {
   "cell_type": "code",
   "execution_count": 67,
   "metadata": {},
   "outputs": [
    {
     "name": "stdout",
     "output_type": "stream",
     "text": [
      "pos: 0.3580705009276438, neg: 0.6419294990723562\n"
     ]
    }
   ],
   "source": [
    "pos = len(men_polarities[men_polarities.pos >= .70])/len(men_polarities[(men_polarities.pos >= .70) | (men_polarities.neg >= .70)])\n",
    "neg = len(men_polarities[men_polarities.neg >= .70])/len(men_polarities[(men_polarities.pos >= .70) | (men_polarities.neg >= .70)])\n",
    "print(f\"pos: {pos}, neg: {neg}\")\n",
    "aspects_polarity  = save_results(\"bumble\", \"men\", aspects_polarity, pos, neg)"
   ]
  },
  {
   "cell_type": "code",
   "execution_count": 68,
   "metadata": {},
   "outputs": [
    {
     "data": {
      "text/html": [
       "<div>\n",
       "<style scoped>\n",
       "    .dataframe tbody tr th:only-of-type {\n",
       "        vertical-align: middle;\n",
       "    }\n",
       "\n",
       "    .dataframe tbody tr th {\n",
       "        vertical-align: top;\n",
       "    }\n",
       "\n",
       "    .dataframe thead th {\n",
       "        text-align: right;\n",
       "    }\n",
       "</style>\n",
       "<table border=\"1\" class=\"dataframe\">\n",
       "  <thead>\n",
       "    <tr style=\"text-align: right;\">\n",
       "      <th></th>\n",
       "      <th>pos</th>\n",
       "      <th>score</th>\n",
       "    </tr>\n",
       "  </thead>\n",
       "  <tbody>\n",
       "    <tr>\n",
       "      <th>pos</th>\n",
       "      <td>1.000000</td>\n",
       "      <td>0.629839</td>\n",
       "    </tr>\n",
       "    <tr>\n",
       "      <th>score</th>\n",
       "      <td>0.629839</td>\n",
       "      <td>1.000000</td>\n",
       "    </tr>\n",
       "  </tbody>\n",
       "</table>\n",
       "</div>"
      ],
      "text/plain": [
       "            pos     score\n",
       "pos    1.000000  0.629839\n",
       "score  0.629839  1.000000"
      ]
     },
     "execution_count": 68,
     "metadata": {},
     "output_type": "execute_result"
    }
   ],
   "source": [
    "men_polarities[[\"pos\", \"score\"]].corr()"
   ]
  },
  {
   "attachments": {},
   "cell_type": "markdown",
   "metadata": {},
   "source": [
    "__Self esteem__"
   ]
  },
  {
   "cell_type": "code",
   "execution_count": null,
   "metadata": {},
   "outputs": [],
   "source": [
    "self_esteem_polarities = sentiment_extraction.get_reviews_polarities(annotated_bumble[annotated_bumble.category == \"self\"])"
   ]
  },
  {
   "cell_type": "code",
   "execution_count": 70,
   "metadata": {},
   "outputs": [
    {
     "data": {
      "text/html": [
       "<div>\n",
       "<style scoped>\n",
       "    .dataframe tbody tr th:only-of-type {\n",
       "        vertical-align: middle;\n",
       "    }\n",
       "\n",
       "    .dataframe tbody tr th {\n",
       "        vertical-align: top;\n",
       "    }\n",
       "\n",
       "    .dataframe thead th {\n",
       "        text-align: right;\n",
       "    }\n",
       "</style>\n",
       "<table border=\"1\" class=\"dataframe\">\n",
       "  <thead>\n",
       "    <tr style=\"text-align: right;\">\n",
       "      <th></th>\n",
       "      <th>reviewId</th>\n",
       "      <th>content</th>\n",
       "      <th>score</th>\n",
       "      <th>at</th>\n",
       "      <th>bm25_score</th>\n",
       "      <th>category</th>\n",
       "      <th>pos</th>\n",
       "      <th>neg</th>\n",
       "    </tr>\n",
       "  </thead>\n",
       "  <tbody>\n",
       "    <tr>\n",
       "      <th>591392</th>\n",
       "      <td>64776</td>\n",
       "      <td>crippling for self esteem and mental health av...</td>\n",
       "      <td>1</td>\n",
       "      <td>2019-06-01 03:01:00</td>\n",
       "      <td>24.350377</td>\n",
       "      <td>self</td>\n",
       "      <td>0.000660</td>\n",
       "      <td>0.999340</td>\n",
       "    </tr>\n",
       "    <tr>\n",
       "      <th>553432</th>\n",
       "      <td>26816</td>\n",
       "      <td>Ruined my self confidence</td>\n",
       "      <td>1</td>\n",
       "      <td>2021-02-07 22:01:00</td>\n",
       "      <td>21.638106</td>\n",
       "      <td>self</td>\n",
       "      <td>0.000283</td>\n",
       "      <td>0.999717</td>\n",
       "    </tr>\n",
       "    <tr>\n",
       "      <th>529377</th>\n",
       "      <td>2761</td>\n",
       "      <td>21st c: monetising your sense of self esteem</td>\n",
       "      <td>1</td>\n",
       "      <td>2022-01-23 11:01:00</td>\n",
       "      <td>20.069064</td>\n",
       "      <td>self</td>\n",
       "      <td>0.852352</td>\n",
       "      <td>0.147648</td>\n",
       "    </tr>\n",
       "    <tr>\n",
       "      <th>617884</th>\n",
       "      <td>91268</td>\n",
       "      <td>Garbage matches that have ruined my self esteem</td>\n",
       "      <td>1</td>\n",
       "      <td>2017-08-11 07:29:00</td>\n",
       "      <td>20.069064</td>\n",
       "      <td>self</td>\n",
       "      <td>0.000191</td>\n",
       "      <td>0.999809</td>\n",
       "    </tr>\n",
       "    <tr>\n",
       "      <th>584966</th>\n",
       "      <td>58350</td>\n",
       "      <td>It's a great app and doesn't ruin my self conf...</td>\n",
       "      <td>5</td>\n",
       "      <td>2019-09-05 03:35:00</td>\n",
       "      <td>18.225929</td>\n",
       "      <td>self</td>\n",
       "      <td>0.999074</td>\n",
       "      <td>0.000926</td>\n",
       "    </tr>\n",
       "  </tbody>\n",
       "</table>\n",
       "</div>"
      ],
      "text/plain": [
       "        reviewId                                            content  score  \\\n",
       "591392     64776  crippling for self esteem and mental health av...      1   \n",
       "553432     26816                          Ruined my self confidence      1   \n",
       "529377      2761       21st c: monetising your sense of self esteem      1   \n",
       "617884     91268    Garbage matches that have ruined my self esteem      1   \n",
       "584966     58350  It's a great app and doesn't ruin my self conf...      5   \n",
       "\n",
       "                        at  bm25_score category       pos       neg  \n",
       "591392 2019-06-01 03:01:00   24.350377     self  0.000660  0.999340  \n",
       "553432 2021-02-07 22:01:00   21.638106     self  0.000283  0.999717  \n",
       "529377 2022-01-23 11:01:00   20.069064     self  0.852352  0.147648  \n",
       "617884 2017-08-11 07:29:00   20.069064     self  0.000191  0.999809  \n",
       "584966 2019-09-05 03:35:00   18.225929     self  0.999074  0.000926  "
      ]
     },
     "execution_count": 70,
     "metadata": {},
     "output_type": "execute_result"
    }
   ],
   "source": [
    "self_esteem_polarities.head()"
   ]
  },
  {
   "cell_type": "code",
   "execution_count": 71,
   "metadata": {},
   "outputs": [
    {
     "name": "stdout",
     "output_type": "stream",
     "text": [
      "pos: 0.2603550295857988, neg: 0.7396449704142012\n"
     ]
    }
   ],
   "source": [
    "pos = len(self_esteem_polarities[self_esteem_polarities.pos >= .70])/len(self_esteem_polarities[(self_esteem_polarities.pos >= .70) | (self_esteem_polarities.neg >= .70)])\n",
    "neg = len(self_esteem_polarities[self_esteem_polarities.neg >= .70])/len(self_esteem_polarities[(self_esteem_polarities.pos >= .70) | (self_esteem_polarities.neg >= .70)])\n",
    "print(f\"pos: {pos}, neg: {neg}\")\n",
    "aspects_polarity  = save_results(\"bumble\", \"men\", aspects_polarity, pos, neg)"
   ]
  },
  {
   "cell_type": "code",
   "execution_count": 72,
   "metadata": {},
   "outputs": [
    {
     "data": {
      "text/html": [
       "<div>\n",
       "<style scoped>\n",
       "    .dataframe tbody tr th:only-of-type {\n",
       "        vertical-align: middle;\n",
       "    }\n",
       "\n",
       "    .dataframe tbody tr th {\n",
       "        vertical-align: top;\n",
       "    }\n",
       "\n",
       "    .dataframe thead th {\n",
       "        text-align: right;\n",
       "    }\n",
       "</style>\n",
       "<table border=\"1\" class=\"dataframe\">\n",
       "  <thead>\n",
       "    <tr style=\"text-align: right;\">\n",
       "      <th></th>\n",
       "      <th>pos</th>\n",
       "      <th>score</th>\n",
       "    </tr>\n",
       "  </thead>\n",
       "  <tbody>\n",
       "    <tr>\n",
       "      <th>pos</th>\n",
       "      <td>1.000000</td>\n",
       "      <td>0.660992</td>\n",
       "    </tr>\n",
       "    <tr>\n",
       "      <th>score</th>\n",
       "      <td>0.660992</td>\n",
       "      <td>1.000000</td>\n",
       "    </tr>\n",
       "  </tbody>\n",
       "</table>\n",
       "</div>"
      ],
      "text/plain": [
       "            pos     score\n",
       "pos    1.000000  0.660992\n",
       "score  0.660992  1.000000"
      ]
     },
     "execution_count": 72,
     "metadata": {},
     "output_type": "execute_result"
    }
   ],
   "source": [
    "self_esteem_polarities[[\"pos\", \"score\"]].corr()"
   ]
  },
  {
   "attachments": {},
   "cell_type": "markdown",
   "metadata": {},
   "source": [
    "__Attractiveness (appearence)__"
   ]
  },
  {
   "cell_type": "code",
   "execution_count": null,
   "metadata": {},
   "outputs": [],
   "source": [
    "attractiveness_polarities = sentiment_extraction.get_reviews_polarities(annotated_bumble[annotated_bumble.category == \"attractiveness\"])"
   ]
  },
  {
   "cell_type": "code",
   "execution_count": 74,
   "metadata": {},
   "outputs": [
    {
     "data": {
      "text/html": [
       "<div>\n",
       "<style scoped>\n",
       "    .dataframe tbody tr th:only-of-type {\n",
       "        vertical-align: middle;\n",
       "    }\n",
       "\n",
       "    .dataframe tbody tr th {\n",
       "        vertical-align: top;\n",
       "    }\n",
       "\n",
       "    .dataframe thead th {\n",
       "        text-align: right;\n",
       "    }\n",
       "</style>\n",
       "<table border=\"1\" class=\"dataframe\">\n",
       "  <thead>\n",
       "    <tr style=\"text-align: right;\">\n",
       "      <th></th>\n",
       "      <th>reviewId</th>\n",
       "      <th>content</th>\n",
       "      <th>score</th>\n",
       "      <th>at</th>\n",
       "      <th>bm25_score</th>\n",
       "      <th>category</th>\n",
       "      <th>pos</th>\n",
       "      <th>neg</th>\n",
       "    </tr>\n",
       "  </thead>\n",
       "  <tbody>\n",
       "    <tr>\n",
       "      <th>594813</th>\n",
       "      <td>68197</td>\n",
       "      <td>beauty</td>\n",
       "      <td>5</td>\n",
       "      <td>2019-04-13 16:43:00</td>\n",
       "      <td>16.496071</td>\n",
       "      <td>attractiveness</td>\n",
       "      <td>0.999869</td>\n",
       "      <td>0.000131</td>\n",
       "    </tr>\n",
       "    <tr>\n",
       "      <th>574139</th>\n",
       "      <td>47523</td>\n",
       "      <td>Such an exonerating ambience of beauty</td>\n",
       "      <td>5</td>\n",
       "      <td>2020-02-28 13:48:00</td>\n",
       "      <td>14.073643</td>\n",
       "      <td>attractiveness</td>\n",
       "      <td>0.995928</td>\n",
       "      <td>0.004072</td>\n",
       "    </tr>\n",
       "    <tr>\n",
       "      <th>565929</th>\n",
       "      <td>39313</td>\n",
       "      <td>I'm giving bumble the same score it gave my at...</td>\n",
       "      <td>2</td>\n",
       "      <td>2020-07-08 10:31:00</td>\n",
       "      <td>11.626087</td>\n",
       "      <td>attractiveness</td>\n",
       "      <td>0.992065</td>\n",
       "      <td>0.007935</td>\n",
       "    </tr>\n",
       "    <tr>\n",
       "      <th>622855</th>\n",
       "      <td>96239</td>\n",
       "      <td>Ranks people by attractiveness (which is a bit...</td>\n",
       "      <td>5</td>\n",
       "      <td>2017-02-05 22:45:00</td>\n",
       "      <td>10.042462</td>\n",
       "      <td>attractiveness</td>\n",
       "      <td>0.998052</td>\n",
       "      <td>0.001948</td>\n",
       "    </tr>\n",
       "    <tr>\n",
       "      <th>618027</th>\n",
       "      <td>91411</td>\n",
       "      <td>A lot of fun, but doesn't completely compensat...</td>\n",
       "      <td>4</td>\n",
       "      <td>2017-08-09 05:40:00</td>\n",
       "      <td>9.819537</td>\n",
       "      <td>attractiveness</td>\n",
       "      <td>0.002965</td>\n",
       "      <td>0.997035</td>\n",
       "    </tr>\n",
       "  </tbody>\n",
       "</table>\n",
       "</div>"
      ],
      "text/plain": [
       "        reviewId                                            content  score  \\\n",
       "594813     68197                                             beauty      5   \n",
       "574139     47523             Such an exonerating ambience of beauty      5   \n",
       "565929     39313  I'm giving bumble the same score it gave my at...      2   \n",
       "622855     96239  Ranks people by attractiveness (which is a bit...      5   \n",
       "618027     91411  A lot of fun, but doesn't completely compensat...      4   \n",
       "\n",
       "                        at  bm25_score        category       pos       neg  \n",
       "594813 2019-04-13 16:43:00   16.496071  attractiveness  0.999869  0.000131  \n",
       "574139 2020-02-28 13:48:00   14.073643  attractiveness  0.995928  0.004072  \n",
       "565929 2020-07-08 10:31:00   11.626087  attractiveness  0.992065  0.007935  \n",
       "622855 2017-02-05 22:45:00   10.042462  attractiveness  0.998052  0.001948  \n",
       "618027 2017-08-09 05:40:00    9.819537  attractiveness  0.002965  0.997035  "
      ]
     },
     "execution_count": 74,
     "metadata": {},
     "output_type": "execute_result"
    }
   ],
   "source": [
    "attractiveness_polarities.head()"
   ]
  },
  {
   "cell_type": "code",
   "execution_count": 75,
   "metadata": {},
   "outputs": [
    {
     "name": "stdout",
     "output_type": "stream",
     "text": [
      "pos: 0.5294117647058824, neg: 0.47058823529411764\n"
     ]
    }
   ],
   "source": [
    "pos = len(attractiveness_polarities[attractiveness_polarities.pos >= .70])/len(attractiveness_polarities[(attractiveness_polarities.pos >= .70) | (attractiveness_polarities.neg >= .70)])\n",
    "neg = len(attractiveness_polarities[attractiveness_polarities.neg >= .70])/len(attractiveness_polarities[(attractiveness_polarities.pos >= .70) | (attractiveness_polarities.neg >= .70)])\n",
    "print(f\"pos: {pos}, neg: {neg}\")\n",
    "aspects_polarity  = save_results(\"bumble\", \"attractiveness\", aspects_polarity, pos, neg)"
   ]
  },
  {
   "cell_type": "code",
   "execution_count": 76,
   "metadata": {},
   "outputs": [
    {
     "data": {
      "text/html": [
       "<div>\n",
       "<style scoped>\n",
       "    .dataframe tbody tr th:only-of-type {\n",
       "        vertical-align: middle;\n",
       "    }\n",
       "\n",
       "    .dataframe tbody tr th {\n",
       "        vertical-align: top;\n",
       "    }\n",
       "\n",
       "    .dataframe thead th {\n",
       "        text-align: right;\n",
       "    }\n",
       "</style>\n",
       "<table border=\"1\" class=\"dataframe\">\n",
       "  <thead>\n",
       "    <tr style=\"text-align: right;\">\n",
       "      <th></th>\n",
       "      <th>pos</th>\n",
       "      <th>score</th>\n",
       "    </tr>\n",
       "  </thead>\n",
       "  <tbody>\n",
       "    <tr>\n",
       "      <th>pos</th>\n",
       "      <td>1.00000</td>\n",
       "      <td>0.55305</td>\n",
       "    </tr>\n",
       "    <tr>\n",
       "      <th>score</th>\n",
       "      <td>0.55305</td>\n",
       "      <td>1.00000</td>\n",
       "    </tr>\n",
       "  </tbody>\n",
       "</table>\n",
       "</div>"
      ],
      "text/plain": [
       "           pos    score\n",
       "pos    1.00000  0.55305\n",
       "score  0.55305  1.00000"
      ]
     },
     "execution_count": 76,
     "metadata": {},
     "output_type": "execute_result"
    }
   ],
   "source": [
    "attractiveness_polarities[[\"pos\", \"score\"]].corr()"
   ]
  },
  {
   "attachments": {},
   "cell_type": "markdown",
   "metadata": {},
   "source": [
    "__Attractiveness (intelligence)__"
   ]
  },
  {
   "cell_type": "code",
   "execution_count": null,
   "metadata": {},
   "outputs": [],
   "source": [
    "intelligence_polarities = sentiment_extraction.get_reviews_polarities(annotated_bumble[annotated_bumble.category == \"attractiveness\"])"
   ]
  },
  {
   "cell_type": "code",
   "execution_count": 78,
   "metadata": {},
   "outputs": [
    {
     "data": {
      "text/html": [
       "<div>\n",
       "<style scoped>\n",
       "    .dataframe tbody tr th:only-of-type {\n",
       "        vertical-align: middle;\n",
       "    }\n",
       "\n",
       "    .dataframe tbody tr th {\n",
       "        vertical-align: top;\n",
       "    }\n",
       "\n",
       "    .dataframe thead th {\n",
       "        text-align: right;\n",
       "    }\n",
       "</style>\n",
       "<table border=\"1\" class=\"dataframe\">\n",
       "  <thead>\n",
       "    <tr style=\"text-align: right;\">\n",
       "      <th></th>\n",
       "      <th>reviewId</th>\n",
       "      <th>content</th>\n",
       "      <th>score</th>\n",
       "      <th>at</th>\n",
       "      <th>bm25_score</th>\n",
       "      <th>category</th>\n",
       "      <th>pos</th>\n",
       "      <th>neg</th>\n",
       "    </tr>\n",
       "  </thead>\n",
       "  <tbody>\n",
       "    <tr>\n",
       "      <th>594813</th>\n",
       "      <td>68197</td>\n",
       "      <td>beauty</td>\n",
       "      <td>5</td>\n",
       "      <td>2019-04-13 16:43:00</td>\n",
       "      <td>16.496071</td>\n",
       "      <td>attractiveness</td>\n",
       "      <td>0.999869</td>\n",
       "      <td>0.000131</td>\n",
       "    </tr>\n",
       "    <tr>\n",
       "      <th>574139</th>\n",
       "      <td>47523</td>\n",
       "      <td>Such an exonerating ambience of beauty</td>\n",
       "      <td>5</td>\n",
       "      <td>2020-02-28 13:48:00</td>\n",
       "      <td>14.073643</td>\n",
       "      <td>attractiveness</td>\n",
       "      <td>0.995928</td>\n",
       "      <td>0.004072</td>\n",
       "    </tr>\n",
       "    <tr>\n",
       "      <th>565929</th>\n",
       "      <td>39313</td>\n",
       "      <td>I'm giving bumble the same score it gave my at...</td>\n",
       "      <td>2</td>\n",
       "      <td>2020-07-08 10:31:00</td>\n",
       "      <td>11.626087</td>\n",
       "      <td>attractiveness</td>\n",
       "      <td>0.992065</td>\n",
       "      <td>0.007935</td>\n",
       "    </tr>\n",
       "    <tr>\n",
       "      <th>622855</th>\n",
       "      <td>96239</td>\n",
       "      <td>Ranks people by attractiveness (which is a bit...</td>\n",
       "      <td>5</td>\n",
       "      <td>2017-02-05 22:45:00</td>\n",
       "      <td>10.042462</td>\n",
       "      <td>attractiveness</td>\n",
       "      <td>0.998052</td>\n",
       "      <td>0.001948</td>\n",
       "    </tr>\n",
       "    <tr>\n",
       "      <th>618027</th>\n",
       "      <td>91411</td>\n",
       "      <td>A lot of fun, but doesn't completely compensat...</td>\n",
       "      <td>4</td>\n",
       "      <td>2017-08-09 05:40:00</td>\n",
       "      <td>9.819537</td>\n",
       "      <td>attractiveness</td>\n",
       "      <td>0.002965</td>\n",
       "      <td>0.997035</td>\n",
       "    </tr>\n",
       "  </tbody>\n",
       "</table>\n",
       "</div>"
      ],
      "text/plain": [
       "        reviewId                                            content  score  \\\n",
       "594813     68197                                             beauty      5   \n",
       "574139     47523             Such an exonerating ambience of beauty      5   \n",
       "565929     39313  I'm giving bumble the same score it gave my at...      2   \n",
       "622855     96239  Ranks people by attractiveness (which is a bit...      5   \n",
       "618027     91411  A lot of fun, but doesn't completely compensat...      4   \n",
       "\n",
       "                        at  bm25_score        category       pos       neg  \n",
       "594813 2019-04-13 16:43:00   16.496071  attractiveness  0.999869  0.000131  \n",
       "574139 2020-02-28 13:48:00   14.073643  attractiveness  0.995928  0.004072  \n",
       "565929 2020-07-08 10:31:00   11.626087  attractiveness  0.992065  0.007935  \n",
       "622855 2017-02-05 22:45:00   10.042462  attractiveness  0.998052  0.001948  \n",
       "618027 2017-08-09 05:40:00    9.819537  attractiveness  0.002965  0.997035  "
      ]
     },
     "execution_count": 78,
     "metadata": {},
     "output_type": "execute_result"
    }
   ],
   "source": [
    "intelligence_polarities.head()"
   ]
  },
  {
   "cell_type": "code",
   "execution_count": 79,
   "metadata": {},
   "outputs": [
    {
     "name": "stdout",
     "output_type": "stream",
     "text": [
      "pos: 0.5294117647058824, neg: 0.47058823529411764\n"
     ]
    }
   ],
   "source": [
    "pos = len(intelligence_polarities[intelligence_polarities.pos >= .70])/len(intelligence_polarities[(intelligence_polarities.pos >= .70) | (intelligence_polarities.neg >= .70)])\n",
    "neg = len(intelligence_polarities[intelligence_polarities.neg >= .70])/len(intelligence_polarities[(intelligence_polarities.pos >= .70) | (intelligence_polarities.neg >= .70)])\n",
    "print(f\"pos: {pos}, neg: {neg}\")\n",
    "aspects_polarity  = save_results(\"bumble\", \"intelligence\", aspects_polarity, pos, neg)"
   ]
  },
  {
   "cell_type": "code",
   "execution_count": 80,
   "metadata": {},
   "outputs": [
    {
     "data": {
      "text/html": [
       "<div>\n",
       "<style scoped>\n",
       "    .dataframe tbody tr th:only-of-type {\n",
       "        vertical-align: middle;\n",
       "    }\n",
       "\n",
       "    .dataframe tbody tr th {\n",
       "        vertical-align: top;\n",
       "    }\n",
       "\n",
       "    .dataframe thead th {\n",
       "        text-align: right;\n",
       "    }\n",
       "</style>\n",
       "<table border=\"1\" class=\"dataframe\">\n",
       "  <thead>\n",
       "    <tr style=\"text-align: right;\">\n",
       "      <th></th>\n",
       "      <th>pos</th>\n",
       "      <th>score</th>\n",
       "    </tr>\n",
       "  </thead>\n",
       "  <tbody>\n",
       "    <tr>\n",
       "      <th>pos</th>\n",
       "      <td>1.00000</td>\n",
       "      <td>0.55305</td>\n",
       "    </tr>\n",
       "    <tr>\n",
       "      <th>score</th>\n",
       "      <td>0.55305</td>\n",
       "      <td>1.00000</td>\n",
       "    </tr>\n",
       "  </tbody>\n",
       "</table>\n",
       "</div>"
      ],
      "text/plain": [
       "           pos    score\n",
       "pos    1.00000  0.55305\n",
       "score  0.55305  1.00000"
      ]
     },
     "execution_count": 80,
     "metadata": {},
     "output_type": "execute_result"
    }
   ],
   "source": [
    "intelligence_polarities[[\"pos\", \"score\"]].corr()"
   ]
  },
  {
   "attachments": {},
   "cell_type": "markdown",
   "metadata": {},
   "source": [
    "## __Hinge__"
   ]
  },
  {
   "cell_type": "code",
   "execution_count": 81,
   "metadata": {},
   "outputs": [],
   "source": [
    "queries = [\"casual sex\", \"relationship couple boyfriend girlfriend\", \"friendship friends\", \"curiosity novelty experience\",  \"self esteem confidence\", \"women girls\", \"men boys\", \"attractiveness beauty\", \"intelligence\"]\n",
    "annotated_hinge = general.bm25_annotate(queries, app=\"hinge\")"
   ]
  },
  {
   "cell_type": "code",
   "execution_count": 82,
   "metadata": {},
   "outputs": [
    {
     "data": {
      "text/plain": [
       "category\n",
       "attractiveness     10\n",
       "casual            108\n",
       "curiosity         419\n",
       "friendship        109\n",
       "intelligence        1\n",
       "men               223\n",
       "relationship      285\n",
       "self               48\n",
       "women             601\n",
       "Name: reviewId, dtype: int64"
      ]
     },
     "execution_count": 82,
     "metadata": {},
     "output_type": "execute_result"
    }
   ],
   "source": [
    "annotated_hinge.groupby(\"category\")[\"reviewId\"].count()"
   ]
  },
  {
   "attachments": {},
   "cell_type": "markdown",
   "metadata": {},
   "source": [
    "__Casual sex__"
   ]
  },
  {
   "cell_type": "code",
   "execution_count": null,
   "metadata": {},
   "outputs": [],
   "source": [
    "casual_sex_polarities = sentiment_extraction.get_reviews_polarities(annotated_hinge[annotated_hinge.category == \"casual\"])"
   ]
  },
  {
   "cell_type": "code",
   "execution_count": 84,
   "metadata": {},
   "outputs": [
    {
     "data": {
      "text/html": [
       "<div>\n",
       "<style scoped>\n",
       "    .dataframe tbody tr th:only-of-type {\n",
       "        vertical-align: middle;\n",
       "    }\n",
       "\n",
       "    .dataframe tbody tr th {\n",
       "        vertical-align: top;\n",
       "    }\n",
       "\n",
       "    .dataframe thead th {\n",
       "        text-align: right;\n",
       "    }\n",
       "</style>\n",
       "<table border=\"1\" class=\"dataframe\">\n",
       "  <thead>\n",
       "    <tr style=\"text-align: right;\">\n",
       "      <th></th>\n",
       "      <th>reviewId</th>\n",
       "      <th>content</th>\n",
       "      <th>score</th>\n",
       "      <th>at</th>\n",
       "      <th>bm25_score</th>\n",
       "      <th>category</th>\n",
       "      <th>pos</th>\n",
       "      <th>neg</th>\n",
       "    </tr>\n",
       "  </thead>\n",
       "  <tbody>\n",
       "    <tr>\n",
       "      <th>678802</th>\n",
       "      <td>49802</td>\n",
       "      <td>Top casual dating app</td>\n",
       "      <td>4</td>\n",
       "      <td>2018-10-12 08:53:00</td>\n",
       "      <td>10.956325</td>\n",
       "      <td>casual</td>\n",
       "      <td>0.997530</td>\n",
       "      <td>0.002470</td>\n",
       "    </tr>\n",
       "    <tr>\n",
       "      <th>667502</th>\n",
       "      <td>38502</td>\n",
       "      <td>love-so casual and light</td>\n",
       "      <td>5</td>\n",
       "      <td>2019-08-02 05:03:00</td>\n",
       "      <td>10.956325</td>\n",
       "      <td>casual</td>\n",
       "      <td>0.999863</td>\n",
       "      <td>0.000137</td>\n",
       "    </tr>\n",
       "    <tr>\n",
       "      <th>651157</th>\n",
       "      <td>22157</td>\n",
       "      <td>A lot more casual</td>\n",
       "      <td>5</td>\n",
       "      <td>2020-04-16 06:22:00</td>\n",
       "      <td>10.956325</td>\n",
       "      <td>casual</td>\n",
       "      <td>0.996022</td>\n",
       "      <td>0.003978</td>\n",
       "    </tr>\n",
       "    <tr>\n",
       "      <th>642875</th>\n",
       "      <td>13875</td>\n",
       "      <td>Good app for casual dating.</td>\n",
       "      <td>4</td>\n",
       "      <td>2020-10-03 20:26:00</td>\n",
       "      <td>10.595902</td>\n",
       "      <td>casual</td>\n",
       "      <td>0.999759</td>\n",
       "      <td>0.000241</td>\n",
       "    </tr>\n",
       "    <tr>\n",
       "      <th>641733</th>\n",
       "      <td>12733</td>\n",
       "      <td>Great casual way to meet people.</td>\n",
       "      <td>5</td>\n",
       "      <td>2020-10-31 03:54:00</td>\n",
       "      <td>10.258437</td>\n",
       "      <td>casual</td>\n",
       "      <td>0.999844</td>\n",
       "      <td>0.000155</td>\n",
       "    </tr>\n",
       "  </tbody>\n",
       "</table>\n",
       "</div>"
      ],
      "text/plain": [
       "        reviewId                           content  score                  at  \\\n",
       "678802     49802             Top casual dating app      4 2018-10-12 08:53:00   \n",
       "667502     38502          love-so casual and light      5 2019-08-02 05:03:00   \n",
       "651157     22157                 A lot more casual      5 2020-04-16 06:22:00   \n",
       "642875     13875       Good app for casual dating.      4 2020-10-03 20:26:00   \n",
       "641733     12733  Great casual way to meet people.      5 2020-10-31 03:54:00   \n",
       "\n",
       "        bm25_score category       pos       neg  \n",
       "678802   10.956325   casual  0.997530  0.002470  \n",
       "667502   10.956325   casual  0.999863  0.000137  \n",
       "651157   10.956325   casual  0.996022  0.003978  \n",
       "642875   10.595902   casual  0.999759  0.000241  \n",
       "641733   10.258437   casual  0.999844  0.000155  "
      ]
     },
     "execution_count": 84,
     "metadata": {},
     "output_type": "execute_result"
    }
   ],
   "source": [
    "casual_sex_polarities.head()"
   ]
  },
  {
   "cell_type": "code",
   "execution_count": 85,
   "metadata": {},
   "outputs": [
    {
     "name": "stdout",
     "output_type": "stream",
     "text": [
      "pos: 0.330188679245283, neg: 0.6698113207547169\n"
     ]
    }
   ],
   "source": [
    "pos = len(casual_sex_polarities[casual_sex_polarities.pos >= .70])/len(casual_sex_polarities[(casual_sex_polarities.pos >= .70) | (casual_sex_polarities.neg >= .70)])\n",
    "neg = len(casual_sex_polarities[casual_sex_polarities.neg >= .70])/len(casual_sex_polarities[(casual_sex_polarities.pos >= .70) | (casual_sex_polarities.neg >= .70)])\n",
    "print(f\"pos: {pos}, neg: {neg}\")\n",
    "aspects_polarity  = save_results(\"hinge\", \"casual sex\", aspects_polarity, pos, neg)"
   ]
  },
  {
   "cell_type": "code",
   "execution_count": 86,
   "metadata": {},
   "outputs": [
    {
     "data": {
      "text/html": [
       "<div>\n",
       "<style scoped>\n",
       "    .dataframe tbody tr th:only-of-type {\n",
       "        vertical-align: middle;\n",
       "    }\n",
       "\n",
       "    .dataframe tbody tr th {\n",
       "        vertical-align: top;\n",
       "    }\n",
       "\n",
       "    .dataframe thead th {\n",
       "        text-align: right;\n",
       "    }\n",
       "</style>\n",
       "<table border=\"1\" class=\"dataframe\">\n",
       "  <thead>\n",
       "    <tr style=\"text-align: right;\">\n",
       "      <th></th>\n",
       "      <th>pos</th>\n",
       "      <th>score</th>\n",
       "    </tr>\n",
       "  </thead>\n",
       "  <tbody>\n",
       "    <tr>\n",
       "      <th>pos</th>\n",
       "      <td>1.00000</td>\n",
       "      <td>0.71374</td>\n",
       "    </tr>\n",
       "    <tr>\n",
       "      <th>score</th>\n",
       "      <td>0.71374</td>\n",
       "      <td>1.00000</td>\n",
       "    </tr>\n",
       "  </tbody>\n",
       "</table>\n",
       "</div>"
      ],
      "text/plain": [
       "           pos    score\n",
       "pos    1.00000  0.71374\n",
       "score  0.71374  1.00000"
      ]
     },
     "execution_count": 86,
     "metadata": {},
     "output_type": "execute_result"
    }
   ],
   "source": [
    "casual_sex_polarities[[\"pos\", \"score\"]].corr()"
   ]
  },
  {
   "cell_type": "markdown",
   "metadata": {},
   "source": [
    "__Relationship__"
   ]
  },
  {
   "cell_type": "code",
   "execution_count": null,
   "metadata": {},
   "outputs": [],
   "source": [
    "relationship_polarities = sentiment_extraction.get_reviews_polarities(annotated_hinge[annotated_hinge.category == \"relationship\"])"
   ]
  },
  {
   "cell_type": "code",
   "execution_count": 88,
   "metadata": {},
   "outputs": [
    {
     "data": {
      "text/html": [
       "<div>\n",
       "<style scoped>\n",
       "    .dataframe tbody tr th:only-of-type {\n",
       "        vertical-align: middle;\n",
       "    }\n",
       "\n",
       "    .dataframe tbody tr th {\n",
       "        vertical-align: top;\n",
       "    }\n",
       "\n",
       "    .dataframe thead th {\n",
       "        text-align: right;\n",
       "    }\n",
       "</style>\n",
       "<table border=\"1\" class=\"dataframe\">\n",
       "  <thead>\n",
       "    <tr style=\"text-align: right;\">\n",
       "      <th></th>\n",
       "      <th>reviewId</th>\n",
       "      <th>content</th>\n",
       "      <th>score</th>\n",
       "      <th>at</th>\n",
       "      <th>bm25_score</th>\n",
       "      <th>category</th>\n",
       "      <th>pos</th>\n",
       "      <th>neg</th>\n",
       "    </tr>\n",
       "  </thead>\n",
       "  <tbody>\n",
       "    <tr>\n",
       "      <th>648056</th>\n",
       "      <td>19056</td>\n",
       "      <td>Met my girlfriend 1 year ago on here. Amazing ...</td>\n",
       "      <td>5</td>\n",
       "      <td>2020-06-12 06:53:00</td>\n",
       "      <td>11.520987</td>\n",
       "      <td>relationship</td>\n",
       "      <td>0.999824</td>\n",
       "      <td>0.000176</td>\n",
       "    </tr>\n",
       "    <tr>\n",
       "      <th>658720</th>\n",
       "      <td>29720</td>\n",
       "      <td>Found my boyfriend on this app!</td>\n",
       "      <td>5</td>\n",
       "      <td>2019-12-20 07:05:00</td>\n",
       "      <td>10.747759</td>\n",
       "      <td>relationship</td>\n",
       "      <td>0.672125</td>\n",
       "      <td>0.327875</td>\n",
       "    </tr>\n",
       "    <tr>\n",
       "      <th>639675</th>\n",
       "      <td>10675</td>\n",
       "      <td>Met my boyfriend through this app</td>\n",
       "      <td>5</td>\n",
       "      <td>2020-12-26 16:30:00</td>\n",
       "      <td>10.747759</td>\n",
       "      <td>relationship</td>\n",
       "      <td>0.818859</td>\n",
       "      <td>0.181141</td>\n",
       "    </tr>\n",
       "    <tr>\n",
       "      <th>638084</th>\n",
       "      <td>9084</td>\n",
       "      <td>met my amazing current boyfriend on this app</td>\n",
       "      <td>5</td>\n",
       "      <td>2021-02-25 09:31:00</td>\n",
       "      <td>10.104152</td>\n",
       "      <td>relationship</td>\n",
       "      <td>0.999276</td>\n",
       "      <td>0.000724</td>\n",
       "    </tr>\n",
       "    <tr>\n",
       "      <th>632957</th>\n",
       "      <td>3957</td>\n",
       "      <td>Met my boyfriend on here. did it's purpose</td>\n",
       "      <td>5</td>\n",
       "      <td>2021-09-11 06:27:00</td>\n",
       "      <td>10.104152</td>\n",
       "      <td>relationship</td>\n",
       "      <td>0.180900</td>\n",
       "      <td>0.819100</td>\n",
       "    </tr>\n",
       "  </tbody>\n",
       "</table>\n",
       "</div>"
      ],
      "text/plain": [
       "        reviewId                                            content  score  \\\n",
       "648056     19056  Met my girlfriend 1 year ago on here. Amazing ...      5   \n",
       "658720     29720                    Found my boyfriend on this app!      5   \n",
       "639675     10675                  Met my boyfriend through this app      5   \n",
       "638084      9084       met my amazing current boyfriend on this app      5   \n",
       "632957      3957         Met my boyfriend on here. did it's purpose      5   \n",
       "\n",
       "                        at  bm25_score      category       pos       neg  \n",
       "648056 2020-06-12 06:53:00   11.520987  relationship  0.999824  0.000176  \n",
       "658720 2019-12-20 07:05:00   10.747759  relationship  0.672125  0.327875  \n",
       "639675 2020-12-26 16:30:00   10.747759  relationship  0.818859  0.181141  \n",
       "638084 2021-02-25 09:31:00   10.104152  relationship  0.999276  0.000724  \n",
       "632957 2021-09-11 06:27:00   10.104152  relationship  0.180900  0.819100  "
      ]
     },
     "execution_count": 88,
     "metadata": {},
     "output_type": "execute_result"
    }
   ],
   "source": [
    "relationship_polarities.head()"
   ]
  },
  {
   "cell_type": "code",
   "execution_count": 89,
   "metadata": {},
   "outputs": [
    {
     "name": "stdout",
     "output_type": "stream",
     "text": [
      "pos: 0.5745454545454546, neg: 0.4254545454545455\n"
     ]
    }
   ],
   "source": [
    "pos = len(relationship_polarities[relationship_polarities.pos >= .70])/len(relationship_polarities[(relationship_polarities.pos >= .70) | (relationship_polarities.neg >= .70)])\n",
    "neg = len(relationship_polarities[relationship_polarities.neg >= .70])/len(relationship_polarities[(relationship_polarities.pos >= .70) | (relationship_polarities.neg >= .70)])\n",
    "print(f\"pos: {pos}, neg: {neg}\")\n",
    "aspects_polarity  = save_results(\"hinge\", \"relationship\", aspects_polarity, pos, neg)"
   ]
  },
  {
   "cell_type": "code",
   "execution_count": 90,
   "metadata": {},
   "outputs": [
    {
     "data": {
      "text/html": [
       "<div>\n",
       "<style scoped>\n",
       "    .dataframe tbody tr th:only-of-type {\n",
       "        vertical-align: middle;\n",
       "    }\n",
       "\n",
       "    .dataframe tbody tr th {\n",
       "        vertical-align: top;\n",
       "    }\n",
       "\n",
       "    .dataframe thead th {\n",
       "        text-align: right;\n",
       "    }\n",
       "</style>\n",
       "<table border=\"1\" class=\"dataframe\">\n",
       "  <thead>\n",
       "    <tr style=\"text-align: right;\">\n",
       "      <th></th>\n",
       "      <th>pos</th>\n",
       "      <th>score</th>\n",
       "    </tr>\n",
       "  </thead>\n",
       "  <tbody>\n",
       "    <tr>\n",
       "      <th>pos</th>\n",
       "      <td>1.000000</td>\n",
       "      <td>0.657297</td>\n",
       "    </tr>\n",
       "    <tr>\n",
       "      <th>score</th>\n",
       "      <td>0.657297</td>\n",
       "      <td>1.000000</td>\n",
       "    </tr>\n",
       "  </tbody>\n",
       "</table>\n",
       "</div>"
      ],
      "text/plain": [
       "            pos     score\n",
       "pos    1.000000  0.657297\n",
       "score  0.657297  1.000000"
      ]
     },
     "execution_count": 90,
     "metadata": {},
     "output_type": "execute_result"
    }
   ],
   "source": [
    "relationship_polarities[[\"pos\", \"score\"]].corr()"
   ]
  },
  {
   "attachments": {},
   "cell_type": "markdown",
   "metadata": {},
   "source": [
    "__Friendship__"
   ]
  },
  {
   "cell_type": "code",
   "execution_count": null,
   "metadata": {},
   "outputs": [],
   "source": [
    "friendship_polarities = sentiment_extraction.get_reviews_polarities(annotated_hinge[annotated_hinge.category == \"friendship\"])"
   ]
  },
  {
   "cell_type": "code",
   "execution_count": 92,
   "metadata": {},
   "outputs": [
    {
     "data": {
      "text/html": [
       "<div>\n",
       "<style scoped>\n",
       "    .dataframe tbody tr th:only-of-type {\n",
       "        vertical-align: middle;\n",
       "    }\n",
       "\n",
       "    .dataframe tbody tr th {\n",
       "        vertical-align: top;\n",
       "    }\n",
       "\n",
       "    .dataframe thead th {\n",
       "        text-align: right;\n",
       "    }\n",
       "</style>\n",
       "<table border=\"1\" class=\"dataframe\">\n",
       "  <thead>\n",
       "    <tr style=\"text-align: right;\">\n",
       "      <th></th>\n",
       "      <th>reviewId</th>\n",
       "      <th>content</th>\n",
       "      <th>score</th>\n",
       "      <th>at</th>\n",
       "      <th>bm25_score</th>\n",
       "      <th>category</th>\n",
       "      <th>pos</th>\n",
       "      <th>neg</th>\n",
       "    </tr>\n",
       "  </thead>\n",
       "  <tbody>\n",
       "    <tr>\n",
       "      <th>675671</th>\n",
       "      <td>46671</td>\n",
       "      <td>I personally like that its friends of friends ...</td>\n",
       "      <td>5</td>\n",
       "      <td>2019-01-29 12:19:00</td>\n",
       "      <td>10.122983</td>\n",
       "      <td>friendship</td>\n",
       "      <td>0.998145</td>\n",
       "      <td>0.001855</td>\n",
       "    </tr>\n",
       "    <tr>\n",
       "      <th>681030</th>\n",
       "      <td>52030</td>\n",
       "      <td>Great app. Brings together friends of friends ...</td>\n",
       "      <td>5</td>\n",
       "      <td>2018-05-01 09:25:00</td>\n",
       "      <td>9.744713</td>\n",
       "      <td>friendship</td>\n",
       "      <td>0.999876</td>\n",
       "      <td>0.000124</td>\n",
       "    </tr>\n",
       "    <tr>\n",
       "      <th>663811</th>\n",
       "      <td>34811</td>\n",
       "      <td>Met nice friends</td>\n",
       "      <td>5</td>\n",
       "      <td>2019-10-11 08:24:00</td>\n",
       "      <td>9.070978</td>\n",
       "      <td>friendship</td>\n",
       "      <td>0.999839</td>\n",
       "      <td>0.000161</td>\n",
       "    </tr>\n",
       "    <tr>\n",
       "      <th>680485</th>\n",
       "      <td>51485</td>\n",
       "      <td>Matching with friends of friends is way better...</td>\n",
       "      <td>5</td>\n",
       "      <td>2018-07-09 08:15:00</td>\n",
       "      <td>9.059312</td>\n",
       "      <td>friendship</td>\n",
       "      <td>0.997026</td>\n",
       "      <td>0.002974</td>\n",
       "    </tr>\n",
       "    <tr>\n",
       "      <th>681381</th>\n",
       "      <td>52381</td>\n",
       "      <td>The concept of meeting virtually friends of fr...</td>\n",
       "      <td>5</td>\n",
       "      <td>2018-03-04 21:43:00</td>\n",
       "      <td>8.605364</td>\n",
       "      <td>friendship</td>\n",
       "      <td>0.999797</td>\n",
       "      <td>0.000203</td>\n",
       "    </tr>\n",
       "  </tbody>\n",
       "</table>\n",
       "</div>"
      ],
      "text/plain": [
       "        reviewId                                            content  score  \\\n",
       "675671     46671  I personally like that its friends of friends ...      5   \n",
       "681030     52030  Great app. Brings together friends of friends ...      5   \n",
       "663811     34811                                   Met nice friends      5   \n",
       "680485     51485  Matching with friends of friends is way better...      5   \n",
       "681381     52381  The concept of meeting virtually friends of fr...      5   \n",
       "\n",
       "                        at  bm25_score    category       pos       neg  \n",
       "675671 2019-01-29 12:19:00   10.122983  friendship  0.998145  0.001855  \n",
       "681030 2018-05-01 09:25:00    9.744713  friendship  0.999876  0.000124  \n",
       "663811 2019-10-11 08:24:00    9.070978  friendship  0.999839  0.000161  \n",
       "680485 2018-07-09 08:15:00    9.059312  friendship  0.997026  0.002974  \n",
       "681381 2018-03-04 21:43:00    8.605364  friendship  0.999797  0.000203  "
      ]
     },
     "execution_count": 92,
     "metadata": {},
     "output_type": "execute_result"
    }
   ],
   "source": [
    "friendship_polarities.head()"
   ]
  },
  {
   "cell_type": "code",
   "execution_count": 93,
   "metadata": {},
   "outputs": [
    {
     "name": "stdout",
     "output_type": "stream",
     "text": [
      "pos: 0.6728971962616822, neg: 0.32710280373831774\n"
     ]
    }
   ],
   "source": [
    "pos = len(friendship_polarities[friendship_polarities.pos >= .70])/len(friendship_polarities[(friendship_polarities.pos >= .70) | (friendship_polarities.neg >= .70)])\n",
    "neg = len(friendship_polarities[friendship_polarities.neg >= .70])/len(friendship_polarities[(friendship_polarities.pos >= .70) | (friendship_polarities.neg >= .70)])\n",
    "print(f\"pos: {pos}, neg: {neg}\")\n",
    "aspects_polarity  = save_results(\"hinge\", \"friendship\", aspects_polarity, pos, neg)"
   ]
  },
  {
   "cell_type": "code",
   "execution_count": 94,
   "metadata": {},
   "outputs": [
    {
     "data": {
      "text/html": [
       "<div>\n",
       "<style scoped>\n",
       "    .dataframe tbody tr th:only-of-type {\n",
       "        vertical-align: middle;\n",
       "    }\n",
       "\n",
       "    .dataframe tbody tr th {\n",
       "        vertical-align: top;\n",
       "    }\n",
       "\n",
       "    .dataframe thead th {\n",
       "        text-align: right;\n",
       "    }\n",
       "</style>\n",
       "<table border=\"1\" class=\"dataframe\">\n",
       "  <thead>\n",
       "    <tr style=\"text-align: right;\">\n",
       "      <th></th>\n",
       "      <th>pos</th>\n",
       "      <th>score</th>\n",
       "    </tr>\n",
       "  </thead>\n",
       "  <tbody>\n",
       "    <tr>\n",
       "      <th>pos</th>\n",
       "      <td>1.000000</td>\n",
       "      <td>0.839175</td>\n",
       "    </tr>\n",
       "    <tr>\n",
       "      <th>score</th>\n",
       "      <td>0.839175</td>\n",
       "      <td>1.000000</td>\n",
       "    </tr>\n",
       "  </tbody>\n",
       "</table>\n",
       "</div>"
      ],
      "text/plain": [
       "            pos     score\n",
       "pos    1.000000  0.839175\n",
       "score  0.839175  1.000000"
      ]
     },
     "execution_count": 94,
     "metadata": {},
     "output_type": "execute_result"
    }
   ],
   "source": [
    "friendship_polarities[[\"pos\", \"score\"]].corr()"
   ]
  },
  {
   "attachments": {},
   "cell_type": "markdown",
   "metadata": {},
   "source": [
    "__Curiosity__"
   ]
  },
  {
   "cell_type": "code",
   "execution_count": null,
   "metadata": {},
   "outputs": [],
   "source": [
    "curiosity_polarities = sentiment_extraction.get_reviews_polarities(annotated_hinge[annotated_hinge.category == \"curiosity\"])"
   ]
  },
  {
   "cell_type": "code",
   "execution_count": 96,
   "metadata": {},
   "outputs": [
    {
     "data": {
      "text/html": [
       "<div>\n",
       "<style scoped>\n",
       "    .dataframe tbody tr th:only-of-type {\n",
       "        vertical-align: middle;\n",
       "    }\n",
       "\n",
       "    .dataframe tbody tr th {\n",
       "        vertical-align: top;\n",
       "    }\n",
       "\n",
       "    .dataframe thead th {\n",
       "        text-align: right;\n",
       "    }\n",
       "</style>\n",
       "<table border=\"1\" class=\"dataframe\">\n",
       "  <thead>\n",
       "    <tr style=\"text-align: right;\">\n",
       "      <th></th>\n",
       "      <th>reviewId</th>\n",
       "      <th>content</th>\n",
       "      <th>score</th>\n",
       "      <th>at</th>\n",
       "      <th>bm25_score</th>\n",
       "      <th>category</th>\n",
       "      <th>pos</th>\n",
       "      <th>neg</th>\n",
       "    </tr>\n",
       "  </thead>\n",
       "  <tbody>\n",
       "    <tr>\n",
       "      <th>660405</th>\n",
       "      <td>31405</td>\n",
       "      <td>Cool interface, which makes for more unique co...</td>\n",
       "      <td>4</td>\n",
       "      <td>2019-11-21 04:50:00</td>\n",
       "      <td>8.950000</td>\n",
       "      <td>curiosity</td>\n",
       "      <td>0.999788</td>\n",
       "      <td>0.000212</td>\n",
       "    </tr>\n",
       "    <tr>\n",
       "      <th>659543</th>\n",
       "      <td>30543</td>\n",
       "      <td>Cool app with every intention of getting you o...</td>\n",
       "      <td>4</td>\n",
       "      <td>2019-12-05 10:35:00</td>\n",
       "      <td>7.123211</td>\n",
       "      <td>curiosity</td>\n",
       "      <td>0.996775</td>\n",
       "      <td>0.003225</td>\n",
       "    </tr>\n",
       "    <tr>\n",
       "      <th>670528</th>\n",
       "      <td>41528</td>\n",
       "      <td>good experience</td>\n",
       "      <td>5</td>\n",
       "      <td>2019-05-24 02:30:00</td>\n",
       "      <td>6.850768</td>\n",
       "      <td>curiosity</td>\n",
       "      <td>0.999860</td>\n",
       "      <td>0.000140</td>\n",
       "    </tr>\n",
       "    <tr>\n",
       "      <th>645077</th>\n",
       "      <td>16077</td>\n",
       "      <td>Phenomenal experience</td>\n",
       "      <td>5</td>\n",
       "      <td>2020-08-17 09:32:00</td>\n",
       "      <td>6.850768</td>\n",
       "      <td>curiosity</td>\n",
       "      <td>0.999878</td>\n",
       "      <td>0.000122</td>\n",
       "    </tr>\n",
       "    <tr>\n",
       "      <th>673724</th>\n",
       "      <td>44724</td>\n",
       "      <td>good experience</td>\n",
       "      <td>5</td>\n",
       "      <td>2019-03-14 02:48:00</td>\n",
       "      <td>6.850768</td>\n",
       "      <td>curiosity</td>\n",
       "      <td>0.999860</td>\n",
       "      <td>0.000140</td>\n",
       "    </tr>\n",
       "  </tbody>\n",
       "</table>\n",
       "</div>"
      ],
      "text/plain": [
       "        reviewId                                            content  score  \\\n",
       "660405     31405  Cool interface, which makes for more unique co...      4   \n",
       "659543     30543  Cool app with every intention of getting you o...      4   \n",
       "670528     41528                                    good experience      5   \n",
       "645077     16077                              Phenomenal experience      5   \n",
       "673724     44724                                    good experience      5   \n",
       "\n",
       "                        at  bm25_score   category       pos       neg  \n",
       "660405 2019-11-21 04:50:00    8.950000  curiosity  0.999788  0.000212  \n",
       "659543 2019-12-05 10:35:00    7.123211  curiosity  0.996775  0.003225  \n",
       "670528 2019-05-24 02:30:00    6.850768  curiosity  0.999860  0.000140  \n",
       "645077 2020-08-17 09:32:00    6.850768  curiosity  0.999878  0.000122  \n",
       "673724 2019-03-14 02:48:00    6.850768  curiosity  0.999860  0.000140  "
      ]
     },
     "execution_count": 96,
     "metadata": {},
     "output_type": "execute_result"
    }
   ],
   "source": [
    "curiosity_polarities.head()"
   ]
  },
  {
   "cell_type": "code",
   "execution_count": 97,
   "metadata": {},
   "outputs": [
    {
     "name": "stdout",
     "output_type": "stream",
     "text": [
      "pos: 0.7855421686746988, neg: 0.21445783132530122\n"
     ]
    }
   ],
   "source": [
    "pos = len(curiosity_polarities[curiosity_polarities.pos >= .70])/len(curiosity_polarities[(curiosity_polarities.pos >= .70) | (curiosity_polarities.neg >= .70)])\n",
    "neg = len(curiosity_polarities[curiosity_polarities.neg >= .70])/len(curiosity_polarities[(curiosity_polarities.pos >= .70) | (curiosity_polarities.neg >= .70)])\n",
    "print(f\"pos: {pos}, neg: {neg}\")\n",
    "aspects_polarity  = save_results(\"hinge\", \"curiosity\", aspects_polarity, pos, neg)"
   ]
  },
  {
   "cell_type": "code",
   "execution_count": 98,
   "metadata": {},
   "outputs": [
    {
     "data": {
      "text/html": [
       "<div>\n",
       "<style scoped>\n",
       "    .dataframe tbody tr th:only-of-type {\n",
       "        vertical-align: middle;\n",
       "    }\n",
       "\n",
       "    .dataframe tbody tr th {\n",
       "        vertical-align: top;\n",
       "    }\n",
       "\n",
       "    .dataframe thead th {\n",
       "        text-align: right;\n",
       "    }\n",
       "</style>\n",
       "<table border=\"1\" class=\"dataframe\">\n",
       "  <thead>\n",
       "    <tr style=\"text-align: right;\">\n",
       "      <th></th>\n",
       "      <th>pos</th>\n",
       "      <th>score</th>\n",
       "    </tr>\n",
       "  </thead>\n",
       "  <tbody>\n",
       "    <tr>\n",
       "      <th>pos</th>\n",
       "      <td>1.000000</td>\n",
       "      <td>0.770139</td>\n",
       "    </tr>\n",
       "    <tr>\n",
       "      <th>score</th>\n",
       "      <td>0.770139</td>\n",
       "      <td>1.000000</td>\n",
       "    </tr>\n",
       "  </tbody>\n",
       "</table>\n",
       "</div>"
      ],
      "text/plain": [
       "            pos     score\n",
       "pos    1.000000  0.770139\n",
       "score  0.770139  1.000000"
      ]
     },
     "execution_count": 98,
     "metadata": {},
     "output_type": "execute_result"
    }
   ],
   "source": [
    "curiosity_polarities[[\"pos\", \"score\"]].corr()"
   ]
  },
  {
   "attachments": {},
   "cell_type": "markdown",
   "metadata": {},
   "source": [
    "__Women__"
   ]
  },
  {
   "cell_type": "code",
   "execution_count": null,
   "metadata": {},
   "outputs": [],
   "source": [
    "women_polarities = sentiment_extraction.get_reviews_polarities(annotated_hinge[annotated_hinge.category == \"women\"])"
   ]
  },
  {
   "cell_type": "code",
   "execution_count": 100,
   "metadata": {},
   "outputs": [
    {
     "data": {
      "text/html": [
       "<div>\n",
       "<style scoped>\n",
       "    .dataframe tbody tr th:only-of-type {\n",
       "        vertical-align: middle;\n",
       "    }\n",
       "\n",
       "    .dataframe tbody tr th {\n",
       "        vertical-align: top;\n",
       "    }\n",
       "\n",
       "    .dataframe thead th {\n",
       "        text-align: right;\n",
       "    }\n",
       "</style>\n",
       "<table border=\"1\" class=\"dataframe\">\n",
       "  <thead>\n",
       "    <tr style=\"text-align: right;\">\n",
       "      <th></th>\n",
       "      <th>reviewId</th>\n",
       "      <th>content</th>\n",
       "      <th>score</th>\n",
       "      <th>at</th>\n",
       "      <th>bm25_score</th>\n",
       "      <th>category</th>\n",
       "      <th>pos</th>\n",
       "      <th>neg</th>\n",
       "    </tr>\n",
       "  </thead>\n",
       "  <tbody>\n",
       "    <tr>\n",
       "      <th>671928</th>\n",
       "      <td>42928</td>\n",
       "      <td>beautiful women honest lots of girls you need ...</td>\n",
       "      <td>5</td>\n",
       "      <td>2019-04-20 15:10:00</td>\n",
       "      <td>9.951065</td>\n",
       "      <td>women</td>\n",
       "      <td>0.999694</td>\n",
       "      <td>0.000307</td>\n",
       "    </tr>\n",
       "    <tr>\n",
       "      <th>665543</th>\n",
       "      <td>36543</td>\n",
       "      <td>Young girls or fake girls</td>\n",
       "      <td>1</td>\n",
       "      <td>2019-09-11 23:43:00</td>\n",
       "      <td>8.395093</td>\n",
       "      <td>women</td>\n",
       "      <td>0.017641</td>\n",
       "      <td>0.982359</td>\n",
       "    </tr>\n",
       "    <tr>\n",
       "      <th>648705</th>\n",
       "      <td>19705</td>\n",
       "      <td>Its either fat white girls or black girls</td>\n",
       "      <td>2</td>\n",
       "      <td>2020-05-27 18:38:00</td>\n",
       "      <td>7.909548</td>\n",
       "      <td>women</td>\n",
       "      <td>0.015830</td>\n",
       "      <td>0.984170</td>\n",
       "    </tr>\n",
       "    <tr>\n",
       "      <th>664360</th>\n",
       "      <td>35360</td>\n",
       "      <td>It was great at first the single moms and big ...</td>\n",
       "      <td>3</td>\n",
       "      <td>2019-10-06 17:54:00</td>\n",
       "      <td>7.894996</td>\n",
       "      <td>women</td>\n",
       "      <td>0.999574</td>\n",
       "      <td>0.000426</td>\n",
       "    </tr>\n",
       "    <tr>\n",
       "      <th>666850</th>\n",
       "      <td>37850</td>\n",
       "      <td>weeds out the girls that are pretty but have n...</td>\n",
       "      <td>4</td>\n",
       "      <td>2019-08-16 09:48:00</td>\n",
       "      <td>7.894996</td>\n",
       "      <td>women</td>\n",
       "      <td>0.000295</td>\n",
       "      <td>0.999705</td>\n",
       "    </tr>\n",
       "  </tbody>\n",
       "</table>\n",
       "</div>"
      ],
      "text/plain": [
       "        reviewId                                            content  score  \\\n",
       "671928     42928  beautiful women honest lots of girls you need ...      5   \n",
       "665543     36543                          Young girls or fake girls      1   \n",
       "648705     19705          Its either fat white girls or black girls      2   \n",
       "664360     35360  It was great at first the single moms and big ...      3   \n",
       "666850     37850  weeds out the girls that are pretty but have n...      4   \n",
       "\n",
       "                        at  bm25_score category       pos       neg  \n",
       "671928 2019-04-20 15:10:00    9.951065    women  0.999694  0.000307  \n",
       "665543 2019-09-11 23:43:00    8.395093    women  0.017641  0.982359  \n",
       "648705 2020-05-27 18:38:00    7.909548    women  0.015830  0.984170  \n",
       "664360 2019-10-06 17:54:00    7.894996    women  0.999574  0.000426  \n",
       "666850 2019-08-16 09:48:00    7.894996    women  0.000295  0.999705  "
      ]
     },
     "execution_count": 100,
     "metadata": {},
     "output_type": "execute_result"
    }
   ],
   "source": [
    "women_polarities.head()"
   ]
  },
  {
   "cell_type": "code",
   "execution_count": 101,
   "metadata": {},
   "outputs": [
    {
     "name": "stdout",
     "output_type": "stream",
     "text": [
      "pos: 0.411864406779661, neg: 0.588135593220339\n"
     ]
    }
   ],
   "source": [
    "pos = len(women_polarities[women_polarities.pos >= .70])/len(women_polarities[(women_polarities.pos >= .70) | (women_polarities.neg >= .70)])\n",
    "neg = len(women_polarities[women_polarities.neg >= .70])/len(women_polarities[(women_polarities.pos >= .70) | (women_polarities.neg >= .70)])\n",
    "print(f\"pos: {pos}, neg: {neg}\")\n",
    "aspects_polarity  = save_results(\"hinge\", \"women\", aspects_polarity, pos, neg)"
   ]
  },
  {
   "cell_type": "code",
   "execution_count": 102,
   "metadata": {},
   "outputs": [
    {
     "data": {
      "text/html": [
       "<div>\n",
       "<style scoped>\n",
       "    .dataframe tbody tr th:only-of-type {\n",
       "        vertical-align: middle;\n",
       "    }\n",
       "\n",
       "    .dataframe tbody tr th {\n",
       "        vertical-align: top;\n",
       "    }\n",
       "\n",
       "    .dataframe thead th {\n",
       "        text-align: right;\n",
       "    }\n",
       "</style>\n",
       "<table border=\"1\" class=\"dataframe\">\n",
       "  <thead>\n",
       "    <tr style=\"text-align: right;\">\n",
       "      <th></th>\n",
       "      <th>pos</th>\n",
       "      <th>score</th>\n",
       "    </tr>\n",
       "  </thead>\n",
       "  <tbody>\n",
       "    <tr>\n",
       "      <th>pos</th>\n",
       "      <td>1.000000</td>\n",
       "      <td>0.703478</td>\n",
       "    </tr>\n",
       "    <tr>\n",
       "      <th>score</th>\n",
       "      <td>0.703478</td>\n",
       "      <td>1.000000</td>\n",
       "    </tr>\n",
       "  </tbody>\n",
       "</table>\n",
       "</div>"
      ],
      "text/plain": [
       "            pos     score\n",
       "pos    1.000000  0.703478\n",
       "score  0.703478  1.000000"
      ]
     },
     "execution_count": 102,
     "metadata": {},
     "output_type": "execute_result"
    }
   ],
   "source": [
    "women_polarities[[\"pos\", \"score\"]].corr()"
   ]
  },
  {
   "attachments": {},
   "cell_type": "markdown",
   "metadata": {},
   "source": [
    "__Men__"
   ]
  },
  {
   "cell_type": "code",
   "execution_count": null,
   "metadata": {},
   "outputs": [],
   "source": [
    "men_polarities = sentiment_extraction.get_reviews_polarities(annotated_hinge[annotated_hinge.category == \"men\"])"
   ]
  },
  {
   "cell_type": "code",
   "execution_count": 104,
   "metadata": {},
   "outputs": [
    {
     "data": {
      "text/html": [
       "<div>\n",
       "<style scoped>\n",
       "    .dataframe tbody tr th:only-of-type {\n",
       "        vertical-align: middle;\n",
       "    }\n",
       "\n",
       "    .dataframe tbody tr th {\n",
       "        vertical-align: top;\n",
       "    }\n",
       "\n",
       "    .dataframe thead th {\n",
       "        text-align: right;\n",
       "    }\n",
       "</style>\n",
       "<table border=\"1\" class=\"dataframe\">\n",
       "  <thead>\n",
       "    <tr style=\"text-align: right;\">\n",
       "      <th></th>\n",
       "      <th>reviewId</th>\n",
       "      <th>content</th>\n",
       "      <th>score</th>\n",
       "      <th>at</th>\n",
       "      <th>bm25_score</th>\n",
       "      <th>category</th>\n",
       "      <th>pos</th>\n",
       "      <th>neg</th>\n",
       "    </tr>\n",
       "  </thead>\n",
       "  <tbody>\n",
       "    <tr>\n",
       "      <th>643854</th>\n",
       "      <td>14854</td>\n",
       "      <td>Thanks..just wish you will let me look at men ...</td>\n",
       "      <td>5</td>\n",
       "      <td>2020-09-09 14:07:00</td>\n",
       "      <td>13.092057</td>\n",
       "      <td>men</td>\n",
       "      <td>0.992780</td>\n",
       "      <td>0.007220</td>\n",
       "    </tr>\n",
       "    <tr>\n",
       "      <th>659140</th>\n",
       "      <td>30140</td>\n",
       "      <td>It's a good site for women to seek out men on ...</td>\n",
       "      <td>3</td>\n",
       "      <td>2019-12-12 08:31:00</td>\n",
       "      <td>12.245561</td>\n",
       "      <td>men</td>\n",
       "      <td>0.999636</td>\n",
       "      <td>0.000364</td>\n",
       "    </tr>\n",
       "    <tr>\n",
       "      <th>640341</th>\n",
       "      <td>11341</td>\n",
       "      <td>many fake boys tho</td>\n",
       "      <td>5</td>\n",
       "      <td>2020-12-04 21:00:00</td>\n",
       "      <td>12.061808</td>\n",
       "      <td>men</td>\n",
       "      <td>0.005356</td>\n",
       "      <td>0.994644</td>\n",
       "    </tr>\n",
       "    <tr>\n",
       "      <th>646536</th>\n",
       "      <td>17536</td>\n",
       "      <td>The boys are hot.</td>\n",
       "      <td>5</td>\n",
       "      <td>2020-07-17 00:49:00</td>\n",
       "      <td>12.061808</td>\n",
       "      <td>men</td>\n",
       "      <td>0.999725</td>\n",
       "      <td>0.000275</td>\n",
       "    </tr>\n",
       "    <tr>\n",
       "      <th>652134</th>\n",
       "      <td>23134</td>\n",
       "      <td>Barely get any likes.... boys gotta be selecti...</td>\n",
       "      <td>3</td>\n",
       "      <td>2020-03-30 08:17:00</td>\n",
       "      <td>10.017347</td>\n",
       "      <td>men</td>\n",
       "      <td>0.001016</td>\n",
       "      <td>0.998984</td>\n",
       "    </tr>\n",
       "  </tbody>\n",
       "</table>\n",
       "</div>"
      ],
      "text/plain": [
       "        reviewId                                            content  score  \\\n",
       "643854     14854  Thanks..just wish you will let me look at men ...      5   \n",
       "659140     30140  It's a good site for women to seek out men on ...      3   \n",
       "640341     11341                                 many fake boys tho      5   \n",
       "646536     17536                                  The boys are hot.      5   \n",
       "652134     23134  Barely get any likes.... boys gotta be selecti...      3   \n",
       "\n",
       "                        at  bm25_score category       pos       neg  \n",
       "643854 2020-09-09 14:07:00   13.092057      men  0.992780  0.007220  \n",
       "659140 2019-12-12 08:31:00   12.245561      men  0.999636  0.000364  \n",
       "640341 2020-12-04 21:00:00   12.061808      men  0.005356  0.994644  \n",
       "646536 2020-07-17 00:49:00   12.061808      men  0.999725  0.000275  \n",
       "652134 2020-03-30 08:17:00   10.017347      men  0.001016  0.998984  "
      ]
     },
     "execution_count": 104,
     "metadata": {},
     "output_type": "execute_result"
    }
   ],
   "source": [
    "men_polarities.head()"
   ]
  },
  {
   "cell_type": "code",
   "execution_count": 105,
   "metadata": {},
   "outputs": [
    {
     "name": "stdout",
     "output_type": "stream",
     "text": [
      "pos: 0.37383177570093457, neg: 0.6261682242990654\n"
     ]
    }
   ],
   "source": [
    "pos = len(men_polarities[men_polarities.pos >= .70])/len(men_polarities[(men_polarities.pos >= .70) | (men_polarities.neg >= .70)])\n",
    "neg = len(men_polarities[men_polarities.neg >= .70])/len(men_polarities[(men_polarities.pos >= .70) | (men_polarities.neg >= .70)])\n",
    "print(f\"pos: {pos}, neg: {neg}\")\n",
    "aspects_polarity  = save_results(\"hinge\", \"men\", aspects_polarity, pos, neg)"
   ]
  },
  {
   "cell_type": "code",
   "execution_count": 106,
   "metadata": {},
   "outputs": [
    {
     "data": {
      "text/html": [
       "<div>\n",
       "<style scoped>\n",
       "    .dataframe tbody tr th:only-of-type {\n",
       "        vertical-align: middle;\n",
       "    }\n",
       "\n",
       "    .dataframe tbody tr th {\n",
       "        vertical-align: top;\n",
       "    }\n",
       "\n",
       "    .dataframe thead th {\n",
       "        text-align: right;\n",
       "    }\n",
       "</style>\n",
       "<table border=\"1\" class=\"dataframe\">\n",
       "  <thead>\n",
       "    <tr style=\"text-align: right;\">\n",
       "      <th></th>\n",
       "      <th>pos</th>\n",
       "      <th>score</th>\n",
       "    </tr>\n",
       "  </thead>\n",
       "  <tbody>\n",
       "    <tr>\n",
       "      <th>pos</th>\n",
       "      <td>1.000000</td>\n",
       "      <td>0.668574</td>\n",
       "    </tr>\n",
       "    <tr>\n",
       "      <th>score</th>\n",
       "      <td>0.668574</td>\n",
       "      <td>1.000000</td>\n",
       "    </tr>\n",
       "  </tbody>\n",
       "</table>\n",
       "</div>"
      ],
      "text/plain": [
       "            pos     score\n",
       "pos    1.000000  0.668574\n",
       "score  0.668574  1.000000"
      ]
     },
     "execution_count": 106,
     "metadata": {},
     "output_type": "execute_result"
    }
   ],
   "source": [
    "men_polarities[[\"pos\", \"score\"]].corr()"
   ]
  },
  {
   "attachments": {},
   "cell_type": "markdown",
   "metadata": {},
   "source": [
    "__Self esteem__"
   ]
  },
  {
   "cell_type": "code",
   "execution_count": null,
   "metadata": {},
   "outputs": [],
   "source": [
    "self_esteem_polarities = sentiment_extraction.get_reviews_polarities(annotated_hinge[annotated_hinge.category == \"self\"])"
   ]
  },
  {
   "cell_type": "code",
   "execution_count": 108,
   "metadata": {},
   "outputs": [
    {
     "data": {
      "text/html": [
       "<div>\n",
       "<style scoped>\n",
       "    .dataframe tbody tr th:only-of-type {\n",
       "        vertical-align: middle;\n",
       "    }\n",
       "\n",
       "    .dataframe tbody tr th {\n",
       "        vertical-align: top;\n",
       "    }\n",
       "\n",
       "    .dataframe thead th {\n",
       "        text-align: right;\n",
       "    }\n",
       "</style>\n",
       "<table border=\"1\" class=\"dataframe\">\n",
       "  <thead>\n",
       "    <tr style=\"text-align: right;\">\n",
       "      <th></th>\n",
       "      <th>reviewId</th>\n",
       "      <th>content</th>\n",
       "      <th>score</th>\n",
       "      <th>at</th>\n",
       "      <th>bm25_score</th>\n",
       "      <th>category</th>\n",
       "      <th>pos</th>\n",
       "      <th>neg</th>\n",
       "    </tr>\n",
       "  </thead>\n",
       "  <tbody>\n",
       "    <tr>\n",
       "      <th>637842</th>\n",
       "      <td>8842</td>\n",
       "      <td>Standouts ruined this app, and despite the tag...</td>\n",
       "      <td>2</td>\n",
       "      <td>2021-03-06 03:27:00</td>\n",
       "      <td>14.034349</td>\n",
       "      <td>self</td>\n",
       "      <td>0.000525</td>\n",
       "      <td>0.999475</td>\n",
       "    </tr>\n",
       "    <tr>\n",
       "      <th>654841</th>\n",
       "      <td>25841</td>\n",
       "      <td>i like that we get less likes makes it less ch...</td>\n",
       "      <td>5</td>\n",
       "      <td>2020-02-17 05:45:00</td>\n",
       "      <td>12.567306</td>\n",
       "      <td>self</td>\n",
       "      <td>0.998723</td>\n",
       "      <td>0.001277</td>\n",
       "    </tr>\n",
       "    <tr>\n",
       "      <th>669175</th>\n",
       "      <td>40175</td>\n",
       "      <td>my confidence speaking to women has gotten bet...</td>\n",
       "      <td>5</td>\n",
       "      <td>2019-06-24 09:53:00</td>\n",
       "      <td>11.012975</td>\n",
       "      <td>self</td>\n",
       "      <td>0.041015</td>\n",
       "      <td>0.958985</td>\n",
       "    </tr>\n",
       "    <tr>\n",
       "      <th>637123</th>\n",
       "      <td>8123</td>\n",
       "      <td>No messages, no likes. Thanks for the confiden...</td>\n",
       "      <td>1</td>\n",
       "      <td>2021-03-29 18:43:00</td>\n",
       "      <td>10.701861</td>\n",
       "      <td>self</td>\n",
       "      <td>0.911993</td>\n",
       "      <td>0.088007</td>\n",
       "    </tr>\n",
       "    <tr>\n",
       "      <th>629683</th>\n",
       "      <td>683</td>\n",
       "      <td>Eh, self entitled and delusional</td>\n",
       "      <td>1</td>\n",
       "      <td>2022-01-23 12:26:00</td>\n",
       "      <td>10.265810</td>\n",
       "      <td>self</td>\n",
       "      <td>0.002140</td>\n",
       "      <td>0.997860</td>\n",
       "    </tr>\n",
       "  </tbody>\n",
       "</table>\n",
       "</div>"
      ],
      "text/plain": [
       "        reviewId                                            content  score  \\\n",
       "637842      8842  Standouts ruined this app, and despite the tag...      2   \n",
       "654841     25841  i like that we get less likes makes it less ch...      5   \n",
       "669175     40175  my confidence speaking to women has gotten bet...      5   \n",
       "637123      8123  No messages, no likes. Thanks for the confiden...      1   \n",
       "629683       683                   Eh, self entitled and delusional      1   \n",
       "\n",
       "                        at  bm25_score category       pos       neg  \n",
       "637842 2021-03-06 03:27:00   14.034349     self  0.000525  0.999475  \n",
       "654841 2020-02-17 05:45:00   12.567306     self  0.998723  0.001277  \n",
       "669175 2019-06-24 09:53:00   11.012975     self  0.041015  0.958985  \n",
       "637123 2021-03-29 18:43:00   10.701861     self  0.911993  0.088007  \n",
       "629683 2022-01-23 12:26:00   10.265810     self  0.002140  0.997860  "
      ]
     },
     "execution_count": 108,
     "metadata": {},
     "output_type": "execute_result"
    }
   ],
   "source": [
    "self_esteem_polarities.head()"
   ]
  },
  {
   "cell_type": "code",
   "execution_count": 109,
   "metadata": {},
   "outputs": [
    {
     "name": "stdout",
     "output_type": "stream",
     "text": [
      "pos: 0.3404255319148936, neg: 0.6595744680851063\n"
     ]
    }
   ],
   "source": [
    "pos = len(self_esteem_polarities[self_esteem_polarities.pos >= .70])/len(self_esteem_polarities[(self_esteem_polarities.pos >= .70) | (self_esteem_polarities.neg >= .70)])\n",
    "neg = len(self_esteem_polarities[self_esteem_polarities.neg >= .70])/len(self_esteem_polarities[(self_esteem_polarities.pos >= .70) | (self_esteem_polarities.neg >= .70)])\n",
    "print(f\"pos: {pos}, neg: {neg}\")\n",
    "aspects_polarity  = save_results(\"hinge\", \"self\", aspects_polarity, pos, neg)"
   ]
  },
  {
   "cell_type": "code",
   "execution_count": 110,
   "metadata": {},
   "outputs": [
    {
     "data": {
      "text/html": [
       "<div>\n",
       "<style scoped>\n",
       "    .dataframe tbody tr th:only-of-type {\n",
       "        vertical-align: middle;\n",
       "    }\n",
       "\n",
       "    .dataframe tbody tr th {\n",
       "        vertical-align: top;\n",
       "    }\n",
       "\n",
       "    .dataframe thead th {\n",
       "        text-align: right;\n",
       "    }\n",
       "</style>\n",
       "<table border=\"1\" class=\"dataframe\">\n",
       "  <thead>\n",
       "    <tr style=\"text-align: right;\">\n",
       "      <th></th>\n",
       "      <th>pos</th>\n",
       "      <th>score</th>\n",
       "    </tr>\n",
       "  </thead>\n",
       "  <tbody>\n",
       "    <tr>\n",
       "      <th>pos</th>\n",
       "      <td>1.000000</td>\n",
       "      <td>0.371384</td>\n",
       "    </tr>\n",
       "    <tr>\n",
       "      <th>score</th>\n",
       "      <td>0.371384</td>\n",
       "      <td>1.000000</td>\n",
       "    </tr>\n",
       "  </tbody>\n",
       "</table>\n",
       "</div>"
      ],
      "text/plain": [
       "            pos     score\n",
       "pos    1.000000  0.371384\n",
       "score  0.371384  1.000000"
      ]
     },
     "execution_count": 110,
     "metadata": {},
     "output_type": "execute_result"
    }
   ],
   "source": [
    "self_esteem_polarities[[\"pos\", \"score\"]].corr()"
   ]
  },
  {
   "attachments": {},
   "cell_type": "markdown",
   "metadata": {},
   "source": [
    "__Attractiveness (appearence)__"
   ]
  },
  {
   "cell_type": "code",
   "execution_count": null,
   "metadata": {},
   "outputs": [],
   "source": [
    "attractiveness_polarities = sentiment_extraction.get_reviews_polarities(annotated_hinge[annotated_hinge.category == \"attractiveness\"])"
   ]
  },
  {
   "cell_type": "code",
   "execution_count": 112,
   "metadata": {},
   "outputs": [
    {
     "data": {
      "text/html": [
       "<div>\n",
       "<style scoped>\n",
       "    .dataframe tbody tr th:only-of-type {\n",
       "        vertical-align: middle;\n",
       "    }\n",
       "\n",
       "    .dataframe tbody tr th {\n",
       "        vertical-align: top;\n",
       "    }\n",
       "\n",
       "    .dataframe thead th {\n",
       "        text-align: right;\n",
       "    }\n",
       "</style>\n",
       "<table border=\"1\" class=\"dataframe\">\n",
       "  <thead>\n",
       "    <tr style=\"text-align: right;\">\n",
       "      <th></th>\n",
       "      <th>reviewId</th>\n",
       "      <th>content</th>\n",
       "      <th>score</th>\n",
       "      <th>at</th>\n",
       "      <th>bm25_score</th>\n",
       "      <th>category</th>\n",
       "      <th>pos</th>\n",
       "      <th>neg</th>\n",
       "    </tr>\n",
       "  </thead>\n",
       "  <tbody>\n",
       "    <tr>\n",
       "      <th>629839</th>\n",
       "      <td>839</td>\n",
       "      <td>Can you plz add an attractiveness filter. That...</td>\n",
       "      <td>2</td>\n",
       "      <td>2022-01-18 02:40:00</td>\n",
       "      <td>10.596191</td>\n",
       "      <td>attractiveness</td>\n",
       "      <td>0.998911</td>\n",
       "      <td>0.001089</td>\n",
       "    </tr>\n",
       "    <tr>\n",
       "      <th>668564</th>\n",
       "      <td>39564</td>\n",
       "      <td>not sure if no one uses it or im getting filte...</td>\n",
       "      <td>4</td>\n",
       "      <td>2019-07-09 02:25:00</td>\n",
       "      <td>9.789344</td>\n",
       "      <td>attractiveness</td>\n",
       "      <td>0.000531</td>\n",
       "      <td>0.999469</td>\n",
       "    </tr>\n",
       "    <tr>\n",
       "      <th>644405</th>\n",
       "      <td>15405</td>\n",
       "      <td>Showing me almost exclusively people I'm not a...</td>\n",
       "      <td>1</td>\n",
       "      <td>2020-08-28 16:22:00</td>\n",
       "      <td>6.773593</td>\n",
       "      <td>attractiveness</td>\n",
       "      <td>0.002330</td>\n",
       "      <td>0.997670</td>\n",
       "    </tr>\n",
       "    <tr>\n",
       "      <th>645820</th>\n",
       "      <td>16820</td>\n",
       "      <td>They seem to have the algorithm right. Every p...</td>\n",
       "      <td>5</td>\n",
       "      <td>2020-07-31 21:56:00</td>\n",
       "      <td>6.493185</td>\n",
       "      <td>attractiveness</td>\n",
       "      <td>0.998485</td>\n",
       "      <td>0.001515</td>\n",
       "    </tr>\n",
       "    <tr>\n",
       "      <th>671911</th>\n",
       "      <td>42911</td>\n",
       "      <td>I haven't found a huge amount of women in my a...</td>\n",
       "      <td>5</td>\n",
       "      <td>2019-04-21 02:25:00</td>\n",
       "      <td>6.083511</td>\n",
       "      <td>attractiveness</td>\n",
       "      <td>0.999851</td>\n",
       "      <td>0.000149</td>\n",
       "    </tr>\n",
       "  </tbody>\n",
       "</table>\n",
       "</div>"
      ],
      "text/plain": [
       "        reviewId                                            content  score  \\\n",
       "629839       839  Can you plz add an attractiveness filter. That...      2   \n",
       "668564     39564  not sure if no one uses it or im getting filte...      4   \n",
       "644405     15405  Showing me almost exclusively people I'm not a...      1   \n",
       "645820     16820  They seem to have the algorithm right. Every p...      5   \n",
       "671911     42911  I haven't found a huge amount of women in my a...      5   \n",
       "\n",
       "                        at  bm25_score        category       pos       neg  \n",
       "629839 2022-01-18 02:40:00   10.596191  attractiveness  0.998911  0.001089  \n",
       "668564 2019-07-09 02:25:00    9.789344  attractiveness  0.000531  0.999469  \n",
       "644405 2020-08-28 16:22:00    6.773593  attractiveness  0.002330  0.997670  \n",
       "645820 2020-07-31 21:56:00    6.493185  attractiveness  0.998485  0.001515  \n",
       "671911 2019-04-21 02:25:00    6.083511  attractiveness  0.999851  0.000149  "
      ]
     },
     "execution_count": 112,
     "metadata": {},
     "output_type": "execute_result"
    }
   ],
   "source": [
    "attractiveness_polarities.head()"
   ]
  },
  {
   "cell_type": "code",
   "execution_count": 113,
   "metadata": {},
   "outputs": [
    {
     "name": "stdout",
     "output_type": "stream",
     "text": [
      "pos: 0.4, neg: 0.6\n"
     ]
    }
   ],
   "source": [
    "pos = len(attractiveness_polarities[attractiveness_polarities.pos >= .70])/len(attractiveness_polarities[(attractiveness_polarities.pos >= .70) | (attractiveness_polarities.neg >= .70)])\n",
    "neg = len(attractiveness_polarities[attractiveness_polarities.neg >= .70])/len(attractiveness_polarities[(attractiveness_polarities.pos >= .70) | (attractiveness_polarities.neg >= .70)])\n",
    "print(f\"pos: {pos}, neg: {neg}\")\n",
    "aspects_polarity  = save_results(\"hinge\", \"attractiveness\", aspects_polarity, pos, neg)"
   ]
  },
  {
   "cell_type": "code",
   "execution_count": 114,
   "metadata": {},
   "outputs": [
    {
     "data": {
      "text/html": [
       "<div>\n",
       "<style scoped>\n",
       "    .dataframe tbody tr th:only-of-type {\n",
       "        vertical-align: middle;\n",
       "    }\n",
       "\n",
       "    .dataframe tbody tr th {\n",
       "        vertical-align: top;\n",
       "    }\n",
       "\n",
       "    .dataframe thead th {\n",
       "        text-align: right;\n",
       "    }\n",
       "</style>\n",
       "<table border=\"1\" class=\"dataframe\">\n",
       "  <thead>\n",
       "    <tr style=\"text-align: right;\">\n",
       "      <th></th>\n",
       "      <th>pos</th>\n",
       "      <th>score</th>\n",
       "    </tr>\n",
       "  </thead>\n",
       "  <tbody>\n",
       "    <tr>\n",
       "      <th>pos</th>\n",
       "      <td>1.000000</td>\n",
       "      <td>0.725688</td>\n",
       "    </tr>\n",
       "    <tr>\n",
       "      <th>score</th>\n",
       "      <td>0.725688</td>\n",
       "      <td>1.000000</td>\n",
       "    </tr>\n",
       "  </tbody>\n",
       "</table>\n",
       "</div>"
      ],
      "text/plain": [
       "            pos     score\n",
       "pos    1.000000  0.725688\n",
       "score  0.725688  1.000000"
      ]
     },
     "execution_count": 114,
     "metadata": {},
     "output_type": "execute_result"
    }
   ],
   "source": [
    "attractiveness_polarities[[\"pos\", \"score\"]].corr()"
   ]
  },
  {
   "attachments": {},
   "cell_type": "markdown",
   "metadata": {},
   "source": [
    "__Attractiveness (intelligence)__"
   ]
  },
  {
   "cell_type": "code",
   "execution_count": null,
   "metadata": {},
   "outputs": [],
   "source": [
    "intelligence_polarities = sentiment_extraction.get_reviews_polarities(annotated_hinge[annotated_hinge.category == \"intelligence\"])"
   ]
  },
  {
   "cell_type": "code",
   "execution_count": 116,
   "metadata": {},
   "outputs": [
    {
     "data": {
      "text/html": [
       "<div>\n",
       "<style scoped>\n",
       "    .dataframe tbody tr th:only-of-type {\n",
       "        vertical-align: middle;\n",
       "    }\n",
       "\n",
       "    .dataframe tbody tr th {\n",
       "        vertical-align: top;\n",
       "    }\n",
       "\n",
       "    .dataframe thead th {\n",
       "        text-align: right;\n",
       "    }\n",
       "</style>\n",
       "<table border=\"1\" class=\"dataframe\">\n",
       "  <thead>\n",
       "    <tr style=\"text-align: right;\">\n",
       "      <th></th>\n",
       "      <th>reviewId</th>\n",
       "      <th>content</th>\n",
       "      <th>score</th>\n",
       "      <th>at</th>\n",
       "      <th>bm25_score</th>\n",
       "      <th>category</th>\n",
       "      <th>pos</th>\n",
       "      <th>neg</th>\n",
       "    </tr>\n",
       "  </thead>\n",
       "  <tbody>\n",
       "    <tr>\n",
       "      <th>673021</th>\n",
       "      <td>44021</td>\n",
       "      <td>good site with decent ladies! Better than othe...</td>\n",
       "      <td>5</td>\n",
       "      <td>2019-03-28 22:37:00</td>\n",
       "      <td>12.274754</td>\n",
       "      <td>intelligence</td>\n",
       "      <td>0.99984</td>\n",
       "      <td>0.00016</td>\n",
       "    </tr>\n",
       "  </tbody>\n",
       "</table>\n",
       "</div>"
      ],
      "text/plain": [
       "        reviewId                                            content  score  \\\n",
       "673021     44021  good site with decent ladies! Better than othe...      5   \n",
       "\n",
       "                        at  bm25_score      category      pos      neg  \n",
       "673021 2019-03-28 22:37:00   12.274754  intelligence  0.99984  0.00016  "
      ]
     },
     "execution_count": 116,
     "metadata": {},
     "output_type": "execute_result"
    }
   ],
   "source": [
    "intelligence_polarities.head()"
   ]
  },
  {
   "cell_type": "code",
   "execution_count": 117,
   "metadata": {},
   "outputs": [
    {
     "name": "stdout",
     "output_type": "stream",
     "text": [
      "pos: 1.0, neg: 0.0\n"
     ]
    }
   ],
   "source": [
    "pos = len(intelligence_polarities[intelligence_polarities.pos >= .70])/len(intelligence_polarities[(intelligence_polarities.pos >= .70) | (intelligence_polarities.neg >= .70)])\n",
    "neg = len(intelligence_polarities[intelligence_polarities.neg >= .70])/len(intelligence_polarities[(intelligence_polarities.pos >= .70) | (intelligence_polarities.neg >= .70)])\n",
    "print(f\"pos: {pos}, neg: {neg}\")\n",
    "aspects_polarity  = save_results(\"hinge\", \"intelligence\", aspects_polarity, pos, neg)"
   ]
  },
  {
   "cell_type": "code",
   "execution_count": 118,
   "metadata": {},
   "outputs": [
    {
     "data": {
      "text/html": [
       "<div>\n",
       "<style scoped>\n",
       "    .dataframe tbody tr th:only-of-type {\n",
       "        vertical-align: middle;\n",
       "    }\n",
       "\n",
       "    .dataframe tbody tr th {\n",
       "        vertical-align: top;\n",
       "    }\n",
       "\n",
       "    .dataframe thead th {\n",
       "        text-align: right;\n",
       "    }\n",
       "</style>\n",
       "<table border=\"1\" class=\"dataframe\">\n",
       "  <thead>\n",
       "    <tr style=\"text-align: right;\">\n",
       "      <th></th>\n",
       "      <th>pos</th>\n",
       "      <th>score</th>\n",
       "    </tr>\n",
       "  </thead>\n",
       "  <tbody>\n",
       "    <tr>\n",
       "      <th>pos</th>\n",
       "      <td>NaN</td>\n",
       "      <td>NaN</td>\n",
       "    </tr>\n",
       "    <tr>\n",
       "      <th>score</th>\n",
       "      <td>NaN</td>\n",
       "      <td>NaN</td>\n",
       "    </tr>\n",
       "  </tbody>\n",
       "</table>\n",
       "</div>"
      ],
      "text/plain": [
       "       pos  score\n",
       "pos    NaN    NaN\n",
       "score  NaN    NaN"
      ]
     },
     "execution_count": 118,
     "metadata": {},
     "output_type": "execute_result"
    }
   ],
   "source": [
    "intelligence_polarities[[\"pos\", \"score\"]].corr()"
   ]
  },
  {
   "cell_type": "code",
   "execution_count": 119,
   "metadata": {},
   "outputs": [],
   "source": [
    "with open(\"data/bert_aspects_polarities.pickle\", \"wb+\") as f:\n",
    "    pickle.dump(aspects_polarity, f)"
   ]
  },
  {
   "attachments": {},
   "cell_type": "markdown",
   "metadata": {},
   "source": [
    "## __Comparing__"
   ]
  },
  {
   "cell_type": "code",
   "execution_count": 120,
   "metadata": {},
   "outputs": [],
   "source": [
    "with open(\"data/bert_aspects_polarities.pickle\", \"rb+\") as f:\n",
    "    dating_app_polarities = pickle.load(f)"
   ]
  },
  {
   "cell_type": "code",
   "execution_count": 121,
   "metadata": {},
   "outputs": [
    {
     "data": {
      "image/png": "[encoded data removed]",
      "text/plain": [
       "<Figure size 2100x600 with 2 Axes>"
      ]
     },
     "metadata": {},
     "output_type": "display_data"
    }
   ],
   "source": [
    "visualizer.plot_apps_polarity(dating_app_polarities, aspects = [\"casual sex\", \"relationship\"], figsize=(21,6), avg=False)"
   ]
  },
  {
   "cell_type": "code",
   "execution_count": 122,
   "metadata": {},
   "outputs": [
    {
     "data": {
      "image/png": "[encoded data removed]",
      "text/plain": [
       "<Figure size 2300x500 with 2 Axes>"
      ]
     },
     "metadata": {},
     "output_type": "display_data"
    }
   ],
   "source": [
    "visualizer.plot_apps_polarity(dating_app_polarities, aspects= [\"men\", \"women\"], figsize=(23,5), avg=False)"
   ]
  },
  {
   "cell_type": "code",
   "execution_count": 123,
   "metadata": {},
   "outputs": [
    {
     "data": {
      "image/png": "[encoded data removed]",
      "text/plain": [
       "<Figure size 2300x500 with 2 Axes>"
      ]
     },
     "metadata": {},
     "output_type": "display_data"
    }
   ],
   "source": [
    "visualizer.plot_apps_polarity(dating_app_polarities, aspects= [\"intelligence\", \"attractiveness\"], figsize=(23,5), avg=False)"
   ]
  }
 ],
 "metadata": {
  "kernelspec": {
   "display_name": "venv",
   "language": "python",
   "name": "python3"
  },
  "language_info": {
   "codemirror_mode": {
    "name": "ipython",
    "version": 3
   },
   "file_extension": ".py",
   "mimetype": "text/x-python",
   "name": "python",
   "nbconvert_exporter": "python",
   "pygments_lexer": "ipython3",
   "version": "3.10.6"
  },
  "orig_nbformat": 4
 },
 "nbformat": 4,
 "nbformat_minor": 2
}
