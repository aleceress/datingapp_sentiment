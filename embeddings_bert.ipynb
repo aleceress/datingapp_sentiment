{
 "cells": [
  {
   "cell_type": "code",
   "execution_count": 1,
   "metadata": {},
   "outputs": [],
   "source": [
    "import importlib\n",
    "from utils import aspect_extraction, sentiment_extraction, general, embeddings\n",
    "import warnings\n",
    "warnings.filterwarnings(\"ignore\")\n",
    "import pandas as pd\n",
    "import matplotlib.pyplot as plt\n",
    "import spacy\n",
    "from tqdm import tqdm\n",
    "from gensim.models import KeyedVectors\n",
    "import gensim\n",
    "from nltk.corpus import wordnet\n",
    "import os\n",
    "import gc\n",
    "from pathlib import Path"
   ]
  },
  {
   "cell_type": "code",
   "execution_count": 2,
   "metadata": {},
   "outputs": [
    {
     "data": {
      "text/plain": [
       "<module 'utils.embeddings' from '/home/alessia/Documenti/University/Text mining and sentiment analysis/progetto/tinder/utils/embeddings.py'>"
      ]
     },
     "execution_count": 2,
     "metadata": {},
     "output_type": "execute_result"
    }
   ],
   "source": [
    "importlib.reload(aspect_extraction)\n",
    "importlib.reload(sentiment_extraction)\n",
    "importlib.reload(general)\n",
    "importlib.reload(embeddings)"
   ]
  },
  {
   "cell_type": "code",
   "execution_count": 3,
   "metadata": {},
   "outputs": [],
   "source": [
    "def get_reviews_similarities(app, query, not_query, query_name):\n",
    "    directory_path = Path(f\"data/{app}_embeddings/\")\n",
    "    saving_path = directory_path / f\"queries/{query_name}.pickle\"\n",
    "\n",
    "    if os.path.isfile(saving_path):\n",
    "        return pd.read_pickle(saving_path)\n",
    "    \n",
    "    query_similarities = pd.DataFrame() \n",
    "    reviews_files = [file for file in directory_path.iterdir() if file.is_file()]\n",
    "\n",
    "    for i, reviews_file in enumerate(reviews_files):\n",
    "        print(f\"processing reviews {i+1}/{len(reviews_files)}\")\n",
    "        reviews = pd.read_pickle(reviews_file)\n",
    "\n",
    "        reviews_similarities = embeddings.get_query_similarities(reviews[\"sentence_embedding\"].set_axis(reviews[\"id\"].values), query = query, not_query= not_query, threshold=0.65)\n",
    "        query_similarities = query_similarities.append(pd.DataFrame(reviews_similarities).reset_index().rename(columns={\"index\": \"id\", 0: \"similarity\"}).merge(reviews, on = \"id\"))\n",
    "        gc.collect()\n",
    "    \n",
    "    query_similarities = query_similarities.sort_values(by = \"similarity\", ascending= False)\n",
    "    if not os.path.isdir(directory_path / \"queries\"):\n",
    "        os.mkdir(directory_path / \"queries\")\n",
    "    query_similarities.to_pickle(saving_path)\n",
    "    return query_similarities"
   ]
  },
  {
   "attachments": {},
   "cell_type": "markdown",
   "metadata": {},
   "source": [
    "## __Tinder__"
   ]
  },
  {
   "attachments": {},
   "cell_type": "markdown",
   "metadata": {},
   "source": [
    "__Casual sex__"
   ]
  },
  {
   "cell_type": "code",
   "execution_count": null,
   "metadata": {},
   "outputs": [],
   "source": [
    "casual_sex_reviews = get_reviews_similarities(app = \"tinder\", query= [\"casual\", \"sex\"], not_query= [\"couple\"], query_name= \"casual_sex\")"
   ]
  }
 ],
 "metadata": {
  "kernelspec": {
   "display_name": "venv",
   "language": "python",
   "name": "python3"
  },
  "language_info": {
   "codemirror_mode": {
    "name": "ipython",
    "version": 3
   },
   "file_extension": ".py",
   "mimetype": "text/x-python",
   "name": "python",
   "nbconvert_exporter": "python",
   "pygments_lexer": "ipython3",
   "version": "3.10.6"
  },
  "orig_nbformat": 4
 },
 "nbformat": 4,
 "nbformat_minor": 2
}
