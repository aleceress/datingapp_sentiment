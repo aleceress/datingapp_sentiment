{
 "cells": [
  {
   "cell_type": "code",
   "execution_count": 1,
   "metadata": {},
   "outputs": [],
   "source": [
    "import warnings\n",
    "warnings.filterwarnings(\"ignore\")\n",
    "from utils import aspect_extraction, general, sentiment_extraction\n",
    "import pandas as pd"
   ]
  },
  {
   "cell_type": "code",
   "execution_count": 2,
   "metadata": {},
   "outputs": [
    {
     "data": {
      "text/plain": [
       "<module 'utils.sentiment_extraction' from '/home/alessia/Documenti/University/Text mining and sentiment analysis/progetto/tinder/utils/sentiment_extraction.py'>"
      ]
     },
     "execution_count": 2,
     "metadata": {},
     "output_type": "execute_result"
    }
   ],
   "source": [
    "import importlib\n",
    "importlib.reload(general)\n",
    "importlib.reload(aspect_extraction)\n",
    "importlib.reload(sentiment_extraction)"
   ]
  },
  {
   "cell_type": "code",
   "execution_count": 3,
   "metadata": {},
   "outputs": [],
   "source": [
    "def get_aspects_polarity(pmi):\n",
    "    pmi[\"pmi_combined\"] = 2*pmi[\"noun_cat_pmi\"]+ pmi[\"adj_noun_pmi\"]\n",
    "    pmi = pmi[[\"noun\", \"adj\", \"pmi_combined\"]]\n",
    "    pmi[\"polarity\"] = pmi[\"adj\"].apply(lambda x : sentiment_extraction.get_sentiwn_score(x))\n",
    "    pmi = pmi.sort_values(by = \"pmi_combined\", ascending=False)[:2000]\n",
    "    pos = len(pmi[pmi.polarity >= 0.2])\n",
    "    neg = len(pmi[pmi.polarity < -0.2])\n",
    "    return pmi, (pos/(pos+neg))*100, (neg/(pos+neg))*100"
   ]
  },
  {
   "cell_type": "code",
   "execution_count": 4,
   "metadata": {},
   "outputs": [],
   "source": [
    "dating_app_polarities = pd.DataFrame(columns=[\"Aspect\", \"Tinder\", \"Bumble\", \"Hinge\"])\n",
    "dating_app_polarities[\"Aspect\"] = [\n",
    "                                    \"Casual sex pos\", \n",
    "                                    \"Casual sex neg\",\n",
    "                                    \"Relationship pos\", \n",
    "                                    \"Relationship neg\", \n",
    "                                    \"Friendship pos\", \n",
    "                                    \"Friendship neg\", \n",
    "                                    \"Curiosity pos\",\n",
    "                                    \"Curiosity neg\",\n",
    "                                    \"Women pos\",\n",
    "                                    \"Women neg\",\n",
    "                                    \"Men pos\",\n",
    "                                    \"Men neg\",\n",
    "                                    \"Self esteem neg\",\n",
    "                                    \"Self esteem pos\",\n",
    "                                    \"Appearence pos\",\n",
    "                                    \"Appearence neg\",\n",
    "                                    \"Intelligence pos\",\n",
    "                                    \"Intelligence neg\"\n",
    "                                ]"
   ]
  },
  {
   "attachments": {},
   "cell_type": "markdown",
   "metadata": {},
   "source": [
    "## __Tinder__"
   ]
  },
  {
   "cell_type": "code",
   "execution_count": 5,
   "metadata": {},
   "outputs": [
    {
     "data": {
      "application/vnd.jupyter.widget-view+json": {
       "model_id": "4d15e049affa453fa797f36f0f92697b",
       "version_major": 2,
       "version_minor": 0
      },
      "text/plain": [
       "  0%|          | 0/577187 [00:00<?, ?it/s]"
      ]
     },
     "metadata": {},
     "output_type": "display_data"
    },
    {
     "data": {
      "text/html": [
       "<div>\n",
       "<style scoped>\n",
       "    .dataframe tbody tr th:only-of-type {\n",
       "        vertical-align: middle;\n",
       "    }\n",
       "\n",
       "    .dataframe tbody tr th {\n",
       "        vertical-align: top;\n",
       "    }\n",
       "\n",
       "    .dataframe thead th {\n",
       "        text-align: right;\n",
       "    }\n",
       "</style>\n",
       "<table border=\"1\" class=\"dataframe\">\n",
       "  <thead>\n",
       "    <tr style=\"text-align: right;\">\n",
       "      <th></th>\n",
       "      <th>category</th>\n",
       "      <th>noun</th>\n",
       "      <th>noun_cat_pmi</th>\n",
       "    </tr>\n",
       "  </thead>\n",
       "  <tbody>\n",
       "    <tr>\n",
       "      <th>0</th>\n",
       "      <td>attractiveness</td>\n",
       "      <td>a</td>\n",
       "      <td>0.501669</td>\n",
       "    </tr>\n",
       "    <tr>\n",
       "      <th>1</th>\n",
       "      <td>attractiveness</td>\n",
       "      <td>aap</td>\n",
       "      <td>0.709056</td>\n",
       "    </tr>\n",
       "    <tr>\n",
       "      <th>2</th>\n",
       "      <td>attractiveness</td>\n",
       "      <td>account</td>\n",
       "      <td>0.638412</td>\n",
       "    </tr>\n",
       "    <tr>\n",
       "      <th>3</th>\n",
       "      <td>attractiveness</td>\n",
       "      <td>accounts</td>\n",
       "      <td>0.485577</td>\n",
       "    </tr>\n",
       "    <tr>\n",
       "      <th>4</th>\n",
       "      <td>attractiveness</td>\n",
       "      <td>after</td>\n",
       "      <td>0.588059</td>\n",
       "    </tr>\n",
       "  </tbody>\n",
       "</table>\n",
       "</div>"
      ],
      "text/plain": [
       "         category      noun  noun_cat_pmi\n",
       "0  attractiveness         a      0.501669\n",
       "1  attractiveness       aap      0.709056\n",
       "2  attractiveness   account      0.638412\n",
       "3  attractiveness  accounts      0.485577\n",
       "4  attractiveness     after      0.588059"
      ]
     },
     "execution_count": 5,
     "metadata": {},
     "output_type": "execute_result"
    }
   ],
   "source": [
    "tinder_reviews_by_category = aspect_extraction.get_reviews_by_category(app = \"tinder\", categories = [\"casual sex\", \"relationship\", \"friendship\", \"curiosity\", \"women\", \"men\", \"self esteem\", \"attractiveness\", \"intelligence\"])\n",
    "tinder_word_category_pmi = aspect_extraction.get_noun_category_pmi(tinder_reviews_by_category)\n",
    "tinder_word_category_pmi.head()"
   ]
  },
  {
   "cell_type": "code",
   "execution_count": 6,
   "metadata": {},
   "outputs": [],
   "source": [
    "tinder_polarities = []"
   ]
  },
  {
   "attachments": {},
   "cell_type": "markdown",
   "metadata": {},
   "source": [
    "### __Casual sex__"
   ]
  },
  {
   "cell_type": "code",
   "execution_count": 7,
   "metadata": {},
   "outputs": [],
   "source": [
    "casual_sex_reviews = tinder_reviews_by_category[\"casual sex\"]"
   ]
  },
  {
   "cell_type": "code",
   "execution_count": 8,
   "metadata": {},
   "outputs": [
    {
     "data": {
      "application/vnd.jupyter.widget-view+json": {
       "model_id": "37867928a2e14910bb5445b531af9d23",
       "version_major": 2,
       "version_minor": 0
      },
      "text/plain": [
       "  0%|          | 0/21320 [00:00<?, ?it/s]"
      ]
     },
     "metadata": {},
     "output_type": "display_data"
    }
   ],
   "source": [
    "cs_adj_noun_pmi = aspect_extraction.get_adj_noun_pmi(casual_sex_reviews)\n",
    "cs_pmi = tinder_word_category_pmi[tinder_word_category_pmi.category == \"casual sex\"].merge(cs_adj_noun_pmi, on = [\"noun\"])"
   ]
  },
  {
   "cell_type": "code",
   "execution_count": 9,
   "metadata": {},
   "outputs": [
    {
     "name": "stdout",
     "output_type": "stream",
     "text": [
      "pos: 51.71%, neg: 48.29%\n"
     ]
    },
    {
     "data": {
      "text/html": [
       "<div>\n",
       "<style scoped>\n",
       "    .dataframe tbody tr th:only-of-type {\n",
       "        vertical-align: middle;\n",
       "    }\n",
       "\n",
       "    .dataframe tbody tr th {\n",
       "        vertical-align: top;\n",
       "    }\n",
       "\n",
       "    .dataframe thead th {\n",
       "        text-align: right;\n",
       "    }\n",
       "</style>\n",
       "<table border=\"1\" class=\"dataframe\">\n",
       "  <thead>\n",
       "    <tr style=\"text-align: right;\">\n",
       "      <th></th>\n",
       "      <th>noun</th>\n",
       "      <th>adj</th>\n",
       "      <th>pmi_combined</th>\n",
       "      <th>polarity</th>\n",
       "    </tr>\n",
       "  </thead>\n",
       "  <tbody>\n",
       "    <tr>\n",
       "      <th>7470</th>\n",
       "      <td>mention</td>\n",
       "      <td>fine</td>\n",
       "      <td>2.467865</td>\n",
       "      <td>0.212500</td>\n",
       "    </tr>\n",
       "    <tr>\n",
       "      <th>8210</th>\n",
       "      <td>need</td>\n",
       "      <td>screen</td>\n",
       "      <td>2.371390</td>\n",
       "      <td>0.007812</td>\n",
       "    </tr>\n",
       "    <tr>\n",
       "      <th>10698</th>\n",
       "      <td>prostitution</td>\n",
       "      <td>illegal</td>\n",
       "      <td>2.339993</td>\n",
       "      <td>0.000000</td>\n",
       "    </tr>\n",
       "    <tr>\n",
       "      <th>3114</th>\n",
       "      <td>face</td>\n",
       "      <td>screen</td>\n",
       "      <td>2.278014</td>\n",
       "      <td>0.007812</td>\n",
       "    </tr>\n",
       "    <tr>\n",
       "      <th>11016</th>\n",
       "      <td>rate</td>\n",
       "      <td>catfish</td>\n",
       "      <td>2.241738</td>\n",
       "      <td>0.000000</td>\n",
       "    </tr>\n",
       "  </tbody>\n",
       "</table>\n",
       "</div>"
      ],
      "text/plain": [
       "               noun      adj  pmi_combined  polarity\n",
       "7470        mention     fine      2.467865  0.212500\n",
       "8210           need   screen      2.371390  0.007812\n",
       "10698  prostitution  illegal      2.339993  0.000000\n",
       "3114           face   screen      2.278014  0.007812\n",
       "11016          rate  catfish      2.241738  0.000000"
      ]
     },
     "execution_count": 9,
     "metadata": {},
     "output_type": "execute_result"
    }
   ],
   "source": [
    "pmi, cs_pos, cs_neg = get_aspects_polarity(cs_pmi)\n",
    "print(f\"pos: {cs_pos:.2f}%, neg: {cs_neg:.2f}%\")\n",
    "pmi.head()"
   ]
  },
  {
   "cell_type": "code",
   "execution_count": 10,
   "metadata": {},
   "outputs": [],
   "source": [
    "tinder_polarities.append(cs_pos)\n",
    "tinder_polarities.append(cs_neg)"
   ]
  },
  {
   "attachments": {},
   "cell_type": "markdown",
   "metadata": {},
   "source": [
    "### __Relationship__"
   ]
  },
  {
   "cell_type": "code",
   "execution_count": 11,
   "metadata": {},
   "outputs": [],
   "source": [
    "relationship_reviews = tinder_reviews_by_category[\"relationship\"]"
   ]
  },
  {
   "cell_type": "code",
   "execution_count": 12,
   "metadata": {},
   "outputs": [
    {
     "data": {
      "application/vnd.jupyter.widget-view+json": {
       "model_id": "f8df0a86a60e40ccb9beb36260384552",
       "version_major": 2,
       "version_minor": 0
      },
      "text/plain": [
       "  0%|          | 0/21079 [00:00<?, ?it/s]"
      ]
     },
     "metadata": {},
     "output_type": "display_data"
    }
   ],
   "source": [
    "rel_adj_noun_pmi = aspect_extraction.get_adj_noun_pmi(relationship_reviews)\n",
    "rel_pmi = tinder_word_category_pmi[tinder_word_category_pmi.category == \"relationship\"].merge(rel_adj_noun_pmi, on = [\"noun\"])"
   ]
  },
  {
   "cell_type": "code",
   "execution_count": 13,
   "metadata": {},
   "outputs": [
    {
     "name": "stdout",
     "output_type": "stream",
     "text": [
      "pos: 47.98%, neg: 52.02%\n"
     ]
    },
    {
     "data": {
      "text/html": [
       "<div>\n",
       "<style scoped>\n",
       "    .dataframe tbody tr th:only-of-type {\n",
       "        vertical-align: middle;\n",
       "    }\n",
       "\n",
       "    .dataframe tbody tr th {\n",
       "        vertical-align: top;\n",
       "    }\n",
       "\n",
       "    .dataframe thead th {\n",
       "        text-align: right;\n",
       "    }\n",
       "</style>\n",
       "<table border=\"1\" class=\"dataframe\">\n",
       "  <thead>\n",
       "    <tr style=\"text-align: right;\">\n",
       "      <th></th>\n",
       "      <th>noun</th>\n",
       "      <th>adj</th>\n",
       "      <th>pmi_combined</th>\n",
       "      <th>polarity</th>\n",
       "    </tr>\n",
       "  </thead>\n",
       "  <tbody>\n",
       "    <tr>\n",
       "      <th>5121</th>\n",
       "      <td>list</td>\n",
       "      <td>entire</td>\n",
       "      <td>2.423766</td>\n",
       "      <td>0.100000</td>\n",
       "    </tr>\n",
       "    <tr>\n",
       "      <th>11941</th>\n",
       "      <td>tons</td>\n",
       "      <td>bumble</td>\n",
       "      <td>2.175570</td>\n",
       "      <td>-0.250000</td>\n",
       "    </tr>\n",
       "    <tr>\n",
       "      <th>5122</th>\n",
       "      <td>list</td>\n",
       "      <td>difficult</td>\n",
       "      <td>2.077445</td>\n",
       "      <td>-0.687500</td>\n",
       "    </tr>\n",
       "    <tr>\n",
       "      <th>5132</th>\n",
       "      <td>list</td>\n",
       "      <td>active</td>\n",
       "      <td>2.077445</td>\n",
       "      <td>0.022059</td>\n",
       "    </tr>\n",
       "    <tr>\n",
       "      <th>1013</th>\n",
       "      <td>build</td>\n",
       "      <td>potential</td>\n",
       "      <td>2.073005</td>\n",
       "      <td>-0.125000</td>\n",
       "    </tr>\n",
       "  </tbody>\n",
       "</table>\n",
       "</div>"
      ],
      "text/plain": [
       "        noun        adj  pmi_combined  polarity\n",
       "5121    list     entire      2.423766  0.100000\n",
       "11941   tons     bumble      2.175570 -0.250000\n",
       "5122    list  difficult      2.077445 -0.687500\n",
       "5132    list     active      2.077445  0.022059\n",
       "1013   build  potential      2.073005 -0.125000"
      ]
     },
     "execution_count": 13,
     "metadata": {},
     "output_type": "execute_result"
    }
   ],
   "source": [
    "pmi, rel_pos, rel_neg = get_aspects_polarity(rel_pmi)\n",
    "print(f\"pos: {rel_pos:.2f}%, neg: {rel_neg:.2f}%\")\n",
    "pmi.head()"
   ]
  },
  {
   "cell_type": "code",
   "execution_count": 14,
   "metadata": {},
   "outputs": [],
   "source": [
    "tinder_polarities.append(rel_pos)\n",
    "tinder_polarities.append(rel_neg)"
   ]
  },
  {
   "cell_type": "markdown",
   "metadata": {},
   "source": [
    "### __Friendship__"
   ]
  },
  {
   "cell_type": "code",
   "execution_count": 15,
   "metadata": {},
   "outputs": [],
   "source": [
    "friendship_reviews = tinder_reviews_by_category[\"friendship\"]"
   ]
  },
  {
   "cell_type": "code",
   "execution_count": 16,
   "metadata": {},
   "outputs": [
    {
     "data": {
      "application/vnd.jupyter.widget-view+json": {
       "model_id": "0096c0d0b36d4288b1ab5a2abeb1e5ab",
       "version_major": 2,
       "version_minor": 0
      },
      "text/plain": [
       "  0%|          | 0/17680 [00:00<?, ?it/s]"
      ]
     },
     "metadata": {},
     "output_type": "display_data"
    }
   ],
   "source": [
    "friend_adj_noun_pmi = aspect_extraction.get_adj_noun_pmi(friendship_reviews)\n",
    "friend_pmi = tinder_word_category_pmi[tinder_word_category_pmi.category == \"friendship\"].merge(friend_adj_noun_pmi, on = [\"noun\"])"
   ]
  },
  {
   "cell_type": "code",
   "execution_count": 17,
   "metadata": {},
   "outputs": [
    {
     "name": "stdout",
     "output_type": "stream",
     "text": [
      "pos: 42.03%, neg: 57.97%\n"
     ]
    },
    {
     "data": {
      "text/html": [
       "<div>\n",
       "<style scoped>\n",
       "    .dataframe tbody tr th:only-of-type {\n",
       "        vertical-align: middle;\n",
       "    }\n",
       "\n",
       "    .dataframe tbody tr th {\n",
       "        vertical-align: top;\n",
       "    }\n",
       "\n",
       "    .dataframe thead th {\n",
       "        text-align: right;\n",
       "    }\n",
       "</style>\n",
       "<table border=\"1\" class=\"dataframe\">\n",
       "  <thead>\n",
       "    <tr style=\"text-align: right;\">\n",
       "      <th></th>\n",
       "      <th>noun</th>\n",
       "      <th>adj</th>\n",
       "      <th>pmi_combined</th>\n",
       "      <th>polarity</th>\n",
       "    </tr>\n",
       "  </thead>\n",
       "  <tbody>\n",
       "    <tr>\n",
       "      <th>1400</th>\n",
       "      <td>friendship</td>\n",
       "      <td>genuine</td>\n",
       "      <td>1.969893</td>\n",
       "      <td>0.117667</td>\n",
       "    </tr>\n",
       "    <tr>\n",
       "      <th>1435</th>\n",
       "      <td>friendship</td>\n",
       "      <td>dislike</td>\n",
       "      <td>1.959926</td>\n",
       "      <td>-0.375000</td>\n",
       "    </tr>\n",
       "    <tr>\n",
       "      <th>1409</th>\n",
       "      <td>friendship</td>\n",
       "      <td>social</td>\n",
       "      <td>1.959926</td>\n",
       "      <td>-0.017857</td>\n",
       "    </tr>\n",
       "    <tr>\n",
       "      <th>1429</th>\n",
       "      <td>friendship</td>\n",
       "      <td>random</td>\n",
       "      <td>1.959926</td>\n",
       "      <td>0.125000</td>\n",
       "    </tr>\n",
       "    <tr>\n",
       "      <th>1428</th>\n",
       "      <td>friendship</td>\n",
       "      <td>simple</td>\n",
       "      <td>1.959926</td>\n",
       "      <td>0.000000</td>\n",
       "    </tr>\n",
       "  </tbody>\n",
       "</table>\n",
       "</div>"
      ],
      "text/plain": [
       "            noun      adj  pmi_combined  polarity\n",
       "1400  friendship  genuine      1.969893  0.117667\n",
       "1435  friendship  dislike      1.959926 -0.375000\n",
       "1409  friendship   social      1.959926 -0.017857\n",
       "1429  friendship   random      1.959926  0.125000\n",
       "1428  friendship   simple      1.959926  0.000000"
      ]
     },
     "execution_count": 17,
     "metadata": {},
     "output_type": "execute_result"
    }
   ],
   "source": [
    "pmi, friend_pos, friend_neg = get_aspects_polarity(friend_pmi)\n",
    "print(f\"pos: {friend_pos:.2f}%, neg: {friend_neg:.2f}%\")\n",
    "pmi.head()"
   ]
  },
  {
   "cell_type": "code",
   "execution_count": 18,
   "metadata": {},
   "outputs": [],
   "source": [
    "tinder_polarities.append(friend_pos)\n",
    "tinder_polarities.append(friend_neg)"
   ]
  },
  {
   "cell_type": "markdown",
   "metadata": {},
   "source": [
    "### __Curiosity__"
   ]
  },
  {
   "cell_type": "code",
   "execution_count": 19,
   "metadata": {},
   "outputs": [],
   "source": [
    "curiosity_reviews = tinder_reviews_by_category[\"curiosity\"]"
   ]
  },
  {
   "cell_type": "code",
   "execution_count": 20,
   "metadata": {},
   "outputs": [
    {
     "data": {
      "application/vnd.jupyter.widget-view+json": {
       "model_id": "c23c133803044dd7b8fa0bc1f1057d10",
       "version_major": 2,
       "version_minor": 0
      },
      "text/plain": [
       "  0%|          | 0/19107 [00:00<?, ?it/s]"
      ]
     },
     "metadata": {},
     "output_type": "display_data"
    }
   ],
   "source": [
    "cur_adj_noun_pmi = aspect_extraction.get_adj_noun_pmi(curiosity_reviews)\n",
    "cur_pmi = tinder_word_category_pmi[tinder_word_category_pmi.category == \"curiosity\"].merge(cur_adj_noun_pmi, on = [\"noun\"])"
   ]
  },
  {
   "cell_type": "code",
   "execution_count": 21,
   "metadata": {},
   "outputs": [
    {
     "name": "stdout",
     "output_type": "stream",
     "text": [
      "pos: 49.86%, neg: 50.14%\n"
     ]
    },
    {
     "data": {
      "text/html": [
       "<div>\n",
       "<style scoped>\n",
       "    .dataframe tbody tr th:only-of-type {\n",
       "        vertical-align: middle;\n",
       "    }\n",
       "\n",
       "    .dataframe tbody tr th {\n",
       "        vertical-align: top;\n",
       "    }\n",
       "\n",
       "    .dataframe thead th {\n",
       "        text-align: right;\n",
       "    }\n",
       "</style>\n",
       "<table border=\"1\" class=\"dataframe\">\n",
       "  <thead>\n",
       "    <tr style=\"text-align: right;\">\n",
       "      <th></th>\n",
       "      <th>noun</th>\n",
       "      <th>adj</th>\n",
       "      <th>pmi_combined</th>\n",
       "      <th>polarity</th>\n",
       "    </tr>\n",
       "  </thead>\n",
       "  <tbody>\n",
       "    <tr>\n",
       "      <th>682</th>\n",
       "      <td>card</td>\n",
       "      <td>impossible</td>\n",
       "      <td>2.263194</td>\n",
       "      <td>-0.03125</td>\n",
       "    </tr>\n",
       "    <tr>\n",
       "      <th>969</th>\n",
       "      <td>curiosity</td>\n",
       "      <td>funny</td>\n",
       "      <td>2.167235</td>\n",
       "      <td>-0.15000</td>\n",
       "    </tr>\n",
       "    <tr>\n",
       "      <th>953</th>\n",
       "      <td>curiosity</td>\n",
       "      <td>missed</td>\n",
       "      <td>2.130393</td>\n",
       "      <td>-0.12500</td>\n",
       "    </tr>\n",
       "    <tr>\n",
       "      <th>954</th>\n",
       "      <td>curiosity</td>\n",
       "      <td>sudden</td>\n",
       "      <td>2.130393</td>\n",
       "      <td>-0.50000</td>\n",
       "    </tr>\n",
       "    <tr>\n",
       "      <th>924</th>\n",
       "      <td>curiosity</td>\n",
       "      <td>total</td>\n",
       "      <td>2.105831</td>\n",
       "      <td>0.00000</td>\n",
       "    </tr>\n",
       "  </tbody>\n",
       "</table>\n",
       "</div>"
      ],
      "text/plain": [
       "          noun         adj  pmi_combined  polarity\n",
       "682       card  impossible      2.263194  -0.03125\n",
       "969  curiosity       funny      2.167235  -0.15000\n",
       "953  curiosity      missed      2.130393  -0.12500\n",
       "954  curiosity      sudden      2.130393  -0.50000\n",
       "924  curiosity       total      2.105831   0.00000"
      ]
     },
     "execution_count": 21,
     "metadata": {},
     "output_type": "execute_result"
    }
   ],
   "source": [
    "pmi, cur_pos, cur_neg = get_aspects_polarity(cur_pmi)\n",
    "print(f\"pos: {cur_pos:.2f}%, neg: {cur_neg:.2f}%\")\n",
    "pmi.head()"
   ]
  },
  {
   "cell_type": "code",
   "execution_count": 22,
   "metadata": {},
   "outputs": [],
   "source": [
    "tinder_polarities.append(cur_pos)\n",
    "tinder_polarities.append(cur_neg)"
   ]
  },
  {
   "cell_type": "markdown",
   "metadata": {},
   "source": [
    "### __Women__"
   ]
  },
  {
   "cell_type": "code",
   "execution_count": 23,
   "metadata": {},
   "outputs": [],
   "source": [
    "women_reviews = tinder_reviews_by_category[\"women\"]"
   ]
  },
  {
   "cell_type": "code",
   "execution_count": 24,
   "metadata": {},
   "outputs": [
    {
     "data": {
      "application/vnd.jupyter.widget-view+json": {
       "model_id": "aba21a76c3904f9ebf9c0710e214afe5",
       "version_major": 2,
       "version_minor": 0
      },
      "text/plain": [
       "  0%|          | 0/20900 [00:00<?, ?it/s]"
      ]
     },
     "metadata": {},
     "output_type": "display_data"
    }
   ],
   "source": [
    "women_adj_noun_pmi = aspect_extraction.get_adj_noun_pmi(women_reviews)\n",
    "women_pmi = tinder_word_category_pmi[tinder_word_category_pmi.category == \"women\"].merge(rel_adj_noun_pmi, on = [\"noun\"])"
   ]
  },
  {
   "cell_type": "code",
   "execution_count": 25,
   "metadata": {},
   "outputs": [
    {
     "name": "stdout",
     "output_type": "stream",
     "text": [
      "pos: 47.97%, neg: 52.03%\n"
     ]
    },
    {
     "data": {
      "text/html": [
       "<div>\n",
       "<style scoped>\n",
       "    .dataframe tbody tr th:only-of-type {\n",
       "        vertical-align: middle;\n",
       "    }\n",
       "\n",
       "    .dataframe tbody tr th {\n",
       "        vertical-align: top;\n",
       "    }\n",
       "\n",
       "    .dataframe thead th {\n",
       "        text-align: right;\n",
       "    }\n",
       "</style>\n",
       "<table border=\"1\" class=\"dataframe\">\n",
       "  <thead>\n",
       "    <tr style=\"text-align: right;\">\n",
       "      <th></th>\n",
       "      <th>noun</th>\n",
       "      <th>adj</th>\n",
       "      <th>pmi_combined</th>\n",
       "      <th>polarity</th>\n",
       "    </tr>\n",
       "  </thead>\n",
       "  <tbody>\n",
       "    <tr>\n",
       "      <th>1459</th>\n",
       "      <td>ego</td>\n",
       "      <td>sad</td>\n",
       "      <td>2.653885</td>\n",
       "      <td>-0.625000</td>\n",
       "    </tr>\n",
       "    <tr>\n",
       "      <th>1432</th>\n",
       "      <td>ego</td>\n",
       "      <td>social</td>\n",
       "      <td>2.393405</td>\n",
       "      <td>-0.017857</td>\n",
       "    </tr>\n",
       "    <tr>\n",
       "      <th>1495</th>\n",
       "      <td>ego</td>\n",
       "      <td>expensive</td>\n",
       "      <td>2.351542</td>\n",
       "      <td>0.500000</td>\n",
       "    </tr>\n",
       "    <tr>\n",
       "      <th>1492</th>\n",
       "      <td>ego</td>\n",
       "      <td>personal</td>\n",
       "      <td>2.351542</td>\n",
       "      <td>0.083333</td>\n",
       "    </tr>\n",
       "    <tr>\n",
       "      <th>1472</th>\n",
       "      <td>ego</td>\n",
       "      <td>write</td>\n",
       "      <td>2.283515</td>\n",
       "      <td>0.000000</td>\n",
       "    </tr>\n",
       "  </tbody>\n",
       "</table>\n",
       "</div>"
      ],
      "text/plain": [
       "     noun        adj  pmi_combined  polarity\n",
       "1459  ego        sad      2.653885 -0.625000\n",
       "1432  ego     social      2.393405 -0.017857\n",
       "1495  ego  expensive      2.351542  0.500000\n",
       "1492  ego   personal      2.351542  0.083333\n",
       "1472  ego      write      2.283515  0.000000"
      ]
     },
     "execution_count": 25,
     "metadata": {},
     "output_type": "execute_result"
    }
   ],
   "source": [
    "pmi, women_pos, women_neg = get_aspects_polarity(women_pmi)\n",
    "print(f\"pos: {women_pos:.2f}%, neg: {women_neg:.2f}%\")\n",
    "pmi.head()"
   ]
  },
  {
   "cell_type": "code",
   "execution_count": 26,
   "metadata": {},
   "outputs": [],
   "source": [
    "tinder_polarities.append(women_pos)\n",
    "tinder_polarities.append(women_neg)"
   ]
  },
  {
   "cell_type": "markdown",
   "metadata": {},
   "source": [
    "### __Men__"
   ]
  },
  {
   "cell_type": "code",
   "execution_count": 27,
   "metadata": {},
   "outputs": [],
   "source": [
    "men_reviews = tinder_reviews_by_category[\"men\"]"
   ]
  },
  {
   "cell_type": "code",
   "execution_count": 28,
   "metadata": {},
   "outputs": [
    {
     "data": {
      "application/vnd.jupyter.widget-view+json": {
       "model_id": "904244966f34492c926c61f4083cdfba",
       "version_major": 2,
       "version_minor": 0
      },
      "text/plain": [
       "  0%|          | 0/21816 [00:00<?, ?it/s]"
      ]
     },
     "metadata": {},
     "output_type": "display_data"
    }
   ],
   "source": [
    "men_adj_noun_pmi = aspect_extraction.get_adj_noun_pmi(men_reviews)\n",
    "men_pmi = tinder_word_category_pmi[tinder_word_category_pmi.category == \"men\"].merge(rel_adj_noun_pmi, on = [\"noun\"])"
   ]
  },
  {
   "cell_type": "code",
   "execution_count": 29,
   "metadata": {},
   "outputs": [
    {
     "name": "stdout",
     "output_type": "stream",
     "text": [
      "pos: 47.76%, neg: 52.24%\n"
     ]
    },
    {
     "data": {
      "text/html": [
       "<div>\n",
       "<style scoped>\n",
       "    .dataframe tbody tr th:only-of-type {\n",
       "        vertical-align: middle;\n",
       "    }\n",
       "\n",
       "    .dataframe tbody tr th {\n",
       "        vertical-align: top;\n",
       "    }\n",
       "\n",
       "    .dataframe thead th {\n",
       "        text-align: right;\n",
       "    }\n",
       "</style>\n",
       "<table border=\"1\" class=\"dataframe\">\n",
       "  <thead>\n",
       "    <tr style=\"text-align: right;\">\n",
       "      <th></th>\n",
       "      <th>noun</th>\n",
       "      <th>adj</th>\n",
       "      <th>pmi_combined</th>\n",
       "      <th>polarity</th>\n",
       "    </tr>\n",
       "  </thead>\n",
       "  <tbody>\n",
       "    <tr>\n",
       "      <th>12181</th>\n",
       "      <td>trans</td>\n",
       "      <td>quick</td>\n",
       "      <td>2.155503</td>\n",
       "      <td>0.000</td>\n",
       "    </tr>\n",
       "    <tr>\n",
       "      <th>12186</th>\n",
       "      <td>trans</td>\n",
       "      <td>romantic</td>\n",
       "      <td>2.155503</td>\n",
       "      <td>0.075</td>\n",
       "    </tr>\n",
       "    <tr>\n",
       "      <th>741</th>\n",
       "      <td>body</td>\n",
       "      <td>additional</td>\n",
       "      <td>2.087475</td>\n",
       "      <td>0.000</td>\n",
       "    </tr>\n",
       "    <tr>\n",
       "      <th>10259</th>\n",
       "      <td>settings</td>\n",
       "      <td>bunch</td>\n",
       "      <td>2.087475</td>\n",
       "      <td>-0.025</td>\n",
       "    </tr>\n",
       "    <tr>\n",
       "      <th>10260</th>\n",
       "      <td>settings</td>\n",
       "      <td>romantic</td>\n",
       "      <td>2.087475</td>\n",
       "      <td>0.075</td>\n",
       "    </tr>\n",
       "  </tbody>\n",
       "</table>\n",
       "</div>"
      ],
      "text/plain": [
       "           noun         adj  pmi_combined  polarity\n",
       "12181     trans       quick      2.155503     0.000\n",
       "12186     trans    romantic      2.155503     0.075\n",
       "741        body  additional      2.087475     0.000\n",
       "10259  settings       bunch      2.087475    -0.025\n",
       "10260  settings    romantic      2.087475     0.075"
      ]
     },
     "execution_count": 29,
     "metadata": {},
     "output_type": "execute_result"
    }
   ],
   "source": [
    "pmi, men_pos, men_neg = get_aspects_polarity(men_pmi)\n",
    "print(f\"pos: {men_pos:.2f}%, neg: {men_neg:.2f}%\")\n",
    "pmi.head()"
   ]
  },
  {
   "cell_type": "code",
   "execution_count": 30,
   "metadata": {},
   "outputs": [],
   "source": [
    "tinder_polarities.append(men_pos)\n",
    "tinder_polarities.append(men_neg)"
   ]
  },
  {
   "attachments": {},
   "cell_type": "markdown",
   "metadata": {},
   "source": [
    "### __Self Esteem__"
   ]
  },
  {
   "cell_type": "code",
   "execution_count": 31,
   "metadata": {},
   "outputs": [],
   "source": [
    "self_esteem_reviews = tinder_reviews_by_category[\"self esteem\"]"
   ]
  },
  {
   "cell_type": "code",
   "execution_count": 32,
   "metadata": {},
   "outputs": [
    {
     "data": {
      "application/vnd.jupyter.widget-view+json": {
       "model_id": "c0f7cb82c2f2475aa5d1f9a85cb62039",
       "version_major": 2,
       "version_minor": 0
      },
      "text/plain": [
       "  0%|          | 0/17670 [00:00<?, ?it/s]"
      ]
     },
     "metadata": {},
     "output_type": "display_data"
    }
   ],
   "source": [
    "self_adj_noun_pmi = aspect_extraction.get_adj_noun_pmi(self_esteem_reviews)\n",
    "self_pmi = tinder_word_category_pmi[tinder_word_category_pmi.category == \"self esteem\"].merge(self_adj_noun_pmi, on = [\"noun\"])"
   ]
  },
  {
   "cell_type": "code",
   "execution_count": 33,
   "metadata": {},
   "outputs": [
    {
     "name": "stdout",
     "output_type": "stream",
     "text": [
      "pos: 45.40%, neg: 54.60%\n"
     ]
    },
    {
     "data": {
      "text/html": [
       "<div>\n",
       "<style scoped>\n",
       "    .dataframe tbody tr th:only-of-type {\n",
       "        vertical-align: middle;\n",
       "    }\n",
       "\n",
       "    .dataframe tbody tr th {\n",
       "        vertical-align: top;\n",
       "    }\n",
       "\n",
       "    .dataframe thead th {\n",
       "        text-align: right;\n",
       "    }\n",
       "</style>\n",
       "<table border=\"1\" class=\"dataframe\">\n",
       "  <thead>\n",
       "    <tr style=\"text-align: right;\">\n",
       "      <th></th>\n",
       "      <th>noun</th>\n",
       "      <th>adj</th>\n",
       "      <th>pmi_combined</th>\n",
       "      <th>polarity</th>\n",
       "    </tr>\n",
       "  </thead>\n",
       "  <tbody>\n",
       "    <tr>\n",
       "      <th>5552</th>\n",
       "      <td>subscribe</td>\n",
       "      <td>sad</td>\n",
       "      <td>2.132335</td>\n",
       "      <td>-0.625000</td>\n",
       "    </tr>\n",
       "    <tr>\n",
       "      <th>5534</th>\n",
       "      <td>subscribe</td>\n",
       "      <td>feature</td>\n",
       "      <td>2.084716</td>\n",
       "      <td>0.015625</td>\n",
       "    </tr>\n",
       "    <tr>\n",
       "      <th>5521</th>\n",
       "      <td>subscribe</td>\n",
       "      <td>stupid</td>\n",
       "      <td>2.058261</td>\n",
       "      <td>-0.343750</td>\n",
       "    </tr>\n",
       "    <tr>\n",
       "      <th>5492</th>\n",
       "      <td>subscribe</td>\n",
       "      <td>real</td>\n",
       "      <td>2.021224</td>\n",
       "      <td>0.009615</td>\n",
       "    </tr>\n",
       "    <tr>\n",
       "      <th>5502</th>\n",
       "      <td>subscribe</td>\n",
       "      <td>delete</td>\n",
       "      <td>2.017752</td>\n",
       "      <td>-0.041667</td>\n",
       "    </tr>\n",
       "  </tbody>\n",
       "</table>\n",
       "</div>"
      ],
      "text/plain": [
       "           noun      adj  pmi_combined  polarity\n",
       "5552  subscribe      sad      2.132335 -0.625000\n",
       "5534  subscribe  feature      2.084716  0.015625\n",
       "5521  subscribe   stupid      2.058261 -0.343750\n",
       "5492  subscribe     real      2.021224  0.009615\n",
       "5502  subscribe   delete      2.017752 -0.041667"
      ]
     },
     "execution_count": 33,
     "metadata": {},
     "output_type": "execute_result"
    }
   ],
   "source": [
    "pmi, self_pos, self_neg = get_aspects_polarity(self_pmi)\n",
    "print(f\"pos: {self_pos:.2f}%, neg: {self_neg:.2f}%\")\n",
    "pmi.head()"
   ]
  },
  {
   "cell_type": "code",
   "execution_count": 34,
   "metadata": {},
   "outputs": [],
   "source": [
    "tinder_polarities.append(self_pos)\n",
    "tinder_polarities.append(self_neg)"
   ]
  },
  {
   "attachments": {},
   "cell_type": "markdown",
   "metadata": {},
   "source": [
    "### __Attractiveness (appearence)__"
   ]
  },
  {
   "cell_type": "code",
   "execution_count": 35,
   "metadata": {},
   "outputs": [],
   "source": [
    "attractiveness_reviews = tinder_reviews_by_category[\"attractiveness\"]"
   ]
  },
  {
   "cell_type": "code",
   "execution_count": 36,
   "metadata": {},
   "outputs": [
    {
     "data": {
      "application/vnd.jupyter.widget-view+json": {
       "model_id": "643a24f7946e404885abb75aa724d4c5",
       "version_major": 2,
       "version_minor": 0
      },
      "text/plain": [
       "  0%|          | 0/20176 [00:00<?, ?it/s]"
      ]
     },
     "metadata": {},
     "output_type": "display_data"
    }
   ],
   "source": [
    "attr_adj_noun_pmi = aspect_extraction.get_adj_noun_pmi(attractiveness_reviews)\n",
    "attr_pmi = tinder_word_category_pmi[tinder_word_category_pmi.category == \"attractiveness\"].merge(attr_adj_noun_pmi, on = [\"noun\"])"
   ]
  },
  {
   "cell_type": "code",
   "execution_count": null,
   "metadata": {},
   "outputs": [
    {
     "name": "stdout",
     "output_type": "stream",
     "text": [
      "pos: 43.46%, neg: 56.54%\n"
     ]
    },
    {
     "data": {
      "text/html": [
       "<div>\n",
       "<style scoped>\n",
       "    .dataframe tbody tr th:only-of-type {\n",
       "        vertical-align: middle;\n",
       "    }\n",
       "\n",
       "    .dataframe tbody tr th {\n",
       "        vertical-align: top;\n",
       "    }\n",
       "\n",
       "    .dataframe thead th {\n",
       "        text-align: right;\n",
       "    }\n",
       "</style>\n",
       "<table border=\"1\" class=\"dataframe\">\n",
       "  <thead>\n",
       "    <tr style=\"text-align: right;\">\n",
       "      <th></th>\n",
       "      <th>noun</th>\n",
       "      <th>adj</th>\n",
       "      <th>pmi_combined</th>\n",
       "      <th>polarity</th>\n",
       "    </tr>\n",
       "  </thead>\n",
       "  <tbody>\n",
       "    <tr>\n",
       "      <th>404</th>\n",
       "      <td>attractiveness</td>\n",
       "      <td>previous</td>\n",
       "      <td>2.287804</td>\n",
       "      <td>-0.166667</td>\n",
       "    </tr>\n",
       "    <tr>\n",
       "      <th>382</th>\n",
       "      <td>attractiveness</td>\n",
       "      <td>attractive</td>\n",
       "      <td>2.229471</td>\n",
       "      <td>0.416667</td>\n",
       "    </tr>\n",
       "    <tr>\n",
       "      <th>349</th>\n",
       "      <td>attractiveness</td>\n",
       "      <td>algorithm</td>\n",
       "      <td>2.171137</td>\n",
       "      <td>0.000000</td>\n",
       "    </tr>\n",
       "    <tr>\n",
       "      <th>364</th>\n",
       "      <td>attractiveness</td>\n",
       "      <td>spent</td>\n",
       "      <td>2.162804</td>\n",
       "      <td>0.125000</td>\n",
       "    </tr>\n",
       "    <tr>\n",
       "      <th>403</th>\n",
       "      <td>attractiveness</td>\n",
       "      <td>actual</td>\n",
       "      <td>2.141971</td>\n",
       "      <td>0.075000</td>\n",
       "    </tr>\n",
       "  </tbody>\n",
       "</table>\n",
       "</div>"
      ],
      "text/plain": [
       "               noun         adj  pmi_combined  polarity\n",
       "404  attractiveness    previous      2.287804 -0.166667\n",
       "382  attractiveness  attractive      2.229471  0.416667\n",
       "349  attractiveness   algorithm      2.171137  0.000000\n",
       "364  attractiveness       spent      2.162804  0.125000\n",
       "403  attractiveness      actual      2.141971  0.075000"
      ]
     },
     "execution_count": 109,
     "metadata": {},
     "output_type": "execute_result"
    }
   ],
   "source": [
    "pmi, attr_pos, attr_neg = get_aspects_polarity(attr_pmi)\n",
    "print(f\"pos: {attr_pos:.2f}%, neg: {attr_neg:.2f}%\")\n",
    "pmi.head()"
   ]
  },
  {
   "cell_type": "code",
   "execution_count": null,
   "metadata": {},
   "outputs": [],
   "source": [
    "tinder_polarities.append(attr_pos)\n",
    "tinder_polarities.append(attr_neg)"
   ]
  },
  {
   "attachments": {},
   "cell_type": "markdown",
   "metadata": {},
   "source": [
    "### __Attractiveness (intelligence)__"
   ]
  },
  {
   "cell_type": "code",
   "execution_count": null,
   "metadata": {},
   "outputs": [],
   "source": [
    "intelligence_reviews = tinder_reviews_by_category[\"intelligence\"]"
   ]
  },
  {
   "cell_type": "code",
   "execution_count": null,
   "metadata": {},
   "outputs": [
    {
     "data": {
      "application/vnd.jupyter.widget-view+json": {
       "model_id": "a60767703c86461d92753cedff7d9f8a",
       "version_major": 2,
       "version_minor": 0
      },
      "text/plain": [
       "  0%|          | 0/19691 [00:00<?, ?it/s]"
      ]
     },
     "metadata": {},
     "output_type": "display_data"
    }
   ],
   "source": [
    "int_adj_noun_pmi = aspect_extraction.get_adj_noun_pmi(intelligence_reviews)\n",
    "int_pmi = tinder_word_category_pmi[tinder_word_category_pmi.category == \"intelligence\"].merge(int_adj_noun_pmi, on = [\"noun\"])"
   ]
  },
  {
   "cell_type": "code",
   "execution_count": null,
   "metadata": {},
   "outputs": [
    {
     "name": "stdout",
     "output_type": "stream",
     "text": [
      "pos: 43.37%, neg: 56.63%\n"
     ]
    },
    {
     "data": {
      "text/html": [
       "<div>\n",
       "<style scoped>\n",
       "    .dataframe tbody tr th:only-of-type {\n",
       "        vertical-align: middle;\n",
       "    }\n",
       "\n",
       "    .dataframe tbody tr th {\n",
       "        vertical-align: top;\n",
       "    }\n",
       "\n",
       "    .dataframe thead th {\n",
       "        text-align: right;\n",
       "    }\n",
       "</style>\n",
       "<table border=\"1\" class=\"dataframe\">\n",
       "  <thead>\n",
       "    <tr style=\"text-align: right;\">\n",
       "      <th></th>\n",
       "      <th>noun</th>\n",
       "      <th>adj</th>\n",
       "      <th>pmi_combined</th>\n",
       "      <th>polarity</th>\n",
       "    </tr>\n",
       "  </thead>\n",
       "  <tbody>\n",
       "    <tr>\n",
       "      <th>720</th>\n",
       "      <td>cancel</td>\n",
       "      <td>impossible</td>\n",
       "      <td>1.989158</td>\n",
       "      <td>-0.03125</td>\n",
       "    </tr>\n",
       "    <tr>\n",
       "      <th>507</th>\n",
       "      <td>boost</td>\n",
       "      <td>daily</td>\n",
       "      <td>1.896440</td>\n",
       "      <td>0.02500</td>\n",
       "    </tr>\n",
       "    <tr>\n",
       "      <th>5372</th>\n",
       "      <td>stars</td>\n",
       "      <td>refused</td>\n",
       "      <td>1.831565</td>\n",
       "      <td>-0.12500</td>\n",
       "    </tr>\n",
       "    <tr>\n",
       "      <th>96</th>\n",
       "      <td>aap</td>\n",
       "      <td>enjoy</td>\n",
       "      <td>1.741489</td>\n",
       "      <td>0.42500</td>\n",
       "    </tr>\n",
       "    <tr>\n",
       "      <th>1268</th>\n",
       "      <td>error</td>\n",
       "      <td>broke</td>\n",
       "      <td>1.720997</td>\n",
       "      <td>-0.01875</td>\n",
       "    </tr>\n",
       "  </tbody>\n",
       "</table>\n",
       "</div>"
      ],
      "text/plain": [
       "        noun         adj  pmi_combined  polarity\n",
       "720   cancel  impossible      1.989158  -0.03125\n",
       "507    boost       daily      1.896440   0.02500\n",
       "5372   stars     refused      1.831565  -0.12500\n",
       "96       aap       enjoy      1.741489   0.42500\n",
       "1268   error       broke      1.720997  -0.01875"
      ]
     },
     "execution_count": 111,
     "metadata": {},
     "output_type": "execute_result"
    }
   ],
   "source": [
    "pmi, int_pos, int_neg = get_aspects_polarity(int_pmi)\n",
    "print(f\"pos: {int_pos:.2f}%, neg: {int_neg:.2f}%\")\n",
    "pmi.head()"
   ]
  },
  {
   "cell_type": "code",
   "execution_count": null,
   "metadata": {},
   "outputs": [],
   "source": [
    "tinder_polarities.append(int_pos)\n",
    "tinder_polarities.append(int_neg)"
   ]
  },
  {
   "cell_type": "code",
   "execution_count": null,
   "metadata": {},
   "outputs": [],
   "source": [
    "dating_app_polarities[\"Tinder\"] = tinder_polarities"
   ]
  },
  {
   "attachments": {},
   "cell_type": "markdown",
   "metadata": {},
   "source": [
    "## __Bumble__"
   ]
  },
  {
   "cell_type": "code",
   "execution_count": null,
   "metadata": {},
   "outputs": [
    {
     "data": {
      "application/vnd.jupyter.widget-view+json": {
       "model_id": "4e0c83ccc9a14c3a86ba2a776ac54d2a",
       "version_major": 2,
       "version_minor": 0
      },
      "text/plain": [
       "  0%|          | 0/102380 [00:00<?, ?it/s]"
      ]
     },
     "metadata": {},
     "output_type": "display_data"
    },
    {
     "data": {
      "text/html": [
       "<div>\n",
       "<style scoped>\n",
       "    .dataframe tbody tr th:only-of-type {\n",
       "        vertical-align: middle;\n",
       "    }\n",
       "\n",
       "    .dataframe tbody tr th {\n",
       "        vertical-align: top;\n",
       "    }\n",
       "\n",
       "    .dataframe thead th {\n",
       "        text-align: right;\n",
       "    }\n",
       "</style>\n",
       "<table border=\"1\" class=\"dataframe\">\n",
       "  <thead>\n",
       "    <tr style=\"text-align: right;\">\n",
       "      <th></th>\n",
       "      <th>category</th>\n",
       "      <th>noun</th>\n",
       "      <th>noun_cat_pmi</th>\n",
       "    </tr>\n",
       "  </thead>\n",
       "  <tbody>\n",
       "    <tr>\n",
       "      <th>0</th>\n",
       "      <td>attractiveness</td>\n",
       "      <td>a</td>\n",
       "      <td>0.420972</td>\n",
       "    </tr>\n",
       "    <tr>\n",
       "      <th>1</th>\n",
       "      <td>attractiveness</td>\n",
       "      <td>absolutely</td>\n",
       "      <td>0.494088</td>\n",
       "    </tr>\n",
       "    <tr>\n",
       "      <th>2</th>\n",
       "      <td>attractiveness</td>\n",
       "      <td>access</td>\n",
       "      <td>0.529772</td>\n",
       "    </tr>\n",
       "    <tr>\n",
       "      <th>3</th>\n",
       "      <td>attractiveness</td>\n",
       "      <td>account</td>\n",
       "      <td>0.529595</td>\n",
       "    </tr>\n",
       "    <tr>\n",
       "      <th>4</th>\n",
       "      <td>attractiveness</td>\n",
       "      <td>accounts</td>\n",
       "      <td>0.490613</td>\n",
       "    </tr>\n",
       "  </tbody>\n",
       "</table>\n",
       "</div>"
      ],
      "text/plain": [
       "         category        noun  noun_cat_pmi\n",
       "0  attractiveness           a      0.420972\n",
       "1  attractiveness  absolutely      0.494088\n",
       "2  attractiveness      access      0.529772\n",
       "3  attractiveness     account      0.529595\n",
       "4  attractiveness    accounts      0.490613"
      ]
     },
     "execution_count": 128,
     "metadata": {},
     "output_type": "execute_result"
    }
   ],
   "source": [
    "bumble_reviews_by_category = aspect_extraction.get_reviews_by_category(app = \"bumble\", categories = [\"casual sex\", \"relationship\", \"friendship\", \"curiosity\", \"women\", \"men\", \"self esteem\", \"attractiveness\", \"intelligence\"])\n",
    "bumble_word_category_pmi = aspect_extraction.get_noun_category_pmi(bumble_reviews_by_category)\n",
    "bumble_word_category_pmi.head()"
   ]
  },
  {
   "cell_type": "code",
   "execution_count": null,
   "metadata": {},
   "outputs": [],
   "source": [
    "bumble_polarities = []"
   ]
  },
  {
   "attachments": {},
   "cell_type": "markdown",
   "metadata": {},
   "source": [
    "### __Casual sex__"
   ]
  },
  {
   "cell_type": "code",
   "execution_count": null,
   "metadata": {},
   "outputs": [],
   "source": [
    "casual_sex_reviews = bumble_reviews_by_category[\"casual sex\"]"
   ]
  },
  {
   "cell_type": "code",
   "execution_count": null,
   "metadata": {},
   "outputs": [
    {
     "data": {
      "application/vnd.jupyter.widget-view+json": {
       "model_id": "ec1ee6051b5c495da817b95d2e9803a2",
       "version_major": 2,
       "version_minor": 0
      },
      "text/plain": [
       "  0%|          | 0/18786 [00:00<?, ?it/s]"
      ]
     },
     "metadata": {},
     "output_type": "display_data"
    }
   ],
   "source": [
    "cs_adj_noun_pmi = aspect_extraction.get_adj_noun_pmi(casual_sex_reviews)\n",
    "cs_pmi = tinder_word_category_pmi[tinder_word_category_pmi.category == \"casual sex\"].merge(cs_adj_noun_pmi, on = [\"noun\"])"
   ]
  },
  {
   "cell_type": "code",
   "execution_count": null,
   "metadata": {},
   "outputs": [
    {
     "name": "stdout",
     "output_type": "stream",
     "text": [
      "pos: 44.70%, neg: 55.30%\n"
     ]
    },
    {
     "data": {
      "text/html": [
       "<div>\n",
       "<style scoped>\n",
       "    .dataframe tbody tr th:only-of-type {\n",
       "        vertical-align: middle;\n",
       "    }\n",
       "\n",
       "    .dataframe tbody tr th {\n",
       "        vertical-align: top;\n",
       "    }\n",
       "\n",
       "    .dataframe thead th {\n",
       "        text-align: right;\n",
       "    }\n",
       "</style>\n",
       "<table border=\"1\" class=\"dataframe\">\n",
       "  <thead>\n",
       "    <tr style=\"text-align: right;\">\n",
       "      <th></th>\n",
       "      <th>noun</th>\n",
       "      <th>adj</th>\n",
       "      <th>pmi_combined</th>\n",
       "      <th>polarity</th>\n",
       "    </tr>\n",
       "  </thead>\n",
       "  <tbody>\n",
       "    <tr>\n",
       "      <th>7220</th>\n",
       "      <td>need</td>\n",
       "      <td>screen</td>\n",
       "      <td>2.424476</td>\n",
       "      <td>0.007812</td>\n",
       "    </tr>\n",
       "    <tr>\n",
       "      <th>9983</th>\n",
       "      <td>prostitution</td>\n",
       "      <td>illegal</td>\n",
       "      <td>2.390899</td>\n",
       "      <td>0.000000</td>\n",
       "    </tr>\n",
       "    <tr>\n",
       "      <th>14353</th>\n",
       "      <td>weeks</td>\n",
       "      <td>escort</td>\n",
       "      <td>2.390394</td>\n",
       "      <td>-0.041667</td>\n",
       "    </tr>\n",
       "    <tr>\n",
       "      <th>10287</th>\n",
       "      <td>rate</td>\n",
       "      <td>catfish</td>\n",
       "      <td>2.285821</td>\n",
       "      <td>0.000000</td>\n",
       "    </tr>\n",
       "    <tr>\n",
       "      <th>13031</th>\n",
       "      <td>thanks</td>\n",
       "      <td>safe</td>\n",
       "      <td>2.189139</td>\n",
       "      <td>0.160714</td>\n",
       "    </tr>\n",
       "  </tbody>\n",
       "</table>\n",
       "</div>"
      ],
      "text/plain": [
       "               noun      adj  pmi_combined  polarity\n",
       "7220           need   screen      2.424476  0.007812\n",
       "9983   prostitution  illegal      2.390899  0.000000\n",
       "14353         weeks   escort      2.390394 -0.041667\n",
       "10287          rate  catfish      2.285821  0.000000\n",
       "13031        thanks     safe      2.189139  0.160714"
      ]
     },
     "execution_count": 133,
     "metadata": {},
     "output_type": "execute_result"
    }
   ],
   "source": [
    "pmi, cs_pos, cs_neg = get_aspects_polarity(cs_pmi)\n",
    "print(f\"pos: {cs_pos:.2f}%, neg: {cs_neg:.2f}%\")\n",
    "pmi.head()"
   ]
  },
  {
   "cell_type": "code",
   "execution_count": null,
   "metadata": {},
   "outputs": [],
   "source": [
    "bumble_polarities.append(cs_pos)\n",
    "bumble_polarities.append(cs_neg)"
   ]
  },
  {
   "attachments": {},
   "cell_type": "markdown",
   "metadata": {},
   "source": [
    "### __Relationship__"
   ]
  },
  {
   "cell_type": "code",
   "execution_count": null,
   "metadata": {},
   "outputs": [],
   "source": [
    "relationship_reviews = bumble_reviews_by_category[\"relationship\"]"
   ]
  },
  {
   "cell_type": "code",
   "execution_count": null,
   "metadata": {},
   "outputs": [
    {
     "data": {
      "application/vnd.jupyter.widget-view+json": {
       "model_id": "608d88b55d5244ee83e529ae54207e2d",
       "version_major": 2,
       "version_minor": 0
      },
      "text/plain": [
       "  0%|          | 0/19600 [00:00<?, ?it/s]"
      ]
     },
     "metadata": {},
     "output_type": "display_data"
    }
   ],
   "source": [
    "rel_adj_noun_pmi = aspect_extraction.get_adj_noun_pmi(relationship_reviews)\n",
    "rel_pmi = tinder_word_category_pmi[tinder_word_category_pmi.category == \"relationship\"].merge(rel_adj_noun_pmi, on = [\"noun\"])"
   ]
  },
  {
   "cell_type": "code",
   "execution_count": null,
   "metadata": {},
   "outputs": [
    {
     "name": "stdout",
     "output_type": "stream",
     "text": [
      "pos: 44.70%, neg: 55.30%\n"
     ]
    },
    {
     "data": {
      "text/html": [
       "<div>\n",
       "<style scoped>\n",
       "    .dataframe tbody tr th:only-of-type {\n",
       "        vertical-align: middle;\n",
       "    }\n",
       "\n",
       "    .dataframe tbody tr th {\n",
       "        vertical-align: top;\n",
       "    }\n",
       "\n",
       "    .dataframe thead th {\n",
       "        text-align: right;\n",
       "    }\n",
       "</style>\n",
       "<table border=\"1\" class=\"dataframe\">\n",
       "  <thead>\n",
       "    <tr style=\"text-align: right;\">\n",
       "      <th></th>\n",
       "      <th>noun</th>\n",
       "      <th>adj</th>\n",
       "      <th>pmi_combined</th>\n",
       "      <th>polarity</th>\n",
       "    </tr>\n",
       "  </thead>\n",
       "  <tbody>\n",
       "    <tr>\n",
       "      <th>5073</th>\n",
       "      <td>list</td>\n",
       "      <td>entire</td>\n",
       "      <td>2.425769</td>\n",
       "      <td>0.100000</td>\n",
       "    </tr>\n",
       "    <tr>\n",
       "      <th>11828</th>\n",
       "      <td>tons</td>\n",
       "      <td>bumble</td>\n",
       "      <td>2.177573</td>\n",
       "      <td>-0.250000</td>\n",
       "    </tr>\n",
       "    <tr>\n",
       "      <th>5084</th>\n",
       "      <td>list</td>\n",
       "      <td>active</td>\n",
       "      <td>2.079449</td>\n",
       "      <td>0.022059</td>\n",
       "    </tr>\n",
       "    <tr>\n",
       "      <th>5074</th>\n",
       "      <td>list</td>\n",
       "      <td>difficult</td>\n",
       "      <td>2.079449</td>\n",
       "      <td>-0.687500</td>\n",
       "    </tr>\n",
       "    <tr>\n",
       "      <th>1002</th>\n",
       "      <td>build</td>\n",
       "      <td>potential</td>\n",
       "      <td>2.075009</td>\n",
       "      <td>-0.125000</td>\n",
       "    </tr>\n",
       "  </tbody>\n",
       "</table>\n",
       "</div>"
      ],
      "text/plain": [
       "        noun        adj  pmi_combined  polarity\n",
       "5073    list     entire      2.425769  0.100000\n",
       "11828   tons     bumble      2.177573 -0.250000\n",
       "5084    list     active      2.079449  0.022059\n",
       "5074    list  difficult      2.079449 -0.687500\n",
       "1002   build  potential      2.075009 -0.125000"
      ]
     },
     "execution_count": 137,
     "metadata": {},
     "output_type": "execute_result"
    }
   ],
   "source": [
    "pmi, rel_pos, rel_neg = get_aspects_polarity(rel_pmi)\n",
    "print(f\"pos: {cs_pos:.2f}%, neg: {cs_neg:.2f}%\")\n",
    "pmi.head()"
   ]
  },
  {
   "cell_type": "code",
   "execution_count": null,
   "metadata": {},
   "outputs": [],
   "source": [
    "bumble_polarities.append(rel_pos)\n",
    "bumble_polarities.append(rel_neg)"
   ]
  },
  {
   "cell_type": "markdown",
   "metadata": {},
   "source": [
    "### __Friendship__"
   ]
  },
  {
   "cell_type": "code",
   "execution_count": null,
   "metadata": {},
   "outputs": [],
   "source": [
    "friendship_reviews = bumble_reviews_by_category[\"friendship\"]"
   ]
  },
  {
   "cell_type": "code",
   "execution_count": null,
   "metadata": {},
   "outputs": [],
   "source": [
    "friend_adj_noun_pmi = aspect_extraction.get_adj_noun_pmi(friendship_reviews)\n",
    "friend_pmi = tinder_word_category_pmi[tinder_word_category_pmi.category == \"friendship\"].merge(friend_adj_noun_pmi, on = [\"noun\"])"
   ]
  },
  {
   "cell_type": "code",
   "execution_count": null,
   "metadata": {},
   "outputs": [],
   "source": [
    "pmi, rel_pos, rel_neg = get_aspects_polarity(friend_pmi)\n",
    "print(f\"pos: {friend_pos:.2f}%, neg: {friend_neg:.2f}%\")\n",
    "pmi.head()"
   ]
  },
  {
   "cell_type": "code",
   "execution_count": null,
   "metadata": {},
   "outputs": [],
   "source": [
    "bumble_polarities.append(friend_pos)\n",
    "bumble_polarities.append(friend_neg)"
   ]
  },
  {
   "attachments": {},
   "cell_type": "markdown",
   "metadata": {},
   "source": [
    "### __Curiosity__"
   ]
  },
  {
   "cell_type": "code",
   "execution_count": null,
   "metadata": {},
   "outputs": [],
   "source": [
    "curiosity_reviews = bumble_reviews_by_category[\"curiosity\"]"
   ]
  },
  {
   "cell_type": "code",
   "execution_count": null,
   "metadata": {},
   "outputs": [],
   "source": [
    "cur_adj_noun_pmi = aspect_extraction.get_adj_noun_pmi(curiosity_reviews)\n",
    "curiosity_pmi = tinder_word_category_pmi[tinder_word_category_pmi.category == \"curiosity\"].merge(cur_adj_noun_pmi, on = [\"noun\"])"
   ]
  },
  {
   "cell_type": "code",
   "execution_count": null,
   "metadata": {},
   "outputs": [],
   "source": [
    "pmi, cur_pos, cur_neg = get_aspects_polarity(cur_pmi)\n",
    "print(f\"pos: {cur_pos:.2f}%, neg: {cur_neg:.2f}%\")\n",
    "pmi.head()"
   ]
  },
  {
   "cell_type": "code",
   "execution_count": null,
   "metadata": {},
   "outputs": [],
   "source": [
    "bumble_polarities.append(cur_pos)\n",
    "bumble_polarities.append(cur_neg)"
   ]
  },
  {
   "cell_type": "markdown",
   "metadata": {},
   "source": [
    "### __Women__"
   ]
  },
  {
   "cell_type": "code",
   "execution_count": null,
   "metadata": {},
   "outputs": [],
   "source": [
    "women_reviews = bumble_reviews_by_category[\"women\"]"
   ]
  },
  {
   "cell_type": "code",
   "execution_count": null,
   "metadata": {},
   "outputs": [],
   "source": [
    "women_adj_noun_pmi = aspect_extraction.get_adj_noun_pmi(women_reviews)\n",
    "women_pmi = tinder_word_category_pmi[tinder_word_category_pmi.category == \"women\"].merge(women_adj_noun_pmi, on = [\"noun\"])"
   ]
  },
  {
   "cell_type": "code",
   "execution_count": null,
   "metadata": {},
   "outputs": [],
   "source": [
    "pmi, women_pos, women_neg = get_aspects_polarity(women_pmi)\n",
    "print(f\"pos: {women_pos:.2f}%, neg: {women_neg:.2f}%\")\n",
    "pmi.head()"
   ]
  },
  {
   "cell_type": "code",
   "execution_count": null,
   "metadata": {},
   "outputs": [],
   "source": [
    "bumble_polarities.append(women_pos)\n",
    "bumble_polarities.append(women_neg)"
   ]
  },
  {
   "attachments": {},
   "cell_type": "markdown",
   "metadata": {},
   "source": [
    "### __Men__"
   ]
  },
  {
   "cell_type": "code",
   "execution_count": null,
   "metadata": {},
   "outputs": [],
   "source": [
    "men_reviews = bumble_reviews_by_category[\"men\"]"
   ]
  },
  {
   "cell_type": "code",
   "execution_count": null,
   "metadata": {},
   "outputs": [],
   "source": [
    "men_adj_noun_pmi = aspect_extraction.get_adj_noun_pmi(men_reviews)\n",
    "men_pmi = tinder_word_category_pmi[tinder_word_category_pmi.category == \"men\"].merge(men_adj_noun_pmi, on = [\"noun\"])"
   ]
  },
  {
   "cell_type": "code",
   "execution_count": null,
   "metadata": {},
   "outputs": [],
   "source": [
    "pmi, men_pos, me_neg = get_aspects_polarity(men_pmi)\n",
    "print(f\"pos: {men_pos:.2f}%, neg: {men_neg:.2f}%\")\n",
    "pmi.head()"
   ]
  },
  {
   "cell_type": "code",
   "execution_count": null,
   "metadata": {},
   "outputs": [],
   "source": [
    "bumble_polarities.append(men_pos)\n",
    "bumble_polarities.append(men_neg)"
   ]
  },
  {
   "attachments": {},
   "cell_type": "markdown",
   "metadata": {},
   "source": [
    "### __Attractiveness (appearence)__"
   ]
  },
  {
   "cell_type": "code",
   "execution_count": null,
   "metadata": {},
   "outputs": [],
   "source": [
    "attractiveness_reviews = bumble_reviews_by_category[\"attractiveness\"]"
   ]
  },
  {
   "cell_type": "code",
   "execution_count": null,
   "metadata": {},
   "outputs": [],
   "source": [
    "attr_adj_noun_pmi = aspect_extraction.get_adj_noun_pmi(attractiveness_reviews)\n",
    "attr_pmi = tinder_word_category_pmi[tinder_word_category_pmi.category == \"attractiveness\"].merge(attr_adj_noun_pmi, on = [\"noun\"])"
   ]
  },
  {
   "cell_type": "code",
   "execution_count": null,
   "metadata": {},
   "outputs": [],
   "source": [
    "pmi, attr_pos, attr_neg = get_aspects_polarity(attr_pmi)\n",
    "print(f\"pos: {attr_pos:.2f}%, neg: {attr_neg:.2f}%\")\n",
    "pmi.head()"
   ]
  },
  {
   "cell_type": "code",
   "execution_count": null,
   "metadata": {},
   "outputs": [],
   "source": [
    "bumble_polarities.append(attr_pos)\n",
    "bumble_polarities.append(attr_neg)"
   ]
  },
  {
   "attachments": {},
   "cell_type": "markdown",
   "metadata": {},
   "source": [
    "### __Attractiveness (intelligence)__"
   ]
  },
  {
   "cell_type": "code",
   "execution_count": null,
   "metadata": {},
   "outputs": [],
   "source": [
    "intelligence_reviews = bumble_reviews_by_category[\"intelligence\"]"
   ]
  },
  {
   "cell_type": "code",
   "execution_count": null,
   "metadata": {},
   "outputs": [],
   "source": [
    "int_adj_noun_pmi = aspect_extraction.get_adj_noun_pmi(intelligence_reviews)\n",
    "int_pmi = tinder_word_category_pmi[tinder_word_category_pmi.category == \"intelligence\"].merge(int_adj_noun_pmi, on = [\"noun\"])"
   ]
  },
  {
   "cell_type": "code",
   "execution_count": null,
   "metadata": {},
   "outputs": [],
   "source": [
    "pmi, int_pos, int_neg = get_aspects_polarity(int_pmi)\n",
    "print(f\"pos: {int_pos:.2f}%, neg: {int_neg:.2f}%\")\n",
    "pmi.head()"
   ]
  },
  {
   "cell_type": "code",
   "execution_count": null,
   "metadata": {},
   "outputs": [],
   "source": [
    "bumble_polarities.append(int_pos)\n",
    "bumble_polarities.append(int_neg)"
   ]
  },
  {
   "cell_type": "code",
   "execution_count": null,
   "metadata": {},
   "outputs": [],
   "source": [
    "dating_app_polarities[\"Bumble\"] = bumble_polarities"
   ]
  }
 ],
 "metadata": {
  "kernelspec": {
   "display_name": "venv",
   "language": "python",
   "name": "python3"
  },
  "language_info": {
   "codemirror_mode": {
    "name": "ipython",
    "version": 3
   },
   "file_extension": ".py",
   "mimetype": "text/x-python",
   "name": "python",
   "nbconvert_exporter": "python",
   "pygments_lexer": "ipython3",
   "version": "3.10.6"
  },
  "orig_nbformat": 4
 },
 "nbformat": 4,
 "nbformat_minor": 2
}
