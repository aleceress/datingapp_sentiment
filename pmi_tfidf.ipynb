{
 "cells": [
  {
   "cell_type": "code",
   "execution_count": 108,
   "metadata": {},
   "outputs": [],
   "source": [
    "import warnings\n",
    "warnings.filterwarnings(\"ignore\")\n",
    "from utils import aspect_extraction, general, sentiment_extraction, visualizer\n",
    "import pickle\n",
    "import pandas as pd"
   ]
  },
  {
   "cell_type": "code",
   "execution_count": 109,
   "metadata": {},
   "outputs": [
    {
     "data": {
      "text/plain": [
       "<module 'utils.visualizer' from '/home/alessia/Documenti/University/Text mining and sentiment analysis/progetto/tinder/utils/visualizer.py'>"
      ]
     },
     "execution_count": 109,
     "metadata": {},
     "output_type": "execute_result"
    }
   ],
   "source": [
    "import importlib\n",
    "importlib.reload(general)\n",
    "importlib.reload(aspect_extraction)\n",
    "importlib.reload(sentiment_extraction)\n",
    "importlib.reload(visualizer)"
   ]
  },
  {
   "cell_type": "code",
   "execution_count": 110,
   "metadata": {},
   "outputs": [],
   "source": [
    "def get_aspects_polarity(pmi):\n",
    "    pmi[\"pmi_combined\"] = 2*pmi[\"noun_cat_pmi\"]+ pmi[\"adj_noun_pmi\"]\n",
    "    pmi = pmi[[\"noun\", \"adj\", \"pmi_combined\"]]\n",
    "    pmi[\"polarity\"] = pmi[\"adj\"].apply(lambda x : sentiment_extraction.get_sentiwn_score(x))\n",
    "    pmi = pmi.sort_values(by = \"pmi_combined\", ascending=False)[:1000]\n",
    "    pos = len(pmi[pmi.polarity >= 0.2])\n",
    "    neg = len(pmi[pmi.polarity < -0.2])\n",
    "    avg = pmi[abs(pmi.polarity) > 0.2][\"polarity\"].mean()\n",
    "    return pmi, (pos/(pos+neg))*100, (neg/(pos+neg))*100, avg"
   ]
  },
  {
   "cell_type": "code",
   "execution_count": 111,
   "metadata": {},
   "outputs": [],
   "source": [
    "queries_aspects = {}\n",
    "aspects_polarity = {}\n",
    "\n",
    "def save_results(app, aspect, queries_aspects, aspects_polarity, pmi, pos, neg, avg):\n",
    "    if app not in queries_aspects:\n",
    "        queries_aspects[app] = {}\n",
    "    if app not in aspects_polarity:\n",
    "        aspects_polarity[app] = {}\n",
    "\n",
    "    aspects = list(pmi[abs(pmi.polarity) > 0.2][[\"noun\", \"adj\"]].itertuples(index=False, name = None))\n",
    "    queries_aspects[app][aspect] = aspects\n",
    "    aspects_polarity[app][aspect] = {}\n",
    "    aspects_polarity[app][aspect][\"pos\"] = pos\n",
    "    aspects_polarity[app][aspect][\"neg\"] = neg\n",
    "    aspects_polarity[app][aspect][\"avg\"] = avg\n",
    "    return queries_aspects, aspects_polarity"
   ]
  },
  {
   "attachments": {},
   "cell_type": "markdown",
   "metadata": {},
   "source": [
    "## __Tinder__"
   ]
  },
  {
   "cell_type": "code",
   "execution_count": 112,
   "metadata": {},
   "outputs": [
    {
     "data": {
      "application/vnd.jupyter.widget-view+json": {
       "model_id": "dd8a7315b21742d3ac3235a343831857",
       "version_major": 2,
       "version_minor": 0
      },
      "text/plain": [
       "  0%|          | 0/577214 [00:00<?, ?it/s]"
      ]
     },
     "metadata": {},
     "output_type": "display_data"
    },
    {
     "data": {
      "text/html": [
       "<div>\n",
       "<style scoped>\n",
       "    .dataframe tbody tr th:only-of-type {\n",
       "        vertical-align: middle;\n",
       "    }\n",
       "\n",
       "    .dataframe tbody tr th {\n",
       "        vertical-align: top;\n",
       "    }\n",
       "\n",
       "    .dataframe thead th {\n",
       "        text-align: right;\n",
       "    }\n",
       "</style>\n",
       "<table border=\"1\" class=\"dataframe\">\n",
       "  <thead>\n",
       "    <tr style=\"text-align: right;\">\n",
       "      <th></th>\n",
       "      <th>category</th>\n",
       "      <th>noun</th>\n",
       "      <th>noun_cat_pmi</th>\n",
       "    </tr>\n",
       "  </thead>\n",
       "  <tbody>\n",
       "    <tr>\n",
       "      <th>0</th>\n",
       "      <td>attractiveness</td>\n",
       "      <td>a</td>\n",
       "      <td>0.501333</td>\n",
       "    </tr>\n",
       "    <tr>\n",
       "      <th>1</th>\n",
       "      <td>attractiveness</td>\n",
       "      <td>aap</td>\n",
       "      <td>0.709722</td>\n",
       "    </tr>\n",
       "    <tr>\n",
       "      <th>2</th>\n",
       "      <td>attractiveness</td>\n",
       "      <td>account</td>\n",
       "      <td>0.639157</td>\n",
       "    </tr>\n",
       "    <tr>\n",
       "      <th>3</th>\n",
       "      <td>attractiveness</td>\n",
       "      <td>accounts</td>\n",
       "      <td>0.486562</td>\n",
       "    </tr>\n",
       "    <tr>\n",
       "      <th>4</th>\n",
       "      <td>attractiveness</td>\n",
       "      <td>after</td>\n",
       "      <td>0.588550</td>\n",
       "    </tr>\n",
       "  </tbody>\n",
       "</table>\n",
       "</div>"
      ],
      "text/plain": [
       "         category      noun  noun_cat_pmi\n",
       "0  attractiveness         a      0.501333\n",
       "1  attractiveness       aap      0.709722\n",
       "2  attractiveness   account      0.639157\n",
       "3  attractiveness  accounts      0.486562\n",
       "4  attractiveness     after      0.588550"
      ]
     },
     "execution_count": 112,
     "metadata": {},
     "output_type": "execute_result"
    }
   ],
   "source": [
    "tinder_reviews_by_category = aspect_extraction.get_reviews_by_category(app = \"tinder\", categories = [\"casual sex\", \"relationship\", \"friendship\", \"curiosity\", \"women\", \"men\", \"self esteem\", \"attractiveness\", \"intelligence\"])\n",
    "tinder_word_category_pmi = aspect_extraction.get_noun_category_pmi(tinder_reviews_by_category)\n",
    "tinder_word_category_pmi.head()"
   ]
  },
  {
   "attachments": {},
   "cell_type": "markdown",
   "metadata": {},
   "source": [
    "### __Casual sex__"
   ]
  },
  {
   "cell_type": "code",
   "execution_count": 113,
   "metadata": {},
   "outputs": [],
   "source": [
    "casual_sex_reviews = tinder_reviews_by_category[\"casual sex\"]"
   ]
  },
  {
   "cell_type": "code",
   "execution_count": 114,
   "metadata": {},
   "outputs": [
    {
     "data": {
      "application/vnd.jupyter.widget-view+json": {
       "model_id": "54f3dd11f8054b62940fd3819d0d5214",
       "version_major": 2,
       "version_minor": 0
      },
      "text/plain": [
       "  0%|          | 0/20295 [00:00<?, ?it/s]"
      ]
     },
     "metadata": {},
     "output_type": "display_data"
    }
   ],
   "source": [
    "cs_adj_noun_pmi = aspect_extraction.get_adj_noun_pmi(casual_sex_reviews)\n",
    "cs_pmi = tinder_word_category_pmi[tinder_word_category_pmi.category == \"casual sex\"].merge(cs_adj_noun_pmi, on = [\"noun\"])"
   ]
  },
  {
   "cell_type": "code",
   "execution_count": 115,
   "metadata": {},
   "outputs": [
    {
     "name": "stdout",
     "output_type": "stream",
     "text": [
      "pos: 41.34%, neg: 58.66% avg: -0.0828588484273373\n"
     ]
    },
    {
     "data": {
      "text/html": [
       "<div>\n",
       "<style scoped>\n",
       "    .dataframe tbody tr th:only-of-type {\n",
       "        vertical-align: middle;\n",
       "    }\n",
       "\n",
       "    .dataframe tbody tr th {\n",
       "        vertical-align: top;\n",
       "    }\n",
       "\n",
       "    .dataframe thead th {\n",
       "        text-align: right;\n",
       "    }\n",
       "</style>\n",
       "<table border=\"1\" class=\"dataframe\">\n",
       "  <thead>\n",
       "    <tr style=\"text-align: right;\">\n",
       "      <th></th>\n",
       "      <th>noun</th>\n",
       "      <th>adj</th>\n",
       "      <th>pmi_combined</th>\n",
       "      <th>polarity</th>\n",
       "    </tr>\n",
       "  </thead>\n",
       "  <tbody>\n",
       "    <tr>\n",
       "      <th>7220</th>\n",
       "      <td>need</td>\n",
       "      <td>screen</td>\n",
       "      <td>2.424476</td>\n",
       "      <td>0.007812</td>\n",
       "    </tr>\n",
       "    <tr>\n",
       "      <th>9983</th>\n",
       "      <td>prostitution</td>\n",
       "      <td>illegal</td>\n",
       "      <td>2.390899</td>\n",
       "      <td>0.000000</td>\n",
       "    </tr>\n",
       "    <tr>\n",
       "      <th>14353</th>\n",
       "      <td>weeks</td>\n",
       "      <td>escort</td>\n",
       "      <td>2.390394</td>\n",
       "      <td>-0.041667</td>\n",
       "    </tr>\n",
       "    <tr>\n",
       "      <th>10287</th>\n",
       "      <td>rate</td>\n",
       "      <td>catfish</td>\n",
       "      <td>2.285821</td>\n",
       "      <td>0.000000</td>\n",
       "    </tr>\n",
       "    <tr>\n",
       "      <th>13031</th>\n",
       "      <td>thanks</td>\n",
       "      <td>safe</td>\n",
       "      <td>2.189139</td>\n",
       "      <td>0.160714</td>\n",
       "    </tr>\n",
       "  </tbody>\n",
       "</table>\n",
       "</div>"
      ],
      "text/plain": [
       "               noun      adj  pmi_combined  polarity\n",
       "7220           need   screen      2.424476  0.007812\n",
       "9983   prostitution  illegal      2.390899  0.000000\n",
       "14353         weeks   escort      2.390394 -0.041667\n",
       "10287          rate  catfish      2.285821  0.000000\n",
       "13031        thanks     safe      2.189139  0.160714"
      ]
     },
     "execution_count": 115,
     "metadata": {},
     "output_type": "execute_result"
    }
   ],
   "source": [
    "cs_pmi, cs_pos, cs_neg, cs_avg = get_aspects_polarity(cs_pmi)\n",
    "queries_aspects, aspects_polarity = save_results(app=\"tinder\", aspect=\"casual sex\", pmi= cs_pmi, aspects_polarity = aspects_polarity, queries_aspects = queries_aspects, pos= cs_pos, neg=cs_neg, avg=cs_avg)\n",
    "print(f\"pos: {cs_pos:.2f}%, neg: {cs_neg:.2f}% avg: {cs_avg}\")\n",
    "cs_pmi.head()"
   ]
  },
  {
   "attachments": {},
   "cell_type": "markdown",
   "metadata": {},
   "source": [
    "### __Relationship__"
   ]
  },
  {
   "cell_type": "code",
   "execution_count": 116,
   "metadata": {},
   "outputs": [],
   "source": [
    "relationship_reviews = tinder_reviews_by_category[\"relationship\"]"
   ]
  },
  {
   "cell_type": "code",
   "execution_count": 117,
   "metadata": {},
   "outputs": [
    {
     "data": {
      "application/vnd.jupyter.widget-view+json": {
       "model_id": "a36c8ae5b71f478abfbe07bc808d937f",
       "version_major": 2,
       "version_minor": 0
      },
      "text/plain": [
       "  0%|          | 0/20458 [00:00<?, ?it/s]"
      ]
     },
     "metadata": {},
     "output_type": "display_data"
    }
   ],
   "source": [
    "rel_adj_noun_pmi = aspect_extraction.get_adj_noun_pmi(relationship_reviews)\n",
    "rel_pmi = tinder_word_category_pmi[tinder_word_category_pmi.category == \"relationship\"].merge(rel_adj_noun_pmi, on = [\"noun\"])"
   ]
  },
  {
   "cell_type": "code",
   "execution_count": 118,
   "metadata": {},
   "outputs": [
    {
     "name": "stdout",
     "output_type": "stream",
     "text": [
      "pos: 50.00%, neg: 50.00%, avg: 0.011086045564655193\n"
     ]
    },
    {
     "data": {
      "text/html": [
       "<div>\n",
       "<style scoped>\n",
       "    .dataframe tbody tr th:only-of-type {\n",
       "        vertical-align: middle;\n",
       "    }\n",
       "\n",
       "    .dataframe tbody tr th {\n",
       "        vertical-align: top;\n",
       "    }\n",
       "\n",
       "    .dataframe thead th {\n",
       "        text-align: right;\n",
       "    }\n",
       "</style>\n",
       "<table border=\"1\" class=\"dataframe\">\n",
       "  <thead>\n",
       "    <tr style=\"text-align: right;\">\n",
       "      <th></th>\n",
       "      <th>noun</th>\n",
       "      <th>adj</th>\n",
       "      <th>pmi_combined</th>\n",
       "      <th>polarity</th>\n",
       "    </tr>\n",
       "  </thead>\n",
       "  <tbody>\n",
       "    <tr>\n",
       "      <th>5073</th>\n",
       "      <td>list</td>\n",
       "      <td>entire</td>\n",
       "      <td>2.425769</td>\n",
       "      <td>0.100000</td>\n",
       "    </tr>\n",
       "    <tr>\n",
       "      <th>11828</th>\n",
       "      <td>tons</td>\n",
       "      <td>bumble</td>\n",
       "      <td>2.177573</td>\n",
       "      <td>-0.250000</td>\n",
       "    </tr>\n",
       "    <tr>\n",
       "      <th>5084</th>\n",
       "      <td>list</td>\n",
       "      <td>active</td>\n",
       "      <td>2.079449</td>\n",
       "      <td>0.022059</td>\n",
       "    </tr>\n",
       "    <tr>\n",
       "      <th>5074</th>\n",
       "      <td>list</td>\n",
       "      <td>difficult</td>\n",
       "      <td>2.079449</td>\n",
       "      <td>-0.687500</td>\n",
       "    </tr>\n",
       "    <tr>\n",
       "      <th>1002</th>\n",
       "      <td>build</td>\n",
       "      <td>potential</td>\n",
       "      <td>2.075009</td>\n",
       "      <td>-0.125000</td>\n",
       "    </tr>\n",
       "  </tbody>\n",
       "</table>\n",
       "</div>"
      ],
      "text/plain": [
       "        noun        adj  pmi_combined  polarity\n",
       "5073    list     entire      2.425769  0.100000\n",
       "11828   tons     bumble      2.177573 -0.250000\n",
       "5084    list     active      2.079449  0.022059\n",
       "5074    list  difficult      2.079449 -0.687500\n",
       "1002   build  potential      2.075009 -0.125000"
      ]
     },
     "execution_count": 118,
     "metadata": {},
     "output_type": "execute_result"
    }
   ],
   "source": [
    "rel_pmi, rel_pos, rel_neg, rel_avg = get_aspects_polarity(rel_pmi)\n",
    "queries_aspects, aspects_polarity = save_results(app=\"tinder\", aspect=\"relationship\", pmi= rel_pmi, aspects_polarity = aspects_polarity, queries_aspects = queries_aspects, pos= rel_pos, neg=rel_neg, avg=rel_avg)\n",
    "print(f\"pos: {rel_pos:.2f}%, neg: {rel_neg:.2f}%, avg: {rel_avg}\")\n",
    "rel_pmi.head()"
   ]
  },
  {
   "cell_type": "markdown",
   "metadata": {},
   "source": [
    "### __Friendship__"
   ]
  },
  {
   "cell_type": "code",
   "execution_count": 119,
   "metadata": {},
   "outputs": [],
   "source": [
    "friendship_reviews = tinder_reviews_by_category[\"friendship\"]"
   ]
  },
  {
   "cell_type": "code",
   "execution_count": 120,
   "metadata": {},
   "outputs": [
    {
     "data": {
      "application/vnd.jupyter.widget-view+json": {
       "model_id": "568faa035a314bb0ba2e4bf20916dea6",
       "version_major": 2,
       "version_minor": 0
      },
      "text/plain": [
       "  0%|          | 0/17716 [00:00<?, ?it/s]"
      ]
     },
     "metadata": {},
     "output_type": "display_data"
    }
   ],
   "source": [
    "friend_adj_noun_pmi = aspect_extraction.get_adj_noun_pmi(friendship_reviews)\n",
    "friend_pmi = tinder_word_category_pmi[tinder_word_category_pmi.category == \"friendship\"].merge(friend_adj_noun_pmi, on = [\"noun\"])"
   ]
  },
  {
   "cell_type": "code",
   "execution_count": 121,
   "metadata": {},
   "outputs": [
    {
     "name": "stdout",
     "output_type": "stream",
     "text": [
      "pos: 44.09%, neg: 55.91%, avg: -0.0706109442389277\n"
     ]
    },
    {
     "data": {
      "text/html": [
       "<div>\n",
       "<style scoped>\n",
       "    .dataframe tbody tr th:only-of-type {\n",
       "        vertical-align: middle;\n",
       "    }\n",
       "\n",
       "    .dataframe tbody tr th {\n",
       "        vertical-align: top;\n",
       "    }\n",
       "\n",
       "    .dataframe thead th {\n",
       "        text-align: right;\n",
       "    }\n",
       "</style>\n",
       "<table border=\"1\" class=\"dataframe\">\n",
       "  <thead>\n",
       "    <tr style=\"text-align: right;\">\n",
       "      <th></th>\n",
       "      <th>noun</th>\n",
       "      <th>adj</th>\n",
       "      <th>pmi_combined</th>\n",
       "      <th>polarity</th>\n",
       "    </tr>\n",
       "  </thead>\n",
       "  <tbody>\n",
       "    <tr>\n",
       "      <th>1587</th>\n",
       "      <td>friendship</td>\n",
       "      <td>genuine</td>\n",
       "      <td>1.972835</td>\n",
       "      <td>0.117667</td>\n",
       "    </tr>\n",
       "    <tr>\n",
       "      <th>1617</th>\n",
       "      <td>friendship</td>\n",
       "      <td>random</td>\n",
       "      <td>1.962869</td>\n",
       "      <td>0.125000</td>\n",
       "    </tr>\n",
       "    <tr>\n",
       "      <th>1616</th>\n",
       "      <td>friendship</td>\n",
       "      <td>simple</td>\n",
       "      <td>1.962869</td>\n",
       "      <td>0.000000</td>\n",
       "    </tr>\n",
       "    <tr>\n",
       "      <th>1594</th>\n",
       "      <td>friendship</td>\n",
       "      <td>social</td>\n",
       "      <td>1.962869</td>\n",
       "      <td>-0.017857</td>\n",
       "    </tr>\n",
       "    <tr>\n",
       "      <th>1624</th>\n",
       "      <td>friendship</td>\n",
       "      <td>dislike</td>\n",
       "      <td>1.962869</td>\n",
       "      <td>-0.375000</td>\n",
       "    </tr>\n",
       "  </tbody>\n",
       "</table>\n",
       "</div>"
      ],
      "text/plain": [
       "            noun      adj  pmi_combined  polarity\n",
       "1587  friendship  genuine      1.972835  0.117667\n",
       "1617  friendship   random      1.962869  0.125000\n",
       "1616  friendship   simple      1.962869  0.000000\n",
       "1594  friendship   social      1.962869 -0.017857\n",
       "1624  friendship  dislike      1.962869 -0.375000"
      ]
     },
     "execution_count": 121,
     "metadata": {},
     "output_type": "execute_result"
    }
   ],
   "source": [
    "friend_pmi, friend_pos, friend_neg, friend_avg = get_aspects_polarity(friend_pmi)\n",
    "queries_aspects, aspects_polarity = save_results(app=\"tinder\", aspect=\"friendship\", pmi= friend_pmi, aspects_polarity = aspects_polarity, queries_aspects = queries_aspects, pos= friend_pos, neg=friend_neg, avg=friend_avg)\n",
    "print(f\"pos: {friend_pos:.2f}%, neg: {friend_neg:.2f}%, avg: {friend_avg}\")\n",
    "friend_pmi.head()"
   ]
  },
  {
   "cell_type": "markdown",
   "metadata": {},
   "source": [
    "### __Curiosity__"
   ]
  },
  {
   "cell_type": "code",
   "execution_count": 122,
   "metadata": {},
   "outputs": [],
   "source": [
    "curiosity_reviews = tinder_reviews_by_category[\"curiosity\"]"
   ]
  },
  {
   "cell_type": "code",
   "execution_count": 123,
   "metadata": {},
   "outputs": [
    {
     "data": {
      "application/vnd.jupyter.widget-view+json": {
       "model_id": "9b582ccbfa2a4abaa0cb33d217d80a26",
       "version_major": 2,
       "version_minor": 0
      },
      "text/plain": [
       "  0%|          | 0/19404 [00:00<?, ?it/s]"
      ]
     },
     "metadata": {},
     "output_type": "display_data"
    }
   ],
   "source": [
    "cur_adj_noun_pmi = aspect_extraction.get_adj_noun_pmi(curiosity_reviews)\n",
    "cur_pmi = tinder_word_category_pmi[tinder_word_category_pmi.category == \"curiosity\"].merge(cur_adj_noun_pmi, on = [\"noun\"])"
   ]
  },
  {
   "cell_type": "code",
   "execution_count": 124,
   "metadata": {},
   "outputs": [
    {
     "name": "stdout",
     "output_type": "stream",
     "text": [
      "pos: 50.67%, neg: 49.33%, avg: -0.0018042697512033316\n"
     ]
    },
    {
     "data": {
      "text/html": [
       "<div>\n",
       "<style scoped>\n",
       "    .dataframe tbody tr th:only-of-type {\n",
       "        vertical-align: middle;\n",
       "    }\n",
       "\n",
       "    .dataframe tbody tr th {\n",
       "        vertical-align: top;\n",
       "    }\n",
       "\n",
       "    .dataframe thead th {\n",
       "        text-align: right;\n",
       "    }\n",
       "</style>\n",
       "<table border=\"1\" class=\"dataframe\">\n",
       "  <thead>\n",
       "    <tr style=\"text-align: right;\">\n",
       "      <th></th>\n",
       "      <th>noun</th>\n",
       "      <th>adj</th>\n",
       "      <th>pmi_combined</th>\n",
       "      <th>polarity</th>\n",
       "    </tr>\n",
       "  </thead>\n",
       "  <tbody>\n",
       "    <tr>\n",
       "      <th>868</th>\n",
       "      <td>curiosity</td>\n",
       "      <td>funny</td>\n",
       "      <td>2.089236</td>\n",
       "      <td>-0.150</td>\n",
       "    </tr>\n",
       "    <tr>\n",
       "      <th>853</th>\n",
       "      <td>curiosity</td>\n",
       "      <td>missed</td>\n",
       "      <td>2.068183</td>\n",
       "      <td>-0.125</td>\n",
       "    </tr>\n",
       "    <tr>\n",
       "      <th>854</th>\n",
       "      <td>curiosity</td>\n",
       "      <td>sudden</td>\n",
       "      <td>2.068183</td>\n",
       "      <td>-0.500</td>\n",
       "    </tr>\n",
       "    <tr>\n",
       "      <th>825</th>\n",
       "      <td>curiosity</td>\n",
       "      <td>total</td>\n",
       "      <td>2.054148</td>\n",
       "      <td>0.000</td>\n",
       "    </tr>\n",
       "    <tr>\n",
       "      <th>871</th>\n",
       "      <td>curiosity</td>\n",
       "      <td>random</td>\n",
       "      <td>2.036604</td>\n",
       "      <td>0.125</td>\n",
       "    </tr>\n",
       "  </tbody>\n",
       "</table>\n",
       "</div>"
      ],
      "text/plain": [
       "          noun     adj  pmi_combined  polarity\n",
       "868  curiosity   funny      2.089236    -0.150\n",
       "853  curiosity  missed      2.068183    -0.125\n",
       "854  curiosity  sudden      2.068183    -0.500\n",
       "825  curiosity   total      2.054148     0.000\n",
       "871  curiosity  random      2.036604     0.125"
      ]
     },
     "execution_count": 124,
     "metadata": {},
     "output_type": "execute_result"
    }
   ],
   "source": [
    "cur_pmi, cur_pos, cur_neg, cur_avg = get_aspects_polarity(cur_pmi)\n",
    "queries_aspects, aspects_polarity = save_results(app=\"tinder\", aspect=\"curiosity\", pmi= cur_pmi, aspects_polarity = aspects_polarity, queries_aspects = queries_aspects, pos= cur_pos, neg=cur_neg, avg=cur_avg)\n",
    "print(f\"pos: {cur_pos:.2f}%, neg: {cur_neg:.2f}%, avg: {cur_avg}\")\n",
    "cur_pmi.head()"
   ]
  },
  {
   "cell_type": "markdown",
   "metadata": {},
   "source": [
    "### __Women__"
   ]
  },
  {
   "cell_type": "code",
   "execution_count": 125,
   "metadata": {},
   "outputs": [],
   "source": [
    "women_reviews = tinder_reviews_by_category[\"women\"]"
   ]
  },
  {
   "cell_type": "code",
   "execution_count": 126,
   "metadata": {},
   "outputs": [
    {
     "data": {
      "application/vnd.jupyter.widget-view+json": {
       "model_id": "6febd6fe1f8e44308cc2c3ff27b5c61b",
       "version_major": 2,
       "version_minor": 0
      },
      "text/plain": [
       "  0%|          | 0/20900 [00:00<?, ?it/s]"
      ]
     },
     "metadata": {},
     "output_type": "display_data"
    }
   ],
   "source": [
    "women_adj_noun_pmi = aspect_extraction.get_adj_noun_pmi(women_reviews)\n",
    "women_pmi = tinder_word_category_pmi[tinder_word_category_pmi.category == \"women\"].merge(rel_adj_noun_pmi, on = [\"noun\"])"
   ]
  },
  {
   "cell_type": "code",
   "execution_count": 127,
   "metadata": {},
   "outputs": [
    {
     "name": "stdout",
     "output_type": "stream",
     "text": [
      "pos: 45.21%, neg: 54.79%, avg: -0.013546882992550479\n"
     ]
    },
    {
     "data": {
      "text/html": [
       "<div>\n",
       "<style scoped>\n",
       "    .dataframe tbody tr th:only-of-type {\n",
       "        vertical-align: middle;\n",
       "    }\n",
       "\n",
       "    .dataframe tbody tr th {\n",
       "        vertical-align: top;\n",
       "    }\n",
       "\n",
       "    .dataframe thead th {\n",
       "        text-align: right;\n",
       "    }\n",
       "</style>\n",
       "<table border=\"1\" class=\"dataframe\">\n",
       "  <thead>\n",
       "    <tr style=\"text-align: right;\">\n",
       "      <th></th>\n",
       "      <th>noun</th>\n",
       "      <th>adj</th>\n",
       "      <th>pmi_combined</th>\n",
       "      <th>polarity</th>\n",
       "    </tr>\n",
       "  </thead>\n",
       "  <tbody>\n",
       "    <tr>\n",
       "      <th>1550</th>\n",
       "      <td>ego</td>\n",
       "      <td>sad</td>\n",
       "      <td>2.655782</td>\n",
       "      <td>-0.625000</td>\n",
       "    </tr>\n",
       "    <tr>\n",
       "      <th>1523</th>\n",
       "      <td>ego</td>\n",
       "      <td>social</td>\n",
       "      <td>2.395302</td>\n",
       "      <td>-0.017857</td>\n",
       "    </tr>\n",
       "    <tr>\n",
       "      <th>1584</th>\n",
       "      <td>ego</td>\n",
       "      <td>personal</td>\n",
       "      <td>2.353439</td>\n",
       "      <td>0.083333</td>\n",
       "    </tr>\n",
       "    <tr>\n",
       "      <th>1563</th>\n",
       "      <td>ego</td>\n",
       "      <td>write</td>\n",
       "      <td>2.285412</td>\n",
       "      <td>0.000000</td>\n",
       "    </tr>\n",
       "    <tr>\n",
       "      <th>1572</th>\n",
       "      <td>ego</td>\n",
       "      <td>expensive</td>\n",
       "      <td>2.285412</td>\n",
       "      <td>0.500000</td>\n",
       "    </tr>\n",
       "  </tbody>\n",
       "</table>\n",
       "</div>"
      ],
      "text/plain": [
       "     noun        adj  pmi_combined  polarity\n",
       "1550  ego        sad      2.655782 -0.625000\n",
       "1523  ego     social      2.395302 -0.017857\n",
       "1584  ego   personal      2.353439  0.083333\n",
       "1563  ego      write      2.285412  0.000000\n",
       "1572  ego  expensive      2.285412  0.500000"
      ]
     },
     "execution_count": 127,
     "metadata": {},
     "output_type": "execute_result"
    }
   ],
   "source": [
    "women_pmi, women_pos, women_neg, women_avg = get_aspects_polarity(women_pmi)\n",
    "queries_aspects, aspects_polarity = save_results(app=\"tinder\", aspect=\"women\", pmi= women_pmi, aspects_polarity = aspects_polarity, queries_aspects = queries_aspects, pos= women_pos, neg=women_neg, avg=women_avg)\n",
    "print(f\"pos: {women_pos:.2f}%, neg: {women_neg:.2f}%, avg: {women_avg}\")\n",
    "women_pmi.head()"
   ]
  },
  {
   "cell_type": "markdown",
   "metadata": {},
   "source": [
    "### __Men__"
   ]
  },
  {
   "cell_type": "code",
   "execution_count": 128,
   "metadata": {},
   "outputs": [],
   "source": [
    "men_reviews = tinder_reviews_by_category[\"men\"]"
   ]
  },
  {
   "cell_type": "code",
   "execution_count": 129,
   "metadata": {},
   "outputs": [
    {
     "data": {
      "application/vnd.jupyter.widget-view+json": {
       "model_id": "b9f84dee033442269d6a581f23d12726",
       "version_major": 2,
       "version_minor": 0
      },
      "text/plain": [
       "  0%|          | 0/21816 [00:00<?, ?it/s]"
      ]
     },
     "metadata": {},
     "output_type": "display_data"
    }
   ],
   "source": [
    "men_adj_noun_pmi = aspect_extraction.get_adj_noun_pmi(men_reviews)\n",
    "men_pmi = tinder_word_category_pmi[tinder_word_category_pmi.category == \"men\"].merge(rel_adj_noun_pmi, on = [\"noun\"])"
   ]
  },
  {
   "cell_type": "code",
   "execution_count": 130,
   "metadata": {},
   "outputs": [
    {
     "name": "stdout",
     "output_type": "stream",
     "text": [
      "pos: 45.76%, neg: 54.24%, avg: -0.016791618132972863\n"
     ]
    },
    {
     "data": {
      "text/html": [
       "<div>\n",
       "<style scoped>\n",
       "    .dataframe tbody tr th:only-of-type {\n",
       "        vertical-align: middle;\n",
       "    }\n",
       "\n",
       "    .dataframe tbody tr th {\n",
       "        vertical-align: top;\n",
       "    }\n",
       "\n",
       "    .dataframe thead th {\n",
       "        text-align: right;\n",
       "    }\n",
       "</style>\n",
       "<table border=\"1\" class=\"dataframe\">\n",
       "  <thead>\n",
       "    <tr style=\"text-align: right;\">\n",
       "      <th></th>\n",
       "      <th>noun</th>\n",
       "      <th>adj</th>\n",
       "      <th>pmi_combined</th>\n",
       "      <th>polarity</th>\n",
       "    </tr>\n",
       "  </thead>\n",
       "  <tbody>\n",
       "    <tr>\n",
       "      <th>11961</th>\n",
       "      <td>trans</td>\n",
       "      <td>quick</td>\n",
       "      <td>2.157115</td>\n",
       "      <td>0.000000</td>\n",
       "    </tr>\n",
       "    <tr>\n",
       "      <th>11966</th>\n",
       "      <td>trans</td>\n",
       "      <td>romantic</td>\n",
       "      <td>2.157115</td>\n",
       "      <td>0.075000</td>\n",
       "    </tr>\n",
       "    <tr>\n",
       "      <th>11952</th>\n",
       "      <td>trans</td>\n",
       "      <td>separate</td>\n",
       "      <td>2.089088</td>\n",
       "      <td>-0.065789</td>\n",
       "    </tr>\n",
       "    <tr>\n",
       "      <th>10058</th>\n",
       "      <td>settings</td>\n",
       "      <td>romantic</td>\n",
       "      <td>2.089088</td>\n",
       "      <td>0.075000</td>\n",
       "    </tr>\n",
       "    <tr>\n",
       "      <th>10057</th>\n",
       "      <td>settings</td>\n",
       "      <td>bunch</td>\n",
       "      <td>2.089088</td>\n",
       "      <td>-0.025000</td>\n",
       "    </tr>\n",
       "  </tbody>\n",
       "</table>\n",
       "</div>"
      ],
      "text/plain": [
       "           noun       adj  pmi_combined  polarity\n",
       "11961     trans     quick      2.157115  0.000000\n",
       "11966     trans  romantic      2.157115  0.075000\n",
       "11952     trans  separate      2.089088 -0.065789\n",
       "10058  settings  romantic      2.089088  0.075000\n",
       "10057  settings     bunch      2.089088 -0.025000"
      ]
     },
     "execution_count": 130,
     "metadata": {},
     "output_type": "execute_result"
    }
   ],
   "source": [
    "men_pmi, men_pos, men_neg, men_avg = get_aspects_polarity(men_pmi)\n",
    "queries_aspects, aspects_polarity = save_results(app=\"tinder\", aspect=\"men\", pmi= men_pmi, aspects_polarity = aspects_polarity, queries_aspects = queries_aspects, pos= men_pos, neg=men_neg, avg=men_avg)\n",
    "print(f\"pos: {men_pos:.2f}%, neg: {men_neg:.2f}%, avg: {men_avg}\")\n",
    "men_pmi.head()"
   ]
  },
  {
   "attachments": {},
   "cell_type": "markdown",
   "metadata": {},
   "source": [
    "### __Self Esteem__"
   ]
  },
  {
   "cell_type": "code",
   "execution_count": 131,
   "metadata": {},
   "outputs": [],
   "source": [
    "self_esteem_reviews = tinder_reviews_by_category[\"self esteem\"]"
   ]
  },
  {
   "cell_type": "code",
   "execution_count": 132,
   "metadata": {},
   "outputs": [
    {
     "data": {
      "application/vnd.jupyter.widget-view+json": {
       "model_id": "65818a8ea2e04ea99633fbad69e78e4d",
       "version_major": 2,
       "version_minor": 0
      },
      "text/plain": [
       "  0%|          | 0/17100 [00:00<?, ?it/s]"
      ]
     },
     "metadata": {},
     "output_type": "display_data"
    }
   ],
   "source": [
    "self_adj_noun_pmi = aspect_extraction.get_adj_noun_pmi(self_esteem_reviews)\n",
    "self_pmi = tinder_word_category_pmi[tinder_word_category_pmi.category == \"self esteem\"].merge(self_adj_noun_pmi, on = [\"noun\"])"
   ]
  },
  {
   "cell_type": "code",
   "execution_count": 133,
   "metadata": {},
   "outputs": [
    {
     "name": "stdout",
     "output_type": "stream",
     "text": [
      "pos: 43.57%, neg: 56.43%, avg: -0.05750770879526898\n"
     ]
    },
    {
     "data": {
      "text/html": [
       "<div>\n",
       "<style scoped>\n",
       "    .dataframe tbody tr th:only-of-type {\n",
       "        vertical-align: middle;\n",
       "    }\n",
       "\n",
       "    .dataframe tbody tr th {\n",
       "        vertical-align: top;\n",
       "    }\n",
       "\n",
       "    .dataframe thead th {\n",
       "        text-align: right;\n",
       "    }\n",
       "</style>\n",
       "<table border=\"1\" class=\"dataframe\">\n",
       "  <thead>\n",
       "    <tr style=\"text-align: right;\">\n",
       "      <th></th>\n",
       "      <th>noun</th>\n",
       "      <th>adj</th>\n",
       "      <th>pmi_combined</th>\n",
       "      <th>polarity</th>\n",
       "    </tr>\n",
       "  </thead>\n",
       "  <tbody>\n",
       "    <tr>\n",
       "      <th>4921</th>\n",
       "      <td>subscribe</td>\n",
       "      <td>sad</td>\n",
       "      <td>2.134254</td>\n",
       "      <td>-0.625000</td>\n",
       "    </tr>\n",
       "    <tr>\n",
       "      <th>4883</th>\n",
       "      <td>subscribe</td>\n",
       "      <td>login</td>\n",
       "      <td>2.037031</td>\n",
       "      <td>0.000000</td>\n",
       "    </tr>\n",
       "    <tr>\n",
       "      <th>4865</th>\n",
       "      <td>subscribe</td>\n",
       "      <td>real</td>\n",
       "      <td>2.023142</td>\n",
       "      <td>0.009615</td>\n",
       "    </tr>\n",
       "    <tr>\n",
       "      <th>4875</th>\n",
       "      <td>subscribe</td>\n",
       "      <td>premium</td>\n",
       "      <td>2.019670</td>\n",
       "      <td>0.000000</td>\n",
       "    </tr>\n",
       "    <tr>\n",
       "      <th>4876</th>\n",
       "      <td>subscribe</td>\n",
       "      <td>delete</td>\n",
       "      <td>2.019670</td>\n",
       "      <td>-0.041667</td>\n",
       "    </tr>\n",
       "  </tbody>\n",
       "</table>\n",
       "</div>"
      ],
      "text/plain": [
       "           noun      adj  pmi_combined  polarity\n",
       "4921  subscribe      sad      2.134254 -0.625000\n",
       "4883  subscribe    login      2.037031  0.000000\n",
       "4865  subscribe     real      2.023142  0.009615\n",
       "4875  subscribe  premium      2.019670  0.000000\n",
       "4876  subscribe   delete      2.019670 -0.041667"
      ]
     },
     "execution_count": 133,
     "metadata": {},
     "output_type": "execute_result"
    }
   ],
   "source": [
    "self_pmi, self_pos, self_neg, self_avg = get_aspects_polarity(self_pmi)\n",
    "queries_aspects, aspects_polarity = save_results(app=\"tinder\", aspect=\"self\", pmi= self_pmi, aspects_polarity = aspects_polarity, queries_aspects = queries_aspects, pos= self_pos, neg=self_neg, avg=self_avg)\n",
    "print(f\"pos: {self_pos:.2f}%, neg: {self_neg:.2f}%, avg: {self_avg}\")\n",
    "self_pmi.head()"
   ]
  },
  {
   "attachments": {},
   "cell_type": "markdown",
   "metadata": {},
   "source": [
    "### __Attractiveness (appearence)__"
   ]
  },
  {
   "cell_type": "code",
   "execution_count": 134,
   "metadata": {},
   "outputs": [],
   "source": [
    "attractiveness_reviews = tinder_reviews_by_category[\"attractiveness\"]"
   ]
  },
  {
   "cell_type": "code",
   "execution_count": 135,
   "metadata": {},
   "outputs": [
    {
     "data": {
      "application/vnd.jupyter.widget-view+json": {
       "model_id": "f254acf71d9b4b7a9e110f0435787fea",
       "version_major": 2,
       "version_minor": 0
      },
      "text/plain": [
       "  0%|          | 0/20564 [00:00<?, ?it/s]"
      ]
     },
     "metadata": {},
     "output_type": "display_data"
    }
   ],
   "source": [
    "attr_adj_noun_pmi = aspect_extraction.get_adj_noun_pmi(attractiveness_reviews)\n",
    "attr_pmi = tinder_word_category_pmi[tinder_word_category_pmi.category == \"attractiveness\"].merge(attr_adj_noun_pmi, on = [\"noun\"])"
   ]
  },
  {
   "cell_type": "code",
   "execution_count": 136,
   "metadata": {},
   "outputs": [
    {
     "name": "stdout",
     "output_type": "stream",
     "text": [
      "pos: 43.14%, neg: 56.86%, avg: -0.0629858189507603\n"
     ]
    },
    {
     "data": {
      "text/html": [
       "<div>\n",
       "<style scoped>\n",
       "    .dataframe tbody tr th:only-of-type {\n",
       "        vertical-align: middle;\n",
       "    }\n",
       "\n",
       "    .dataframe tbody tr th {\n",
       "        vertical-align: top;\n",
       "    }\n",
       "\n",
       "    .dataframe thead th {\n",
       "        text-align: right;\n",
       "    }\n",
       "</style>\n",
       "<table border=\"1\" class=\"dataframe\">\n",
       "  <thead>\n",
       "    <tr style=\"text-align: right;\">\n",
       "      <th></th>\n",
       "      <th>noun</th>\n",
       "      <th>adj</th>\n",
       "      <th>pmi_combined</th>\n",
       "      <th>polarity</th>\n",
       "    </tr>\n",
       "  </thead>\n",
       "  <tbody>\n",
       "    <tr>\n",
       "      <th>404</th>\n",
       "      <td>attractiveness</td>\n",
       "      <td>previous</td>\n",
       "      <td>2.287804</td>\n",
       "      <td>-0.166667</td>\n",
       "    </tr>\n",
       "    <tr>\n",
       "      <th>382</th>\n",
       "      <td>attractiveness</td>\n",
       "      <td>attractive</td>\n",
       "      <td>2.229471</td>\n",
       "      <td>0.416667</td>\n",
       "    </tr>\n",
       "    <tr>\n",
       "      <th>349</th>\n",
       "      <td>attractiveness</td>\n",
       "      <td>algorithm</td>\n",
       "      <td>2.171137</td>\n",
       "      <td>0.000000</td>\n",
       "    </tr>\n",
       "    <tr>\n",
       "      <th>364</th>\n",
       "      <td>attractiveness</td>\n",
       "      <td>spent</td>\n",
       "      <td>2.162804</td>\n",
       "      <td>0.125000</td>\n",
       "    </tr>\n",
       "    <tr>\n",
       "      <th>403</th>\n",
       "      <td>attractiveness</td>\n",
       "      <td>actual</td>\n",
       "      <td>2.141971</td>\n",
       "      <td>0.075000</td>\n",
       "    </tr>\n",
       "  </tbody>\n",
       "</table>\n",
       "</div>"
      ],
      "text/plain": [
       "               noun         adj  pmi_combined  polarity\n",
       "404  attractiveness    previous      2.287804 -0.166667\n",
       "382  attractiveness  attractive      2.229471  0.416667\n",
       "349  attractiveness   algorithm      2.171137  0.000000\n",
       "364  attractiveness       spent      2.162804  0.125000\n",
       "403  attractiveness      actual      2.141971  0.075000"
      ]
     },
     "execution_count": 136,
     "metadata": {},
     "output_type": "execute_result"
    }
   ],
   "source": [
    "attr_pmi, attr_pos, attr_neg, attr_avg = get_aspects_polarity(attr_pmi)\n",
    "queries_aspects, aspects_polarity = save_results(app=\"tinder\", aspect=\"attractiveness\", pmi= attr_pmi, aspects_polarity = aspects_polarity, queries_aspects = queries_aspects, pos= attr_pos, neg=attr_neg, avg=attr_avg)\n",
    "print(f\"pos: {attr_pos:.2f}%, neg: {attr_neg:.2f}%, avg: {attr_avg}\")\n",
    "attr_pmi.head()"
   ]
  },
  {
   "attachments": {},
   "cell_type": "markdown",
   "metadata": {},
   "source": [
    "### __Attractiveness (intelligence)__"
   ]
  },
  {
   "cell_type": "code",
   "execution_count": 137,
   "metadata": {},
   "outputs": [],
   "source": [
    "intelligence_reviews = tinder_reviews_by_category[\"intelligence\"]"
   ]
  },
  {
   "cell_type": "code",
   "execution_count": 138,
   "metadata": {},
   "outputs": [
    {
     "data": {
      "application/vnd.jupyter.widget-view+json": {
       "model_id": "18aaf543a601455f96ffd0add807c076",
       "version_major": 2,
       "version_minor": 0
      },
      "text/plain": [
       "  0%|          | 0/19691 [00:00<?, ?it/s]"
      ]
     },
     "metadata": {},
     "output_type": "display_data"
    }
   ],
   "source": [
    "int_adj_noun_pmi = aspect_extraction.get_adj_noun_pmi(intelligence_reviews)\n",
    "int_pmi = tinder_word_category_pmi[tinder_word_category_pmi.category == \"intelligence\"].merge(int_adj_noun_pmi, on = [\"noun\"])"
   ]
  },
  {
   "cell_type": "code",
   "execution_count": 139,
   "metadata": {},
   "outputs": [
    {
     "name": "stdout",
     "output_type": "stream",
     "text": [
      "pos: 40.43%, neg: 59.57%, avg: -0.09228366321317331\n"
     ]
    },
    {
     "data": {
      "text/html": [
       "<div>\n",
       "<style scoped>\n",
       "    .dataframe tbody tr th:only-of-type {\n",
       "        vertical-align: middle;\n",
       "    }\n",
       "\n",
       "    .dataframe tbody tr th {\n",
       "        vertical-align: top;\n",
       "    }\n",
       "\n",
       "    .dataframe thead th {\n",
       "        text-align: right;\n",
       "    }\n",
       "</style>\n",
       "<table border=\"1\" class=\"dataframe\">\n",
       "  <thead>\n",
       "    <tr style=\"text-align: right;\">\n",
       "      <th></th>\n",
       "      <th>noun</th>\n",
       "      <th>adj</th>\n",
       "      <th>pmi_combined</th>\n",
       "      <th>polarity</th>\n",
       "    </tr>\n",
       "  </thead>\n",
       "  <tbody>\n",
       "    <tr>\n",
       "      <th>2363</th>\n",
       "      <td>intelligence</td>\n",
       "      <td>artificial</td>\n",
       "      <td>2.444444</td>\n",
       "      <td>-0.333333</td>\n",
       "    </tr>\n",
       "    <tr>\n",
       "      <th>2398</th>\n",
       "      <td>intelligence</td>\n",
       "      <td>smart</td>\n",
       "      <td>2.222222</td>\n",
       "      <td>0.083333</td>\n",
       "    </tr>\n",
       "    <tr>\n",
       "      <th>2359</th>\n",
       "      <td>intelligence</td>\n",
       "      <td>horrible</td>\n",
       "      <td>2.133333</td>\n",
       "      <td>-0.625000</td>\n",
       "    </tr>\n",
       "    <tr>\n",
       "      <th>2364</th>\n",
       "      <td>intelligence</td>\n",
       "      <td>uninstall</td>\n",
       "      <td>2.098765</td>\n",
       "      <td>0.000000</td>\n",
       "    </tr>\n",
       "    <tr>\n",
       "      <th>2375</th>\n",
       "      <td>intelligence</td>\n",
       "      <td>potential</td>\n",
       "      <td>2.063492</td>\n",
       "      <td>-0.125000</td>\n",
       "    </tr>\n",
       "  </tbody>\n",
       "</table>\n",
       "</div>"
      ],
      "text/plain": [
       "              noun         adj  pmi_combined  polarity\n",
       "2363  intelligence  artificial      2.444444 -0.333333\n",
       "2398  intelligence       smart      2.222222  0.083333\n",
       "2359  intelligence    horrible      2.133333 -0.625000\n",
       "2364  intelligence   uninstall      2.098765  0.000000\n",
       "2375  intelligence   potential      2.063492 -0.125000"
      ]
     },
     "execution_count": 139,
     "metadata": {},
     "output_type": "execute_result"
    }
   ],
   "source": [
    "int_pmi, int_pos, int_neg, int_avg = get_aspects_polarity(int_pmi)\n",
    "queries_aspects, aspects_polarity = save_results(app=\"tinder\", aspect=\"intelligence\", pmi= int_pmi, aspects_polarity = aspects_polarity, queries_aspects = queries_aspects, pos= int_pos, neg=int_neg, avg=int_avg)\n",
    "print(f\"pos: {int_pos:.2f}%, neg: {int_neg:.2f}%, avg: {int_avg}\")\n",
    "int_pmi.head()"
   ]
  },
  {
   "attachments": {},
   "cell_type": "markdown",
   "metadata": {},
   "source": [
    "## __Bumble__"
   ]
  },
  {
   "cell_type": "code",
   "execution_count": 140,
   "metadata": {},
   "outputs": [
    {
     "data": {
      "application/vnd.jupyter.widget-view+json": {
       "model_id": "b85be0b143ac4dc6973f23e6e72e87c0",
       "version_major": 2,
       "version_minor": 0
      },
      "text/plain": [
       "  0%|          | 0/102380 [00:00<?, ?it/s]"
      ]
     },
     "metadata": {},
     "output_type": "display_data"
    },
    {
     "data": {
      "text/html": [
       "<div>\n",
       "<style scoped>\n",
       "    .dataframe tbody tr th:only-of-type {\n",
       "        vertical-align: middle;\n",
       "    }\n",
       "\n",
       "    .dataframe tbody tr th {\n",
       "        vertical-align: top;\n",
       "    }\n",
       "\n",
       "    .dataframe thead th {\n",
       "        text-align: right;\n",
       "    }\n",
       "</style>\n",
       "<table border=\"1\" class=\"dataframe\">\n",
       "  <thead>\n",
       "    <tr style=\"text-align: right;\">\n",
       "      <th></th>\n",
       "      <th>category</th>\n",
       "      <th>noun</th>\n",
       "      <th>noun_cat_pmi</th>\n",
       "    </tr>\n",
       "  </thead>\n",
       "  <tbody>\n",
       "    <tr>\n",
       "      <th>0</th>\n",
       "      <td>attractiveness</td>\n",
       "      <td>a</td>\n",
       "      <td>0.420972</td>\n",
       "    </tr>\n",
       "    <tr>\n",
       "      <th>1</th>\n",
       "      <td>attractiveness</td>\n",
       "      <td>absolutely</td>\n",
       "      <td>0.494088</td>\n",
       "    </tr>\n",
       "    <tr>\n",
       "      <th>2</th>\n",
       "      <td>attractiveness</td>\n",
       "      <td>access</td>\n",
       "      <td>0.529772</td>\n",
       "    </tr>\n",
       "    <tr>\n",
       "      <th>3</th>\n",
       "      <td>attractiveness</td>\n",
       "      <td>account</td>\n",
       "      <td>0.529595</td>\n",
       "    </tr>\n",
       "    <tr>\n",
       "      <th>4</th>\n",
       "      <td>attractiveness</td>\n",
       "      <td>accounts</td>\n",
       "      <td>0.490613</td>\n",
       "    </tr>\n",
       "  </tbody>\n",
       "</table>\n",
       "</div>"
      ],
      "text/plain": [
       "         category        noun  noun_cat_pmi\n",
       "0  attractiveness           a      0.420972\n",
       "1  attractiveness  absolutely      0.494088\n",
       "2  attractiveness      access      0.529772\n",
       "3  attractiveness     account      0.529595\n",
       "4  attractiveness    accounts      0.490613"
      ]
     },
     "execution_count": 140,
     "metadata": {},
     "output_type": "execute_result"
    }
   ],
   "source": [
    "bumble_reviews_by_category = aspect_extraction.get_reviews_by_category(app = \"bumble\", categories = [\"casual sex\", \"relationship\", \"friendship\", \"curiosity\", \"women\", \"men\", \"self esteem\", \"attractiveness\", \"intelligence\"])\n",
    "bumble_word_category_pmi = aspect_extraction.get_noun_category_pmi(bumble_reviews_by_category)\n",
    "bumble_word_category_pmi.head()"
   ]
  },
  {
   "attachments": {},
   "cell_type": "markdown",
   "metadata": {},
   "source": [
    "### __Casual sex__"
   ]
  },
  {
   "cell_type": "code",
   "execution_count": 141,
   "metadata": {},
   "outputs": [],
   "source": [
    "casual_sex_reviews = bumble_reviews_by_category[\"casual sex\"]"
   ]
  },
  {
   "cell_type": "code",
   "execution_count": 142,
   "metadata": {},
   "outputs": [
    {
     "data": {
      "application/vnd.jupyter.widget-view+json": {
       "model_id": "30691e40806f4bb88ed3a75a886f9e36",
       "version_major": 2,
       "version_minor": 0
      },
      "text/plain": [
       "  0%|          | 0/18786 [00:00<?, ?it/s]"
      ]
     },
     "metadata": {},
     "output_type": "display_data"
    }
   ],
   "source": [
    "cs_adj_noun_pmi = aspect_extraction.get_adj_noun_pmi(casual_sex_reviews)\n",
    "cs_pmi = bumble_word_category_pmi[bumble_word_category_pmi.category == \"casual sex\"].merge(cs_adj_noun_pmi, on = [\"noun\"])"
   ]
  },
  {
   "cell_type": "code",
   "execution_count": 143,
   "metadata": {},
   "outputs": [
    {
     "name": "stdout",
     "output_type": "stream",
     "text": [
      "pos: 43.17%, neg: 56.83%, avg: -0.05833517195361265\n"
     ]
    },
    {
     "data": {
      "text/html": [
       "<div>\n",
       "<style scoped>\n",
       "    .dataframe tbody tr th:only-of-type {\n",
       "        vertical-align: middle;\n",
       "    }\n",
       "\n",
       "    .dataframe tbody tr th {\n",
       "        vertical-align: top;\n",
       "    }\n",
       "\n",
       "    .dataframe thead th {\n",
       "        text-align: right;\n",
       "    }\n",
       "</style>\n",
       "<table border=\"1\" class=\"dataframe\">\n",
       "  <thead>\n",
       "    <tr style=\"text-align: right;\">\n",
       "      <th></th>\n",
       "      <th>noun</th>\n",
       "      <th>adj</th>\n",
       "      <th>pmi_combined</th>\n",
       "      <th>polarity</th>\n",
       "    </tr>\n",
       "  </thead>\n",
       "  <tbody>\n",
       "    <tr>\n",
       "      <th>5011</th>\n",
       "      <td>internet</td>\n",
       "      <td>solid</td>\n",
       "      <td>2.152309</td>\n",
       "      <td>0.034722</td>\n",
       "    </tr>\n",
       "    <tr>\n",
       "      <th>6300</th>\n",
       "      <td>members</td>\n",
       "      <td>initial</td>\n",
       "      <td>2.113028</td>\n",
       "      <td>0.000000</td>\n",
       "    </tr>\n",
       "    <tr>\n",
       "      <th>6293</th>\n",
       "      <td>members</td>\n",
       "      <td>horrible</td>\n",
       "      <td>2.095744</td>\n",
       "      <td>-0.625000</td>\n",
       "    </tr>\n",
       "    <tr>\n",
       "      <th>6288</th>\n",
       "      <td>members</td>\n",
       "      <td>bunch</td>\n",
       "      <td>2.081602</td>\n",
       "      <td>-0.025000</td>\n",
       "    </tr>\n",
       "    <tr>\n",
       "      <th>6246</th>\n",
       "      <td>members</td>\n",
       "      <td>opposite</td>\n",
       "      <td>2.056855</td>\n",
       "      <td>0.034091</td>\n",
       "    </tr>\n",
       "  </tbody>\n",
       "</table>\n",
       "</div>"
      ],
      "text/plain": [
       "          noun       adj  pmi_combined  polarity\n",
       "5011  internet     solid      2.152309  0.034722\n",
       "6300   members   initial      2.113028  0.000000\n",
       "6293   members  horrible      2.095744 -0.625000\n",
       "6288   members     bunch      2.081602 -0.025000\n",
       "6246   members  opposite      2.056855  0.034091"
      ]
     },
     "execution_count": 143,
     "metadata": {},
     "output_type": "execute_result"
    }
   ],
   "source": [
    "cs_pmi, cs_pos, cs_neg, cs_avg = get_aspects_polarity(cs_pmi)\n",
    "queries_aspects, aspects_polarity = save_results(app=\"bumble\", aspect=\"casual sex\", pmi= cs_pmi, aspects_polarity = aspects_polarity, queries_aspects = queries_aspects, pos= cs_pos, neg=cs_neg, avg=cs_avg)\n",
    "print(f\"pos: {cs_pos:.2f}%, neg: {cs_neg:.2f}%, avg: {cs_avg}\")\n",
    "cs_pmi.head()"
   ]
  },
  {
   "attachments": {},
   "cell_type": "markdown",
   "metadata": {},
   "source": [
    "### __Relationship__"
   ]
  },
  {
   "cell_type": "code",
   "execution_count": 144,
   "metadata": {},
   "outputs": [],
   "source": [
    "relationship_reviews = bumble_reviews_by_category[\"relationship\"]"
   ]
  },
  {
   "cell_type": "code",
   "execution_count": 145,
   "metadata": {},
   "outputs": [
    {
     "data": {
      "application/vnd.jupyter.widget-view+json": {
       "model_id": "1c1b13c7cdf84d67a1288dab7d41d6f3",
       "version_major": 2,
       "version_minor": 0
      },
      "text/plain": [
       "  0%|          | 0/19600 [00:00<?, ?it/s]"
      ]
     },
     "metadata": {},
     "output_type": "display_data"
    }
   ],
   "source": [
    "rel_adj_noun_pmi = aspect_extraction.get_adj_noun_pmi(relationship_reviews)\n",
    "rel_pmi = bumble_word_category_pmi[bumble_word_category_pmi.category == \"relationship\"].merge(rel_adj_noun_pmi, on = [\"noun\"])"
   ]
  },
  {
   "cell_type": "code",
   "execution_count": 146,
   "metadata": {},
   "outputs": [
    {
     "name": "stdout",
     "output_type": "stream",
     "text": [
      "pos: 45.16%, neg: 54.84%, avg: -0.03131017392704472\n"
     ]
    },
    {
     "data": {
      "text/html": [
       "<div>\n",
       "<style scoped>\n",
       "    .dataframe tbody tr th:only-of-type {\n",
       "        vertical-align: middle;\n",
       "    }\n",
       "\n",
       "    .dataframe tbody tr th {\n",
       "        vertical-align: top;\n",
       "    }\n",
       "\n",
       "    .dataframe thead th {\n",
       "        text-align: right;\n",
       "    }\n",
       "</style>\n",
       "<table border=\"1\" class=\"dataframe\">\n",
       "  <thead>\n",
       "    <tr style=\"text-align: right;\">\n",
       "      <th></th>\n",
       "      <th>noun</th>\n",
       "      <th>adj</th>\n",
       "      <th>pmi_combined</th>\n",
       "      <th>polarity</th>\n",
       "    </tr>\n",
       "  </thead>\n",
       "  <tbody>\n",
       "    <tr>\n",
       "      <th>5187</th>\n",
       "      <td>lives</td>\n",
       "      <td>black</td>\n",
       "      <td>2.455642</td>\n",
       "      <td>-0.284091</td>\n",
       "    </tr>\n",
       "    <tr>\n",
       "      <th>5146</th>\n",
       "      <td>lives</td>\n",
       "      <td>actual</td>\n",
       "      <td>2.255938</td>\n",
       "      <td>0.075000</td>\n",
       "    </tr>\n",
       "    <tr>\n",
       "      <th>5191</th>\n",
       "      <td>lives</td>\n",
       "      <td>pick</td>\n",
       "      <td>2.233115</td>\n",
       "      <td>-0.023810</td>\n",
       "    </tr>\n",
       "    <tr>\n",
       "      <th>5170</th>\n",
       "      <td>lives</td>\n",
       "      <td>true</td>\n",
       "      <td>2.167181</td>\n",
       "      <td>0.241667</td>\n",
       "    </tr>\n",
       "    <tr>\n",
       "      <th>5177</th>\n",
       "      <td>lives</td>\n",
       "      <td>complete</td>\n",
       "      <td>2.167181</td>\n",
       "      <td>0.300000</td>\n",
       "    </tr>\n",
       "  </tbody>\n",
       "</table>\n",
       "</div>"
      ],
      "text/plain": [
       "       noun       adj  pmi_combined  polarity\n",
       "5187  lives     black      2.455642 -0.284091\n",
       "5146  lives    actual      2.255938  0.075000\n",
       "5191  lives      pick      2.233115 -0.023810\n",
       "5170  lives      true      2.167181  0.241667\n",
       "5177  lives  complete      2.167181  0.300000"
      ]
     },
     "execution_count": 146,
     "metadata": {},
     "output_type": "execute_result"
    }
   ],
   "source": [
    "rel_pmi, rel_pos, rel_neg, rel_avg = get_aspects_polarity(rel_pmi)\n",
    "queries_aspects, aspects_polarity = save_results(app=\"bumble\", aspect=\"relationship\", pmi= rel_pmi, aspects_polarity = aspects_polarity, queries_aspects = queries_aspects, pos= rel_pos, neg=rel_neg, avg=rel_avg)\n",
    "print(f\"pos: {rel_pos:.2f}%, neg: {rel_neg:.2f}%, avg: {rel_avg}\")\n",
    "rel_pmi.head()"
   ]
  },
  {
   "cell_type": "markdown",
   "metadata": {},
   "source": [
    "### __Friendship__"
   ]
  },
  {
   "cell_type": "code",
   "execution_count": 147,
   "metadata": {},
   "outputs": [],
   "source": [
    "friendship_reviews = bumble_reviews_by_category[\"friendship\"]"
   ]
  },
  {
   "cell_type": "code",
   "execution_count": 148,
   "metadata": {},
   "outputs": [
    {
     "data": {
      "application/vnd.jupyter.widget-view+json": {
       "model_id": "7177e057226e45cc82ddc87f65187141",
       "version_major": 2,
       "version_minor": 0
      },
      "text/plain": [
       "  0%|          | 0/21216 [00:00<?, ?it/s]"
      ]
     },
     "metadata": {},
     "output_type": "display_data"
    }
   ],
   "source": [
    "friend_adj_noun_pmi = aspect_extraction.get_adj_noun_pmi(friendship_reviews)\n",
    "friend_pmi = bumble_word_category_pmi[bumble_word_category_pmi.category == \"friendship\"].merge(friend_adj_noun_pmi, on = [\"noun\"])"
   ]
  },
  {
   "cell_type": "code",
   "execution_count": 149,
   "metadata": {},
   "outputs": [
    {
     "name": "stdout",
     "output_type": "stream",
     "text": [
      "pos: 40.73%, neg: 59.27%, avg: -0.07431557516773722\n"
     ]
    },
    {
     "data": {
      "text/html": [
       "<div>\n",
       "<style scoped>\n",
       "    .dataframe tbody tr th:only-of-type {\n",
       "        vertical-align: middle;\n",
       "    }\n",
       "\n",
       "    .dataframe tbody tr th {\n",
       "        vertical-align: top;\n",
       "    }\n",
       "\n",
       "    .dataframe thead th {\n",
       "        text-align: right;\n",
       "    }\n",
       "</style>\n",
       "<table border=\"1\" class=\"dataframe\">\n",
       "  <thead>\n",
       "    <tr style=\"text-align: right;\">\n",
       "      <th></th>\n",
       "      <th>noun</th>\n",
       "      <th>adj</th>\n",
       "      <th>pmi_combined</th>\n",
       "      <th>polarity</th>\n",
       "    </tr>\n",
       "  </thead>\n",
       "  <tbody>\n",
       "    <tr>\n",
       "      <th>2846</th>\n",
       "      <td>details</td>\n",
       "      <td>small</td>\n",
       "      <td>2.363764</td>\n",
       "      <td>-0.192308</td>\n",
       "    </tr>\n",
       "    <tr>\n",
       "      <th>2848</th>\n",
       "      <td>details</td>\n",
       "      <td>negative</td>\n",
       "      <td>2.363764</td>\n",
       "      <td>-0.489583</td>\n",
       "    </tr>\n",
       "    <tr>\n",
       "      <th>2852</th>\n",
       "      <td>details</td>\n",
       "      <td>personal</td>\n",
       "      <td>2.363764</td>\n",
       "      <td>0.083333</td>\n",
       "    </tr>\n",
       "    <tr>\n",
       "      <th>2853</th>\n",
       "      <td>details</td>\n",
       "      <td>unsubscribe</td>\n",
       "      <td>2.363764</td>\n",
       "      <td>0.000000</td>\n",
       "    </tr>\n",
       "    <tr>\n",
       "      <th>2843</th>\n",
       "      <td>details</td>\n",
       "      <td>actual</td>\n",
       "      <td>2.363764</td>\n",
       "      <td>0.075000</td>\n",
       "    </tr>\n",
       "  </tbody>\n",
       "</table>\n",
       "</div>"
      ],
      "text/plain": [
       "         noun          adj  pmi_combined  polarity\n",
       "2846  details        small      2.363764 -0.192308\n",
       "2848  details     negative      2.363764 -0.489583\n",
       "2852  details     personal      2.363764  0.083333\n",
       "2853  details  unsubscribe      2.363764  0.000000\n",
       "2843  details       actual      2.363764  0.075000"
      ]
     },
     "execution_count": 149,
     "metadata": {},
     "output_type": "execute_result"
    }
   ],
   "source": [
    "friend_pmi, friend_pos, friend_neg, friend_avg = get_aspects_polarity(friend_pmi)\n",
    "queries_aspects, aspects_polarity = save_results(app=\"bumble\", aspect=\"friendship\", pmi= friend_pmi, aspects_polarity = aspects_polarity, queries_aspects = queries_aspects, pos= friend_pos, neg=friend_neg, avg=friend_avg)\n",
    "print(f\"pos: {friend_pos:.2f}%, neg: {friend_neg:.2f}%, avg: {friend_avg}\")\n",
    "friend_pmi.head()"
   ]
  },
  {
   "attachments": {},
   "cell_type": "markdown",
   "metadata": {},
   "source": [
    "### __Curiosity__"
   ]
  },
  {
   "cell_type": "code",
   "execution_count": 150,
   "metadata": {},
   "outputs": [],
   "source": [
    "curiosity_reviews = bumble_reviews_by_category[\"curiosity\"]"
   ]
  },
  {
   "cell_type": "code",
   "execution_count": 151,
   "metadata": {},
   "outputs": [
    {
     "data": {
      "application/vnd.jupyter.widget-view+json": {
       "model_id": "836ad29dffd448419c31b6520ecaeeed",
       "version_major": 2,
       "version_minor": 0
      },
      "text/plain": [
       "  0%|          | 0/19404 [00:00<?, ?it/s]"
      ]
     },
     "metadata": {},
     "output_type": "display_data"
    }
   ],
   "source": [
    "cur_adj_noun_pmi = aspect_extraction.get_adj_noun_pmi(curiosity_reviews)\n",
    "curiosity_pmi = bumble_word_category_pmi[bumble_word_category_pmi.category == \"curiosity\"].merge(cur_adj_noun_pmi, on = [\"noun\"])"
   ]
  },
  {
   "cell_type": "code",
   "execution_count": 152,
   "metadata": {},
   "outputs": [
    {
     "name": "stdout",
     "output_type": "stream",
     "text": [
      "pos: 35.17%, neg: 64.83%, avg: -0.12115863243901284\n"
     ]
    },
    {
     "data": {
      "text/html": [
       "<div>\n",
       "<style scoped>\n",
       "    .dataframe tbody tr th:only-of-type {\n",
       "        vertical-align: middle;\n",
       "    }\n",
       "\n",
       "    .dataframe tbody tr th {\n",
       "        vertical-align: top;\n",
       "    }\n",
       "\n",
       "    .dataframe thead th {\n",
       "        text-align: right;\n",
       "    }\n",
       "</style>\n",
       "<table border=\"1\" class=\"dataframe\">\n",
       "  <thead>\n",
       "    <tr style=\"text-align: right;\">\n",
       "      <th></th>\n",
       "      <th>noun</th>\n",
       "      <th>adj</th>\n",
       "      <th>pmi_combined</th>\n",
       "      <th>polarity</th>\n",
       "    </tr>\n",
       "  </thead>\n",
       "  <tbody>\n",
       "    <tr>\n",
       "      <th>2348</th>\n",
       "      <td>curiosity</td>\n",
       "      <td>used</td>\n",
       "      <td>2.295455</td>\n",
       "      <td>0.083333</td>\n",
       "    </tr>\n",
       "    <tr>\n",
       "      <th>2347</th>\n",
       "      <td>curiosity</td>\n",
       "      <td>rare</td>\n",
       "      <td>2.295455</td>\n",
       "      <td>-0.104167</td>\n",
       "    </tr>\n",
       "    <tr>\n",
       "      <th>2333</th>\n",
       "      <td>curiosity</td>\n",
       "      <td>write</td>\n",
       "      <td>2.253247</td>\n",
       "      <td>0.000000</td>\n",
       "    </tr>\n",
       "    <tr>\n",
       "      <th>8498</th>\n",
       "      <td>play</td>\n",
       "      <td>google</td>\n",
       "      <td>2.182484</td>\n",
       "      <td>-0.062500</td>\n",
       "    </tr>\n",
       "    <tr>\n",
       "      <th>2304</th>\n",
       "      <td>curiosity</td>\n",
       "      <td>wanna</td>\n",
       "      <td>2.177273</td>\n",
       "      <td>0.000000</td>\n",
       "    </tr>\n",
       "  </tbody>\n",
       "</table>\n",
       "</div>"
      ],
      "text/plain": [
       "           noun     adj  pmi_combined  polarity\n",
       "2348  curiosity    used      2.295455  0.083333\n",
       "2347  curiosity    rare      2.295455 -0.104167\n",
       "2333  curiosity   write      2.253247  0.000000\n",
       "8498       play  google      2.182484 -0.062500\n",
       "2304  curiosity   wanna      2.177273  0.000000"
      ]
     },
     "execution_count": 152,
     "metadata": {},
     "output_type": "execute_result"
    }
   ],
   "source": [
    "cur_pmi, cur_pos, cur_neg, cur_avg = get_aspects_polarity(curiosity_pmi)\n",
    "queries_aspects, aspects_polarity = save_results(app=\"bumble\", aspect=\"curiosity\", pmi= cur_pmi, aspects_polarity = aspects_polarity, queries_aspects = queries_aspects, pos= cur_pos, neg=cur_neg, avg=cur_avg)\n",
    "print(f\"pos: {cur_pos:.2f}%, neg: {cur_neg:.2f}%, avg: {cur_avg}\")\n",
    "cur_pmi.head()"
   ]
  },
  {
   "cell_type": "markdown",
   "metadata": {},
   "source": [
    "### __Women__"
   ]
  },
  {
   "cell_type": "code",
   "execution_count": 153,
   "metadata": {},
   "outputs": [],
   "source": [
    "women_reviews = bumble_reviews_by_category[\"women\"]"
   ]
  },
  {
   "cell_type": "code",
   "execution_count": 155,
   "metadata": {},
   "outputs": [
    {
     "data": {
      "application/vnd.jupyter.widget-view+json": {
       "model_id": "5da8565d72e64035ac05540c7af5607e",
       "version_major": 2,
       "version_minor": 0
      },
      "text/plain": [
       "  0%|          | 0/20972 [00:00<?, ?it/s]"
      ]
     },
     "metadata": {},
     "output_type": "display_data"
    }
   ],
   "source": [
    "women_adj_noun_pmi = aspect_extraction.get_adj_noun_pmi(women_reviews)\n",
    "women_pmi = bumble_word_category_pmi[bumble_word_category_pmi.category == \"women\"].merge(women_adj_noun_pmi, on = [\"noun\"])"
   ]
  },
  {
   "cell_type": "code",
   "execution_count": 156,
   "metadata": {},
   "outputs": [
    {
     "name": "stdout",
     "output_type": "stream",
     "text": [
      "pos: 45.71%, neg: 54.29%, avg: -0.038402560350549106\n"
     ]
    },
    {
     "data": {
      "text/html": [
       "<div>\n",
       "<style scoped>\n",
       "    .dataframe tbody tr th:only-of-type {\n",
       "        vertical-align: middle;\n",
       "    }\n",
       "\n",
       "    .dataframe tbody tr th {\n",
       "        vertical-align: top;\n",
       "    }\n",
       "\n",
       "    .dataframe thead th {\n",
       "        text-align: right;\n",
       "    }\n",
       "</style>\n",
       "<table border=\"1\" class=\"dataframe\">\n",
       "  <thead>\n",
       "    <tr style=\"text-align: right;\">\n",
       "      <th></th>\n",
       "      <th>noun</th>\n",
       "      <th>adj</th>\n",
       "      <th>pmi_combined</th>\n",
       "      <th>polarity</th>\n",
       "    </tr>\n",
       "  </thead>\n",
       "  <tbody>\n",
       "    <tr>\n",
       "      <th>6198</th>\n",
       "      <td>nothing</td>\n",
       "      <td>worthless</td>\n",
       "      <td>2.203127</td>\n",
       "      <td>-0.500000</td>\n",
       "    </tr>\n",
       "    <tr>\n",
       "      <th>6195</th>\n",
       "      <td>nothing</td>\n",
       "      <td>sad</td>\n",
       "      <td>2.203127</td>\n",
       "      <td>-0.625000</td>\n",
       "    </tr>\n",
       "    <tr>\n",
       "      <th>6194</th>\n",
       "      <td>nothing</td>\n",
       "      <td>perfect</td>\n",
       "      <td>2.203127</td>\n",
       "      <td>0.375000</td>\n",
       "    </tr>\n",
       "    <tr>\n",
       "      <th>6205</th>\n",
       "      <td>nothing</td>\n",
       "      <td>human</td>\n",
       "      <td>2.203127</td>\n",
       "      <td>0.000000</td>\n",
       "    </tr>\n",
       "    <tr>\n",
       "      <th>6170</th>\n",
       "      <td>nothing</td>\n",
       "      <td>rare</td>\n",
       "      <td>2.119794</td>\n",
       "      <td>-0.104167</td>\n",
       "    </tr>\n",
       "  </tbody>\n",
       "</table>\n",
       "</div>"
      ],
      "text/plain": [
       "         noun        adj  pmi_combined  polarity\n",
       "6198  nothing  worthless      2.203127 -0.500000\n",
       "6195  nothing        sad      2.203127 -0.625000\n",
       "6194  nothing    perfect      2.203127  0.375000\n",
       "6205  nothing      human      2.203127  0.000000\n",
       "6170  nothing       rare      2.119794 -0.104167"
      ]
     },
     "execution_count": 156,
     "metadata": {},
     "output_type": "execute_result"
    }
   ],
   "source": [
    "women_pmi, women_pos, women_neg, women_avg = get_aspects_polarity(women_pmi)\n",
    "queries_aspects, aspects_polarity = save_results(app=\"bumble\", aspect=\"women\", pmi= women_pmi, aspects_polarity = aspects_polarity, queries_aspects = queries_aspects, pos= women_pos, neg=women_neg, avg=women_avg)\n",
    "print(f\"pos: {women_pos:.2f}%, neg: {women_neg:.2f}%, avg: {women_avg}\")\n",
    "women_pmi.head()"
   ]
  },
  {
   "attachments": {},
   "cell_type": "markdown",
   "metadata": {},
   "source": [
    "### __Men__"
   ]
  },
  {
   "cell_type": "code",
   "execution_count": 157,
   "metadata": {},
   "outputs": [],
   "source": [
    "men_reviews = bumble_reviews_by_category[\"men\"]"
   ]
  },
  {
   "cell_type": "code",
   "execution_count": 158,
   "metadata": {},
   "outputs": [
    {
     "data": {
      "application/vnd.jupyter.widget-view+json": {
       "model_id": "89270371889b4d92ab411cb480daff8a",
       "version_major": 2,
       "version_minor": 0
      },
      "text/plain": [
       "  0%|          | 0/22066 [00:00<?, ?it/s]"
      ]
     },
     "metadata": {},
     "output_type": "display_data"
    }
   ],
   "source": [
    "men_adj_noun_pmi = aspect_extraction.get_adj_noun_pmi(men_reviews)\n",
    "men_pmi = bumble_word_category_pmi[bumble_word_category_pmi.category == \"men\"].merge(men_adj_noun_pmi, on = [\"noun\"])"
   ]
  },
  {
   "cell_type": "code",
   "execution_count": 159,
   "metadata": {},
   "outputs": [
    {
     "name": "stdout",
     "output_type": "stream",
     "text": [
      "pos: 39.93%, neg: 60.07%, avg: -0.09250767333546381\n"
     ]
    },
    {
     "data": {
      "text/html": [
       "<div>\n",
       "<style scoped>\n",
       "    .dataframe tbody tr th:only-of-type {\n",
       "        vertical-align: middle;\n",
       "    }\n",
       "\n",
       "    .dataframe tbody tr th {\n",
       "        vertical-align: top;\n",
       "    }\n",
       "\n",
       "    .dataframe thead th {\n",
       "        text-align: right;\n",
       "    }\n",
       "</style>\n",
       "<table border=\"1\" class=\"dataframe\">\n",
       "  <thead>\n",
       "    <tr style=\"text-align: right;\">\n",
       "      <th></th>\n",
       "      <th>noun</th>\n",
       "      <th>adj</th>\n",
       "      <th>pmi_combined</th>\n",
       "      <th>polarity</th>\n",
       "    </tr>\n",
       "  </thead>\n",
       "  <tbody>\n",
       "    <tr>\n",
       "      <th>15328</th>\n",
       "      <td>reading</td>\n",
       "      <td>weird</td>\n",
       "      <td>2.607374</td>\n",
       "      <td>-0.083333</td>\n",
       "    </tr>\n",
       "    <tr>\n",
       "      <th>691</th>\n",
       "      <td>advantage</td>\n",
       "      <td>average</td>\n",
       "      <td>2.524041</td>\n",
       "      <td>-0.114583</td>\n",
       "    </tr>\n",
       "    <tr>\n",
       "      <th>3053</th>\n",
       "      <td>communication</td>\n",
       "      <td>human</td>\n",
       "      <td>2.453528</td>\n",
       "      <td>0.000000</td>\n",
       "    </tr>\n",
       "    <tr>\n",
       "      <th>15087</th>\n",
       "      <td>rating</td>\n",
       "      <td>average</td>\n",
       "      <td>2.393089</td>\n",
       "      <td>-0.114583</td>\n",
       "    </tr>\n",
       "    <tr>\n",
       "      <th>14975</th>\n",
       "      <td>queue</td>\n",
       "      <td>aware</td>\n",
       "      <td>2.393089</td>\n",
       "      <td>0.562500</td>\n",
       "    </tr>\n",
       "  </tbody>\n",
       "</table>\n",
       "</div>"
      ],
      "text/plain": [
       "                noun      adj  pmi_combined  polarity\n",
       "15328        reading    weird      2.607374 -0.083333\n",
       "691        advantage  average      2.524041 -0.114583\n",
       "3053   communication    human      2.453528  0.000000\n",
       "15087         rating  average      2.393089 -0.114583\n",
       "14975          queue    aware      2.393089  0.562500"
      ]
     },
     "execution_count": 159,
     "metadata": {},
     "output_type": "execute_result"
    }
   ],
   "source": [
    "men_pmi, men_pos, men_neg, men_avg = get_aspects_polarity(men_pmi)\n",
    "queries_aspects, aspects_polarity = save_results(app=\"bumble\", aspect=\"men\", pmi= men_pmi, aspects_polarity = aspects_polarity, queries_aspects = queries_aspects, pos= men_pos, neg=men_neg, avg=men_avg)\n",
    "print(f\"pos: {men_pos:.2f}%, neg: {men_neg:.2f}%, avg: {men_avg}\")\n",
    "men_pmi.head()"
   ]
  },
  {
   "attachments": {},
   "cell_type": "markdown",
   "metadata": {},
   "source": [
    "### __Self Esteem__"
   ]
  },
  {
   "cell_type": "code",
   "execution_count": 160,
   "metadata": {},
   "outputs": [],
   "source": [
    "self_reviews = bumble_reviews_by_category[\"self esteem\"]"
   ]
  },
  {
   "cell_type": "code",
   "execution_count": 161,
   "metadata": {},
   "outputs": [
    {
     "data": {
      "application/vnd.jupyter.widget-view+json": {
       "model_id": "3732fb9016134173ac41229b261f9d7a",
       "version_major": 2,
       "version_minor": 0
      },
      "text/plain": [
       "  0%|          | 0/18518 [00:00<?, ?it/s]"
      ]
     },
     "metadata": {},
     "output_type": "display_data"
    }
   ],
   "source": [
    "self_adj_noun_pmi = aspect_extraction.get_adj_noun_pmi(self_reviews)\n",
    "self_pmi = bumble_word_category_pmi[bumble_word_category_pmi.category == \"self esteem\"].merge(self_adj_noun_pmi, on = [\"noun\"])"
   ]
  },
  {
   "cell_type": "code",
   "execution_count": 162,
   "metadata": {},
   "outputs": [
    {
     "name": "stdout",
     "output_type": "stream",
     "text": [
      "pos: 41.93%, neg: 58.07%, avg: -0.06829712295208276\n"
     ]
    },
    {
     "data": {
      "text/html": [
       "<div>\n",
       "<style scoped>\n",
       "    .dataframe tbody tr th:only-of-type {\n",
       "        vertical-align: middle;\n",
       "    }\n",
       "\n",
       "    .dataframe tbody tr th {\n",
       "        vertical-align: top;\n",
       "    }\n",
       "\n",
       "    .dataframe thead th {\n",
       "        text-align: right;\n",
       "    }\n",
       "</style>\n",
       "<table border=\"1\" class=\"dataframe\">\n",
       "  <thead>\n",
       "    <tr style=\"text-align: right;\">\n",
       "      <th></th>\n",
       "      <th>noun</th>\n",
       "      <th>adj</th>\n",
       "      <th>pmi_combined</th>\n",
       "      <th>polarity</th>\n",
       "    </tr>\n",
       "  </thead>\n",
       "  <tbody>\n",
       "    <tr>\n",
       "      <th>9472</th>\n",
       "      <td>success</td>\n",
       "      <td>extra</td>\n",
       "      <td>2.351453</td>\n",
       "      <td>0.017857</td>\n",
       "    </tr>\n",
       "    <tr>\n",
       "      <th>712</th>\n",
       "      <td>blm</td>\n",
       "      <td>black</td>\n",
       "      <td>2.277356</td>\n",
       "      <td>-0.284091</td>\n",
       "    </tr>\n",
       "    <tr>\n",
       "      <th>9492</th>\n",
       "      <td>success</td>\n",
       "      <td>shot</td>\n",
       "      <td>2.124180</td>\n",
       "      <td>-0.042763</td>\n",
       "    </tr>\n",
       "    <tr>\n",
       "      <th>9480</th>\n",
       "      <td>success</td>\n",
       "      <td>tried</td>\n",
       "      <td>2.059245</td>\n",
       "      <td>0.113636</td>\n",
       "    </tr>\n",
       "    <tr>\n",
       "      <th>9451</th>\n",
       "      <td>success</td>\n",
       "      <td>initiate</td>\n",
       "      <td>1.917569</td>\n",
       "      <td>0.000000</td>\n",
       "    </tr>\n",
       "  </tbody>\n",
       "</table>\n",
       "</div>"
      ],
      "text/plain": [
       "         noun       adj  pmi_combined  polarity\n",
       "9472  success     extra      2.351453  0.017857\n",
       "712       blm     black      2.277356 -0.284091\n",
       "9492  success      shot      2.124180 -0.042763\n",
       "9480  success     tried      2.059245  0.113636\n",
       "9451  success  initiate      1.917569  0.000000"
      ]
     },
     "execution_count": 162,
     "metadata": {},
     "output_type": "execute_result"
    }
   ],
   "source": [
    "self_pmi, self_pos, self_neg, self_avg = get_aspects_polarity(self_pmi)\n",
    "queries_aspects, aspects_polarity = save_results(app=\"bumble\", aspect=\"self esteem\", pmi= self_pmi, aspects_polarity = aspects_polarity, queries_aspects = queries_aspects, pos= self_pos, neg=self_neg, avg=self_avg)\n",
    "print(f\"pos: {self_pos:.2f}%, neg: {self_neg:.2f}%, avg: {self_avg}\")\n",
    "self_pmi.head()"
   ]
  },
  {
   "attachments": {},
   "cell_type": "markdown",
   "metadata": {},
   "source": [
    "### __Attractiveness (appearence)__"
   ]
  },
  {
   "cell_type": "code",
   "execution_count": 163,
   "metadata": {},
   "outputs": [],
   "source": [
    "attractiveness_reviews = bumble_reviews_by_category[\"attractiveness\"]"
   ]
  },
  {
   "cell_type": "code",
   "execution_count": 164,
   "metadata": {},
   "outputs": [
    {
     "data": {
      "application/vnd.jupyter.widget-view+json": {
       "model_id": "f8e5d7e370a34eafbe21439d35074c9a",
       "version_major": 2,
       "version_minor": 0
      },
      "text/plain": [
       "  0%|          | 0/20400 [00:00<?, ?it/s]"
      ]
     },
     "metadata": {},
     "output_type": "display_data"
    }
   ],
   "source": [
    "attr_adj_noun_pmi = aspect_extraction.get_adj_noun_pmi(attractiveness_reviews)\n",
    "attr_pmi = bumble_word_category_pmi[bumble_word_category_pmi.category == \"attractiveness\"].merge(attr_adj_noun_pmi, on = [\"noun\"])"
   ]
  },
  {
   "cell_type": "code",
   "execution_count": 165,
   "metadata": {},
   "outputs": [
    {
     "name": "stdout",
     "output_type": "stream",
     "text": [
      "pos: 46.23%, neg: 53.77%, avg: -0.03656982433260157\n"
     ]
    },
    {
     "data": {
      "text/html": [
       "<div>\n",
       "<style scoped>\n",
       "    .dataframe tbody tr th:only-of-type {\n",
       "        vertical-align: middle;\n",
       "    }\n",
       "\n",
       "    .dataframe tbody tr th {\n",
       "        vertical-align: top;\n",
       "    }\n",
       "\n",
       "    .dataframe thead th {\n",
       "        text-align: right;\n",
       "    }\n",
       "</style>\n",
       "<table border=\"1\" class=\"dataframe\">\n",
       "  <thead>\n",
       "    <tr style=\"text-align: right;\">\n",
       "      <th></th>\n",
       "      <th>noun</th>\n",
       "      <th>adj</th>\n",
       "      <th>pmi_combined</th>\n",
       "      <th>polarity</th>\n",
       "    </tr>\n",
       "  </thead>\n",
       "  <tbody>\n",
       "    <tr>\n",
       "      <th>506</th>\n",
       "      <td>attractiveness</td>\n",
       "      <td>physical</td>\n",
       "      <td>2.980050</td>\n",
       "      <td>-0.017857</td>\n",
       "    </tr>\n",
       "    <tr>\n",
       "      <th>507</th>\n",
       "      <td>attractiveness</td>\n",
       "      <td>normal</td>\n",
       "      <td>2.387458</td>\n",
       "      <td>-0.025000</td>\n",
       "    </tr>\n",
       "    <tr>\n",
       "      <th>485</th>\n",
       "      <td>attractiveness</td>\n",
       "      <td>low</td>\n",
       "      <td>2.288692</td>\n",
       "      <td>-0.250000</td>\n",
       "    </tr>\n",
       "    <tr>\n",
       "      <th>438</th>\n",
       "      <td>attractiveness</td>\n",
       "      <td>attractive</td>\n",
       "      <td>2.201546</td>\n",
       "      <td>0.416667</td>\n",
       "    </tr>\n",
       "    <tr>\n",
       "      <th>508</th>\n",
       "      <td>attractiveness</td>\n",
       "      <td>honest</td>\n",
       "      <td>2.189927</td>\n",
       "      <td>0.250000</td>\n",
       "    </tr>\n",
       "  </tbody>\n",
       "</table>\n",
       "</div>"
      ],
      "text/plain": [
       "               noun         adj  pmi_combined  polarity\n",
       "506  attractiveness    physical      2.980050 -0.017857\n",
       "507  attractiveness      normal      2.387458 -0.025000\n",
       "485  attractiveness         low      2.288692 -0.250000\n",
       "438  attractiveness  attractive      2.201546  0.416667\n",
       "508  attractiveness      honest      2.189927  0.250000"
      ]
     },
     "execution_count": 165,
     "metadata": {},
     "output_type": "execute_result"
    }
   ],
   "source": [
    "attr_pmi, attr_pos, attr_neg, attr_avg = get_aspects_polarity(attr_pmi)\n",
    "queries_aspects, aspects_polarity = save_results(app=\"bumble\", aspect=\"attractiveness\", pmi= attr_pmi, aspects_polarity = aspects_polarity, queries_aspects = queries_aspects, pos= attr_pos, neg=attr_neg, avg=attr_avg)\n",
    "print(f\"pos: {attr_pos:.2f}%, neg: {attr_neg:.2f}%, avg: {attr_avg}\")\n",
    "attr_pmi.head()"
   ]
  },
  {
   "attachments": {},
   "cell_type": "markdown",
   "metadata": {},
   "source": [
    "### __Attractiveness (intelligence)__"
   ]
  },
  {
   "cell_type": "code",
   "execution_count": 166,
   "metadata": {},
   "outputs": [],
   "source": [
    "intelligence_reviews = bumble_reviews_by_category[\"intelligence\"]"
   ]
  },
  {
   "cell_type": "code",
   "execution_count": 167,
   "metadata": {},
   "outputs": [
    {
     "data": {
      "application/vnd.jupyter.widget-view+json": {
       "model_id": "ac66e3e6d9544730a8bb64ca26dc8700",
       "version_major": 2,
       "version_minor": 0
      },
      "text/plain": [
       "  0%|          | 0/19095 [00:00<?, ?it/s]"
      ]
     },
     "metadata": {},
     "output_type": "display_data"
    }
   ],
   "source": [
    "int_adj_noun_pmi = aspect_extraction.get_adj_noun_pmi(intelligence_reviews)\n",
    "int_pmi = bumble_word_category_pmi[bumble_word_category_pmi.category == \"intelligence\"].merge(int_adj_noun_pmi, on = [\"noun\"])"
   ]
  },
  {
   "cell_type": "code",
   "execution_count": 168,
   "metadata": {},
   "outputs": [
    {
     "name": "stdout",
     "output_type": "stream",
     "text": [
      "pos: 36.09%, neg: 63.91%, avg: -0.13938759034928858\n"
     ]
    },
    {
     "data": {
      "text/html": [
       "<div>\n",
       "<style scoped>\n",
       "    .dataframe tbody tr th:only-of-type {\n",
       "        vertical-align: middle;\n",
       "    }\n",
       "\n",
       "    .dataframe tbody tr th {\n",
       "        vertical-align: top;\n",
       "    }\n",
       "\n",
       "    .dataframe thead th {\n",
       "        text-align: right;\n",
       "    }\n",
       "</style>\n",
       "<table border=\"1\" class=\"dataframe\">\n",
       "  <thead>\n",
       "    <tr style=\"text-align: right;\">\n",
       "      <th></th>\n",
       "      <th>noun</th>\n",
       "      <th>adj</th>\n",
       "      <th>pmi_combined</th>\n",
       "      <th>polarity</th>\n",
       "    </tr>\n",
       "  </thead>\n",
       "  <tbody>\n",
       "    <tr>\n",
       "      <th>730</th>\n",
       "      <td>blm</td>\n",
       "      <td>black</td>\n",
       "      <td>2.098629</td>\n",
       "      <td>-0.284091</td>\n",
       "    </tr>\n",
       "    <tr>\n",
       "      <th>8641</th>\n",
       "      <td>refund</td>\n",
       "      <td>false</td>\n",
       "      <td>2.000888</td>\n",
       "      <td>-0.431818</td>\n",
       "    </tr>\n",
       "    <tr>\n",
       "      <th>8642</th>\n",
       "      <td>refund</td>\n",
       "      <td>sex</td>\n",
       "      <td>2.000888</td>\n",
       "      <td>0.020833</td>\n",
       "    </tr>\n",
       "    <tr>\n",
       "      <th>8629</th>\n",
       "      <td>refund</td>\n",
       "      <td>negative</td>\n",
       "      <td>1.955434</td>\n",
       "      <td>-0.489583</td>\n",
       "    </tr>\n",
       "    <tr>\n",
       "      <th>8634</th>\n",
       "      <td>refund</td>\n",
       "      <td>total</td>\n",
       "      <td>1.955434</td>\n",
       "      <td>0.000000</td>\n",
       "    </tr>\n",
       "  </tbody>\n",
       "</table>\n",
       "</div>"
      ],
      "text/plain": [
       "        noun       adj  pmi_combined  polarity\n",
       "730      blm     black      2.098629 -0.284091\n",
       "8641  refund     false      2.000888 -0.431818\n",
       "8642  refund       sex      2.000888  0.020833\n",
       "8629  refund  negative      1.955434 -0.489583\n",
       "8634  refund     total      1.955434  0.000000"
      ]
     },
     "execution_count": 168,
     "metadata": {},
     "output_type": "execute_result"
    }
   ],
   "source": [
    "int_pmi, int_pos, int_neg, int_avg = get_aspects_polarity(int_pmi)\n",
    "queries_aspects, aspects_polarity = save_results(app=\"bumble\", aspect=\"intelligence\", pmi= int_pmi, aspects_polarity = aspects_polarity, queries_aspects = queries_aspects, pos= int_pos, neg=int_neg, avg=int_avg)\n",
    "print(f\"pos: {int_pos:.2f}%, neg: {int_neg:.2f}%, avg: {int_avg}\")\n",
    "int_pmi.head()"
   ]
  },
  {
   "attachments": {},
   "cell_type": "markdown",
   "metadata": {},
   "source": [
    "## __Hinge__"
   ]
  },
  {
   "cell_type": "code",
   "execution_count": 169,
   "metadata": {},
   "outputs": [
    {
     "data": {
      "application/vnd.jupyter.widget-view+json": {
       "model_id": "997d3c063e1f4d49aa098334e50fd156",
       "version_major": 2,
       "version_minor": 0
      },
      "text/plain": [
       "  0%|          | 0/52992 [00:00<?, ?it/s]"
      ]
     },
     "metadata": {},
     "output_type": "display_data"
    },
    {
     "data": {
      "text/html": [
       "<div>\n",
       "<style scoped>\n",
       "    .dataframe tbody tr th:only-of-type {\n",
       "        vertical-align: middle;\n",
       "    }\n",
       "\n",
       "    .dataframe tbody tr th {\n",
       "        vertical-align: top;\n",
       "    }\n",
       "\n",
       "    .dataframe thead th {\n",
       "        text-align: right;\n",
       "    }\n",
       "</style>\n",
       "<table border=\"1\" class=\"dataframe\">\n",
       "  <thead>\n",
       "    <tr style=\"text-align: right;\">\n",
       "      <th></th>\n",
       "      <th>category</th>\n",
       "      <th>noun</th>\n",
       "      <th>noun_cat_pmi</th>\n",
       "    </tr>\n",
       "  </thead>\n",
       "  <tbody>\n",
       "    <tr>\n",
       "      <th>0</th>\n",
       "      <td>attractiveness</td>\n",
       "      <td>a</td>\n",
       "      <td>0.372776</td>\n",
       "    </tr>\n",
       "    <tr>\n",
       "      <th>1</th>\n",
       "      <td>attractiveness</td>\n",
       "      <td>absolute</td>\n",
       "      <td>1.000000</td>\n",
       "    </tr>\n",
       "    <tr>\n",
       "      <th>2</th>\n",
       "      <td>attractiveness</td>\n",
       "      <td>absolutely</td>\n",
       "      <td>0.328914</td>\n",
       "    </tr>\n",
       "    <tr>\n",
       "      <th>3</th>\n",
       "      <td>attractiveness</td>\n",
       "      <td>access</td>\n",
       "      <td>0.392717</td>\n",
       "    </tr>\n",
       "    <tr>\n",
       "      <th>4</th>\n",
       "      <td>attractiveness</td>\n",
       "      <td>account</td>\n",
       "      <td>0.381636</td>\n",
       "    </tr>\n",
       "  </tbody>\n",
       "</table>\n",
       "</div>"
      ],
      "text/plain": [
       "         category        noun  noun_cat_pmi\n",
       "0  attractiveness           a      0.372776\n",
       "1  attractiveness    absolute      1.000000\n",
       "2  attractiveness  absolutely      0.328914\n",
       "3  attractiveness      access      0.392717\n",
       "4  attractiveness     account      0.381636"
      ]
     },
     "execution_count": 169,
     "metadata": {},
     "output_type": "execute_result"
    }
   ],
   "source": [
    "hinge_reviews_by_category = aspect_extraction.get_reviews_by_category(app = \"hinge\", categories = [\"casual sex\", \"relationship\", \"friendship\", \"curiosity\", \"women\", \"men\", \"self esteem\", \"attractiveness\", \"intelligence\"])\n",
    "hinge_word_category_pmi = aspect_extraction.get_noun_category_pmi(hinge_reviews_by_category)\n",
    "hinge_word_category_pmi.head()"
   ]
  },
  {
   "attachments": {},
   "cell_type": "markdown",
   "metadata": {},
   "source": [
    "### __Casual sex__"
   ]
  },
  {
   "cell_type": "code",
   "execution_count": 170,
   "metadata": {},
   "outputs": [],
   "source": [
    "casual_sex_reviews = hinge_reviews_by_category[\"casual sex\"]"
   ]
  },
  {
   "cell_type": "code",
   "execution_count": 171,
   "metadata": {},
   "outputs": [
    {
     "data": {
      "application/vnd.jupyter.widget-view+json": {
       "model_id": "b7dde3f6f96e458e9d837d1ac8632ec0",
       "version_major": 2,
       "version_minor": 0
      },
      "text/plain": [
       "  0%|          | 0/19740 [00:00<?, ?it/s]"
      ]
     },
     "metadata": {},
     "output_type": "display_data"
    }
   ],
   "source": [
    "cs_adj_noun_pmi = aspect_extraction.get_adj_noun_pmi(casual_sex_reviews)\n",
    "cs_pmi = hinge_word_category_pmi[hinge_word_category_pmi.category == \"casual sex\"].merge(cs_adj_noun_pmi, on = [\"noun\"])"
   ]
  },
  {
   "cell_type": "code",
   "execution_count": 172,
   "metadata": {},
   "outputs": [
    {
     "name": "stdout",
     "output_type": "stream",
     "text": [
      "pos: 42.04%, neg: 57.96%, avg: -0.0840935603380155\n"
     ]
    },
    {
     "data": {
      "text/html": [
       "<div>\n",
       "<style scoped>\n",
       "    .dataframe tbody tr th:only-of-type {\n",
       "        vertical-align: middle;\n",
       "    }\n",
       "\n",
       "    .dataframe tbody tr th {\n",
       "        vertical-align: top;\n",
       "    }\n",
       "\n",
       "    .dataframe thead th {\n",
       "        text-align: right;\n",
       "    }\n",
       "</style>\n",
       "<table border=\"1\" class=\"dataframe\">\n",
       "  <thead>\n",
       "    <tr style=\"text-align: right;\">\n",
       "      <th></th>\n",
       "      <th>noun</th>\n",
       "      <th>adj</th>\n",
       "      <th>pmi_combined</th>\n",
       "      <th>polarity</th>\n",
       "    </tr>\n",
       "  </thead>\n",
       "  <tbody>\n",
       "    <tr>\n",
       "      <th>8857</th>\n",
       "      <td>services</td>\n",
       "      <td>sexual</td>\n",
       "      <td>1.712755</td>\n",
       "      <td>0.208333</td>\n",
       "    </tr>\n",
       "    <tr>\n",
       "      <th>7023</th>\n",
       "      <td>pop</td>\n",
       "      <td>gender</td>\n",
       "      <td>1.590705</td>\n",
       "      <td>0.000000</td>\n",
       "    </tr>\n",
       "    <tr>\n",
       "      <th>8647</th>\n",
       "      <td>sell</td>\n",
       "      <td>sexual</td>\n",
       "      <td>1.560366</td>\n",
       "      <td>0.208333</td>\n",
       "    </tr>\n",
       "    <tr>\n",
       "      <th>7014</th>\n",
       "      <td>pop</td>\n",
       "      <td>sick</td>\n",
       "      <td>1.551744</td>\n",
       "      <td>-0.250000</td>\n",
       "    </tr>\n",
       "    <tr>\n",
       "      <th>8710</th>\n",
       "      <td>sell</td>\n",
       "      <td>active</td>\n",
       "      <td>1.536556</td>\n",
       "      <td>0.022059</td>\n",
       "    </tr>\n",
       "  </tbody>\n",
       "</table>\n",
       "</div>"
      ],
      "text/plain": [
       "          noun     adj  pmi_combined  polarity\n",
       "8857  services  sexual      1.712755  0.208333\n",
       "7023       pop  gender      1.590705  0.000000\n",
       "8647      sell  sexual      1.560366  0.208333\n",
       "7014       pop    sick      1.551744 -0.250000\n",
       "8710      sell  active      1.536556  0.022059"
      ]
     },
     "execution_count": 172,
     "metadata": {},
     "output_type": "execute_result"
    }
   ],
   "source": [
    "cs_pmi, cs_pos, cs_neg, cs_avg = get_aspects_polarity(cs_pmi)\n",
    "queries_aspects, aspects_polarity = save_results(app=\"hinge\", aspect=\"casual sex\", pmi= cs_pmi, aspects_polarity = aspects_polarity, queries_aspects = queries_aspects, pos= cs_pos, neg=cs_neg, avg=cs_avg)\n",
    "print(f\"pos: {cs_pos:.2f}%, neg: {cs_neg:.2f}%, avg: {cs_avg}\")\n",
    "cs_pmi.head()"
   ]
  },
  {
   "attachments": {},
   "cell_type": "markdown",
   "metadata": {},
   "source": [
    "### __Relationship__"
   ]
  },
  {
   "cell_type": "code",
   "execution_count": 173,
   "metadata": {},
   "outputs": [],
   "source": [
    "relationship_reviews = hinge_reviews_by_category[\"relationship\"]"
   ]
  },
  {
   "cell_type": "code",
   "execution_count": 174,
   "metadata": {},
   "outputs": [
    {
     "data": {
      "application/vnd.jupyter.widget-view+json": {
       "model_id": "4f4fd135d5d443a39c947e251357df23",
       "version_major": 2,
       "version_minor": 0
      },
      "text/plain": [
       "  0%|          | 0/21780 [00:00<?, ?it/s]"
      ]
     },
     "metadata": {},
     "output_type": "display_data"
    }
   ],
   "source": [
    "rel_adj_noun_pmi = aspect_extraction.get_adj_noun_pmi(relationship_reviews)\n",
    "rel_pmi = hinge_word_category_pmi[hinge_word_category_pmi.category == \"relationship\"].merge(rel_adj_noun_pmi, on = [\"noun\"])"
   ]
  },
  {
   "cell_type": "code",
   "execution_count": 175,
   "metadata": {},
   "outputs": [
    {
     "name": "stdout",
     "output_type": "stream",
     "text": [
      "pos: 58.42%, neg: 41.58%, avg: 0.061685441464853226\n"
     ]
    },
    {
     "data": {
      "text/html": [
       "<div>\n",
       "<style scoped>\n",
       "    .dataframe tbody tr th:only-of-type {\n",
       "        vertical-align: middle;\n",
       "    }\n",
       "\n",
       "    .dataframe tbody tr th {\n",
       "        vertical-align: top;\n",
       "    }\n",
       "\n",
       "    .dataframe thead th {\n",
       "        text-align: right;\n",
       "    }\n",
       "</style>\n",
       "<table border=\"1\" class=\"dataframe\">\n",
       "  <thead>\n",
       "    <tr style=\"text-align: right;\">\n",
       "      <th></th>\n",
       "      <th>noun</th>\n",
       "      <th>adj</th>\n",
       "      <th>pmi_combined</th>\n",
       "      <th>polarity</th>\n",
       "    </tr>\n",
       "  </thead>\n",
       "  <tbody>\n",
       "    <tr>\n",
       "      <th>6440</th>\n",
       "      <td>offer</td>\n",
       "      <td>fine</td>\n",
       "      <td>1.949689</td>\n",
       "      <td>0.212500</td>\n",
       "    </tr>\n",
       "    <tr>\n",
       "      <th>8512</th>\n",
       "      <td>relationship</td>\n",
       "      <td>meaningful</td>\n",
       "      <td>1.936680</td>\n",
       "      <td>0.125000</td>\n",
       "    </tr>\n",
       "    <tr>\n",
       "      <th>8572</th>\n",
       "      <td>relationship</td>\n",
       "      <td>small</td>\n",
       "      <td>1.923247</td>\n",
       "      <td>-0.192308</td>\n",
       "    </tr>\n",
       "    <tr>\n",
       "      <th>8549</th>\n",
       "      <td>relationship</td>\n",
       "      <td>idk</td>\n",
       "      <td>1.916211</td>\n",
       "      <td>0.000000</td>\n",
       "    </tr>\n",
       "    <tr>\n",
       "      <th>8486</th>\n",
       "      <td>relationship</td>\n",
       "      <td>type</td>\n",
       "      <td>1.910477</td>\n",
       "      <td>0.000000</td>\n",
       "    </tr>\n",
       "  </tbody>\n",
       "</table>\n",
       "</div>"
      ],
      "text/plain": [
       "              noun         adj  pmi_combined  polarity\n",
       "6440         offer        fine      1.949689  0.212500\n",
       "8512  relationship  meaningful      1.936680  0.125000\n",
       "8572  relationship       small      1.923247 -0.192308\n",
       "8549  relationship         idk      1.916211  0.000000\n",
       "8486  relationship        type      1.910477  0.000000"
      ]
     },
     "execution_count": 175,
     "metadata": {},
     "output_type": "execute_result"
    }
   ],
   "source": [
    "rel_pmi, rel_pos, rel_neg, rel_avg = get_aspects_polarity(rel_pmi)\n",
    "queries_aspects, aspects_polarity = save_results(app=\"hinge\", aspect=\"relationship\", pmi= rel_pmi, aspects_polarity = aspects_polarity, queries_aspects = queries_aspects, pos= rel_pos, neg=rel_neg, avg=rel_avg)\n",
    "print(f\"pos: {rel_pos:.2f}%, neg: {rel_neg:.2f}%, avg: {rel_avg}\")\n",
    "rel_pmi.head()"
   ]
  },
  {
   "attachments": {},
   "cell_type": "markdown",
   "metadata": {},
   "source": [
    "### __Friendship__"
   ]
  },
  {
   "cell_type": "code",
   "execution_count": 176,
   "metadata": {},
   "outputs": [],
   "source": [
    "friendship_reviews = hinge_reviews_by_category[\"friendship\"]"
   ]
  },
  {
   "cell_type": "code",
   "execution_count": 177,
   "metadata": {},
   "outputs": [
    {
     "data": {
      "application/vnd.jupyter.widget-view+json": {
       "model_id": "b6ee77d85ab3463c9a73b0ff12710e24",
       "version_major": 2,
       "version_minor": 0
      },
      "text/plain": [
       "  0%|          | 0/19897 [00:00<?, ?it/s]"
      ]
     },
     "metadata": {},
     "output_type": "display_data"
    }
   ],
   "source": [
    "friend_adj_noun_pmi = aspect_extraction.get_adj_noun_pmi(friendship_reviews)\n",
    "friend_pmi = hinge_word_category_pmi[hinge_word_category_pmi.category == \"friendship\"].merge(friend_adj_noun_pmi, on = [\"noun\"])"
   ]
  },
  {
   "cell_type": "code",
   "execution_count": 178,
   "metadata": {},
   "outputs": [
    {
     "name": "stdout",
     "output_type": "stream",
     "text": [
      "pos: 51.32%, neg: 48.68%, avg: -0.016026475993001516\n"
     ]
    },
    {
     "data": {
      "text/html": [
       "<div>\n",
       "<style scoped>\n",
       "    .dataframe tbody tr th:only-of-type {\n",
       "        vertical-align: middle;\n",
       "    }\n",
       "\n",
       "    .dataframe tbody tr th {\n",
       "        vertical-align: top;\n",
       "    }\n",
       "\n",
       "    .dataframe thead th {\n",
       "        text-align: right;\n",
       "    }\n",
       "</style>\n",
       "<table border=\"1\" class=\"dataframe\">\n",
       "  <thead>\n",
       "    <tr style=\"text-align: right;\">\n",
       "      <th></th>\n",
       "      <th>noun</th>\n",
       "      <th>adj</th>\n",
       "      <th>pmi_combined</th>\n",
       "      <th>polarity</th>\n",
       "    </tr>\n",
       "  </thead>\n",
       "  <tbody>\n",
       "    <tr>\n",
       "      <th>8517</th>\n",
       "      <td>services</td>\n",
       "      <td>sexual</td>\n",
       "      <td>1.971130</td>\n",
       "      <td>0.208333</td>\n",
       "    </tr>\n",
       "    <tr>\n",
       "      <th>8315</th>\n",
       "      <td>sell</td>\n",
       "      <td>sexual</td>\n",
       "      <td>1.684250</td>\n",
       "      <td>0.208333</td>\n",
       "    </tr>\n",
       "    <tr>\n",
       "      <th>6610</th>\n",
       "      <td>play</td>\n",
       "      <td>google</td>\n",
       "      <td>1.419768</td>\n",
       "      <td>-0.062500</td>\n",
       "    </tr>\n",
       "    <tr>\n",
       "      <th>7875</th>\n",
       "      <td>response</td>\n",
       "      <td>emailed</td>\n",
       "      <td>1.390494</td>\n",
       "      <td>0.000000</td>\n",
       "    </tr>\n",
       "    <tr>\n",
       "      <th>6642</th>\n",
       "      <td>play</td>\n",
       "      <td>uninstalling</td>\n",
       "      <td>1.378951</td>\n",
       "      <td>0.000000</td>\n",
       "    </tr>\n",
       "  </tbody>\n",
       "</table>\n",
       "</div>"
      ],
      "text/plain": [
       "          noun           adj  pmi_combined  polarity\n",
       "8517  services        sexual      1.971130  0.208333\n",
       "8315      sell        sexual      1.684250  0.208333\n",
       "6610      play        google      1.419768 -0.062500\n",
       "7875  response       emailed      1.390494  0.000000\n",
       "6642      play  uninstalling      1.378951  0.000000"
      ]
     },
     "execution_count": 178,
     "metadata": {},
     "output_type": "execute_result"
    }
   ],
   "source": [
    "friend_pmi, friend_pos, friend_neg, friend_avg = get_aspects_polarity(friend_pmi)\n",
    "queries_aspects, aspects_polarity = save_results(app=\"hinge\", aspect=\"friendship\", pmi= friend_pmi, aspects_polarity = aspects_polarity, queries_aspects = queries_aspects, pos= friend_pos, neg=friend_neg, avg=friend_avg)\n",
    "print(f\"pos: {friend_pos:.2f}%, neg: {friend_neg:.2f}%, avg: {friend_avg}\")\n",
    "friend_pmi.head()"
   ]
  },
  {
   "attachments": {},
   "cell_type": "markdown",
   "metadata": {},
   "source": [
    "### __Curiosity__"
   ]
  },
  {
   "cell_type": "code",
   "execution_count": 179,
   "metadata": {},
   "outputs": [],
   "source": [
    "curiosity_reviews = hinge_reviews_by_category[\"curiosity\"]"
   ]
  },
  {
   "cell_type": "code",
   "execution_count": 180,
   "metadata": {},
   "outputs": [
    {
     "data": {
      "application/vnd.jupyter.widget-view+json": {
       "model_id": "24d231f7f8ab4facb699109d37777e32",
       "version_major": 2,
       "version_minor": 0
      },
      "text/plain": [
       "  0%|          | 0/20710 [00:00<?, ?it/s]"
      ]
     },
     "metadata": {},
     "output_type": "display_data"
    }
   ],
   "source": [
    "cur_adj_noun_pmi = aspect_extraction.get_adj_noun_pmi(curiosity_reviews)\n",
    "cur_pmi = hinge_word_category_pmi[hinge_word_category_pmi.category == \"curiosity\"].merge(cur_adj_noun_pmi, on = [\"noun\"])"
   ]
  },
  {
   "cell_type": "code",
   "execution_count": 181,
   "metadata": {},
   "outputs": [
    {
     "name": "stdout",
     "output_type": "stream",
     "text": [
      "pos: 45.45%, neg: 54.55%, avg: -0.03129224125018358\n"
     ]
    },
    {
     "data": {
      "text/html": [
       "<div>\n",
       "<style scoped>\n",
       "    .dataframe tbody tr th:only-of-type {\n",
       "        vertical-align: middle;\n",
       "    }\n",
       "\n",
       "    .dataframe tbody tr th {\n",
       "        vertical-align: top;\n",
       "    }\n",
       "\n",
       "    .dataframe thead th {\n",
       "        text-align: right;\n",
       "    }\n",
       "</style>\n",
       "<table border=\"1\" class=\"dataframe\">\n",
       "  <thead>\n",
       "    <tr style=\"text-align: right;\">\n",
       "      <th></th>\n",
       "      <th>noun</th>\n",
       "      <th>adj</th>\n",
       "      <th>pmi_combined</th>\n",
       "      <th>polarity</th>\n",
       "    </tr>\n",
       "  </thead>\n",
       "  <tbody>\n",
       "    <tr>\n",
       "      <th>8874</th>\n",
       "      <td>services</td>\n",
       "      <td>sexual</td>\n",
       "      <td>1.970955</td>\n",
       "      <td>0.208333</td>\n",
       "    </tr>\n",
       "    <tr>\n",
       "      <th>105</th>\n",
       "      <td>access</td>\n",
       "      <td>sick</td>\n",
       "      <td>1.361050</td>\n",
       "      <td>-0.250000</td>\n",
       "    </tr>\n",
       "    <tr>\n",
       "      <th>7918</th>\n",
       "      <td>random</td>\n",
       "      <td>bunch</td>\n",
       "      <td>1.318747</td>\n",
       "      <td>-0.025000</td>\n",
       "    </tr>\n",
       "    <tr>\n",
       "      <th>308</th>\n",
       "      <td>accounts</td>\n",
       "      <td>spam</td>\n",
       "      <td>1.288568</td>\n",
       "      <td>0.000000</td>\n",
       "    </tr>\n",
       "    <tr>\n",
       "      <th>7877</th>\n",
       "      <td>random</td>\n",
       "      <td>location</td>\n",
       "      <td>1.259223</td>\n",
       "      <td>0.000000</td>\n",
       "    </tr>\n",
       "  </tbody>\n",
       "</table>\n",
       "</div>"
      ],
      "text/plain": [
       "          noun       adj  pmi_combined  polarity\n",
       "8874  services    sexual      1.970955  0.208333\n",
       "105     access      sick      1.361050 -0.250000\n",
       "7918    random     bunch      1.318747 -0.025000\n",
       "308   accounts      spam      1.288568  0.000000\n",
       "7877    random  location      1.259223  0.000000"
      ]
     },
     "execution_count": 181,
     "metadata": {},
     "output_type": "execute_result"
    }
   ],
   "source": [
    "cur_pmi, cur_pos, cur_neg, cur_avg = get_aspects_polarity(cur_pmi)\n",
    "queries_aspects, aspects_polarity = save_results(app=\"hinge\", aspect=\"curiosity\", pmi= cur_pmi, aspects_polarity = aspects_polarity, queries_aspects = queries_aspects, pos= cur_pos, neg=cur_neg, avg=cur_avg)\n",
    "print(f\"pos: {cur_pos:.2f}%, neg: {cur_neg:.2f}%, avg: {cur_avg}\")\n",
    "cur_pmi.head()"
   ]
  },
  {
   "attachments": {},
   "cell_type": "markdown",
   "metadata": {},
   "source": [
    "### __Women__"
   ]
  },
  {
   "cell_type": "code",
   "execution_count": 182,
   "metadata": {},
   "outputs": [],
   "source": [
    "women_reviews = hinge_reviews_by_category[\"women\"]"
   ]
  },
  {
   "cell_type": "code",
   "execution_count": 183,
   "metadata": {},
   "outputs": [
    {
     "data": {
      "application/vnd.jupyter.widget-view+json": {
       "model_id": "98f85579cbdf4970a29e3a599b237a85",
       "version_major": 2,
       "version_minor": 0
      },
      "text/plain": [
       "  0%|          | 0/20400 [00:00<?, ?it/s]"
      ]
     },
     "metadata": {},
     "output_type": "display_data"
    }
   ],
   "source": [
    "women_adj_noun_pmi = aspect_extraction.get_adj_noun_pmi(women_reviews)\n",
    "women_pmi = hinge_word_category_pmi[hinge_word_category_pmi.category == \"women\"].merge(women_adj_noun_pmi, on = [\"noun\"])"
   ]
  },
  {
   "cell_type": "code",
   "execution_count": 184,
   "metadata": {},
   "outputs": [
    {
     "name": "stdout",
     "output_type": "stream",
     "text": [
      "pos: 63.71%, neg: 36.29%, avg: 0.08833274638727191\n"
     ]
    },
    {
     "data": {
      "text/html": [
       "<div>\n",
       "<style scoped>\n",
       "    .dataframe tbody tr th:only-of-type {\n",
       "        vertical-align: middle;\n",
       "    }\n",
       "\n",
       "    .dataframe tbody tr th {\n",
       "        vertical-align: top;\n",
       "    }\n",
       "\n",
       "    .dataframe thead th {\n",
       "        text-align: right;\n",
       "    }\n",
       "</style>\n",
       "<table border=\"1\" class=\"dataframe\">\n",
       "  <thead>\n",
       "    <tr style=\"text-align: right;\">\n",
       "      <th></th>\n",
       "      <th>noun</th>\n",
       "      <th>adj</th>\n",
       "      <th>pmi_combined</th>\n",
       "      <th>polarity</th>\n",
       "    </tr>\n",
       "  </thead>\n",
       "  <tbody>\n",
       "    <tr>\n",
       "      <th>5699</th>\n",
       "      <td>hour</td>\n",
       "      <td>stupid</td>\n",
       "      <td>2.455514</td>\n",
       "      <td>-0.343750</td>\n",
       "    </tr>\n",
       "    <tr>\n",
       "      <th>5503</th>\n",
       "      <td>height</td>\n",
       "      <td>select</td>\n",
       "      <td>2.420549</td>\n",
       "      <td>0.208333</td>\n",
       "    </tr>\n",
       "    <tr>\n",
       "      <th>4581</th>\n",
       "      <td>friends</td>\n",
       "      <td>have</td>\n",
       "      <td>2.328241</td>\n",
       "      <td>-0.031250</td>\n",
       "    </tr>\n",
       "    <tr>\n",
       "      <th>12112</th>\n",
       "      <td>roses</td>\n",
       "      <td>regular</td>\n",
       "      <td>2.328241</td>\n",
       "      <td>-0.058824</td>\n",
       "    </tr>\n",
       "    <tr>\n",
       "      <th>8922</th>\n",
       "      <td>nothing</td>\n",
       "      <td>high</td>\n",
       "      <td>2.279261</td>\n",
       "      <td>0.055556</td>\n",
       "    </tr>\n",
       "  </tbody>\n",
       "</table>\n",
       "</div>"
      ],
      "text/plain": [
       "          noun      adj  pmi_combined  polarity\n",
       "5699      hour   stupid      2.455514 -0.343750\n",
       "5503    height   select      2.420549  0.208333\n",
       "4581   friends     have      2.328241 -0.031250\n",
       "12112    roses  regular      2.328241 -0.058824\n",
       "8922   nothing     high      2.279261  0.055556"
      ]
     },
     "execution_count": 184,
     "metadata": {},
     "output_type": "execute_result"
    }
   ],
   "source": [
    "women_pmi, women_pos, women_neg, women_avg = get_aspects_polarity(women_pmi)\n",
    "queries_aspects, aspects_polarity = save_results(app=\"hinge\", aspect=\"women\", pmi= women_pmi, aspects_polarity = aspects_polarity, queries_aspects = queries_aspects, pos= women_pos, neg=women_neg, avg=women_avg)\n",
    "print(f\"pos: {women_pos:.2f}%, neg: {women_neg:.2f}%, avg: {women_avg}\")\n",
    "women_pmi.head()"
   ]
  },
  {
   "attachments": {},
   "cell_type": "markdown",
   "metadata": {},
   "source": [
    "### __Men__"
   ]
  },
  {
   "cell_type": "code",
   "execution_count": 185,
   "metadata": {},
   "outputs": [],
   "source": [
    "men_reviews = hinge_reviews_by_category[\"men\"]"
   ]
  },
  {
   "cell_type": "code",
   "execution_count": 186,
   "metadata": {},
   "outputs": [
    {
     "data": {
      "application/vnd.jupyter.widget-view+json": {
       "model_id": "c02f3885318743a0a4d4bd93cb22df27",
       "version_major": 2,
       "version_minor": 0
      },
      "text/plain": [
       "  0%|          | 0/22374 [00:00<?, ?it/s]"
      ]
     },
     "metadata": {},
     "output_type": "display_data"
    }
   ],
   "source": [
    "men_adj_noun_pmi = aspect_extraction.get_adj_noun_pmi(men_reviews)\n",
    "men_pmi = hinge_word_category_pmi[hinge_word_category_pmi.category == \"men\"].merge(men_adj_noun_pmi, on = [\"noun\"])"
   ]
  },
  {
   "cell_type": "code",
   "execution_count": 187,
   "metadata": {},
   "outputs": [
    {
     "name": "stdout",
     "output_type": "stream",
     "text": [
      "pos: 56.34%, neg: 43.66%, avg: 0.025828185383811975\n"
     ]
    },
    {
     "data": {
      "text/html": [
       "<div>\n",
       "<style scoped>\n",
       "    .dataframe tbody tr th:only-of-type {\n",
       "        vertical-align: middle;\n",
       "    }\n",
       "\n",
       "    .dataframe tbody tr th {\n",
       "        vertical-align: top;\n",
       "    }\n",
       "\n",
       "    .dataframe thead th {\n",
       "        text-align: right;\n",
       "    }\n",
       "</style>\n",
       "<table border=\"1\" class=\"dataframe\">\n",
       "  <thead>\n",
       "    <tr style=\"text-align: right;\">\n",
       "      <th></th>\n",
       "      <th>noun</th>\n",
       "      <th>adj</th>\n",
       "      <th>pmi_combined</th>\n",
       "      <th>polarity</th>\n",
       "    </tr>\n",
       "  </thead>\n",
       "  <tbody>\n",
       "    <tr>\n",
       "      <th>6641</th>\n",
       "      <td>members</td>\n",
       "      <td>preferred</td>\n",
       "      <td>2.262792</td>\n",
       "      <td>0.3750</td>\n",
       "    </tr>\n",
       "    <tr>\n",
       "      <th>3712</th>\n",
       "      <td>gender</td>\n",
       "      <td>fine</td>\n",
       "      <td>2.241684</td>\n",
       "      <td>0.2125</td>\n",
       "    </tr>\n",
       "    <tr>\n",
       "      <th>13534</th>\n",
       "      <td>way</td>\n",
       "      <td>preferred</td>\n",
       "      <td>2.080500</td>\n",
       "      <td>0.3750</td>\n",
       "    </tr>\n",
       "    <tr>\n",
       "      <th>3652</th>\n",
       "      <td>gender</td>\n",
       "      <td>female</td>\n",
       "      <td>2.064382</td>\n",
       "      <td>0.0000</td>\n",
       "    </tr>\n",
       "    <tr>\n",
       "      <th>11607</th>\n",
       "      <td>star</td>\n",
       "      <td>expensive</td>\n",
       "      <td>2.056195</td>\n",
       "      <td>0.5000</td>\n",
       "    </tr>\n",
       "  </tbody>\n",
       "</table>\n",
       "</div>"
      ],
      "text/plain": [
       "          noun        adj  pmi_combined  polarity\n",
       "6641   members  preferred      2.262792    0.3750\n",
       "3712    gender       fine      2.241684    0.2125\n",
       "13534      way  preferred      2.080500    0.3750\n",
       "3652    gender     female      2.064382    0.0000\n",
       "11607     star  expensive      2.056195    0.5000"
      ]
     },
     "execution_count": 187,
     "metadata": {},
     "output_type": "execute_result"
    }
   ],
   "source": [
    "men_pmi, men_pos, men_neg, men_avg = get_aspects_polarity(men_pmi)\n",
    "queries_aspects, aspects_polarity = save_results(app=\"hinge\", aspect=\"men\", pmi= men_pmi, aspects_polarity = aspects_polarity, queries_aspects = queries_aspects, pos= men_pos, neg=men_neg, avg=men_avg)\n",
    "print(f\"pos: {men_pos:.2f}%, neg: {men_neg:.2f}%, avg: {men_avg}\")\n",
    "men_pmi.head()"
   ]
  },
  {
   "cell_type": "markdown",
   "metadata": {},
   "source": [
    "### __Self Esteem__"
   ]
  },
  {
   "cell_type": "code",
   "execution_count": 188,
   "metadata": {},
   "outputs": [],
   "source": [
    "self_reviews = hinge_reviews_by_category[\"self esteem\"]"
   ]
  },
  {
   "cell_type": "code",
   "execution_count": 189,
   "metadata": {},
   "outputs": [
    {
     "data": {
      "application/vnd.jupyter.widget-view+json": {
       "model_id": "696660344ea2404db3a5dafb59a8ad36",
       "version_major": 2,
       "version_minor": 0
      },
      "text/plain": [
       "  0%|          | 0/18816 [00:00<?, ?it/s]"
      ]
     },
     "metadata": {},
     "output_type": "display_data"
    }
   ],
   "source": [
    "self_adj_noun_pmi = aspect_extraction.get_adj_noun_pmi(self_reviews)\n",
    "self_pmi = hinge_word_category_pmi[hinge_word_category_pmi.category == \"self esteem\"].merge(self_adj_noun_pmi, on = [\"noun\"])"
   ]
  },
  {
   "cell_type": "code",
   "execution_count": 190,
   "metadata": {},
   "outputs": [
    {
     "name": "stdout",
     "output_type": "stream",
     "text": [
      "pos: 47.40%, neg: 52.60%, avg: -0.021406680242026882\n"
     ]
    },
    {
     "data": {
      "text/html": [
       "<div>\n",
       "<style scoped>\n",
       "    .dataframe tbody tr th:only-of-type {\n",
       "        vertical-align: middle;\n",
       "    }\n",
       "\n",
       "    .dataframe tbody tr th {\n",
       "        vertical-align: top;\n",
       "    }\n",
       "\n",
       "    .dataframe thead th {\n",
       "        text-align: right;\n",
       "    }\n",
       "</style>\n",
       "<table border=\"1\" class=\"dataframe\">\n",
       "  <thead>\n",
       "    <tr style=\"text-align: right;\">\n",
       "      <th></th>\n",
       "      <th>noun</th>\n",
       "      <th>adj</th>\n",
       "      <th>pmi_combined</th>\n",
       "      <th>polarity</th>\n",
       "    </tr>\n",
       "  </thead>\n",
       "  <tbody>\n",
       "    <tr>\n",
       "      <th>7913</th>\n",
       "      <td>services</td>\n",
       "      <td>sexual</td>\n",
       "      <td>1.973940</td>\n",
       "      <td>0.208333</td>\n",
       "    </tr>\n",
       "    <tr>\n",
       "      <th>7625</th>\n",
       "      <td>sell</td>\n",
       "      <td>sexual</td>\n",
       "      <td>1.687059</td>\n",
       "      <td>0.208333</td>\n",
       "    </tr>\n",
       "    <tr>\n",
       "      <th>6685</th>\n",
       "      <td>random</td>\n",
       "      <td>bunch</td>\n",
       "      <td>1.321732</td>\n",
       "      <td>-0.025000</td>\n",
       "    </tr>\n",
       "    <tr>\n",
       "      <th>7669</th>\n",
       "      <td>sell</td>\n",
       "      <td>unlimited</td>\n",
       "      <td>1.294202</td>\n",
       "      <td>-0.250000</td>\n",
       "    </tr>\n",
       "    <tr>\n",
       "      <th>7676</th>\n",
       "      <td>sell</td>\n",
       "      <td>ridiculous</td>\n",
       "      <td>1.294202</td>\n",
       "      <td>0.083333</td>\n",
       "    </tr>\n",
       "  </tbody>\n",
       "</table>\n",
       "</div>"
      ],
      "text/plain": [
       "          noun         adj  pmi_combined  polarity\n",
       "7913  services      sexual      1.973940  0.208333\n",
       "7625      sell      sexual      1.687059  0.208333\n",
       "6685    random       bunch      1.321732 -0.025000\n",
       "7669      sell   unlimited      1.294202 -0.250000\n",
       "7676      sell  ridiculous      1.294202  0.083333"
      ]
     },
     "execution_count": 190,
     "metadata": {},
     "output_type": "execute_result"
    }
   ],
   "source": [
    "self_pmi, self_pos, self_neg, self_avg = get_aspects_polarity(self_pmi)\n",
    "queries_aspects, aspects_polarity = save_results(app=\"hinge\", aspect=\"self esteem\", pmi= self_pmi, aspects_polarity = aspects_polarity, queries_aspects = queries_aspects, pos= self_pos, neg=self_neg, avg=self_avg)\n",
    "print(f\"pos: {self_pos:.2f}%, neg: {self_neg:.2f}%, avg: {self_avg}\")\n",
    "self_pmi.head()"
   ]
  },
  {
   "cell_type": "markdown",
   "metadata": {},
   "source": [
    "### __Attractiveness (appearence)__"
   ]
  },
  {
   "cell_type": "code",
   "execution_count": 191,
   "metadata": {},
   "outputs": [],
   "source": [
    "attractiveness_reviews = hinge_reviews_by_category[\"attractiveness\"]"
   ]
  },
  {
   "cell_type": "code",
   "execution_count": 192,
   "metadata": {},
   "outputs": [
    {
     "data": {
      "application/vnd.jupyter.widget-view+json": {
       "model_id": "2b15d824b7c34f47acca155b0a994a9a",
       "version_major": 2,
       "version_minor": 0
      },
      "text/plain": [
       "  0%|          | 0/21037 [00:00<?, ?it/s]"
      ]
     },
     "metadata": {},
     "output_type": "display_data"
    }
   ],
   "source": [
    "attr_adj_noun_pmi = aspect_extraction.get_adj_noun_pmi(attractiveness_reviews)\n",
    "attr_pmi = hinge_word_category_pmi[hinge_word_category_pmi.category == \"attractiveness\"].merge(attr_adj_noun_pmi, on = [\"noun\"])"
   ]
  },
  {
   "cell_type": "code",
   "execution_count": 193,
   "metadata": {},
   "outputs": [
    {
     "name": "stdout",
     "output_type": "stream",
     "text": [
      "pos: 46.67%, neg: 53.33%, avg: -0.03131679873180656\n"
     ]
    },
    {
     "data": {
      "text/html": [
       "<div>\n",
       "<style scoped>\n",
       "    .dataframe tbody tr th:only-of-type {\n",
       "        vertical-align: middle;\n",
       "    }\n",
       "\n",
       "    .dataframe tbody tr th {\n",
       "        vertical-align: top;\n",
       "    }\n",
       "\n",
       "    .dataframe thead th {\n",
       "        text-align: right;\n",
       "    }\n",
       "</style>\n",
       "<table border=\"1\" class=\"dataframe\">\n",
       "  <thead>\n",
       "    <tr style=\"text-align: right;\">\n",
       "      <th></th>\n",
       "      <th>noun</th>\n",
       "      <th>adj</th>\n",
       "      <th>pmi_combined</th>\n",
       "      <th>polarity</th>\n",
       "    </tr>\n",
       "  </thead>\n",
       "  <tbody>\n",
       "    <tr>\n",
       "      <th>107</th>\n",
       "      <td>absolute</td>\n",
       "      <td>huge</td>\n",
       "      <td>2.318182</td>\n",
       "      <td>-0.125000</td>\n",
       "    </tr>\n",
       "    <tr>\n",
       "      <th>67</th>\n",
       "      <td>absolute</td>\n",
       "      <td>low</td>\n",
       "      <td>2.198864</td>\n",
       "      <td>-0.250000</td>\n",
       "    </tr>\n",
       "    <tr>\n",
       "      <th>68</th>\n",
       "      <td>absolute</td>\n",
       "      <td>average</td>\n",
       "      <td>2.198864</td>\n",
       "      <td>-0.114583</td>\n",
       "    </tr>\n",
       "    <tr>\n",
       "      <th>40</th>\n",
       "      <td>absolute</td>\n",
       "      <td>attractiveness</td>\n",
       "      <td>2.132576</td>\n",
       "      <td>0.562500</td>\n",
       "    </tr>\n",
       "    <tr>\n",
       "      <th>37</th>\n",
       "      <td>absolute</td>\n",
       "      <td>personal</td>\n",
       "      <td>2.122378</td>\n",
       "      <td>0.083333</td>\n",
       "    </tr>\n",
       "  </tbody>\n",
       "</table>\n",
       "</div>"
      ],
      "text/plain": [
       "         noun             adj  pmi_combined  polarity\n",
       "107  absolute            huge      2.318182 -0.125000\n",
       "67   absolute             low      2.198864 -0.250000\n",
       "68   absolute         average      2.198864 -0.114583\n",
       "40   absolute  attractiveness      2.132576  0.562500\n",
       "37   absolute        personal      2.122378  0.083333"
      ]
     },
     "execution_count": 193,
     "metadata": {},
     "output_type": "execute_result"
    }
   ],
   "source": [
    "attr_pmi, attr_pos, attr_neg, attr_avg = get_aspects_polarity(attr_pmi)\n",
    "queries_aspects, aspects_polarity = save_results(app=\"hinge\", aspect=\"attractiveness\", pmi= attr_pmi, aspects_polarity = aspects_polarity, queries_aspects = queries_aspects, pos= attr_pos, neg=attr_neg, avg=attr_avg)\n",
    "print(f\"pos: {attr_pos:.2f}%, neg: {attr_neg:.2f}%, avg: {attr_avg}\")\n",
    "attr_pmi.head()"
   ]
  },
  {
   "attachments": {},
   "cell_type": "markdown",
   "metadata": {},
   "source": [
    "### __Attractiveness (intelligence)__"
   ]
  },
  {
   "cell_type": "code",
   "execution_count": 194,
   "metadata": {},
   "outputs": [],
   "source": [
    "intelligence_reviews = hinge_reviews_by_category[\"intelligence\"]"
   ]
  },
  {
   "cell_type": "code",
   "execution_count": 195,
   "metadata": {},
   "outputs": [
    {
     "data": {
      "application/vnd.jupyter.widget-view+json": {
       "model_id": "f6640ea8327145d08bd06aa79fd69fce",
       "version_major": 2,
       "version_minor": 0
      },
      "text/plain": [
       "  0%|          | 0/18912 [00:00<?, ?it/s]"
      ]
     },
     "metadata": {},
     "output_type": "display_data"
    }
   ],
   "source": [
    "int_adj_noun_pmi = aspect_extraction.get_adj_noun_pmi(intelligence_reviews)\n",
    "int_pmi = hinge_word_category_pmi[hinge_word_category_pmi.category == \"intelligence\"].merge(int_adj_noun_pmi, on = [\"noun\"])"
   ]
  },
  {
   "cell_type": "code",
   "execution_count": 196,
   "metadata": {},
   "outputs": [
    {
     "name": "stdout",
     "output_type": "stream",
     "text": [
      "pos: 46.80%, neg: 53.20%, avg: -0.03627475710469809\n"
     ]
    },
    {
     "data": {
      "text/html": [
       "<div>\n",
       "<style scoped>\n",
       "    .dataframe tbody tr th:only-of-type {\n",
       "        vertical-align: middle;\n",
       "    }\n",
       "\n",
       "    .dataframe tbody tr th {\n",
       "        vertical-align: top;\n",
       "    }\n",
       "\n",
       "    .dataframe thead th {\n",
       "        text-align: right;\n",
       "    }\n",
       "</style>\n",
       "<table border=\"1\" class=\"dataframe\">\n",
       "  <thead>\n",
       "    <tr style=\"text-align: right;\">\n",
       "      <th></th>\n",
       "      <th>noun</th>\n",
       "      <th>adj</th>\n",
       "      <th>pmi_combined</th>\n",
       "      <th>polarity</th>\n",
       "    </tr>\n",
       "  </thead>\n",
       "  <tbody>\n",
       "    <tr>\n",
       "      <th>8773</th>\n",
       "      <td>services</td>\n",
       "      <td>sexual</td>\n",
       "      <td>1.972650</td>\n",
       "      <td>0.208333</td>\n",
       "    </tr>\n",
       "    <tr>\n",
       "      <th>9004</th>\n",
       "      <td>sites</td>\n",
       "      <td>ive</td>\n",
       "      <td>1.553879</td>\n",
       "      <td>0.000000</td>\n",
       "    </tr>\n",
       "    <tr>\n",
       "      <th>9023</th>\n",
       "      <td>sites</td>\n",
       "      <td>funny</td>\n",
       "      <td>1.419185</td>\n",
       "      <td>-0.150000</td>\n",
       "    </tr>\n",
       "    <tr>\n",
       "      <th>6668</th>\n",
       "      <td>play</td>\n",
       "      <td>google</td>\n",
       "      <td>1.366343</td>\n",
       "      <td>-0.062500</td>\n",
       "    </tr>\n",
       "    <tr>\n",
       "      <th>6693</th>\n",
       "      <td>play</td>\n",
       "      <td>uninstalling</td>\n",
       "      <td>1.328666</td>\n",
       "      <td>0.000000</td>\n",
       "    </tr>\n",
       "  </tbody>\n",
       "</table>\n",
       "</div>"
      ],
      "text/plain": [
       "          noun           adj  pmi_combined  polarity\n",
       "8773  services        sexual      1.972650  0.208333\n",
       "9004     sites           ive      1.553879  0.000000\n",
       "9023     sites         funny      1.419185 -0.150000\n",
       "6668      play        google      1.366343 -0.062500\n",
       "6693      play  uninstalling      1.328666  0.000000"
      ]
     },
     "execution_count": 196,
     "metadata": {},
     "output_type": "execute_result"
    }
   ],
   "source": [
    "int_pmi, int_pos, int_neg, int_avg = get_aspects_polarity(int_pmi)\n",
    "queries_aspects, aspects_polarity = save_results(app=\"hinge\", aspect=\"intelligence\", pmi= int_pmi, aspects_polarity = aspects_polarity, queries_aspects = queries_aspects, pos= int_pos, neg=int_neg, avg=int_avg)\n",
    "print(f\"pos: {int_pos:.2f}%, neg: {int_neg:.2f}%, avg: {int_avg}\")\n",
    "int_pmi.head()"
   ]
  },
  {
   "cell_type": "code",
   "execution_count": 197,
   "metadata": {},
   "outputs": [],
   "source": [
    "with open(\"data/pmi_query_aspects.pickle\", \"wb+\") as f:\n",
    "    pickle.dump(queries_aspects, f)"
   ]
  },
  {
   "cell_type": "code",
   "execution_count": 198,
   "metadata": {},
   "outputs": [],
   "source": [
    "with open(\"data/pmi_aspects_polarities.pickle\", \"wb+\") as f:\n",
    "    pickle.dump(aspects_polarity, f)"
   ]
  },
  {
   "cell_type": "markdown",
   "metadata": {},
   "source": [
    "## __Comparing__"
   ]
  },
  {
   "cell_type": "code",
   "execution_count": 199,
   "metadata": {},
   "outputs": [],
   "source": [
    "with open(\"data/pmi_aspects_polarities.pickle\", \"rb+\") as f:\n",
    "    dating_app_polarities = pickle.load(f)"
   ]
  },
  {
   "cell_type": "code",
   "execution_count": 200,
   "metadata": {},
   "outputs": [
    {
     "data": {
      "image/png": "[encoded data removed]",
      "text/plain": [
       "<Figure size 2100x600 with 3 Axes>"
      ]
     },
     "metadata": {},
     "output_type": "display_data"
    }
   ],
   "source": [
    "visualizer.plot_apps_polarity(dating_app_polarities, aspects = [\"casual sex\", \"relationship\"], figsize=(21,6))"
   ]
  },
  {
   "cell_type": "code",
   "execution_count": 201,
   "metadata": {},
   "outputs": [
    {
     "data": {
      "image/png": "[encoded data removed]",
      "text/plain": [
       "<Figure size 2300x500 with 3 Axes>"
      ]
     },
     "metadata": {},
     "output_type": "display_data"
    }
   ],
   "source": [
    "visualizer.plot_apps_polarity(dating_app_polarities, aspects= [\"men\", \"women\"], figsize=(23,5))"
   ]
  },
  {
   "cell_type": "code",
   "execution_count": 202,
   "metadata": {},
   "outputs": [
    {
     "data": {
      "image/png": "[encoded data removed]",
      "text/plain": [
       "<Figure size 2300x500 with 3 Axes>"
      ]
     },
     "metadata": {},
     "output_type": "display_data"
    }
   ],
   "source": [
    "visualizer.plot_apps_polarity(dating_app_polarities, aspects= [\"intelligence\", \"attractiveness\"], figsize=(23,5))"
   ]
  },
  {
   "cell_type": "code",
   "execution_count": 203,
   "metadata": {},
   "outputs": [
    {
     "data": {
      "image/png": "[encoded data removed]",
      "text/plain": [
       "<Figure size 2300x500 with 3 Axes>"
      ]
     },
     "metadata": {},
     "output_type": "display_data"
    }
   ],
   "source": [
    "visualizer.plot_apps_polarity(dating_app_polarities, aspects= [\"curiosity\", \"friendship\"], figsize=(23,5))"
   ]
  }
 ],
 "metadata": {
  "kernelspec": {
   "display_name": "venv",
   "language": "python",
   "name": "python3"
  },
  "language_info": {
   "codemirror_mode": {
    "name": "ipython",
    "version": 3
   },
   "file_extension": ".py",
   "mimetype": "text/x-python",
   "name": "python",
   "nbconvert_exporter": "python",
   "pygments_lexer": "ipython3",
   "version": "3.10.6"
  },
  "orig_nbformat": 4
 },
 "nbformat": 4,
 "nbformat_minor": 2
}
