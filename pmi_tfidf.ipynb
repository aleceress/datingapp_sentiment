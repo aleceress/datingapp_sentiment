{
 "cells": [
  {
   "cell_type": "code",
   "execution_count": 1,
   "metadata": {},
   "outputs": [
    {
     "name": "stderr",
     "output_type": "stream",
     "text": [
      "2023-05-23 10:48:02.207085: I tensorflow/core/platform/cpu_feature_guard.cc:182] This TensorFlow binary is optimized to use available CPU instructions in performance-critical operations.\n",
      "To enable the following instructions: AVX2 FMA, in other operations, rebuild TensorFlow with the appropriate compiler flags.\n",
      "2023-05-23 10:48:03.336262: W tensorflow/compiler/tf2tensorrt/utils/py_utils.cc:38] TF-TRT Warning: Could not find TensorRT\n",
      "2023-05-23 10:48:04.521380: I tensorflow/compiler/xla/stream_executor/cuda/cuda_gpu_executor.cc:996] successful NUMA node read from SysFS had negative value (-1), but there must be at least one NUMA node, so returning NUMA node zero. See more at https://github.com/torvalds/linux/blob/v6.0/Documentation/ABI/testing/sysfs-bus-pci#L344-L355\n",
      "2023-05-23 10:48:04.571071: I tensorflow/compiler/xla/stream_executor/cuda/cuda_gpu_executor.cc:996] successful NUMA node read from SysFS had negative value (-1), but there must be at least one NUMA node, so returning NUMA node zero. See more at https://github.com/torvalds/linux/blob/v6.0/Documentation/ABI/testing/sysfs-bus-pci#L344-L355\n",
      "2023-05-23 10:48:04.571458: I tensorflow/compiler/xla/stream_executor/cuda/cuda_gpu_executor.cc:996] successful NUMA node read from SysFS had negative value (-1), but there must be at least one NUMA node, so returning NUMA node zero. See more at https://github.com/torvalds/linux/blob/v6.0/Documentation/ABI/testing/sysfs-bus-pci#L344-L355\n"
     ]
    }
   ],
   "source": [
    "import warnings\n",
    "warnings.filterwarnings(\"ignore\")\n",
    "from utils import aspect_extraction, general, sentiment_extraction, visualizer\n",
    "import pickle\n",
    "import pandas as pd"
   ]
  },
  {
   "cell_type": "code",
   "execution_count": 2,
   "metadata": {},
   "outputs": [
    {
     "data": {
      "text/plain": [
       "<module 'utils.visualizer' from '/home/alessia/Documenti/University/Text mining and sentiment analysis/progetto/tinder/utils/visualizer.py'>"
      ]
     },
     "execution_count": 2,
     "metadata": {},
     "output_type": "execute_result"
    }
   ],
   "source": [
    "import importlib\n",
    "importlib.reload(general)\n",
    "importlib.reload(aspect_extraction)\n",
    "importlib.reload(sentiment_extraction)\n",
    "importlib.reload(visualizer)"
   ]
  },
  {
   "cell_type": "code",
   "execution_count": 3,
   "metadata": {},
   "outputs": [],
   "source": [
    "def get_aspects_polarity(pmi):\n",
    "    pmi[\"pmi_combined\"] = pmi[\"noun_cat_pmi\"]+ pmi[\"adj_noun_pmi\"]\n",
    "    pmi = pmi[[\"noun\", \"adj\", \"pmi_combined\"]]\n",
    "    pmi[\"polarity\"] = pmi[\"adj\"].apply(lambda x : sentiment_extraction.get_sentiwn_score(x))\n",
    "    pmi = pmi.sort_values(by = \"pmi_combined\", ascending=False)[:1000]\n",
    "    pos = len(pmi[pmi.polarity > 0.1])\n",
    "    neg = len(pmi[pmi.polarity < -0.1])\n",
    "    avg = pmi[abs(pmi.polarity) > 0.1][\"polarity\"].mean()\n",
    "    return pmi[abs(pmi.polarity) > 0.1], (pos/(pos+neg))*100, (neg/(pos+neg))*100, avg"
   ]
  },
  {
   "cell_type": "code",
   "execution_count": 4,
   "metadata": {},
   "outputs": [],
   "source": [
    "queries_aspects = {}\n",
    "aspects_polarity = {}\n",
    "\n",
    "def save_results(app, aspect, queries_aspects, aspects_polarity, pmi, pos, neg, avg):\n",
    "    if app not in queries_aspects:\n",
    "        queries_aspects[app] = {}\n",
    "    if app not in aspects_polarity:\n",
    "        aspects_polarity[app] = {}\n",
    "\n",
    "    aspects = list(pmi[abs(pmi.polarity) > 0.2][[\"noun\", \"adj\"]].itertuples(index=False, name = None))\n",
    "    queries_aspects[app][aspect] = aspects\n",
    "    aspects_polarity[app][aspect] = {}\n",
    "    aspects_polarity[app][aspect][\"pos\"] = pos\n",
    "    aspects_polarity[app][aspect][\"neg\"] = neg\n",
    "    aspects_polarity[app][aspect][\"avg\"] = avg\n",
    "    return queries_aspects, aspects_polarity"
   ]
  },
  {
   "attachments": {},
   "cell_type": "markdown",
   "metadata": {},
   "source": [
    "## __Tinder__"
   ]
  },
  {
   "cell_type": "code",
   "execution_count": 5,
   "metadata": {},
   "outputs": [
    {
     "data": {
      "application/vnd.jupyter.widget-view+json": {
       "model_id": "082445d3895c44dfafa22601515b9a56",
       "version_major": 2,
       "version_minor": 0
      },
      "text/plain": [
       "  0%|          | 0/577214 [00:00<?, ?it/s]"
      ]
     },
     "metadata": {},
     "output_type": "display_data"
    },
    {
     "data": {
      "text/html": [
       "<div>\n",
       "<style scoped>\n",
       "    .dataframe tbody tr th:only-of-type {\n",
       "        vertical-align: middle;\n",
       "    }\n",
       "\n",
       "    .dataframe tbody tr th {\n",
       "        vertical-align: top;\n",
       "    }\n",
       "\n",
       "    .dataframe thead th {\n",
       "        text-align: right;\n",
       "    }\n",
       "</style>\n",
       "<table border=\"1\" class=\"dataframe\">\n",
       "  <thead>\n",
       "    <tr style=\"text-align: right;\">\n",
       "      <th></th>\n",
       "      <th>category</th>\n",
       "      <th>noun</th>\n",
       "      <th>noun_cat_pmi</th>\n",
       "    </tr>\n",
       "  </thead>\n",
       "  <tbody>\n",
       "    <tr>\n",
       "      <th>0</th>\n",
       "      <td>attractiveness</td>\n",
       "      <td>a</td>\n",
       "      <td>0.501333</td>\n",
       "    </tr>\n",
       "    <tr>\n",
       "      <th>1</th>\n",
       "      <td>attractiveness</td>\n",
       "      <td>aap</td>\n",
       "      <td>0.709722</td>\n",
       "    </tr>\n",
       "    <tr>\n",
       "      <th>2</th>\n",
       "      <td>attractiveness</td>\n",
       "      <td>account</td>\n",
       "      <td>0.639157</td>\n",
       "    </tr>\n",
       "    <tr>\n",
       "      <th>3</th>\n",
       "      <td>attractiveness</td>\n",
       "      <td>accounts</td>\n",
       "      <td>0.486562</td>\n",
       "    </tr>\n",
       "    <tr>\n",
       "      <th>4</th>\n",
       "      <td>attractiveness</td>\n",
       "      <td>after</td>\n",
       "      <td>0.588550</td>\n",
       "    </tr>\n",
       "  </tbody>\n",
       "</table>\n",
       "</div>"
      ],
      "text/plain": [
       "         category      noun  noun_cat_pmi\n",
       "0  attractiveness         a      0.501333\n",
       "1  attractiveness       aap      0.709722\n",
       "2  attractiveness   account      0.639157\n",
       "3  attractiveness  accounts      0.486562\n",
       "4  attractiveness     after      0.588550"
      ]
     },
     "execution_count": 5,
     "metadata": {},
     "output_type": "execute_result"
    }
   ],
   "source": [
    "tinder_reviews_by_category = aspect_extraction.get_reviews_by_category(app = \"tinder\", categories = [\"casual sex\", \"relationship\", \"friendship\", \"curiosity\", \"women\", \"men\", \"self esteem\", \"attractiveness\", \"intelligence\"])\n",
    "tinder_word_category_pmi = aspect_extraction.get_noun_category_pmi(tinder_reviews_by_category)\n",
    "tinder_word_category_pmi.head()"
   ]
  },
  {
   "attachments": {},
   "cell_type": "markdown",
   "metadata": {},
   "source": [
    "### __Casual sex__"
   ]
  },
  {
   "cell_type": "code",
   "execution_count": 6,
   "metadata": {},
   "outputs": [],
   "source": [
    "casual_sex_reviews = tinder_reviews_by_category[\"casual sex\"]"
   ]
  },
  {
   "cell_type": "code",
   "execution_count": 14,
   "metadata": {},
   "outputs": [
    {
     "data": {
      "application/vnd.jupyter.widget-view+json": {
       "model_id": "13e1f6f946814841a07a4816a5560695",
       "version_major": 2,
       "version_minor": 0
      },
      "text/plain": [
       "  0%|          | 0/20295 [00:00<?, ?it/s]"
      ]
     },
     "metadata": {},
     "output_type": "display_data"
    }
   ],
   "source": [
    "cs_adj_noun_pmi = aspect_extraction.get_adj_noun_pmi(casual_sex_reviews)\n",
    "cs_adj_noun_pmi = cs_adj_noun_pmi[cs_adj_noun_pmi.adj_noun_pmi > 0]\n",
    "cs_pmi = tinder_word_category_pmi[tinder_word_category_pmi.category == \"casual sex\"].merge(cs_adj_noun_pmi, on = [\"noun\"])"
   ]
  },
  {
   "cell_type": "code",
   "execution_count": 15,
   "metadata": {},
   "outputs": [
    {
     "name": "stdout",
     "output_type": "stream",
     "text": [
      "pos: 52.16%, neg: 47.84% avg: -0.034590287927126886\n"
     ]
    },
    {
     "data": {
      "text/html": [
       "<div>\n",
       "<style scoped>\n",
       "    .dataframe tbody tr th:only-of-type {\n",
       "        vertical-align: middle;\n",
       "    }\n",
       "\n",
       "    .dataframe tbody tr th {\n",
       "        vertical-align: top;\n",
       "    }\n",
       "\n",
       "    .dataframe thead th {\n",
       "        text-align: right;\n",
       "    }\n",
       "</style>\n",
       "<table border=\"1\" class=\"dataframe\">\n",
       "  <thead>\n",
       "    <tr style=\"text-align: right;\">\n",
       "      <th></th>\n",
       "      <th>noun</th>\n",
       "      <th>adj</th>\n",
       "      <th>pmi_combined</th>\n",
       "      <th>polarity</th>\n",
       "    </tr>\n",
       "  </thead>\n",
       "  <tbody>\n",
       "    <tr>\n",
       "      <th>4155</th>\n",
       "      <td>thanks</td>\n",
       "      <td>safe</td>\n",
       "      <td>1.487427</td>\n",
       "      <td>0.160714</td>\n",
       "    </tr>\n",
       "    <tr>\n",
       "      <th>15</th>\n",
       "      <td>access</td>\n",
       "      <td>awful</td>\n",
       "      <td>1.360934</td>\n",
       "      <td>-0.214286</td>\n",
       "    </tr>\n",
       "    <tr>\n",
       "      <th>3166</th>\n",
       "      <td>prostitutes</td>\n",
       "      <td>horrible</td>\n",
       "      <td>1.335006</td>\n",
       "      <td>-0.625000</td>\n",
       "    </tr>\n",
       "    <tr>\n",
       "      <th>2838</th>\n",
       "      <td>play</td>\n",
       "      <td>clear</td>\n",
       "      <td>1.329329</td>\n",
       "      <td>0.166667</td>\n",
       "    </tr>\n",
       "    <tr>\n",
       "      <th>1928</th>\n",
       "      <td>mention</td>\n",
       "      <td>upgrade</td>\n",
       "      <td>1.319381</td>\n",
       "      <td>0.113636</td>\n",
       "    </tr>\n",
       "  </tbody>\n",
       "</table>\n",
       "</div>"
      ],
      "text/plain": [
       "             noun       adj  pmi_combined  polarity\n",
       "4155       thanks      safe      1.487427  0.160714\n",
       "15         access     awful      1.360934 -0.214286\n",
       "3166  prostitutes  horrible      1.335006 -0.625000\n",
       "2838         play     clear      1.329329  0.166667\n",
       "1928      mention   upgrade      1.319381  0.113636"
      ]
     },
     "execution_count": 15,
     "metadata": {},
     "output_type": "execute_result"
    }
   ],
   "source": [
    "cs_pmi, cs_pos, cs_neg, cs_avg = get_aspects_polarity(cs_pmi)\n",
    "queries_aspects, aspects_polarity = save_results(app=\"tinder\", aspect=\"casual sex\", pmi= cs_pmi, aspects_polarity = aspects_polarity, queries_aspects = queries_aspects, pos= cs_pos, neg=cs_neg, avg=cs_avg)\n",
    "print(f\"pos: {cs_pos:.2f}%, neg: {cs_neg:.2f}% avg: {cs_avg}\")\n",
    "cs_pmi.head()"
   ]
  },
  {
   "attachments": {},
   "cell_type": "markdown",
   "metadata": {},
   "source": [
    "### __Relationship__"
   ]
  },
  {
   "cell_type": "code",
   "execution_count": 16,
   "metadata": {},
   "outputs": [],
   "source": [
    "relationship_reviews = tinder_reviews_by_category[\"relationship\"]"
   ]
  },
  {
   "cell_type": "code",
   "execution_count": 18,
   "metadata": {},
   "outputs": [
    {
     "data": {
      "application/vnd.jupyter.widget-view+json": {
       "model_id": "3537d1449e97490197298497e6cf6d72",
       "version_major": 2,
       "version_minor": 0
      },
      "text/plain": [
       "  0%|          | 0/20458 [00:00<?, ?it/s]"
      ]
     },
     "metadata": {},
     "output_type": "display_data"
    }
   ],
   "source": [
    "rel_adj_noun_pmi = aspect_extraction.get_adj_noun_pmi(relationship_reviews)\n",
    "rel_adj_noun_pmi = rel_adj_noun_pmi[rel_adj_noun_pmi.adj_noun_pmi > 0]\n",
    "rel_pmi = tinder_word_category_pmi[tinder_word_category_pmi.category == \"relationship\"].merge(rel_adj_noun_pmi, on = [\"noun\"])"
   ]
  },
  {
   "cell_type": "code",
   "execution_count": 19,
   "metadata": {},
   "outputs": [
    {
     "name": "stdout",
     "output_type": "stream",
     "text": [
      "pos: 53.21%, neg: 46.79%, avg: 0.009145383408186878\n"
     ]
    },
    {
     "data": {
      "text/html": [
       "<div>\n",
       "<style scoped>\n",
       "    .dataframe tbody tr th:only-of-type {\n",
       "        vertical-align: middle;\n",
       "    }\n",
       "\n",
       "    .dataframe tbody tr th {\n",
       "        vertical-align: top;\n",
       "    }\n",
       "\n",
       "    .dataframe thead th {\n",
       "        text-align: right;\n",
       "    }\n",
       "</style>\n",
       "<table border=\"1\" class=\"dataframe\">\n",
       "  <thead>\n",
       "    <tr style=\"text-align: right;\">\n",
       "      <th></th>\n",
       "      <th>noun</th>\n",
       "      <th>adj</th>\n",
       "      <th>pmi_combined</th>\n",
       "      <th>polarity</th>\n",
       "    </tr>\n",
       "  </thead>\n",
       "  <tbody>\n",
       "    <tr>\n",
       "      <th>3593</th>\n",
       "      <td>tons</td>\n",
       "      <td>bumble</td>\n",
       "      <td>1.311009</td>\n",
       "      <td>-0.250000</td>\n",
       "    </tr>\n",
       "    <tr>\n",
       "      <th>667</th>\n",
       "      <td>explanation</td>\n",
       "      <td>false</td>\n",
       "      <td>1.305561</td>\n",
       "      <td>-0.431818</td>\n",
       "    </tr>\n",
       "    <tr>\n",
       "      <th>1421</th>\n",
       "      <td>list</td>\n",
       "      <td>difficult</td>\n",
       "      <td>1.212885</td>\n",
       "      <td>-0.687500</td>\n",
       "    </tr>\n",
       "    <tr>\n",
       "      <th>241</th>\n",
       "      <td>build</td>\n",
       "      <td>potential</td>\n",
       "      <td>1.208445</td>\n",
       "      <td>-0.125000</td>\n",
       "    </tr>\n",
       "    <tr>\n",
       "      <th>3340</th>\n",
       "      <td>term</td>\n",
       "      <td>short</td>\n",
       "      <td>1.151769</td>\n",
       "      <td>-0.152174</td>\n",
       "    </tr>\n",
       "  </tbody>\n",
       "</table>\n",
       "</div>"
      ],
      "text/plain": [
       "             noun        adj  pmi_combined  polarity\n",
       "3593         tons     bumble      1.311009 -0.250000\n",
       "667   explanation      false      1.305561 -0.431818\n",
       "1421         list  difficult      1.212885 -0.687500\n",
       "241         build  potential      1.208445 -0.125000\n",
       "3340         term      short      1.151769 -0.152174"
      ]
     },
     "execution_count": 19,
     "metadata": {},
     "output_type": "execute_result"
    }
   ],
   "source": [
    "rel_pmi, rel_pos, rel_neg, rel_avg = get_aspects_polarity(rel_pmi)\n",
    "queries_aspects, aspects_polarity = save_results(app=\"tinder\", aspect=\"relationship\", pmi= rel_pmi, aspects_polarity = aspects_polarity, queries_aspects = queries_aspects, pos= rel_pos, neg=rel_neg, avg=rel_avg)\n",
    "print(f\"pos: {rel_pos:.2f}%, neg: {rel_neg:.2f}%, avg: {rel_avg}\")\n",
    "rel_pmi.head()"
   ]
  },
  {
   "cell_type": "markdown",
   "metadata": {},
   "source": [
    "### __Friendship__"
   ]
  },
  {
   "cell_type": "code",
   "execution_count": 21,
   "metadata": {},
   "outputs": [],
   "source": [
    "friendship_reviews = tinder_reviews_by_category[\"friendship\"]"
   ]
  },
  {
   "cell_type": "code",
   "execution_count": 22,
   "metadata": {},
   "outputs": [
    {
     "data": {
      "application/vnd.jupyter.widget-view+json": {
       "model_id": "b6e65a29bd8848f1958cc3d7fc927124",
       "version_major": 2,
       "version_minor": 0
      },
      "text/plain": [
       "  0%|          | 0/17716 [00:00<?, ?it/s]"
      ]
     },
     "metadata": {},
     "output_type": "display_data"
    }
   ],
   "source": [
    "friend_adj_noun_pmi = aspect_extraction.get_adj_noun_pmi(friendship_reviews)\n",
    "friend_adj_noun_pmi = friend_adj_noun_pmi[friend_adj_noun_pmi.adj_noun_pmi > 0]\n",
    "friend_pmi = tinder_word_category_pmi[tinder_word_category_pmi.category == \"friendship\"].merge(friend_adj_noun_pmi, on = [\"noun\"])"
   ]
  },
  {
   "cell_type": "code",
   "execution_count": 23,
   "metadata": {},
   "outputs": [
    {
     "name": "stdout",
     "output_type": "stream",
     "text": [
      "pos: 46.04%, neg: 53.96%, avg: -0.07201910159381791\n"
     ]
    },
    {
     "data": {
      "text/html": [
       "<div>\n",
       "<style scoped>\n",
       "    .dataframe tbody tr th:only-of-type {\n",
       "        vertical-align: middle;\n",
       "    }\n",
       "\n",
       "    .dataframe tbody tr th {\n",
       "        vertical-align: top;\n",
       "    }\n",
       "\n",
       "    .dataframe thead th {\n",
       "        text-align: right;\n",
       "    }\n",
       "</style>\n",
       "<table border=\"1\" class=\"dataframe\">\n",
       "  <thead>\n",
       "    <tr style=\"text-align: right;\">\n",
       "      <th></th>\n",
       "      <th>noun</th>\n",
       "      <th>adj</th>\n",
       "      <th>pmi_combined</th>\n",
       "      <th>polarity</th>\n",
       "    </tr>\n",
       "  </thead>\n",
       "  <tbody>\n",
       "    <tr>\n",
       "      <th>852</th>\n",
       "      <td>order</td>\n",
       "      <td>everyday</td>\n",
       "      <td>1.065602</td>\n",
       "      <td>0.250000</td>\n",
       "    </tr>\n",
       "    <tr>\n",
       "      <th>329</th>\n",
       "      <td>friendship</td>\n",
       "      <td>genuine</td>\n",
       "      <td>1.003029</td>\n",
       "      <td>0.117667</td>\n",
       "    </tr>\n",
       "    <tr>\n",
       "      <th>348</th>\n",
       "      <td>friendship</td>\n",
       "      <td>random</td>\n",
       "      <td>0.993062</td>\n",
       "      <td>0.125000</td>\n",
       "    </tr>\n",
       "    <tr>\n",
       "      <th>355</th>\n",
       "      <td>friendship</td>\n",
       "      <td>dislike</td>\n",
       "      <td>0.993062</td>\n",
       "      <td>-0.375000</td>\n",
       "    </tr>\n",
       "    <tr>\n",
       "      <th>322</th>\n",
       "      <td>friendship</td>\n",
       "      <td>interested</td>\n",
       "      <td>0.983760</td>\n",
       "      <td>0.300000</td>\n",
       "    </tr>\n",
       "  </tbody>\n",
       "</table>\n",
       "</div>"
      ],
      "text/plain": [
       "           noun         adj  pmi_combined  polarity\n",
       "852       order    everyday      1.065602  0.250000\n",
       "329  friendship     genuine      1.003029  0.117667\n",
       "348  friendship      random      0.993062  0.125000\n",
       "355  friendship     dislike      0.993062 -0.375000\n",
       "322  friendship  interested      0.983760  0.300000"
      ]
     },
     "execution_count": 23,
     "metadata": {},
     "output_type": "execute_result"
    }
   ],
   "source": [
    "friend_pmi, friend_pos, friend_neg, friend_avg = get_aspects_polarity(friend_pmi)\n",
    "queries_aspects, aspects_polarity = save_results(app=\"tinder\", aspect=\"friendship\", pmi= friend_pmi, aspects_polarity = aspects_polarity, queries_aspects = queries_aspects, pos= friend_pos, neg=friend_neg, avg=friend_avg)\n",
    "print(f\"pos: {friend_pos:.2f}%, neg: {friend_neg:.2f}%, avg: {friend_avg}\")\n",
    "friend_pmi.head()"
   ]
  },
  {
   "cell_type": "markdown",
   "metadata": {},
   "source": [
    "### __Curiosity__"
   ]
  },
  {
   "cell_type": "code",
   "execution_count": 24,
   "metadata": {},
   "outputs": [],
   "source": [
    "curiosity_reviews = tinder_reviews_by_category[\"curiosity\"]"
   ]
  },
  {
   "cell_type": "code",
   "execution_count": 25,
   "metadata": {},
   "outputs": [
    {
     "data": {
      "application/vnd.jupyter.widget-view+json": {
       "model_id": "244899dbef11490fa00552182791d61e",
       "version_major": 2,
       "version_minor": 0
      },
      "text/plain": [
       "  0%|          | 0/19404 [00:00<?, ?it/s]"
      ]
     },
     "metadata": {},
     "output_type": "display_data"
    }
   ],
   "source": [
    "cur_adj_noun_pmi = aspect_extraction.get_adj_noun_pmi(curiosity_reviews)\n",
    "cur_adj_noun_pmi = cur_adj_noun_pmi[cur_adj_noun_pmi.adj_noun_pmi > 0]\n",
    "cur_pmi = tinder_word_category_pmi[tinder_word_category_pmi.category == \"curiosity\"].merge(cur_adj_noun_pmi, on = [\"noun\"])"
   ]
  },
  {
   "cell_type": "code",
   "execution_count": 26,
   "metadata": {},
   "outputs": [
    {
     "name": "stdout",
     "output_type": "stream",
     "text": [
      "pos: 40.17%, neg: 59.83%, avg: -0.10468927539155275\n"
     ]
    },
    {
     "data": {
      "text/html": [
       "<div>\n",
       "<style scoped>\n",
       "    .dataframe tbody tr th:only-of-type {\n",
       "        vertical-align: middle;\n",
       "    }\n",
       "\n",
       "    .dataframe tbody tr th {\n",
       "        vertical-align: top;\n",
       "    }\n",
       "\n",
       "    .dataframe thead th {\n",
       "        text-align: right;\n",
       "    }\n",
       "</style>\n",
       "<table border=\"1\" class=\"dataframe\">\n",
       "  <thead>\n",
       "    <tr style=\"text-align: right;\">\n",
       "      <th></th>\n",
       "      <th>noun</th>\n",
       "      <th>adj</th>\n",
       "      <th>pmi_combined</th>\n",
       "      <th>polarity</th>\n",
       "    </tr>\n",
       "  </thead>\n",
       "  <tbody>\n",
       "    <tr>\n",
       "      <th>140</th>\n",
       "      <td>curiosity</td>\n",
       "      <td>funny</td>\n",
       "      <td>1.097250</td>\n",
       "      <td>-0.150</td>\n",
       "    </tr>\n",
       "    <tr>\n",
       "      <th>134</th>\n",
       "      <td>curiosity</td>\n",
       "      <td>missed</td>\n",
       "      <td>1.076197</td>\n",
       "      <td>-0.125</td>\n",
       "    </tr>\n",
       "    <tr>\n",
       "      <th>135</th>\n",
       "      <td>curiosity</td>\n",
       "      <td>sudden</td>\n",
       "      <td>1.076197</td>\n",
       "      <td>-0.500</td>\n",
       "    </tr>\n",
       "    <tr>\n",
       "      <th>141</th>\n",
       "      <td>curiosity</td>\n",
       "      <td>bumble</td>\n",
       "      <td>1.044618</td>\n",
       "      <td>-0.250</td>\n",
       "    </tr>\n",
       "    <tr>\n",
       "      <th>143</th>\n",
       "      <td>curiosity</td>\n",
       "      <td>random</td>\n",
       "      <td>1.044618</td>\n",
       "      <td>0.125</td>\n",
       "    </tr>\n",
       "  </tbody>\n",
       "</table>\n",
       "</div>"
      ],
      "text/plain": [
       "          noun     adj  pmi_combined  polarity\n",
       "140  curiosity   funny      1.097250    -0.150\n",
       "134  curiosity  missed      1.076197    -0.125\n",
       "135  curiosity  sudden      1.076197    -0.500\n",
       "141  curiosity  bumble      1.044618    -0.250\n",
       "143  curiosity  random      1.044618     0.125"
      ]
     },
     "execution_count": 26,
     "metadata": {},
     "output_type": "execute_result"
    }
   ],
   "source": [
    "cur_pmi, cur_pos, cur_neg, cur_avg = get_aspects_polarity(cur_pmi)\n",
    "queries_aspects, aspects_polarity = save_results(app=\"tinder\", aspect=\"curiosity\", pmi= cur_pmi, aspects_polarity = aspects_polarity, queries_aspects = queries_aspects, pos= cur_pos, neg=cur_neg, avg=cur_avg)\n",
    "print(f\"pos: {cur_pos:.2f}%, neg: {cur_neg:.2f}%, avg: {cur_avg}\")\n",
    "cur_pmi.head()"
   ]
  },
  {
   "cell_type": "markdown",
   "metadata": {},
   "source": [
    "### __Women__"
   ]
  },
  {
   "cell_type": "code",
   "execution_count": 27,
   "metadata": {},
   "outputs": [],
   "source": [
    "women_reviews = tinder_reviews_by_category[\"women\"]"
   ]
  },
  {
   "cell_type": "code",
   "execution_count": 28,
   "metadata": {},
   "outputs": [
    {
     "data": {
      "application/vnd.jupyter.widget-view+json": {
       "model_id": "67eabef746244a9d9e51558bb177e7f2",
       "version_major": 2,
       "version_minor": 0
      },
      "text/plain": [
       "  0%|          | 0/20900 [00:00<?, ?it/s]"
      ]
     },
     "metadata": {},
     "output_type": "display_data"
    }
   ],
   "source": [
    "women_adj_noun_pmi = aspect_extraction.get_adj_noun_pmi(women_reviews)\n",
    "women_adj_noun_pmi = women_adj_noun_pmi[women_adj_noun_pmi.adj_noun_pmi > 0]\n",
    "women_pmi = tinder_word_category_pmi[tinder_word_category_pmi.category == \"women\"].merge(rel_adj_noun_pmi, on = [\"noun\"])"
   ]
  },
  {
   "cell_type": "code",
   "execution_count": 29,
   "metadata": {},
   "outputs": [
    {
     "name": "stdout",
     "output_type": "stream",
     "text": [
      "pos: 51.88%, neg: 48.12%, avg: -0.00305149179879444\n"
     ]
    },
    {
     "data": {
      "text/html": [
       "<div>\n",
       "<style scoped>\n",
       "    .dataframe tbody tr th:only-of-type {\n",
       "        vertical-align: middle;\n",
       "    }\n",
       "\n",
       "    .dataframe tbody tr th {\n",
       "        vertical-align: top;\n",
       "    }\n",
       "\n",
       "    .dataframe thead th {\n",
       "        text-align: right;\n",
       "    }\n",
       "</style>\n",
       "<table border=\"1\" class=\"dataframe\">\n",
       "  <thead>\n",
       "    <tr style=\"text-align: right;\">\n",
       "      <th></th>\n",
       "      <th>noun</th>\n",
       "      <th>adj</th>\n",
       "      <th>pmi_combined</th>\n",
       "      <th>polarity</th>\n",
       "    </tr>\n",
       "  </thead>\n",
       "  <tbody>\n",
       "    <tr>\n",
       "      <th>413</th>\n",
       "      <td>ego</td>\n",
       "      <td>sad</td>\n",
       "      <td>1.751171</td>\n",
       "      <td>-0.625000</td>\n",
       "    </tr>\n",
       "    <tr>\n",
       "      <th>415</th>\n",
       "      <td>ego</td>\n",
       "      <td>expensive</td>\n",
       "      <td>1.380801</td>\n",
       "      <td>0.500000</td>\n",
       "    </tr>\n",
       "    <tr>\n",
       "      <th>1905</th>\n",
       "      <td>pics</td>\n",
       "      <td>false</td>\n",
       "      <td>1.348345</td>\n",
       "      <td>-0.431818</td>\n",
       "    </tr>\n",
       "    <tr>\n",
       "      <th>412</th>\n",
       "      <td>ego</td>\n",
       "      <td>low</td>\n",
       "      <td>1.250931</td>\n",
       "      <td>-0.250000</td>\n",
       "    </tr>\n",
       "    <tr>\n",
       "      <th>2161</th>\n",
       "      <td>selling</td>\n",
       "      <td>expensive</td>\n",
       "      <td>1.229911</td>\n",
       "      <td>0.500000</td>\n",
       "    </tr>\n",
       "  </tbody>\n",
       "</table>\n",
       "</div>"
      ],
      "text/plain": [
       "         noun        adj  pmi_combined  polarity\n",
       "413       ego        sad      1.751171 -0.625000\n",
       "415       ego  expensive      1.380801  0.500000\n",
       "1905     pics      false      1.348345 -0.431818\n",
       "412       ego        low      1.250931 -0.250000\n",
       "2161  selling  expensive      1.229911  0.500000"
      ]
     },
     "execution_count": 29,
     "metadata": {},
     "output_type": "execute_result"
    }
   ],
   "source": [
    "women_pmi, women_pos, women_neg, women_avg = get_aspects_polarity(women_pmi)\n",
    "queries_aspects, aspects_polarity = save_results(app=\"tinder\", aspect=\"women\", pmi= women_pmi, aspects_polarity = aspects_polarity, queries_aspects = queries_aspects, pos= women_pos, neg=women_neg, avg=women_avg)\n",
    "print(f\"pos: {women_pos:.2f}%, neg: {women_neg:.2f}%, avg: {women_avg}\")\n",
    "women_pmi.head()"
   ]
  },
  {
   "cell_type": "markdown",
   "metadata": {},
   "source": [
    "### __Men__"
   ]
  },
  {
   "cell_type": "code",
   "execution_count": 30,
   "metadata": {},
   "outputs": [],
   "source": [
    "men_reviews = tinder_reviews_by_category[\"men\"]"
   ]
  },
  {
   "cell_type": "code",
   "execution_count": 31,
   "metadata": {},
   "outputs": [
    {
     "data": {
      "application/vnd.jupyter.widget-view+json": {
       "model_id": "ecfe6147f0b84593b9814c110cbb76b2",
       "version_major": 2,
       "version_minor": 0
      },
      "text/plain": [
       "  0%|          | 0/21816 [00:00<?, ?it/s]"
      ]
     },
     "metadata": {},
     "output_type": "display_data"
    }
   ],
   "source": [
    "men_adj_noun_pmi = aspect_extraction.get_adj_noun_pmi(men_reviews)\n",
    "men_adj_noun_pmi = men_adj_noun_pmi[men_adj_noun_pmi.adj_noun_pmi > 0]\n",
    "men_pmi = tinder_word_category_pmi[tinder_word_category_pmi.category == \"men\"].merge(rel_adj_noun_pmi, on = [\"noun\"])"
   ]
  },
  {
   "cell_type": "code",
   "execution_count": 32,
   "metadata": {},
   "outputs": [
    {
     "name": "stdout",
     "output_type": "stream",
     "text": [
      "pos: 47.94%, neg: 52.06%, avg: -0.030984836420761344\n"
     ]
    },
    {
     "data": {
      "text/html": [
       "<div>\n",
       "<style scoped>\n",
       "    .dataframe tbody tr th:only-of-type {\n",
       "        vertical-align: middle;\n",
       "    }\n",
       "\n",
       "    .dataframe tbody tr th {\n",
       "        vertical-align: top;\n",
       "    }\n",
       "\n",
       "    .dataframe thead th {\n",
       "        text-align: right;\n",
       "    }\n",
       "</style>\n",
       "<table border=\"1\" class=\"dataframe\">\n",
       "  <thead>\n",
       "    <tr style=\"text-align: right;\">\n",
       "      <th></th>\n",
       "      <th>noun</th>\n",
       "      <th>adj</th>\n",
       "      <th>pmi_combined</th>\n",
       "      <th>polarity</th>\n",
       "    </tr>\n",
       "  </thead>\n",
       "  <tbody>\n",
       "    <tr>\n",
       "      <th>2530</th>\n",
       "      <td>pics</td>\n",
       "      <td>false</td>\n",
       "      <td>1.326305</td>\n",
       "      <td>-0.431818</td>\n",
       "    </tr>\n",
       "    <tr>\n",
       "      <th>611</th>\n",
       "      <td>explanation</td>\n",
       "      <td>false</td>\n",
       "      <td>1.229856</td>\n",
       "      <td>-0.431818</td>\n",
       "    </tr>\n",
       "    <tr>\n",
       "      <th>191</th>\n",
       "      <td>body</td>\n",
       "      <td>unlimited</td>\n",
       "      <td>1.223115</td>\n",
       "      <td>-0.250000</td>\n",
       "    </tr>\n",
       "    <tr>\n",
       "      <th>695</th>\n",
       "      <td>female</td>\n",
       "      <td>awful</td>\n",
       "      <td>1.218737</td>\n",
       "      <td>-0.214286</td>\n",
       "    </tr>\n",
       "    <tr>\n",
       "      <th>1578</th>\n",
       "      <td>male</td>\n",
       "      <td>inactive</td>\n",
       "      <td>1.180879</td>\n",
       "      <td>-0.287500</td>\n",
       "    </tr>\n",
       "  </tbody>\n",
       "</table>\n",
       "</div>"
      ],
      "text/plain": [
       "             noun        adj  pmi_combined  polarity\n",
       "2530         pics      false      1.326305 -0.431818\n",
       "611   explanation      false      1.229856 -0.431818\n",
       "191          body  unlimited      1.223115 -0.250000\n",
       "695        female      awful      1.218737 -0.214286\n",
       "1578         male   inactive      1.180879 -0.287500"
      ]
     },
     "execution_count": 32,
     "metadata": {},
     "output_type": "execute_result"
    }
   ],
   "source": [
    "men_pmi, men_pos, men_neg, men_avg = get_aspects_polarity(men_pmi)\n",
    "queries_aspects, aspects_polarity = save_results(app=\"tinder\", aspect=\"men\", pmi= men_pmi, aspects_polarity = aspects_polarity, queries_aspects = queries_aspects, pos= men_pos, neg=men_neg, avg=men_avg)\n",
    "print(f\"pos: {men_pos:.2f}%, neg: {men_neg:.2f}%, avg: {men_avg}\")\n",
    "men_pmi.head()"
   ]
  },
  {
   "attachments": {},
   "cell_type": "markdown",
   "metadata": {},
   "source": [
    "### __Self Esteem__"
   ]
  },
  {
   "cell_type": "code",
   "execution_count": 33,
   "metadata": {},
   "outputs": [],
   "source": [
    "self_esteem_reviews = tinder_reviews_by_category[\"self esteem\"]"
   ]
  },
  {
   "cell_type": "code",
   "execution_count": 34,
   "metadata": {},
   "outputs": [
    {
     "data": {
      "application/vnd.jupyter.widget-view+json": {
       "model_id": "e13d5c2ff43045d9867cff0357c3db9b",
       "version_major": 2,
       "version_minor": 0
      },
      "text/plain": [
       "  0%|          | 0/17100 [00:00<?, ?it/s]"
      ]
     },
     "metadata": {},
     "output_type": "display_data"
    }
   ],
   "source": [
    "self_adj_noun_pmi = aspect_extraction.get_adj_noun_pmi(self_esteem_reviews)\n",
    "self_adj_noun_pmi = self_adj_noun_pmi[self_adj_noun_pmi.adj_noun_pmi > 0]\n",
    "self_pmi = tinder_word_category_pmi[tinder_word_category_pmi.category == \"self esteem\"].merge(self_adj_noun_pmi, on = [\"noun\"])"
   ]
  },
  {
   "cell_type": "code",
   "execution_count": 35,
   "metadata": {},
   "outputs": [
    {
     "name": "stdout",
     "output_type": "stream",
     "text": [
      "pos: 38.46%, neg: 61.54%, avg: -0.11270451038036988\n"
     ]
    },
    {
     "data": {
      "text/html": [
       "<div>\n",
       "<style scoped>\n",
       "    .dataframe tbody tr th:only-of-type {\n",
       "        vertical-align: middle;\n",
       "    }\n",
       "\n",
       "    .dataframe tbody tr th {\n",
       "        vertical-align: top;\n",
       "    }\n",
       "\n",
       "    .dataframe thead th {\n",
       "        text-align: right;\n",
       "    }\n",
       "</style>\n",
       "<table border=\"1\" class=\"dataframe\">\n",
       "  <thead>\n",
       "    <tr style=\"text-align: right;\">\n",
       "      <th></th>\n",
       "      <th>noun</th>\n",
       "      <th>adj</th>\n",
       "      <th>pmi_combined</th>\n",
       "      <th>polarity</th>\n",
       "    </tr>\n",
       "  </thead>\n",
       "  <tbody>\n",
       "    <tr>\n",
       "      <th>1272</th>\n",
       "      <td>user</td>\n",
       "      <td>friendly</td>\n",
       "      <td>1.180261</td>\n",
       "      <td>0.175000</td>\n",
       "    </tr>\n",
       "    <tr>\n",
       "      <th>1034</th>\n",
       "      <td>subscribe</td>\n",
       "      <td>sad</td>\n",
       "      <td>1.150460</td>\n",
       "      <td>-0.625000</td>\n",
       "    </tr>\n",
       "    <tr>\n",
       "      <th>1028</th>\n",
       "      <td>subscribe</td>\n",
       "      <td>bad</td>\n",
       "      <td>0.997021</td>\n",
       "      <td>-0.595588</td>\n",
       "    </tr>\n",
       "    <tr>\n",
       "      <th>1027</th>\n",
       "      <td>subscribe</td>\n",
       "      <td>good</td>\n",
       "      <td>0.991168</td>\n",
       "      <td>0.564815</td>\n",
       "    </tr>\n",
       "    <tr>\n",
       "      <th>988</th>\n",
       "      <td>response</td>\n",
       "      <td>verify</td>\n",
       "      <td>0.892895</td>\n",
       "      <td>0.156250</td>\n",
       "    </tr>\n",
       "  </tbody>\n",
       "</table>\n",
       "</div>"
      ],
      "text/plain": [
       "           noun       adj  pmi_combined  polarity\n",
       "1272       user  friendly      1.180261  0.175000\n",
       "1034  subscribe       sad      1.150460 -0.625000\n",
       "1028  subscribe       bad      0.997021 -0.595588\n",
       "1027  subscribe      good      0.991168  0.564815\n",
       "988    response    verify      0.892895  0.156250"
      ]
     },
     "execution_count": 35,
     "metadata": {},
     "output_type": "execute_result"
    }
   ],
   "source": [
    "self_pmi, self_pos, self_neg, self_avg = get_aspects_polarity(self_pmi)\n",
    "queries_aspects, aspects_polarity = save_results(app=\"tinder\", aspect=\"self\", pmi= self_pmi, aspects_polarity = aspects_polarity, queries_aspects = queries_aspects, pos= self_pos, neg=self_neg, avg=self_avg)\n",
    "print(f\"pos: {self_pos:.2f}%, neg: {self_neg:.2f}%, avg: {self_avg}\")\n",
    "self_pmi.head()"
   ]
  },
  {
   "attachments": {},
   "cell_type": "markdown",
   "metadata": {},
   "source": [
    "### __Attractiveness (appearence)__"
   ]
  },
  {
   "cell_type": "code",
   "execution_count": 36,
   "metadata": {},
   "outputs": [],
   "source": [
    "attractiveness_reviews = tinder_reviews_by_category[\"attractiveness\"]"
   ]
  },
  {
   "cell_type": "code",
   "execution_count": 37,
   "metadata": {},
   "outputs": [
    {
     "data": {
      "application/vnd.jupyter.widget-view+json": {
       "model_id": "d5cf93c7e1364ce1ad588f5afc2de2db",
       "version_major": 2,
       "version_minor": 0
      },
      "text/plain": [
       "  0%|          | 0/20564 [00:00<?, ?it/s]"
      ]
     },
     "metadata": {},
     "output_type": "display_data"
    }
   ],
   "source": [
    "attr_adj_noun_pmi = aspect_extraction.get_adj_noun_pmi(attractiveness_reviews)\n",
    "attr_adj_noun_pmi = attr_adj_noun_pmi[attr_adj_noun_pmi.adj_noun_pmi > 0]\n",
    "attr_pmi = tinder_word_category_pmi[tinder_word_category_pmi.category == \"attractiveness\"].merge(attr_adj_noun_pmi, on = [\"noun\"])"
   ]
  },
  {
   "cell_type": "code",
   "execution_count": 38,
   "metadata": {},
   "outputs": [
    {
     "name": "stdout",
     "output_type": "stream",
     "text": [
      "pos: 31.77%, neg: 68.23%, avg: -0.1567089768596397\n"
     ]
    },
    {
     "data": {
      "text/html": [
       "<div>\n",
       "<style scoped>\n",
       "    .dataframe tbody tr th:only-of-type {\n",
       "        vertical-align: middle;\n",
       "    }\n",
       "\n",
       "    .dataframe tbody tr th {\n",
       "        vertical-align: top;\n",
       "    }\n",
       "\n",
       "    .dataframe thead th {\n",
       "        text-align: right;\n",
       "    }\n",
       "</style>\n",
       "<table border=\"1\" class=\"dataframe\">\n",
       "  <thead>\n",
       "    <tr style=\"text-align: right;\">\n",
       "      <th></th>\n",
       "      <th>noun</th>\n",
       "      <th>adj</th>\n",
       "      <th>pmi_combined</th>\n",
       "      <th>polarity</th>\n",
       "    </tr>\n",
       "  </thead>\n",
       "  <tbody>\n",
       "    <tr>\n",
       "      <th>1002</th>\n",
       "      <td>photos</td>\n",
       "      <td>previous</td>\n",
       "      <td>1.310727</td>\n",
       "      <td>-0.166667</td>\n",
       "    </tr>\n",
       "    <tr>\n",
       "      <th>72</th>\n",
       "      <td>attractiveness</td>\n",
       "      <td>previous</td>\n",
       "      <td>1.289735</td>\n",
       "      <td>-0.166667</td>\n",
       "    </tr>\n",
       "    <tr>\n",
       "      <th>65</th>\n",
       "      <td>attractiveness</td>\n",
       "      <td>attractive</td>\n",
       "      <td>1.231402</td>\n",
       "      <td>0.416667</td>\n",
       "    </tr>\n",
       "    <tr>\n",
       "      <th>61</th>\n",
       "      <td>attractiveness</td>\n",
       "      <td>spent</td>\n",
       "      <td>1.164735</td>\n",
       "      <td>0.125000</td>\n",
       "    </tr>\n",
       "    <tr>\n",
       "      <th>73</th>\n",
       "      <td>attractiveness</td>\n",
       "      <td>disappointing</td>\n",
       "      <td>1.143902</td>\n",
       "      <td>-0.500000</td>\n",
       "    </tr>\n",
       "  </tbody>\n",
       "</table>\n",
       "</div>"
      ],
      "text/plain": [
       "                noun            adj  pmi_combined  polarity\n",
       "1002          photos       previous      1.310727 -0.166667\n",
       "72    attractiveness       previous      1.289735 -0.166667\n",
       "65    attractiveness     attractive      1.231402  0.416667\n",
       "61    attractiveness          spent      1.164735  0.125000\n",
       "73    attractiveness  disappointing      1.143902 -0.500000"
      ]
     },
     "execution_count": 38,
     "metadata": {},
     "output_type": "execute_result"
    }
   ],
   "source": [
    "attr_pmi, attr_pos, attr_neg, attr_avg = get_aspects_polarity(attr_pmi)\n",
    "queries_aspects, aspects_polarity = save_results(app=\"tinder\", aspect=\"attractiveness\", pmi= attr_pmi, aspects_polarity = aspects_polarity, queries_aspects = queries_aspects, pos= attr_pos, neg=attr_neg, avg=attr_avg)\n",
    "print(f\"pos: {attr_pos:.2f}%, neg: {attr_neg:.2f}%, avg: {attr_avg}\")\n",
    "attr_pmi.head()"
   ]
  },
  {
   "attachments": {},
   "cell_type": "markdown",
   "metadata": {},
   "source": [
    "### __Attractiveness (intelligence)__"
   ]
  },
  {
   "cell_type": "code",
   "execution_count": 39,
   "metadata": {},
   "outputs": [],
   "source": [
    "intelligence_reviews = tinder_reviews_by_category[\"intelligence\"]"
   ]
  },
  {
   "cell_type": "code",
   "execution_count": 40,
   "metadata": {},
   "outputs": [
    {
     "data": {
      "application/vnd.jupyter.widget-view+json": {
       "model_id": "b20f29f1abf94f3eb3f33369cb28280a",
       "version_major": 2,
       "version_minor": 0
      },
      "text/plain": [
       "  0%|          | 0/19691 [00:00<?, ?it/s]"
      ]
     },
     "metadata": {},
     "output_type": "display_data"
    }
   ],
   "source": [
    "int_adj_noun_pmi = aspect_extraction.get_adj_noun_pmi(intelligence_reviews)\n",
    "int_adj_noun_pmi = int_adj_noun_pmi[int_adj_noun_pmi.adj_noun_pmi > 0]\n",
    "int_pmi = tinder_word_category_pmi[tinder_word_category_pmi.category == \"intelligence\"].merge(int_adj_noun_pmi, on = [\"noun\"])"
   ]
  },
  {
   "cell_type": "code",
   "execution_count": 41,
   "metadata": {},
   "outputs": [
    {
     "name": "stdout",
     "output_type": "stream",
     "text": [
      "pos: 30.52%, neg: 69.48%, avg: -0.17153020577109226\n"
     ]
    },
    {
     "data": {
      "text/html": [
       "<div>\n",
       "<style scoped>\n",
       "    .dataframe tbody tr th:only-of-type {\n",
       "        vertical-align: middle;\n",
       "    }\n",
       "\n",
       "    .dataframe tbody tr th {\n",
       "        vertical-align: top;\n",
       "    }\n",
       "\n",
       "    .dataframe thead th {\n",
       "        text-align: right;\n",
       "    }\n",
       "</style>\n",
       "<table border=\"1\" class=\"dataframe\">\n",
       "  <thead>\n",
       "    <tr style=\"text-align: right;\">\n",
       "      <th></th>\n",
       "      <th>noun</th>\n",
       "      <th>adj</th>\n",
       "      <th>pmi_combined</th>\n",
       "      <th>polarity</th>\n",
       "    </tr>\n",
       "  </thead>\n",
       "  <tbody>\n",
       "    <tr>\n",
       "      <th>482</th>\n",
       "      <td>intelligence</td>\n",
       "      <td>artificial</td>\n",
       "      <td>1.444444</td>\n",
       "      <td>-0.333333</td>\n",
       "    </tr>\n",
       "    <tr>\n",
       "      <th>481</th>\n",
       "      <td>intelligence</td>\n",
       "      <td>horrible</td>\n",
       "      <td>1.133333</td>\n",
       "      <td>-0.625000</td>\n",
       "    </tr>\n",
       "    <tr>\n",
       "      <th>486</th>\n",
       "      <td>intelligence</td>\n",
       "      <td>potential</td>\n",
       "      <td>1.063492</td>\n",
       "      <td>-0.125000</td>\n",
       "    </tr>\n",
       "    <tr>\n",
       "      <th>480</th>\n",
       "      <td>intelligence</td>\n",
       "      <td>hard</td>\n",
       "      <td>1.037037</td>\n",
       "      <td>-0.204545</td>\n",
       "    </tr>\n",
       "    <tr>\n",
       "      <th>479</th>\n",
       "      <td>intelligence</td>\n",
       "      <td>scam</td>\n",
       "      <td>1.026144</td>\n",
       "      <td>-0.125000</td>\n",
       "    </tr>\n",
       "  </tbody>\n",
       "</table>\n",
       "</div>"
      ],
      "text/plain": [
       "             noun         adj  pmi_combined  polarity\n",
       "482  intelligence  artificial      1.444444 -0.333333\n",
       "481  intelligence    horrible      1.133333 -0.625000\n",
       "486  intelligence   potential      1.063492 -0.125000\n",
       "480  intelligence        hard      1.037037 -0.204545\n",
       "479  intelligence        scam      1.026144 -0.125000"
      ]
     },
     "execution_count": 41,
     "metadata": {},
     "output_type": "execute_result"
    }
   ],
   "source": [
    "int_pmi, int_pos, int_neg, int_avg = get_aspects_polarity(int_pmi)\n",
    "queries_aspects, aspects_polarity = save_results(app=\"tinder\", aspect=\"intelligence\", pmi= int_pmi, aspects_polarity = aspects_polarity, queries_aspects = queries_aspects, pos= int_pos, neg=int_neg, avg=int_avg)\n",
    "print(f\"pos: {int_pos:.2f}%, neg: {int_neg:.2f}%, avg: {int_avg}\")\n",
    "int_pmi.head()"
   ]
  },
  {
   "attachments": {},
   "cell_type": "markdown",
   "metadata": {},
   "source": [
    "## __Bumble__"
   ]
  },
  {
   "cell_type": "code",
   "execution_count": 55,
   "metadata": {},
   "outputs": [
    {
     "data": {
      "application/vnd.jupyter.widget-view+json": {
       "model_id": "30db81b0982346ecb45bc181bc303688",
       "version_major": 2,
       "version_minor": 0
      },
      "text/plain": [
       "  0%|          | 0/102380 [00:00<?, ?it/s]"
      ]
     },
     "metadata": {},
     "output_type": "display_data"
    },
    {
     "data": {
      "text/html": [
       "<div>\n",
       "<style scoped>\n",
       "    .dataframe tbody tr th:only-of-type {\n",
       "        vertical-align: middle;\n",
       "    }\n",
       "\n",
       "    .dataframe tbody tr th {\n",
       "        vertical-align: top;\n",
       "    }\n",
       "\n",
       "    .dataframe thead th {\n",
       "        text-align: right;\n",
       "    }\n",
       "</style>\n",
       "<table border=\"1\" class=\"dataframe\">\n",
       "  <thead>\n",
       "    <tr style=\"text-align: right;\">\n",
       "      <th></th>\n",
       "      <th>category</th>\n",
       "      <th>noun</th>\n",
       "      <th>noun_cat_pmi</th>\n",
       "    </tr>\n",
       "  </thead>\n",
       "  <tbody>\n",
       "    <tr>\n",
       "      <th>0</th>\n",
       "      <td>attractiveness</td>\n",
       "      <td>a</td>\n",
       "      <td>0.420972</td>\n",
       "    </tr>\n",
       "    <tr>\n",
       "      <th>1</th>\n",
       "      <td>attractiveness</td>\n",
       "      <td>absolutely</td>\n",
       "      <td>0.494088</td>\n",
       "    </tr>\n",
       "    <tr>\n",
       "      <th>2</th>\n",
       "      <td>attractiveness</td>\n",
       "      <td>access</td>\n",
       "      <td>0.529772</td>\n",
       "    </tr>\n",
       "    <tr>\n",
       "      <th>3</th>\n",
       "      <td>attractiveness</td>\n",
       "      <td>account</td>\n",
       "      <td>0.529595</td>\n",
       "    </tr>\n",
       "    <tr>\n",
       "      <th>4</th>\n",
       "      <td>attractiveness</td>\n",
       "      <td>accounts</td>\n",
       "      <td>0.490613</td>\n",
       "    </tr>\n",
       "  </tbody>\n",
       "</table>\n",
       "</div>"
      ],
      "text/plain": [
       "         category        noun  noun_cat_pmi\n",
       "0  attractiveness           a      0.420972\n",
       "1  attractiveness  absolutely      0.494088\n",
       "2  attractiveness      access      0.529772\n",
       "3  attractiveness     account      0.529595\n",
       "4  attractiveness    accounts      0.490613"
      ]
     },
     "execution_count": 55,
     "metadata": {},
     "output_type": "execute_result"
    }
   ],
   "source": [
    "bumble_reviews_by_category = aspect_extraction.get_reviews_by_category(app = \"bumble\", categories = [\"casual sex\", \"relationship\", \"friendship\", \"curiosity\", \"women\", \"men\", \"self esteem\", \"attractiveness\", \"intelligence\"])\n",
    "bumble_word_category_pmi = aspect_extraction.get_noun_category_pmi(bumble_reviews_by_category)\n",
    "bumble_word_category_pmi.head()"
   ]
  },
  {
   "attachments": {},
   "cell_type": "markdown",
   "metadata": {},
   "source": [
    "### __Casual sex__"
   ]
  },
  {
   "cell_type": "code",
   "execution_count": 43,
   "metadata": {},
   "outputs": [],
   "source": [
    "casual_sex_reviews = bumble_reviews_by_category[\"casual sex\"]"
   ]
  },
  {
   "cell_type": "code",
   "execution_count": 56,
   "metadata": {},
   "outputs": [
    {
     "data": {
      "application/vnd.jupyter.widget-view+json": {
       "model_id": "a8b08600a0d24ed7b295e018be668a06",
       "version_major": 2,
       "version_minor": 0
      },
      "text/plain": [
       "  0%|          | 0/18786 [00:00<?, ?it/s]"
      ]
     },
     "metadata": {},
     "output_type": "display_data"
    }
   ],
   "source": [
    "cs_adj_noun_pmi = aspect_extraction.get_adj_noun_pmi(casual_sex_reviews)\n",
    "cs_adj_noun_pmi = cs_adj_noun_pmi[cs_adj_noun_pmi.adj_noun_pmi > 0]\n",
    "cs_pmi = bumble_word_category_pmi[bumble_word_category_pmi.category == \"casual sex\"].merge(cs_adj_noun_pmi, on = [\"noun\"])"
   ]
  },
  {
   "cell_type": "code",
   "execution_count": 57,
   "metadata": {},
   "outputs": [
    {
     "name": "stdout",
     "output_type": "stream",
     "text": [
      "pos: 39.00%, neg: 61.00%, avg: -0.07310264334481843\n"
     ]
    },
    {
     "data": {
      "text/html": [
       "<div>\n",
       "<style scoped>\n",
       "    .dataframe tbody tr th:only-of-type {\n",
       "        vertical-align: middle;\n",
       "    }\n",
       "\n",
       "    .dataframe tbody tr th {\n",
       "        vertical-align: top;\n",
       "    }\n",
       "\n",
       "    .dataframe thead th {\n",
       "        text-align: right;\n",
       "    }\n",
       "</style>\n",
       "<table border=\"1\" class=\"dataframe\">\n",
       "  <thead>\n",
       "    <tr style=\"text-align: right;\">\n",
       "      <th></th>\n",
       "      <th>noun</th>\n",
       "      <th>adj</th>\n",
       "      <th>pmi_combined</th>\n",
       "      <th>polarity</th>\n",
       "    </tr>\n",
       "  </thead>\n",
       "  <tbody>\n",
       "    <tr>\n",
       "      <th>1615</th>\n",
       "      <td>members</td>\n",
       "      <td>horrible</td>\n",
       "      <td>1.125650</td>\n",
       "      <td>-0.625</td>\n",
       "    </tr>\n",
       "    <tr>\n",
       "      <th>1285</th>\n",
       "      <td>internet</td>\n",
       "      <td>potential</td>\n",
       "      <td>1.047229</td>\n",
       "      <td>-0.125</td>\n",
       "    </tr>\n",
       "    <tr>\n",
       "      <th>1608</th>\n",
       "      <td>members</td>\n",
       "      <td>interested</td>\n",
       "      <td>1.044168</td>\n",
       "      <td>0.300</td>\n",
       "    </tr>\n",
       "    <tr>\n",
       "      <th>79</th>\n",
       "      <td>answer</td>\n",
       "      <td>crazy</td>\n",
       "      <td>1.013392</td>\n",
       "      <td>-0.125</td>\n",
       "    </tr>\n",
       "    <tr>\n",
       "      <th>1602</th>\n",
       "      <td>members</td>\n",
       "      <td>bumble</td>\n",
       "      <td>1.003911</td>\n",
       "      <td>-0.250</td>\n",
       "    </tr>\n",
       "  </tbody>\n",
       "</table>\n",
       "</div>"
      ],
      "text/plain": [
       "          noun         adj  pmi_combined  polarity\n",
       "1615   members    horrible      1.125650    -0.625\n",
       "1285  internet   potential      1.047229    -0.125\n",
       "1608   members  interested      1.044168     0.300\n",
       "79      answer       crazy      1.013392    -0.125\n",
       "1602   members      bumble      1.003911    -0.250"
      ]
     },
     "execution_count": 57,
     "metadata": {},
     "output_type": "execute_result"
    }
   ],
   "source": [
    "cs_pmi, cs_pos, cs_neg, cs_avg = get_aspects_polarity(cs_pmi)\n",
    "queries_aspects, aspects_polarity = save_results(app=\"bumble\", aspect=\"casual sex\", pmi= cs_pmi, aspects_polarity = aspects_polarity, queries_aspects = queries_aspects, pos= cs_pos, neg=cs_neg, avg=cs_avg)\n",
    "print(f\"pos: {cs_pos:.2f}%, neg: {cs_neg:.2f}%, avg: {cs_avg}\")\n",
    "cs_pmi.head()"
   ]
  },
  {
   "attachments": {},
   "cell_type": "markdown",
   "metadata": {},
   "source": [
    "### __Relationship__"
   ]
  },
  {
   "cell_type": "code",
   "execution_count": 58,
   "metadata": {},
   "outputs": [],
   "source": [
    "relationship_reviews = bumble_reviews_by_category[\"relationship\"]"
   ]
  },
  {
   "cell_type": "code",
   "execution_count": 62,
   "metadata": {},
   "outputs": [
    {
     "data": {
      "application/vnd.jupyter.widget-view+json": {
       "model_id": "a6659128bbfc4eb88f3a82d438a700c2",
       "version_major": 2,
       "version_minor": 0
      },
      "text/plain": [
       "  0%|          | 0/19600 [00:00<?, ?it/s]"
      ]
     },
     "metadata": {},
     "output_type": "display_data"
    }
   ],
   "source": [
    "rel_adj_noun_pmi = aspect_extraction.get_adj_noun_pmi(relationship_reviews)\n",
    "rel_adj_noun_pmi = rel_adj_noun_pmi[rel_adj_noun_pmi.adj_noun_pmi > 0]\n",
    "rel_pmi = bumble_word_category_pmi[bumble_word_category_pmi.category == \"relationship\"].merge(rel_adj_noun_pmi, on = [\"noun\"])"
   ]
  },
  {
   "cell_type": "code",
   "execution_count": 63,
   "metadata": {},
   "outputs": [
    {
     "name": "stdout",
     "output_type": "stream",
     "text": [
      "pos: 46.49%, neg: 53.51%, avg: -0.05067788339392699\n"
     ]
    },
    {
     "data": {
      "text/html": [
       "<div>\n",
       "<style scoped>\n",
       "    .dataframe tbody tr th:only-of-type {\n",
       "        vertical-align: middle;\n",
       "    }\n",
       "\n",
       "    .dataframe tbody tr th {\n",
       "        vertical-align: top;\n",
       "    }\n",
       "\n",
       "    .dataframe thead th {\n",
       "        text-align: right;\n",
       "    }\n",
       "</style>\n",
       "<table border=\"1\" class=\"dataframe\">\n",
       "  <thead>\n",
       "    <tr style=\"text-align: right;\">\n",
       "      <th></th>\n",
       "      <th>noun</th>\n",
       "      <th>adj</th>\n",
       "      <th>pmi_combined</th>\n",
       "      <th>polarity</th>\n",
       "    </tr>\n",
       "  </thead>\n",
       "  <tbody>\n",
       "    <tr>\n",
       "      <th>1390</th>\n",
       "      <td>lives</td>\n",
       "      <td>black</td>\n",
       "      <td>1.487437</td>\n",
       "      <td>-0.284091</td>\n",
       "    </tr>\n",
       "    <tr>\n",
       "      <th>1388</th>\n",
       "      <td>lives</td>\n",
       "      <td>unable</td>\n",
       "      <td>1.198975</td>\n",
       "      <td>-0.416667</td>\n",
       "    </tr>\n",
       "    <tr>\n",
       "      <th>1387</th>\n",
       "      <td>lives</td>\n",
       "      <td>complete</td>\n",
       "      <td>1.198975</td>\n",
       "      <td>0.300000</td>\n",
       "    </tr>\n",
       "    <tr>\n",
       "      <th>1386</th>\n",
       "      <td>lives</td>\n",
       "      <td>true</td>\n",
       "      <td>1.198975</td>\n",
       "      <td>0.241667</td>\n",
       "    </tr>\n",
       "    <tr>\n",
       "      <th>1376</th>\n",
       "      <td>lives</td>\n",
       "      <td>stupid</td>\n",
       "      <td>1.175898</td>\n",
       "      <td>-0.343750</td>\n",
       "    </tr>\n",
       "  </tbody>\n",
       "</table>\n",
       "</div>"
      ],
      "text/plain": [
       "       noun       adj  pmi_combined  polarity\n",
       "1390  lives     black      1.487437 -0.284091\n",
       "1388  lives    unable      1.198975 -0.416667\n",
       "1387  lives  complete      1.198975  0.300000\n",
       "1386  lives      true      1.198975  0.241667\n",
       "1376  lives    stupid      1.175898 -0.343750"
      ]
     },
     "execution_count": 63,
     "metadata": {},
     "output_type": "execute_result"
    }
   ],
   "source": [
    "rel_pmi, rel_pos, rel_neg, rel_avg = get_aspects_polarity(rel_pmi)\n",
    "queries_aspects, aspects_polarity = save_results(app=\"bumble\", aspect=\"relationship\", pmi= rel_pmi, aspects_polarity = aspects_polarity, queries_aspects = queries_aspects, pos= rel_pos, neg=rel_neg, avg=rel_avg)\n",
    "print(f\"pos: {rel_pos:.2f}%, neg: {rel_neg:.2f}%, avg: {rel_avg}\")\n",
    "rel_pmi.head()"
   ]
  },
  {
   "cell_type": "markdown",
   "metadata": {},
   "source": [
    "### __Friendship__"
   ]
  },
  {
   "cell_type": "code",
   "execution_count": 64,
   "metadata": {},
   "outputs": [],
   "source": [
    "friendship_reviews = bumble_reviews_by_category[\"friendship\"]"
   ]
  },
  {
   "cell_type": "code",
   "execution_count": 65,
   "metadata": {},
   "outputs": [
    {
     "data": {
      "application/vnd.jupyter.widget-view+json": {
       "model_id": "c2a3a014127f45e286a73406dacebe4b",
       "version_major": 2,
       "version_minor": 0
      },
      "text/plain": [
       "  0%|          | 0/21216 [00:00<?, ?it/s]"
      ]
     },
     "metadata": {},
     "output_type": "display_data"
    }
   ],
   "source": [
    "friend_adj_noun_pmi = aspect_extraction.get_adj_noun_pmi(friendship_reviews)\n",
    "frind_adj_noun_pmi = friend_adj_noun_pmi[friend_adj_noun_pmi.adj_noun_pmi > 0]\n",
    "friend_pmi = bumble_word_category_pmi[bumble_word_category_pmi.category == \"friendship\"].merge(friend_adj_noun_pmi, on = [\"noun\"])"
   ]
  },
  {
   "cell_type": "code",
   "execution_count": 66,
   "metadata": {},
   "outputs": [
    {
     "name": "stdout",
     "output_type": "stream",
     "text": [
      "pos: 45.21%, neg: 54.79%, avg: -0.05928506692004593\n"
     ]
    },
    {
     "data": {
      "text/html": [
       "<div>\n",
       "<style scoped>\n",
       "    .dataframe tbody tr th:only-of-type {\n",
       "        vertical-align: middle;\n",
       "    }\n",
       "\n",
       "    .dataframe tbody tr th {\n",
       "        vertical-align: top;\n",
       "    }\n",
       "\n",
       "    .dataframe thead th {\n",
       "        text-align: right;\n",
       "    }\n",
       "</style>\n",
       "<table border=\"1\" class=\"dataframe\">\n",
       "  <thead>\n",
       "    <tr style=\"text-align: right;\">\n",
       "      <th></th>\n",
       "      <th>noun</th>\n",
       "      <th>adj</th>\n",
       "      <th>pmi_combined</th>\n",
       "      <th>polarity</th>\n",
       "    </tr>\n",
       "  </thead>\n",
       "  <tbody>\n",
       "    <tr>\n",
       "      <th>2845</th>\n",
       "      <td>details</td>\n",
       "      <td>helpful</td>\n",
       "      <td>1.372358</td>\n",
       "      <td>0.250000</td>\n",
       "    </tr>\n",
       "    <tr>\n",
       "      <th>2846</th>\n",
       "      <td>details</td>\n",
       "      <td>small</td>\n",
       "      <td>1.372358</td>\n",
       "      <td>-0.192308</td>\n",
       "    </tr>\n",
       "    <tr>\n",
       "      <th>2848</th>\n",
       "      <td>details</td>\n",
       "      <td>negative</td>\n",
       "      <td>1.372358</td>\n",
       "      <td>-0.489583</td>\n",
       "    </tr>\n",
       "    <tr>\n",
       "      <th>2817</th>\n",
       "      <td>details</td>\n",
       "      <td>funny</td>\n",
       "      <td>1.258072</td>\n",
       "      <td>-0.150000</td>\n",
       "    </tr>\n",
       "    <tr>\n",
       "      <th>2772</th>\n",
       "      <td>details</td>\n",
       "      <td>useless</td>\n",
       "      <td>1.188936</td>\n",
       "      <td>-0.500000</td>\n",
       "    </tr>\n",
       "  </tbody>\n",
       "</table>\n",
       "</div>"
      ],
      "text/plain": [
       "         noun       adj  pmi_combined  polarity\n",
       "2845  details   helpful      1.372358  0.250000\n",
       "2846  details     small      1.372358 -0.192308\n",
       "2848  details  negative      1.372358 -0.489583\n",
       "2817  details     funny      1.258072 -0.150000\n",
       "2772  details   useless      1.188936 -0.500000"
      ]
     },
     "execution_count": 66,
     "metadata": {},
     "output_type": "execute_result"
    }
   ],
   "source": [
    "friend_pmi, friend_pos, friend_neg, friend_avg = get_aspects_polarity(friend_pmi)\n",
    "queries_aspects, aspects_polarity = save_results(app=\"bumble\", aspect=\"friendship\", pmi= friend_pmi, aspects_polarity = aspects_polarity, queries_aspects = queries_aspects, pos= friend_pos, neg=friend_neg, avg=friend_avg)\n",
    "print(f\"pos: {friend_pos:.2f}%, neg: {friend_neg:.2f}%, avg: {friend_avg}\")\n",
    "friend_pmi.head()"
   ]
  },
  {
   "attachments": {},
   "cell_type": "markdown",
   "metadata": {},
   "source": [
    "### __Curiosity__"
   ]
  },
  {
   "cell_type": "code",
   "execution_count": 67,
   "metadata": {},
   "outputs": [],
   "source": [
    "curiosity_reviews = bumble_reviews_by_category[\"curiosity\"]"
   ]
  },
  {
   "cell_type": "code",
   "execution_count": 68,
   "metadata": {},
   "outputs": [
    {
     "data": {
      "application/vnd.jupyter.widget-view+json": {
       "model_id": "d47e0b80d2c7428fb0ca3dd6344f9be3",
       "version_major": 2,
       "version_minor": 0
      },
      "text/plain": [
       "  0%|          | 0/19404 [00:00<?, ?it/s]"
      ]
     },
     "metadata": {},
     "output_type": "display_data"
    }
   ],
   "source": [
    "cur_adj_noun_pmi = aspect_extraction.get_adj_noun_pmi(curiosity_reviews)\n",
    "cur_adj_noun_pmi = cur_adj_noun_pmi[cur_adj_noun_pmi.adj_noun_pmi > 0]\n",
    "curiosity_pmi = bumble_word_category_pmi[bumble_word_category_pmi.category == \"curiosity\"].merge(cur_adj_noun_pmi, on = [\"noun\"])"
   ]
  },
  {
   "cell_type": "code",
   "execution_count": 69,
   "metadata": {},
   "outputs": [
    {
     "name": "stdout",
     "output_type": "stream",
     "text": [
      "pos: 35.23%, neg: 64.77%, avg: -0.12307286053523792\n"
     ]
    },
    {
     "data": {
      "text/html": [
       "<div>\n",
       "<style scoped>\n",
       "    .dataframe tbody tr th:only-of-type {\n",
       "        vertical-align: middle;\n",
       "    }\n",
       "\n",
       "    .dataframe tbody tr th {\n",
       "        vertical-align: top;\n",
       "    }\n",
       "\n",
       "    .dataframe thead th {\n",
       "        text-align: right;\n",
       "    }\n",
       "</style>\n",
       "<table border=\"1\" class=\"dataframe\">\n",
       "  <thead>\n",
       "    <tr style=\"text-align: right;\">\n",
       "      <th></th>\n",
       "      <th>noun</th>\n",
       "      <th>adj</th>\n",
       "      <th>pmi_combined</th>\n",
       "      <th>polarity</th>\n",
       "    </tr>\n",
       "  </thead>\n",
       "  <tbody>\n",
       "    <tr>\n",
       "      <th>90</th>\n",
       "      <td>blm</td>\n",
       "      <td>black</td>\n",
       "      <td>1.411142</td>\n",
       "      <td>-0.284091</td>\n",
       "    </tr>\n",
       "    <tr>\n",
       "      <th>408</th>\n",
       "      <td>curiosity</td>\n",
       "      <td>rare</td>\n",
       "      <td>1.295455</td>\n",
       "      <td>-0.104167</td>\n",
       "    </tr>\n",
       "    <tr>\n",
       "      <th>405</th>\n",
       "      <td>curiosity</td>\n",
       "      <td>bother</td>\n",
       "      <td>1.147727</td>\n",
       "      <td>-0.281250</td>\n",
       "    </tr>\n",
       "    <tr>\n",
       "      <th>403</th>\n",
       "      <td>curiosity</td>\n",
       "      <td>wrong</td>\n",
       "      <td>1.118182</td>\n",
       "      <td>-0.567308</td>\n",
       "    </tr>\n",
       "    <tr>\n",
       "      <th>398</th>\n",
       "      <td>curiosity</td>\n",
       "      <td>fake</td>\n",
       "      <td>1.041711</td>\n",
       "      <td>-0.406250</td>\n",
       "    </tr>\n",
       "  </tbody>\n",
       "</table>\n",
       "</div>"
      ],
      "text/plain": [
       "          noun     adj  pmi_combined  polarity\n",
       "90         blm   black      1.411142 -0.284091\n",
       "408  curiosity    rare      1.295455 -0.104167\n",
       "405  curiosity  bother      1.147727 -0.281250\n",
       "403  curiosity   wrong      1.118182 -0.567308\n",
       "398  curiosity    fake      1.041711 -0.406250"
      ]
     },
     "execution_count": 69,
     "metadata": {},
     "output_type": "execute_result"
    }
   ],
   "source": [
    "cur_pmi, cur_pos, cur_neg, cur_avg = get_aspects_polarity(curiosity_pmi)\n",
    "queries_aspects, aspects_polarity = save_results(app=\"bumble\", aspect=\"curiosity\", pmi= cur_pmi, aspects_polarity = aspects_polarity, queries_aspects = queries_aspects, pos= cur_pos, neg=cur_neg, avg=cur_avg)\n",
    "print(f\"pos: {cur_pos:.2f}%, neg: {cur_neg:.2f}%, avg: {cur_avg}\")\n",
    "cur_pmi.head()"
   ]
  },
  {
   "cell_type": "markdown",
   "metadata": {},
   "source": [
    "### __Women__"
   ]
  },
  {
   "cell_type": "code",
   "execution_count": 70,
   "metadata": {},
   "outputs": [],
   "source": [
    "women_reviews = bumble_reviews_by_category[\"women\"]"
   ]
  },
  {
   "cell_type": "code",
   "execution_count": 71,
   "metadata": {},
   "outputs": [
    {
     "data": {
      "application/vnd.jupyter.widget-view+json": {
       "model_id": "62e4ccfe22ef4cba9e213f070ad0c7cd",
       "version_major": 2,
       "version_minor": 0
      },
      "text/plain": [
       "  0%|          | 0/20972 [00:00<?, ?it/s]"
      ]
     },
     "metadata": {},
     "output_type": "display_data"
    }
   ],
   "source": [
    "women_adj_noun_pmi = aspect_extraction.get_adj_noun_pmi(women_reviews)\n",
    "women_adj_noun_pmi = women_adj_noun_pmi[women_adj_noun_pmi.adj_noun_pmi > 0]\n",
    "women_pmi = bumble_word_category_pmi[bumble_word_category_pmi.category == \"women\"].merge(women_adj_noun_pmi, on = [\"noun\"])"
   ]
  },
  {
   "cell_type": "code",
   "execution_count": 72,
   "metadata": {},
   "outputs": [
    {
     "name": "stdout",
     "output_type": "stream",
     "text": [
      "pos: 52.97%, neg: 47.03%, avg: 0.001148527154551959\n"
     ]
    },
    {
     "data": {
      "text/html": [
       "<div>\n",
       "<style scoped>\n",
       "    .dataframe tbody tr th:only-of-type {\n",
       "        vertical-align: middle;\n",
       "    }\n",
       "\n",
       "    .dataframe tbody tr th {\n",
       "        vertical-align: top;\n",
       "    }\n",
       "\n",
       "    .dataframe thead th {\n",
       "        text-align: right;\n",
       "    }\n",
       "</style>\n",
       "<table border=\"1\" class=\"dataframe\">\n",
       "  <thead>\n",
       "    <tr style=\"text-align: right;\">\n",
       "      <th></th>\n",
       "      <th>noun</th>\n",
       "      <th>adj</th>\n",
       "      <th>pmi_combined</th>\n",
       "      <th>polarity</th>\n",
       "    </tr>\n",
       "  </thead>\n",
       "  <tbody>\n",
       "    <tr>\n",
       "      <th>1854</th>\n",
       "      <td>nothing</td>\n",
       "      <td>sad</td>\n",
       "      <td>1.247397</td>\n",
       "      <td>-0.625000</td>\n",
       "    </tr>\n",
       "    <tr>\n",
       "      <th>1855</th>\n",
       "      <td>nothing</td>\n",
       "      <td>worthless</td>\n",
       "      <td>1.247397</td>\n",
       "      <td>-0.500000</td>\n",
       "    </tr>\n",
       "    <tr>\n",
       "      <th>1853</th>\n",
       "      <td>nothing</td>\n",
       "      <td>perfect</td>\n",
       "      <td>1.247397</td>\n",
       "      <td>0.375000</td>\n",
       "    </tr>\n",
       "    <tr>\n",
       "      <th>1852</th>\n",
       "      <td>nothing</td>\n",
       "      <td>rare</td>\n",
       "      <td>1.164064</td>\n",
       "      <td>-0.104167</td>\n",
       "    </tr>\n",
       "    <tr>\n",
       "      <th>1850</th>\n",
       "      <td>nothing</td>\n",
       "      <td>complete</td>\n",
       "      <td>1.138022</td>\n",
       "      <td>0.300000</td>\n",
       "    </tr>\n",
       "  </tbody>\n",
       "</table>\n",
       "</div>"
      ],
      "text/plain": [
       "         noun        adj  pmi_combined  polarity\n",
       "1854  nothing        sad      1.247397 -0.625000\n",
       "1855  nothing  worthless      1.247397 -0.500000\n",
       "1853  nothing    perfect      1.247397  0.375000\n",
       "1852  nothing       rare      1.164064 -0.104167\n",
       "1850  nothing   complete      1.138022  0.300000"
      ]
     },
     "execution_count": 72,
     "metadata": {},
     "output_type": "execute_result"
    }
   ],
   "source": [
    "women_pmi, women_pos, women_neg, women_avg = get_aspects_polarity(women_pmi)\n",
    "queries_aspects, aspects_polarity = save_results(app=\"bumble\", aspect=\"women\", pmi= women_pmi, aspects_polarity = aspects_polarity, queries_aspects = queries_aspects, pos= women_pos, neg=women_neg, avg=women_avg)\n",
    "print(f\"pos: {women_pos:.2f}%, neg: {women_neg:.2f}%, avg: {women_avg}\")\n",
    "women_pmi.head()"
   ]
  },
  {
   "attachments": {},
   "cell_type": "markdown",
   "metadata": {},
   "source": [
    "### __Men__"
   ]
  },
  {
   "cell_type": "code",
   "execution_count": 90,
   "metadata": {},
   "outputs": [],
   "source": [
    "men_reviews = bumble_reviews_by_category[\"men\"]"
   ]
  },
  {
   "cell_type": "code",
   "execution_count": 74,
   "metadata": {},
   "outputs": [
    {
     "data": {
      "application/vnd.jupyter.widget-view+json": {
       "model_id": "b782613bcfc749bf908356f13726bdaa",
       "version_major": 2,
       "version_minor": 0
      },
      "text/plain": [
       "  0%|          | 0/22066 [00:00<?, ?it/s]"
      ]
     },
     "metadata": {},
     "output_type": "display_data"
    }
   ],
   "source": [
    "men_adj_noun_pmi = aspect_extraction.get_adj_noun_pmi(men_reviews)\n",
    "men_adj_noun_pmi = men_adj_noun_pmi[men_adj_noun_pmi.adj_noun_pmi > 0]\n",
    "men_pmi = bumble_word_category_pmi[bumble_word_category_pmi.category == \"men\"].merge(men_adj_noun_pmi, on = [\"noun\"])"
   ]
  },
  {
   "cell_type": "code",
   "execution_count": 75,
   "metadata": {},
   "outputs": [
    {
     "name": "stdout",
     "output_type": "stream",
     "text": [
      "pos: 44.72%, neg: 55.28%, avg: -0.05545480806979571\n"
     ]
    },
    {
     "data": {
      "text/html": [
       "<div>\n",
       "<style scoped>\n",
       "    .dataframe tbody tr th:only-of-type {\n",
       "        vertical-align: middle;\n",
       "    }\n",
       "\n",
       "    .dataframe tbody tr th {\n",
       "        vertical-align: top;\n",
       "    }\n",
       "\n",
       "    .dataframe thead th {\n",
       "        text-align: right;\n",
       "    }\n",
       "</style>\n",
       "<table border=\"1\" class=\"dataframe\">\n",
       "  <thead>\n",
       "    <tr style=\"text-align: right;\">\n",
       "      <th></th>\n",
       "      <th>noun</th>\n",
       "      <th>adj</th>\n",
       "      <th>pmi_combined</th>\n",
       "      <th>polarity</th>\n",
       "    </tr>\n",
       "  </thead>\n",
       "  <tbody>\n",
       "    <tr>\n",
       "      <th>206</th>\n",
       "      <td>advantage</td>\n",
       "      <td>average</td>\n",
       "      <td>1.720354</td>\n",
       "      <td>-0.114583</td>\n",
       "    </tr>\n",
       "    <tr>\n",
       "      <th>5239</th>\n",
       "      <td>queue</td>\n",
       "      <td>aware</td>\n",
       "      <td>1.589402</td>\n",
       "      <td>0.562500</td>\n",
       "    </tr>\n",
       "    <tr>\n",
       "      <th>5266</th>\n",
       "      <td>rating</td>\n",
       "      <td>average</td>\n",
       "      <td>1.589402</td>\n",
       "      <td>-0.114583</td>\n",
       "    </tr>\n",
       "    <tr>\n",
       "      <th>5580</th>\n",
       "      <td>respect</td>\n",
       "      <td>friendly</td>\n",
       "      <td>1.553687</td>\n",
       "      <td>0.175000</td>\n",
       "    </tr>\n",
       "    <tr>\n",
       "      <th>5037</th>\n",
       "      <td>problems</td>\n",
       "      <td>true</td>\n",
       "      <td>1.553687</td>\n",
       "      <td>0.241667</td>\n",
       "    </tr>\n",
       "  </tbody>\n",
       "</table>\n",
       "</div>"
      ],
      "text/plain": [
       "           noun       adj  pmi_combined  polarity\n",
       "206   advantage   average      1.720354 -0.114583\n",
       "5239      queue     aware      1.589402  0.562500\n",
       "5266     rating   average      1.589402 -0.114583\n",
       "5580    respect  friendly      1.553687  0.175000\n",
       "5037   problems      true      1.553687  0.241667"
      ]
     },
     "execution_count": 75,
     "metadata": {},
     "output_type": "execute_result"
    }
   ],
   "source": [
    "men_pmi, men_pos, men_neg, men_avg = get_aspects_polarity(men_pmi)\n",
    "queries_aspects, aspects_polarity = save_results(app=\"bumble\", aspect=\"men\", pmi= men_pmi, aspects_polarity = aspects_polarity, queries_aspects = queries_aspects, pos= men_pos, neg=men_neg, avg=men_avg)\n",
    "print(f\"pos: {men_pos:.2f}%, neg: {men_neg:.2f}%, avg: {men_avg}\")\n",
    "men_pmi.head()"
   ]
  },
  {
   "attachments": {},
   "cell_type": "markdown",
   "metadata": {},
   "source": [
    "### __Self Esteem__"
   ]
  },
  {
   "cell_type": "code",
   "execution_count": 76,
   "metadata": {},
   "outputs": [],
   "source": [
    "self_reviews = bumble_reviews_by_category[\"self esteem\"]"
   ]
  },
  {
   "cell_type": "code",
   "execution_count": 77,
   "metadata": {},
   "outputs": [
    {
     "data": {
      "application/vnd.jupyter.widget-view+json": {
       "model_id": "67e59e3e20734e7cb5beef75ee66f1aa",
       "version_major": 2,
       "version_minor": 0
      },
      "text/plain": [
       "  0%|          | 0/18518 [00:00<?, ?it/s]"
      ]
     },
     "metadata": {},
     "output_type": "display_data"
    }
   ],
   "source": [
    "self_adj_noun_pmi = aspect_extraction.get_adj_noun_pmi(self_reviews)\n",
    "self_adj_noun_pmi = self_adj_noun_pmi[self_adj_noun_pmi.adj_noun_pmi > 0]\n",
    "self_pmi = bumble_word_category_pmi[bumble_word_category_pmi.category == \"self esteem\"].merge(self_adj_noun_pmi, on = [\"noun\"])"
   ]
  },
  {
   "cell_type": "code",
   "execution_count": 78,
   "metadata": {},
   "outputs": [
    {
     "name": "stdout",
     "output_type": "stream",
     "text": [
      "pos: 40.56%, neg: 59.44%, avg: -0.07597984038142695\n"
     ]
    },
    {
     "data": {
      "text/html": [
       "<div>\n",
       "<style scoped>\n",
       "    .dataframe tbody tr th:only-of-type {\n",
       "        vertical-align: middle;\n",
       "    }\n",
       "\n",
       "    .dataframe tbody tr th {\n",
       "        vertical-align: top;\n",
       "    }\n",
       "\n",
       "    .dataframe thead th {\n",
       "        text-align: right;\n",
       "    }\n",
       "</style>\n",
       "<table border=\"1\" class=\"dataframe\">\n",
       "  <thead>\n",
       "    <tr style=\"text-align: right;\">\n",
       "      <th></th>\n",
       "      <th>noun</th>\n",
       "      <th>adj</th>\n",
       "      <th>pmi_combined</th>\n",
       "      <th>polarity</th>\n",
       "    </tr>\n",
       "  </thead>\n",
       "  <tbody>\n",
       "    <tr>\n",
       "      <th>140</th>\n",
       "      <td>blm</td>\n",
       "      <td>black</td>\n",
       "      <td>1.638678</td>\n",
       "      <td>-0.284091</td>\n",
       "    </tr>\n",
       "    <tr>\n",
       "      <th>2495</th>\n",
       "      <td>success</td>\n",
       "      <td>tried</td>\n",
       "      <td>1.224428</td>\n",
       "      <td>0.113636</td>\n",
       "    </tr>\n",
       "    <tr>\n",
       "      <th>3166</th>\n",
       "      <td>year</td>\n",
       "      <td>short</td>\n",
       "      <td>1.215614</td>\n",
       "      <td>-0.152174</td>\n",
       "    </tr>\n",
       "    <tr>\n",
       "      <th>3151</th>\n",
       "      <td>worse</td>\n",
       "      <td>other</td>\n",
       "      <td>1.037077</td>\n",
       "      <td>-0.218750</td>\n",
       "    </tr>\n",
       "    <tr>\n",
       "      <th>2435</th>\n",
       "      <td>stars</td>\n",
       "      <td>negative</td>\n",
       "      <td>1.017298</td>\n",
       "      <td>-0.489583</td>\n",
       "    </tr>\n",
       "  </tbody>\n",
       "</table>\n",
       "</div>"
      ],
      "text/plain": [
       "         noun       adj  pmi_combined  polarity\n",
       "140       blm     black      1.638678 -0.284091\n",
       "2495  success     tried      1.224428  0.113636\n",
       "3166     year     short      1.215614 -0.152174\n",
       "3151    worse     other      1.037077 -0.218750\n",
       "2435    stars  negative      1.017298 -0.489583"
      ]
     },
     "execution_count": 78,
     "metadata": {},
     "output_type": "execute_result"
    }
   ],
   "source": [
    "self_pmi, self_pos, self_neg, self_avg = get_aspects_polarity(self_pmi)\n",
    "queries_aspects, aspects_polarity = save_results(app=\"bumble\", aspect=\"self esteem\", pmi= self_pmi, aspects_polarity = aspects_polarity, queries_aspects = queries_aspects, pos= self_pos, neg=self_neg, avg=self_avg)\n",
    "print(f\"pos: {self_pos:.2f}%, neg: {self_neg:.2f}%, avg: {self_avg}\")\n",
    "self_pmi.head()"
   ]
  },
  {
   "attachments": {},
   "cell_type": "markdown",
   "metadata": {},
   "source": [
    "### __Attractiveness (appearence)__"
   ]
  },
  {
   "cell_type": "code",
   "execution_count": 79,
   "metadata": {},
   "outputs": [],
   "source": [
    "attractiveness_reviews = bumble_reviews_by_category[\"attractiveness\"]"
   ]
  },
  {
   "cell_type": "code",
   "execution_count": 80,
   "metadata": {},
   "outputs": [
    {
     "data": {
      "application/vnd.jupyter.widget-view+json": {
       "model_id": "1ab15e812d284f55929829035044e442",
       "version_major": 2,
       "version_minor": 0
      },
      "text/plain": [
       "  0%|          | 0/20400 [00:00<?, ?it/s]"
      ]
     },
     "metadata": {},
     "output_type": "display_data"
    }
   ],
   "source": [
    "attr_adj_noun_pmi = aspect_extraction.get_adj_noun_pmi(attractiveness_reviews)\n",
    "attr_adj_noun_pmi = attr_adj_noun_pmi[attr_adj_noun_pmi.adj_noun_pmi > 0]\n",
    "attr_pmi = bumble_word_category_pmi[bumble_word_category_pmi.category == \"attractiveness\"].merge(attr_adj_noun_pmi, on = [\"noun\"])"
   ]
  },
  {
   "cell_type": "code",
   "execution_count": 81,
   "metadata": {},
   "outputs": [
    {
     "name": "stdout",
     "output_type": "stream",
     "text": [
      "pos: 44.80%, neg: 55.20%, avg: -0.0493503680271264\n"
     ]
    },
    {
     "data": {
      "text/html": [
       "<div>\n",
       "<style scoped>\n",
       "    .dataframe tbody tr th:only-of-type {\n",
       "        vertical-align: middle;\n",
       "    }\n",
       "\n",
       "    .dataframe tbody tr th {\n",
       "        vertical-align: top;\n",
       "    }\n",
       "\n",
       "    .dataframe thead th {\n",
       "        text-align: right;\n",
       "    }\n",
       "</style>\n",
       "<table border=\"1\" class=\"dataframe\">\n",
       "  <thead>\n",
       "    <tr style=\"text-align: right;\">\n",
       "      <th></th>\n",
       "      <th>noun</th>\n",
       "      <th>adj</th>\n",
       "      <th>pmi_combined</th>\n",
       "      <th>polarity</th>\n",
       "    </tr>\n",
       "  </thead>\n",
       "  <tbody>\n",
       "    <tr>\n",
       "      <th>135</th>\n",
       "      <td>blm</td>\n",
       "      <td>black</td>\n",
       "      <td>1.481414</td>\n",
       "      <td>-0.284091</td>\n",
       "    </tr>\n",
       "    <tr>\n",
       "      <th>90</th>\n",
       "      <td>attractiveness</td>\n",
       "      <td>low</td>\n",
       "      <td>1.292494</td>\n",
       "      <td>-0.250000</td>\n",
       "    </tr>\n",
       "    <tr>\n",
       "      <th>79</th>\n",
       "      <td>attractiveness</td>\n",
       "      <td>attractive</td>\n",
       "      <td>1.205348</td>\n",
       "      <td>0.416667</td>\n",
       "    </tr>\n",
       "    <tr>\n",
       "      <th>94</th>\n",
       "      <td>attractiveness</td>\n",
       "      <td>honest</td>\n",
       "      <td>1.193729</td>\n",
       "      <td>0.250000</td>\n",
       "    </tr>\n",
       "    <tr>\n",
       "      <th>82</th>\n",
       "      <td>attractiveness</td>\n",
       "      <td>interesting</td>\n",
       "      <td>1.178534</td>\n",
       "      <td>0.343750</td>\n",
       "    </tr>\n",
       "  </tbody>\n",
       "</table>\n",
       "</div>"
      ],
      "text/plain": [
       "               noun          adj  pmi_combined  polarity\n",
       "135             blm        black      1.481414 -0.284091\n",
       "90   attractiveness          low      1.292494 -0.250000\n",
       "79   attractiveness   attractive      1.205348  0.416667\n",
       "94   attractiveness       honest      1.193729  0.250000\n",
       "82   attractiveness  interesting      1.178534  0.343750"
      ]
     },
     "execution_count": 81,
     "metadata": {},
     "output_type": "execute_result"
    }
   ],
   "source": [
    "attr_pmi, attr_pos, attr_neg, attr_avg = get_aspects_polarity(attr_pmi)\n",
    "queries_aspects, aspects_polarity = save_results(app=\"bumble\", aspect=\"attractiveness\", pmi= attr_pmi, aspects_polarity = aspects_polarity, queries_aspects = queries_aspects, pos= attr_pos, neg=attr_neg, avg=attr_avg)\n",
    "print(f\"pos: {attr_pos:.2f}%, neg: {attr_neg:.2f}%, avg: {attr_avg}\")\n",
    "attr_pmi.head()"
   ]
  },
  {
   "attachments": {},
   "cell_type": "markdown",
   "metadata": {},
   "source": [
    "### __Attractiveness (intelligence)__"
   ]
  },
  {
   "cell_type": "code",
   "execution_count": 82,
   "metadata": {},
   "outputs": [],
   "source": [
    "intelligence_reviews = bumble_reviews_by_category[\"intelligence\"]"
   ]
  },
  {
   "cell_type": "code",
   "execution_count": 83,
   "metadata": {},
   "outputs": [
    {
     "data": {
      "application/vnd.jupyter.widget-view+json": {
       "model_id": "463ede272021461893e1982248af9780",
       "version_major": 2,
       "version_minor": 0
      },
      "text/plain": [
       "  0%|          | 0/19095 [00:00<?, ?it/s]"
      ]
     },
     "metadata": {},
     "output_type": "display_data"
    }
   ],
   "source": [
    "int_adj_noun_pmi = aspect_extraction.get_adj_noun_pmi(intelligence_reviews)\n",
    "int_adj_noun_pmi = int_adj_noun_pmi[int_adj_noun_pmi.adj_noun_pmi > 0]\n",
    "int_pmi = bumble_word_category_pmi[bumble_word_category_pmi.category == \"intelligence\"].merge(int_adj_noun_pmi, on = [\"noun\"])"
   ]
  },
  {
   "cell_type": "code",
   "execution_count": 84,
   "metadata": {},
   "outputs": [
    {
     "name": "stdout",
     "output_type": "stream",
     "text": [
      "pos: 37.24%, neg: 62.76%, avg: -0.11967173299519285\n"
     ]
    },
    {
     "data": {
      "text/html": [
       "<div>\n",
       "<style scoped>\n",
       "    .dataframe tbody tr th:only-of-type {\n",
       "        vertical-align: middle;\n",
       "    }\n",
       "\n",
       "    .dataframe tbody tr th {\n",
       "        vertical-align: top;\n",
       "    }\n",
       "\n",
       "    .dataframe thead th {\n",
       "        text-align: right;\n",
       "    }\n",
       "</style>\n",
       "<table border=\"1\" class=\"dataframe\">\n",
       "  <thead>\n",
       "    <tr style=\"text-align: right;\">\n",
       "      <th></th>\n",
       "      <th>noun</th>\n",
       "      <th>adj</th>\n",
       "      <th>pmi_combined</th>\n",
       "      <th>polarity</th>\n",
       "    </tr>\n",
       "  </thead>\n",
       "  <tbody>\n",
       "    <tr>\n",
       "      <th>135</th>\n",
       "      <td>blm</td>\n",
       "      <td>black</td>\n",
       "      <td>1.473557</td>\n",
       "      <td>-0.284091</td>\n",
       "    </tr>\n",
       "    <tr>\n",
       "      <th>2199</th>\n",
       "      <td>refund</td>\n",
       "      <td>false</td>\n",
       "      <td>1.159535</td>\n",
       "      <td>-0.431818</td>\n",
       "    </tr>\n",
       "    <tr>\n",
       "      <th>2197</th>\n",
       "      <td>refund</td>\n",
       "      <td>negative</td>\n",
       "      <td>1.114081</td>\n",
       "      <td>-0.489583</td>\n",
       "    </tr>\n",
       "    <tr>\n",
       "      <th>2195</th>\n",
       "      <td>refund</td>\n",
       "      <td>sad</td>\n",
       "      <td>1.079990</td>\n",
       "      <td>-0.625000</td>\n",
       "    </tr>\n",
       "    <tr>\n",
       "      <th>2196</th>\n",
       "      <td>refund</td>\n",
       "      <td>hidden</td>\n",
       "      <td>1.079990</td>\n",
       "      <td>-0.178571</td>\n",
       "    </tr>\n",
       "  </tbody>\n",
       "</table>\n",
       "</div>"
      ],
      "text/plain": [
       "        noun       adj  pmi_combined  polarity\n",
       "135      blm     black      1.473557 -0.284091\n",
       "2199  refund     false      1.159535 -0.431818\n",
       "2197  refund  negative      1.114081 -0.489583\n",
       "2195  refund       sad      1.079990 -0.625000\n",
       "2196  refund    hidden      1.079990 -0.178571"
      ]
     },
     "execution_count": 84,
     "metadata": {},
     "output_type": "execute_result"
    }
   ],
   "source": [
    "int_pmi, int_pos, int_neg, int_avg = get_aspects_polarity(int_pmi)\n",
    "queries_aspects, aspects_polarity = save_results(app=\"bumble\", aspect=\"intelligence\", pmi= int_pmi, aspects_polarity = aspects_polarity, queries_aspects = queries_aspects, pos= int_pos, neg=int_neg, avg=int_avg)\n",
    "print(f\"pos: {int_pos:.2f}%, neg: {int_neg:.2f}%, avg: {int_avg}\")\n",
    "int_pmi.head()"
   ]
  },
  {
   "attachments": {},
   "cell_type": "markdown",
   "metadata": {},
   "source": [
    "## __Hinge__"
   ]
  },
  {
   "cell_type": "code",
   "execution_count": 94,
   "metadata": {},
   "outputs": [
    {
     "data": {
      "application/vnd.jupyter.widget-view+json": {
       "model_id": "f095eb9f028c45a0bb724a75247c54c5",
       "version_major": 2,
       "version_minor": 0
      },
      "text/plain": [
       "  0%|          | 0/52992 [00:00<?, ?it/s]"
      ]
     },
     "metadata": {},
     "output_type": "display_data"
    },
    {
     "data": {
      "text/html": [
       "<div>\n",
       "<style scoped>\n",
       "    .dataframe tbody tr th:only-of-type {\n",
       "        vertical-align: middle;\n",
       "    }\n",
       "\n",
       "    .dataframe tbody tr th {\n",
       "        vertical-align: top;\n",
       "    }\n",
       "\n",
       "    .dataframe thead th {\n",
       "        text-align: right;\n",
       "    }\n",
       "</style>\n",
       "<table border=\"1\" class=\"dataframe\">\n",
       "  <thead>\n",
       "    <tr style=\"text-align: right;\">\n",
       "      <th></th>\n",
       "      <th>category</th>\n",
       "      <th>noun</th>\n",
       "      <th>noun_cat_pmi</th>\n",
       "    </tr>\n",
       "  </thead>\n",
       "  <tbody>\n",
       "    <tr>\n",
       "      <th>0</th>\n",
       "      <td>attractiveness</td>\n",
       "      <td>a</td>\n",
       "      <td>0.372776</td>\n",
       "    </tr>\n",
       "    <tr>\n",
       "      <th>1</th>\n",
       "      <td>attractiveness</td>\n",
       "      <td>absolute</td>\n",
       "      <td>1.000000</td>\n",
       "    </tr>\n",
       "    <tr>\n",
       "      <th>2</th>\n",
       "      <td>attractiveness</td>\n",
       "      <td>absolutely</td>\n",
       "      <td>0.328914</td>\n",
       "    </tr>\n",
       "    <tr>\n",
       "      <th>3</th>\n",
       "      <td>attractiveness</td>\n",
       "      <td>access</td>\n",
       "      <td>0.392717</td>\n",
       "    </tr>\n",
       "    <tr>\n",
       "      <th>4</th>\n",
       "      <td>attractiveness</td>\n",
       "      <td>account</td>\n",
       "      <td>0.381636</td>\n",
       "    </tr>\n",
       "  </tbody>\n",
       "</table>\n",
       "</div>"
      ],
      "text/plain": [
       "         category        noun  noun_cat_pmi\n",
       "0  attractiveness           a      0.372776\n",
       "1  attractiveness    absolute      1.000000\n",
       "2  attractiveness  absolutely      0.328914\n",
       "3  attractiveness      access      0.392717\n",
       "4  attractiveness     account      0.381636"
      ]
     },
     "execution_count": 94,
     "metadata": {},
     "output_type": "execute_result"
    }
   ],
   "source": [
    "hinge_reviews_by_category = aspect_extraction.get_reviews_by_category(app = \"hinge\", categories = [\"casual sex\", \"relationship\", \"friendship\", \"curiosity\", \"women\", \"men\", \"self esteem\", \"attractiveness\", \"intelligence\"])\n",
    "hinge_word_category_pmi = aspect_extraction.get_noun_category_pmi(hinge_reviews_by_category)\n",
    "hinge_word_category_pmi.head()"
   ]
  },
  {
   "attachments": {},
   "cell_type": "markdown",
   "metadata": {},
   "source": [
    "### __Casual sex__"
   ]
  },
  {
   "cell_type": "code",
   "execution_count": 96,
   "metadata": {},
   "outputs": [],
   "source": [
    "casual_sex_reviews = hinge_reviews_by_category[\"casual sex\"]"
   ]
  },
  {
   "cell_type": "code",
   "execution_count": 97,
   "metadata": {},
   "outputs": [
    {
     "data": {
      "application/vnd.jupyter.widget-view+json": {
       "model_id": "97cf1dc1bc564895bf71dbc451805fff",
       "version_major": 2,
       "version_minor": 0
      },
      "text/plain": [
       "  0%|          | 0/19740 [00:00<?, ?it/s]"
      ]
     },
     "metadata": {},
     "output_type": "display_data"
    }
   ],
   "source": [
    "cs_adj_noun_pmi = aspect_extraction.get_adj_noun_pmi(casual_sex_reviews)\n",
    "cs_adj_noun_pmi = cs_adj_noun_pmi[cs_adj_noun_pmi.adj_noun_pmi > 0]\n",
    "cs_pmi = hinge_word_category_pmi[hinge_word_category_pmi.category == \"casual sex\"].merge(cs_adj_noun_pmi, on = [\"noun\"])"
   ]
  },
  {
   "cell_type": "code",
   "execution_count": 98,
   "metadata": {},
   "outputs": [
    {
     "name": "stdout",
     "output_type": "stream",
     "text": [
      "pos: 45.83%, neg: 54.17%, avg: -0.05191184176718044\n"
     ]
    },
    {
     "data": {
      "text/html": [
       "<div>\n",
       "<style scoped>\n",
       "    .dataframe tbody tr th:only-of-type {\n",
       "        vertical-align: middle;\n",
       "    }\n",
       "\n",
       "    .dataframe tbody tr th {\n",
       "        vertical-align: top;\n",
       "    }\n",
       "\n",
       "    .dataframe thead th {\n",
       "        text-align: right;\n",
       "    }\n",
       "</style>\n",
       "<table border=\"1\" class=\"dataframe\">\n",
       "  <thead>\n",
       "    <tr style=\"text-align: right;\">\n",
       "      <th></th>\n",
       "      <th>noun</th>\n",
       "      <th>adj</th>\n",
       "      <th>pmi_combined</th>\n",
       "      <th>polarity</th>\n",
       "    </tr>\n",
       "  </thead>\n",
       "  <tbody>\n",
       "    <tr>\n",
       "      <th>2188</th>\n",
       "      <td>services</td>\n",
       "      <td>sexual</td>\n",
       "      <td>1.231377</td>\n",
       "      <td>0.208333</td>\n",
       "    </tr>\n",
       "    <tr>\n",
       "      <th>2148</th>\n",
       "      <td>sell</td>\n",
       "      <td>sexual</td>\n",
       "      <td>0.958754</td>\n",
       "      <td>0.208333</td>\n",
       "    </tr>\n",
       "    <tr>\n",
       "      <th>1737</th>\n",
       "      <td>pop</td>\n",
       "      <td>sick</td>\n",
       "      <td>0.892755</td>\n",
       "      <td>-0.250000</td>\n",
       "    </tr>\n",
       "    <tr>\n",
       "      <th>1736</th>\n",
       "      <td>pop</td>\n",
       "      <td>fine</td>\n",
       "      <td>0.840807</td>\n",
       "      <td>0.212500</td>\n",
       "    </tr>\n",
       "    <tr>\n",
       "      <th>2372</th>\n",
       "      <td>swipe</td>\n",
       "      <td>meaningful</td>\n",
       "      <td>0.830600</td>\n",
       "      <td>0.125000</td>\n",
       "    </tr>\n",
       "  </tbody>\n",
       "</table>\n",
       "</div>"
      ],
      "text/plain": [
       "          noun         adj  pmi_combined  polarity\n",
       "2188  services      sexual      1.231377  0.208333\n",
       "2148      sell      sexual      0.958754  0.208333\n",
       "1737       pop        sick      0.892755 -0.250000\n",
       "1736       pop        fine      0.840807  0.212500\n",
       "2372     swipe  meaningful      0.830600  0.125000"
      ]
     },
     "execution_count": 98,
     "metadata": {},
     "output_type": "execute_result"
    }
   ],
   "source": [
    "cs_pmi, cs_pos, cs_neg, cs_avg = get_aspects_polarity(cs_pmi)\n",
    "queries_aspects, aspects_polarity = save_results(app=\"hinge\", aspect=\"casual sex\", pmi= cs_pmi, aspects_polarity = aspects_polarity, queries_aspects = queries_aspects, pos= cs_pos, neg=cs_neg, avg=cs_avg)\n",
    "print(f\"pos: {cs_pos:.2f}%, neg: {cs_neg:.2f}%, avg: {cs_avg}\")\n",
    "cs_pmi.head()"
   ]
  },
  {
   "attachments": {},
   "cell_type": "markdown",
   "metadata": {},
   "source": [
    "### __Relationship__"
   ]
  },
  {
   "cell_type": "code",
   "execution_count": 99,
   "metadata": {},
   "outputs": [],
   "source": [
    "relationship_reviews = hinge_reviews_by_category[\"relationship\"]"
   ]
  },
  {
   "cell_type": "code",
   "execution_count": 100,
   "metadata": {},
   "outputs": [
    {
     "data": {
      "application/vnd.jupyter.widget-view+json": {
       "model_id": "d73b0d9c8c3349f09864a88aff7c4602",
       "version_major": 2,
       "version_minor": 0
      },
      "text/plain": [
       "  0%|          | 0/21780 [00:00<?, ?it/s]"
      ]
     },
     "metadata": {},
     "output_type": "display_data"
    }
   ],
   "source": [
    "rel_adj_noun_pmi = aspect_extraction.get_adj_noun_pmi(relationship_reviews)\n",
    "rel_adj_noun_pmi = rel_adj_noun_pmi[rel_adj_noun_pmi.adj_noun_pmi > 0]\n",
    "rel_pmi = hinge_word_category_pmi[hinge_word_category_pmi.category == \"relationship\"].merge(rel_adj_noun_pmi, on = [\"noun\"])"
   ]
  },
  {
   "cell_type": "code",
   "execution_count": 101,
   "metadata": {},
   "outputs": [
    {
     "name": "stdout",
     "output_type": "stream",
     "text": [
      "pos: 62.92%, neg: 37.08%, avg: 0.06743423853908508\n"
     ]
    },
    {
     "data": {
      "text/html": [
       "<div>\n",
       "<style scoped>\n",
       "    .dataframe tbody tr th:only-of-type {\n",
       "        vertical-align: middle;\n",
       "    }\n",
       "\n",
       "    .dataframe tbody tr th {\n",
       "        vertical-align: top;\n",
       "    }\n",
       "\n",
       "    .dataframe thead th {\n",
       "        text-align: right;\n",
       "    }\n",
       "</style>\n",
       "<table border=\"1\" class=\"dataframe\">\n",
       "  <thead>\n",
       "    <tr style=\"text-align: right;\">\n",
       "      <th></th>\n",
       "      <th>noun</th>\n",
       "      <th>adj</th>\n",
       "      <th>pmi_combined</th>\n",
       "      <th>polarity</th>\n",
       "    </tr>\n",
       "  </thead>\n",
       "  <tbody>\n",
       "    <tr>\n",
       "      <th>1494</th>\n",
       "      <td>offer</td>\n",
       "      <td>fine</td>\n",
       "      <td>1.174844</td>\n",
       "      <td>0.212500</td>\n",
       "    </tr>\n",
       "    <tr>\n",
       "      <th>1493</th>\n",
       "      <td>offer</td>\n",
       "      <td>sexual</td>\n",
       "      <td>1.102117</td>\n",
       "      <td>0.208333</td>\n",
       "    </tr>\n",
       "    <tr>\n",
       "      <th>2156</th>\n",
       "      <td>relationship</td>\n",
       "      <td>meaningful</td>\n",
       "      <td>0.999683</td>\n",
       "      <td>0.125000</td>\n",
       "    </tr>\n",
       "    <tr>\n",
       "      <th>2225</th>\n",
       "      <td>reply</td>\n",
       "      <td>glad</td>\n",
       "      <td>0.987774</td>\n",
       "      <td>0.125000</td>\n",
       "    </tr>\n",
       "    <tr>\n",
       "      <th>2201</th>\n",
       "      <td>relationship</td>\n",
       "      <td>small</td>\n",
       "      <td>0.986250</td>\n",
       "      <td>-0.192308</td>\n",
       "    </tr>\n",
       "  </tbody>\n",
       "</table>\n",
       "</div>"
      ],
      "text/plain": [
       "              noun         adj  pmi_combined  polarity\n",
       "1494         offer        fine      1.174844  0.212500\n",
       "1493         offer      sexual      1.102117  0.208333\n",
       "2156  relationship  meaningful      0.999683  0.125000\n",
       "2225         reply        glad      0.987774  0.125000\n",
       "2201  relationship       small      0.986250 -0.192308"
      ]
     },
     "execution_count": 101,
     "metadata": {},
     "output_type": "execute_result"
    }
   ],
   "source": [
    "rel_pmi, rel_pos, rel_neg, rel_avg = get_aspects_polarity(rel_pmi)\n",
    "queries_aspects, aspects_polarity = save_results(app=\"hinge\", aspect=\"relationship\", pmi= rel_pmi, aspects_polarity = aspects_polarity, queries_aspects = queries_aspects, pos= rel_pos, neg=rel_neg, avg=rel_avg)\n",
    "print(f\"pos: {rel_pos:.2f}%, neg: {rel_neg:.2f}%, avg: {rel_avg}\")\n",
    "rel_pmi.head()"
   ]
  },
  {
   "attachments": {},
   "cell_type": "markdown",
   "metadata": {},
   "source": [
    "### __Friendship__"
   ]
  },
  {
   "cell_type": "code",
   "execution_count": 102,
   "metadata": {},
   "outputs": [],
   "source": [
    "friendship_reviews = hinge_reviews_by_category[\"friendship\"]"
   ]
  },
  {
   "cell_type": "code",
   "execution_count": 103,
   "metadata": {},
   "outputs": [
    {
     "data": {
      "application/vnd.jupyter.widget-view+json": {
       "model_id": "63ce5158df2545d6803bac5369c55cae",
       "version_major": 2,
       "version_minor": 0
      },
      "text/plain": [
       "  0%|          | 0/19897 [00:00<?, ?it/s]"
      ]
     },
     "metadata": {},
     "output_type": "display_data"
    }
   ],
   "source": [
    "friend_adj_noun_pmi = aspect_extraction.get_adj_noun_pmi(friendship_reviews)\n",
    "friend_adj_noun_pmi = friend_adj_noun_pmi[friend_adj_noun_pmi.adj_noun_pmi > 0]\n",
    "friend_pmi = hinge_word_category_pmi[hinge_word_category_pmi.category == \"friendship\"].merge(friend_adj_noun_pmi, on = [\"noun\"])"
   ]
  },
  {
   "cell_type": "code",
   "execution_count": 104,
   "metadata": {},
   "outputs": [
    {
     "name": "stdout",
     "output_type": "stream",
     "text": [
      "pos: 54.09%, neg: 45.91%, avg: -0.023141553930730384\n"
     ]
    },
    {
     "data": {
      "text/html": [
       "<div>\n",
       "<style scoped>\n",
       "    .dataframe tbody tr th:only-of-type {\n",
       "        vertical-align: middle;\n",
       "    }\n",
       "\n",
       "    .dataframe tbody tr th {\n",
       "        vertical-align: top;\n",
       "    }\n",
       "\n",
       "    .dataframe thead th {\n",
       "        text-align: right;\n",
       "    }\n",
       "</style>\n",
       "<table border=\"1\" class=\"dataframe\">\n",
       "  <thead>\n",
       "    <tr style=\"text-align: right;\">\n",
       "      <th></th>\n",
       "      <th>noun</th>\n",
       "      <th>adj</th>\n",
       "      <th>pmi_combined</th>\n",
       "      <th>polarity</th>\n",
       "    </tr>\n",
       "  </thead>\n",
       "  <tbody>\n",
       "    <tr>\n",
       "      <th>1903</th>\n",
       "      <td>services</td>\n",
       "      <td>sexual</td>\n",
       "      <td>1.485565</td>\n",
       "      <td>0.208333</td>\n",
       "    </tr>\n",
       "    <tr>\n",
       "      <th>1872</th>\n",
       "      <td>sell</td>\n",
       "      <td>sexual</td>\n",
       "      <td>1.169506</td>\n",
       "      <td>0.208333</td>\n",
       "    </tr>\n",
       "    <tr>\n",
       "      <th>505</th>\n",
       "      <td>fact</td>\n",
       "      <td>unlimited</td>\n",
       "      <td>0.885775</td>\n",
       "      <td>-0.250000</td>\n",
       "    </tr>\n",
       "    <tr>\n",
       "      <th>1877</th>\n",
       "      <td>sell</td>\n",
       "      <td>shame</td>\n",
       "      <td>0.798474</td>\n",
       "      <td>-0.482143</td>\n",
       "    </tr>\n",
       "    <tr>\n",
       "      <th>1876</th>\n",
       "      <td>sell</td>\n",
       "      <td>unlimited</td>\n",
       "      <td>0.798474</td>\n",
       "      <td>-0.250000</td>\n",
       "    </tr>\n",
       "  </tbody>\n",
       "</table>\n",
       "</div>"
      ],
      "text/plain": [
       "          noun        adj  pmi_combined  polarity\n",
       "1903  services     sexual      1.485565  0.208333\n",
       "1872      sell     sexual      1.169506  0.208333\n",
       "505       fact  unlimited      0.885775 -0.250000\n",
       "1877      sell      shame      0.798474 -0.482143\n",
       "1876      sell  unlimited      0.798474 -0.250000"
      ]
     },
     "execution_count": 104,
     "metadata": {},
     "output_type": "execute_result"
    }
   ],
   "source": [
    "friend_pmi, friend_pos, friend_neg, friend_avg = get_aspects_polarity(friend_pmi)\n",
    "queries_aspects, aspects_polarity = save_results(app=\"hinge\", aspect=\"friendship\", pmi= friend_pmi, aspects_polarity = aspects_polarity, queries_aspects = queries_aspects, pos= friend_pos, neg=friend_neg, avg=friend_avg)\n",
    "print(f\"pos: {friend_pos:.2f}%, neg: {friend_neg:.2f}%, avg: {friend_avg}\")\n",
    "friend_pmi.head()"
   ]
  },
  {
   "attachments": {},
   "cell_type": "markdown",
   "metadata": {},
   "source": [
    "### __Curiosity__"
   ]
  },
  {
   "cell_type": "code",
   "execution_count": 105,
   "metadata": {},
   "outputs": [],
   "source": [
    "curiosity_reviews = hinge_reviews_by_category[\"curiosity\"]"
   ]
  },
  {
   "cell_type": "code",
   "execution_count": 106,
   "metadata": {},
   "outputs": [
    {
     "data": {
      "application/vnd.jupyter.widget-view+json": {
       "model_id": "7a75428ea4d0437ab9f57d9184d8cf6c",
       "version_major": 2,
       "version_minor": 0
      },
      "text/plain": [
       "  0%|          | 0/20710 [00:00<?, ?it/s]"
      ]
     },
     "metadata": {},
     "output_type": "display_data"
    }
   ],
   "source": [
    "cur_adj_noun_pmi = aspect_extraction.get_adj_noun_pmi(curiosity_reviews)\n",
    "cur_adj_noun_pmi = cur_adj_noun_pmi[cur_adj_noun_pmi.adj_noun_pmi > 0]\n",
    "cur_pmi = hinge_word_category_pmi[hinge_word_category_pmi.category == \"curiosity\"].merge(cur_adj_noun_pmi, on = [\"noun\"])"
   ]
  },
  {
   "cell_type": "code",
   "execution_count": 107,
   "metadata": {},
   "outputs": [
    {
     "name": "stdout",
     "output_type": "stream",
     "text": [
      "pos: 47.67%, neg: 52.33%, avg: -0.0398935539195112\n"
     ]
    },
    {
     "data": {
      "text/html": [
       "<div>\n",
       "<style scoped>\n",
       "    .dataframe tbody tr th:only-of-type {\n",
       "        vertical-align: middle;\n",
       "    }\n",
       "\n",
       "    .dataframe tbody tr th {\n",
       "        vertical-align: top;\n",
       "    }\n",
       "\n",
       "    .dataframe thead th {\n",
       "        text-align: right;\n",
       "    }\n",
       "</style>\n",
       "<table border=\"1\" class=\"dataframe\">\n",
       "  <thead>\n",
       "    <tr style=\"text-align: right;\">\n",
       "      <th></th>\n",
       "      <th>noun</th>\n",
       "      <th>adj</th>\n",
       "      <th>pmi_combined</th>\n",
       "      <th>polarity</th>\n",
       "    </tr>\n",
       "  </thead>\n",
       "  <tbody>\n",
       "    <tr>\n",
       "      <th>2021</th>\n",
       "      <td>services</td>\n",
       "      <td>sexual</td>\n",
       "      <td>1.485478</td>\n",
       "      <td>0.208333</td>\n",
       "    </tr>\n",
       "    <tr>\n",
       "      <th>15</th>\n",
       "      <td>access</td>\n",
       "      <td>sick</td>\n",
       "      <td>0.966239</td>\n",
       "      <td>-0.250000</td>\n",
       "    </tr>\n",
       "    <tr>\n",
       "      <th>525</th>\n",
       "      <td>fact</td>\n",
       "      <td>unlimited</td>\n",
       "      <td>0.845394</td>\n",
       "      <td>-0.250000</td>\n",
       "    </tr>\n",
       "    <tr>\n",
       "      <th>1283</th>\n",
       "      <td>notification</td>\n",
       "      <td>compatible</td>\n",
       "      <td>0.727726</td>\n",
       "      <td>0.416667</td>\n",
       "    </tr>\n",
       "    <tr>\n",
       "      <th>1923</th>\n",
       "      <td>report</td>\n",
       "      <td>stupid</td>\n",
       "      <td>0.717468</td>\n",
       "      <td>-0.343750</td>\n",
       "    </tr>\n",
       "  </tbody>\n",
       "</table>\n",
       "</div>"
      ],
      "text/plain": [
       "              noun         adj  pmi_combined  polarity\n",
       "2021      services      sexual      1.485478  0.208333\n",
       "15          access        sick      0.966239 -0.250000\n",
       "525           fact   unlimited      0.845394 -0.250000\n",
       "1283  notification  compatible      0.727726  0.416667\n",
       "1923        report      stupid      0.717468 -0.343750"
      ]
     },
     "execution_count": 107,
     "metadata": {},
     "output_type": "execute_result"
    }
   ],
   "source": [
    "cur_pmi, cur_pos, cur_neg, cur_avg = get_aspects_polarity(cur_pmi)\n",
    "queries_aspects, aspects_polarity = save_results(app=\"hinge\", aspect=\"curiosity\", pmi= cur_pmi, aspects_polarity = aspects_polarity, queries_aspects = queries_aspects, pos= cur_pos, neg=cur_neg, avg=cur_avg)\n",
    "print(f\"pos: {cur_pos:.2f}%, neg: {cur_neg:.2f}%, avg: {cur_avg}\")\n",
    "cur_pmi.head()"
   ]
  },
  {
   "attachments": {},
   "cell_type": "markdown",
   "metadata": {},
   "source": [
    "### __Women__"
   ]
  },
  {
   "cell_type": "code",
   "execution_count": 108,
   "metadata": {},
   "outputs": [],
   "source": [
    "women_reviews = hinge_reviews_by_category[\"women\"]"
   ]
  },
  {
   "cell_type": "code",
   "execution_count": 109,
   "metadata": {},
   "outputs": [
    {
     "data": {
      "application/vnd.jupyter.widget-view+json": {
       "model_id": "5651f80f0e99488d984eee74ec395e16",
       "version_major": 2,
       "version_minor": 0
      },
      "text/plain": [
       "  0%|          | 0/20400 [00:00<?, ?it/s]"
      ]
     },
     "metadata": {},
     "output_type": "display_data"
    }
   ],
   "source": [
    "women_adj_noun_pmi = aspect_extraction.get_adj_noun_pmi(women_reviews)\n",
    "wome_adj_noun_pmi = women_adj_noun_pmi[women_adj_noun_pmi.adj_noun_pmi > 0]\n",
    "women_pmi = hinge_word_category_pmi[hinge_word_category_pmi.category == \"women\"].merge(women_adj_noun_pmi, on = [\"noun\"])"
   ]
  },
  {
   "cell_type": "code",
   "execution_count": 110,
   "metadata": {},
   "outputs": [
    {
     "name": "stdout",
     "output_type": "stream",
     "text": [
      "pos: 59.56%, neg: 40.44%, avg: 0.06837142569308755\n"
     ]
    },
    {
     "data": {
      "text/html": [
       "<div>\n",
       "<style scoped>\n",
       "    .dataframe tbody tr th:only-of-type {\n",
       "        vertical-align: middle;\n",
       "    }\n",
       "\n",
       "    .dataframe tbody tr th {\n",
       "        vertical-align: top;\n",
       "    }\n",
       "\n",
       "    .dataframe thead th {\n",
       "        text-align: right;\n",
       "    }\n",
       "</style>\n",
       "<table border=\"1\" class=\"dataframe\">\n",
       "  <thead>\n",
       "    <tr style=\"text-align: right;\">\n",
       "      <th></th>\n",
       "      <th>noun</th>\n",
       "      <th>adj</th>\n",
       "      <th>pmi_combined</th>\n",
       "      <th>polarity</th>\n",
       "    </tr>\n",
       "  </thead>\n",
       "  <tbody>\n",
       "    <tr>\n",
       "      <th>5699</th>\n",
       "      <td>hour</td>\n",
       "      <td>stupid</td>\n",
       "      <td>1.591393</td>\n",
       "      <td>-0.343750</td>\n",
       "    </tr>\n",
       "    <tr>\n",
       "      <th>5503</th>\n",
       "      <td>height</td>\n",
       "      <td>select</td>\n",
       "      <td>1.556428</td>\n",
       "      <td>0.208333</td>\n",
       "    </tr>\n",
       "    <tr>\n",
       "      <th>5674</th>\n",
       "      <td>hour</td>\n",
       "      <td>happy</td>\n",
       "      <td>1.409575</td>\n",
       "      <td>0.562500</td>\n",
       "    </tr>\n",
       "    <tr>\n",
       "      <th>5291</th>\n",
       "      <td>half</td>\n",
       "      <td>stupid</td>\n",
       "      <td>1.334709</td>\n",
       "      <td>-0.343750</td>\n",
       "    </tr>\n",
       "    <tr>\n",
       "      <th>13015</th>\n",
       "      <td>size</td>\n",
       "      <td>prefer</td>\n",
       "      <td>1.325659</td>\n",
       "      <td>0.312500</td>\n",
       "    </tr>\n",
       "  </tbody>\n",
       "</table>\n",
       "</div>"
      ],
      "text/plain": [
       "         noun     adj  pmi_combined  polarity\n",
       "5699     hour  stupid      1.591393 -0.343750\n",
       "5503   height  select      1.556428  0.208333\n",
       "5674     hour   happy      1.409575  0.562500\n",
       "5291     half  stupid      1.334709 -0.343750\n",
       "13015    size  prefer      1.325659  0.312500"
      ]
     },
     "execution_count": 110,
     "metadata": {},
     "output_type": "execute_result"
    }
   ],
   "source": [
    "women_pmi, women_pos, women_neg, women_avg = get_aspects_polarity(women_pmi)\n",
    "queries_aspects, aspects_polarity = save_results(app=\"hinge\", aspect=\"women\", pmi= women_pmi, aspects_polarity = aspects_polarity, queries_aspects = queries_aspects, pos= women_pos, neg=women_neg, avg=women_avg)\n",
    "print(f\"pos: {women_pos:.2f}%, neg: {women_neg:.2f}%, avg: {women_avg}\")\n",
    "women_pmi.head()"
   ]
  },
  {
   "attachments": {},
   "cell_type": "markdown",
   "metadata": {},
   "source": [
    "### __Men__"
   ]
  },
  {
   "cell_type": "code",
   "execution_count": 111,
   "metadata": {},
   "outputs": [],
   "source": [
    "men_reviews = hinge_reviews_by_category[\"men\"]"
   ]
  },
  {
   "cell_type": "code",
   "execution_count": 112,
   "metadata": {},
   "outputs": [
    {
     "data": {
      "application/vnd.jupyter.widget-view+json": {
       "model_id": "aa49c3979b2642b2855c05f1b2676062",
       "version_major": 2,
       "version_minor": 0
      },
      "text/plain": [
       "  0%|          | 0/22374 [00:00<?, ?it/s]"
      ]
     },
     "metadata": {},
     "output_type": "display_data"
    }
   ],
   "source": [
    "men_adj_noun_pmi = aspect_extraction.get_adj_noun_pmi(men_reviews)\n",
    "men_adj_noun_pmi = men_adj_noun_pmi[men_adj_noun_pmi.adj_noun_pmi > 0]\n",
    "men_pmi = hinge_word_category_pmi[hinge_word_category_pmi.category == \"men\"].merge(men_adj_noun_pmi, on = [\"noun\"])"
   ]
  },
  {
   "cell_type": "code",
   "execution_count": 113,
   "metadata": {},
   "outputs": [
    {
     "name": "stdout",
     "output_type": "stream",
     "text": [
      "pos: 55.76%, neg: 44.24%, avg: 0.023781491934596506\n"
     ]
    },
    {
     "data": {
      "text/html": [
       "<div>\n",
       "<style scoped>\n",
       "    .dataframe tbody tr th:only-of-type {\n",
       "        vertical-align: middle;\n",
       "    }\n",
       "\n",
       "    .dataframe tbody tr th {\n",
       "        vertical-align: top;\n",
       "    }\n",
       "\n",
       "    .dataframe thead th {\n",
       "        text-align: right;\n",
       "    }\n",
       "</style>\n",
       "<table border=\"1\" class=\"dataframe\">\n",
       "  <thead>\n",
       "    <tr style=\"text-align: right;\">\n",
       "      <th></th>\n",
       "      <th>noun</th>\n",
       "      <th>adj</th>\n",
       "      <th>pmi_combined</th>\n",
       "      <th>polarity</th>\n",
       "    </tr>\n",
       "  </thead>\n",
       "  <tbody>\n",
       "    <tr>\n",
       "      <th>1690</th>\n",
       "      <td>members</td>\n",
       "      <td>preferred</td>\n",
       "      <td>1.331917</td>\n",
       "      <td>0.375000</td>\n",
       "    </tr>\n",
       "    <tr>\n",
       "      <th>862</th>\n",
       "      <td>gender</td>\n",
       "      <td>fine</td>\n",
       "      <td>1.310809</td>\n",
       "      <td>0.212500</td>\n",
       "    </tr>\n",
       "    <tr>\n",
       "      <th>3563</th>\n",
       "      <td>way</td>\n",
       "      <td>preferred</td>\n",
       "      <td>1.149625</td>\n",
       "      <td>0.375000</td>\n",
       "    </tr>\n",
       "    <tr>\n",
       "      <th>1165</th>\n",
       "      <td>job</td>\n",
       "      <td>awful</td>\n",
       "      <td>1.125320</td>\n",
       "      <td>-0.214286</td>\n",
       "    </tr>\n",
       "    <tr>\n",
       "      <th>3061</th>\n",
       "      <td>star</td>\n",
       "      <td>expensive</td>\n",
       "      <td>1.125320</td>\n",
       "      <td>0.500000</td>\n",
       "    </tr>\n",
       "  </tbody>\n",
       "</table>\n",
       "</div>"
      ],
      "text/plain": [
       "         noun        adj  pmi_combined  polarity\n",
       "1690  members  preferred      1.331917  0.375000\n",
       "862    gender       fine      1.310809  0.212500\n",
       "3563      way  preferred      1.149625  0.375000\n",
       "1165      job      awful      1.125320 -0.214286\n",
       "3061     star  expensive      1.125320  0.500000"
      ]
     },
     "execution_count": 113,
     "metadata": {},
     "output_type": "execute_result"
    }
   ],
   "source": [
    "men_pmi, men_pos, men_neg, men_avg = get_aspects_polarity(men_pmi)\n",
    "queries_aspects, aspects_polarity = save_results(app=\"hinge\", aspect=\"men\", pmi= men_pmi, aspects_polarity = aspects_polarity, queries_aspects = queries_aspects, pos= men_pos, neg=men_neg, avg=men_avg)\n",
    "print(f\"pos: {men_pos:.2f}%, neg: {men_neg:.2f}%, avg: {men_avg}\")\n",
    "men_pmi.head()"
   ]
  },
  {
   "cell_type": "markdown",
   "metadata": {},
   "source": [
    "### __Self Esteem__"
   ]
  },
  {
   "cell_type": "code",
   "execution_count": 114,
   "metadata": {},
   "outputs": [],
   "source": [
    "self_reviews = hinge_reviews_by_category[\"self esteem\"]"
   ]
  },
  {
   "cell_type": "code",
   "execution_count": 115,
   "metadata": {},
   "outputs": [
    {
     "data": {
      "application/vnd.jupyter.widget-view+json": {
       "model_id": "319d82c943c74022b89e97c8cda255ab",
       "version_major": 2,
       "version_minor": 0
      },
      "text/plain": [
       "  0%|          | 0/18816 [00:00<?, ?it/s]"
      ]
     },
     "metadata": {},
     "output_type": "display_data"
    }
   ],
   "source": [
    "self_adj_noun_pmi = aspect_extraction.get_adj_noun_pmi(self_reviews)\n",
    "self_adj_noun_pmi = self_adj_noun_pmi[self_adj_noun_pmi.adj_noun_pmi > 0]\n",
    "self_pmi = hinge_word_category_pmi[hinge_word_category_pmi.category == \"self esteem\"].merge(self_adj_noun_pmi, on = [\"noun\"])"
   ]
  },
  {
   "cell_type": "code",
   "execution_count": 116,
   "metadata": {},
   "outputs": [
    {
     "name": "stdout",
     "output_type": "stream",
     "text": [
      "pos: 49.02%, neg: 50.98%, avg: -0.03512853640904748\n"
     ]
    },
    {
     "data": {
      "text/html": [
       "<div>\n",
       "<style scoped>\n",
       "    .dataframe tbody tr th:only-of-type {\n",
       "        vertical-align: middle;\n",
       "    }\n",
       "\n",
       "    .dataframe tbody tr th {\n",
       "        vertical-align: top;\n",
       "    }\n",
       "\n",
       "    .dataframe thead th {\n",
       "        text-align: right;\n",
       "    }\n",
       "</style>\n",
       "<table border=\"1\" class=\"dataframe\">\n",
       "  <thead>\n",
       "    <tr style=\"text-align: right;\">\n",
       "      <th></th>\n",
       "      <th>noun</th>\n",
       "      <th>adj</th>\n",
       "      <th>pmi_combined</th>\n",
       "      <th>polarity</th>\n",
       "    </tr>\n",
       "  </thead>\n",
       "  <tbody>\n",
       "    <tr>\n",
       "      <th>1820</th>\n",
       "      <td>services</td>\n",
       "      <td>sexual</td>\n",
       "      <td>1.486970</td>\n",
       "      <td>0.208333</td>\n",
       "    </tr>\n",
       "    <tr>\n",
       "      <th>1759</th>\n",
       "      <td>sell</td>\n",
       "      <td>sexual</td>\n",
       "      <td>1.170911</td>\n",
       "      <td>0.208333</td>\n",
       "    </tr>\n",
       "    <tr>\n",
       "      <th>1918</th>\n",
       "      <td>start</td>\n",
       "      <td>easier</td>\n",
       "      <td>0.862165</td>\n",
       "      <td>0.104167</td>\n",
       "    </tr>\n",
       "    <tr>\n",
       "      <th>386</th>\n",
       "      <td>fact</td>\n",
       "      <td>unlimited</td>\n",
       "      <td>0.833539</td>\n",
       "      <td>-0.250000</td>\n",
       "    </tr>\n",
       "    <tr>\n",
       "      <th>1761</th>\n",
       "      <td>sell</td>\n",
       "      <td>unlimited</td>\n",
       "      <td>0.778054</td>\n",
       "      <td>-0.250000</td>\n",
       "    </tr>\n",
       "  </tbody>\n",
       "</table>\n",
       "</div>"
      ],
      "text/plain": [
       "          noun        adj  pmi_combined  polarity\n",
       "1820  services     sexual      1.486970  0.208333\n",
       "1759      sell     sexual      1.170911  0.208333\n",
       "1918     start     easier      0.862165  0.104167\n",
       "386       fact  unlimited      0.833539 -0.250000\n",
       "1761      sell  unlimited      0.778054 -0.250000"
      ]
     },
     "execution_count": 116,
     "metadata": {},
     "output_type": "execute_result"
    }
   ],
   "source": [
    "self_pmi, self_pos, self_neg, self_avg = get_aspects_polarity(self_pmi)\n",
    "queries_aspects, aspects_polarity = save_results(app=\"hinge\", aspect=\"self esteem\", pmi= self_pmi, aspects_polarity = aspects_polarity, queries_aspects = queries_aspects, pos= self_pos, neg=self_neg, avg=self_avg)\n",
    "print(f\"pos: {self_pos:.2f}%, neg: {self_neg:.2f}%, avg: {self_avg}\")\n",
    "self_pmi.head()"
   ]
  },
  {
   "cell_type": "markdown",
   "metadata": {},
   "source": [
    "### __Attractiveness (appearence)__"
   ]
  },
  {
   "cell_type": "code",
   "execution_count": 117,
   "metadata": {},
   "outputs": [],
   "source": [
    "attractiveness_reviews = hinge_reviews_by_category[\"attractiveness\"]"
   ]
  },
  {
   "cell_type": "code",
   "execution_count": 118,
   "metadata": {},
   "outputs": [
    {
     "data": {
      "application/vnd.jupyter.widget-view+json": {
       "model_id": "df9e186e0dc14e3e9fcd96eee5ac7447",
       "version_major": 2,
       "version_minor": 0
      },
      "text/plain": [
       "  0%|          | 0/21037 [00:00<?, ?it/s]"
      ]
     },
     "metadata": {},
     "output_type": "display_data"
    }
   ],
   "source": [
    "attr_adj_noun_pmi = aspect_extraction.get_adj_noun_pmi(attractiveness_reviews)\n",
    "attr_adj_noun_pmi = attr_adj_noun_pmi[attr_adj_noun_pmi.adj_noun_pmi > 0]\n",
    "attr_pmi = hinge_word_category_pmi[hinge_word_category_pmi.category == \"attractiveness\"].merge(attr_adj_noun_pmi, on = [\"noun\"])"
   ]
  },
  {
   "cell_type": "code",
   "execution_count": 119,
   "metadata": {},
   "outputs": [
    {
     "name": "stdout",
     "output_type": "stream",
     "text": [
      "pos: 51.59%, neg: 48.41%, avg: -0.006349451509591566\n"
     ]
    },
    {
     "data": {
      "text/html": [
       "<div>\n",
       "<style scoped>\n",
       "    .dataframe tbody tr th:only-of-type {\n",
       "        vertical-align: middle;\n",
       "    }\n",
       "\n",
       "    .dataframe tbody tr th {\n",
       "        vertical-align: top;\n",
       "    }\n",
       "\n",
       "    .dataframe thead th {\n",
       "        text-align: right;\n",
       "    }\n",
       "</style>\n",
       "<table border=\"1\" class=\"dataframe\">\n",
       "  <thead>\n",
       "    <tr style=\"text-align: right;\">\n",
       "      <th></th>\n",
       "      <th>noun</th>\n",
       "      <th>adj</th>\n",
       "      <th>pmi_combined</th>\n",
       "      <th>polarity</th>\n",
       "    </tr>\n",
       "  </thead>\n",
       "  <tbody>\n",
       "    <tr>\n",
       "      <th>2144</th>\n",
       "      <td>services</td>\n",
       "      <td>sexual</td>\n",
       "      <td>1.411414</td>\n",
       "      <td>0.208333</td>\n",
       "    </tr>\n",
       "    <tr>\n",
       "      <th>14</th>\n",
       "      <td>absolute</td>\n",
       "      <td>huge</td>\n",
       "      <td>1.318182</td>\n",
       "      <td>-0.125000</td>\n",
       "    </tr>\n",
       "    <tr>\n",
       "      <th>12</th>\n",
       "      <td>absolute</td>\n",
       "      <td>low</td>\n",
       "      <td>1.198864</td>\n",
       "      <td>-0.250000</td>\n",
       "    </tr>\n",
       "    <tr>\n",
       "      <th>13</th>\n",
       "      <td>absolute</td>\n",
       "      <td>average</td>\n",
       "      <td>1.198864</td>\n",
       "      <td>-0.114583</td>\n",
       "    </tr>\n",
       "    <tr>\n",
       "      <th>11</th>\n",
       "      <td>absolute</td>\n",
       "      <td>attractiveness</td>\n",
       "      <td>1.132576</td>\n",
       "      <td>0.562500</td>\n",
       "    </tr>\n",
       "  </tbody>\n",
       "</table>\n",
       "</div>"
      ],
      "text/plain": [
       "          noun             adj  pmi_combined  polarity\n",
       "2144  services          sexual      1.411414  0.208333\n",
       "14    absolute            huge      1.318182 -0.125000\n",
       "12    absolute             low      1.198864 -0.250000\n",
       "13    absolute         average      1.198864 -0.114583\n",
       "11    absolute  attractiveness      1.132576  0.562500"
      ]
     },
     "execution_count": 119,
     "metadata": {},
     "output_type": "execute_result"
    }
   ],
   "source": [
    "attr_pmi, attr_pos, attr_neg, attr_avg = get_aspects_polarity(attr_pmi)\n",
    "queries_aspects, aspects_polarity = save_results(app=\"hinge\", aspect=\"attractiveness\", pmi= attr_pmi, aspects_polarity = aspects_polarity, queries_aspects = queries_aspects, pos= attr_pos, neg=attr_neg, avg=attr_avg)\n",
    "print(f\"pos: {attr_pos:.2f}%, neg: {attr_neg:.2f}%, avg: {attr_avg}\")\n",
    "attr_pmi.head()"
   ]
  },
  {
   "attachments": {},
   "cell_type": "markdown",
   "metadata": {},
   "source": [
    "### __Attractiveness (intelligence)__"
   ]
  },
  {
   "cell_type": "code",
   "execution_count": 120,
   "metadata": {},
   "outputs": [],
   "source": [
    "intelligence_reviews = hinge_reviews_by_category[\"intelligence\"]"
   ]
  },
  {
   "cell_type": "code",
   "execution_count": 121,
   "metadata": {},
   "outputs": [
    {
     "data": {
      "application/vnd.jupyter.widget-view+json": {
       "model_id": "23b98e50da7340c5a74585be95b3fb17",
       "version_major": 2,
       "version_minor": 0
      },
      "text/plain": [
       "  0%|          | 0/18912 [00:00<?, ?it/s]"
      ]
     },
     "metadata": {},
     "output_type": "display_data"
    }
   ],
   "source": [
    "int_adj_noun_pmi = aspect_extraction.get_adj_noun_pmi(intelligence_reviews)\n",
    "int_adj_noun_pmi = int_adj_noun_pmi[int_adj_noun_pmi.adj_noun_pmi > 0]\n",
    "int_pmi = hinge_word_category_pmi[hinge_word_category_pmi.category == \"intelligence\"].merge(int_adj_noun_pmi, on = [\"noun\"])"
   ]
  },
  {
   "cell_type": "code",
   "execution_count": 122,
   "metadata": {},
   "outputs": [
    {
     "name": "stdout",
     "output_type": "stream",
     "text": [
      "pos: 51.11%, neg: 48.89%, avg: -0.024954842011303668\n"
     ]
    },
    {
     "data": {
      "text/html": [
       "<div>\n",
       "<style scoped>\n",
       "    .dataframe tbody tr th:only-of-type {\n",
       "        vertical-align: middle;\n",
       "    }\n",
       "\n",
       "    .dataframe tbody tr th {\n",
       "        vertical-align: top;\n",
       "    }\n",
       "\n",
       "    .dataframe thead th {\n",
       "        text-align: right;\n",
       "    }\n",
       "</style>\n",
       "<table border=\"1\" class=\"dataframe\">\n",
       "  <thead>\n",
       "    <tr style=\"text-align: right;\">\n",
       "      <th></th>\n",
       "      <th>noun</th>\n",
       "      <th>adj</th>\n",
       "      <th>pmi_combined</th>\n",
       "      <th>polarity</th>\n",
       "    </tr>\n",
       "  </thead>\n",
       "  <tbody>\n",
       "    <tr>\n",
       "      <th>1872</th>\n",
       "      <td>services</td>\n",
       "      <td>sexual</td>\n",
       "      <td>1.486325</td>\n",
       "      <td>0.208333</td>\n",
       "    </tr>\n",
       "    <tr>\n",
       "      <th>1915</th>\n",
       "      <td>sites</td>\n",
       "      <td>funny</td>\n",
       "      <td>0.866735</td>\n",
       "      <td>-0.150000</td>\n",
       "    </tr>\n",
       "    <tr>\n",
       "      <th>1959</th>\n",
       "      <td>start</td>\n",
       "      <td>easier</td>\n",
       "      <td>0.861521</td>\n",
       "      <td>0.104167</td>\n",
       "    </tr>\n",
       "    <tr>\n",
       "      <th>532</th>\n",
       "      <td>fact</td>\n",
       "      <td>unlimited</td>\n",
       "      <td>0.846242</td>\n",
       "      <td>-0.250000</td>\n",
       "    </tr>\n",
       "    <tr>\n",
       "      <th>182</th>\n",
       "      <td>bots</td>\n",
       "      <td>funny</td>\n",
       "      <td>0.841664</td>\n",
       "      <td>-0.150000</td>\n",
       "    </tr>\n",
       "  </tbody>\n",
       "</table>\n",
       "</div>"
      ],
      "text/plain": [
       "          noun        adj  pmi_combined  polarity\n",
       "1872  services     sexual      1.486325  0.208333\n",
       "1915     sites      funny      0.866735 -0.150000\n",
       "1959     start     easier      0.861521  0.104167\n",
       "532       fact  unlimited      0.846242 -0.250000\n",
       "182       bots      funny      0.841664 -0.150000"
      ]
     },
     "execution_count": 122,
     "metadata": {},
     "output_type": "execute_result"
    }
   ],
   "source": [
    "int_pmi, int_pos, int_neg, int_avg = get_aspects_polarity(int_pmi)\n",
    "queries_aspects, aspects_polarity = save_results(app=\"hinge\", aspect=\"intelligence\", pmi= int_pmi, aspects_polarity = aspects_polarity, queries_aspects = queries_aspects, pos= int_pos, neg=int_neg, avg=int_avg)\n",
    "print(f\"pos: {int_pos:.2f}%, neg: {int_neg:.2f}%, avg: {int_avg}\")\n",
    "int_pmi.head()"
   ]
  },
  {
   "cell_type": "code",
   "execution_count": 123,
   "metadata": {},
   "outputs": [],
   "source": [
    "with open(\"data/pmi_query_aspects.pickle\", \"wb+\") as f:\n",
    "    pickle.dump(queries_aspects, f)"
   ]
  },
  {
   "cell_type": "code",
   "execution_count": 124,
   "metadata": {},
   "outputs": [],
   "source": [
    "with open(\"data/pmi_aspects_polarities.pickle\", \"wb+\") as f:\n",
    "    pickle.dump(aspects_polarity, f)"
   ]
  },
  {
   "cell_type": "markdown",
   "metadata": {},
   "source": [
    "## __Comparing__"
   ]
  },
  {
   "cell_type": "code",
   "execution_count": 125,
   "metadata": {},
   "outputs": [],
   "source": [
    "with open(\"data/pmi_aspects_polarities.pickle\", \"rb+\") as f:\n",
    "    dating_app_polarities = pickle.load(f)"
   ]
  },
  {
   "cell_type": "code",
   "execution_count": 126,
   "metadata": {},
   "outputs": [
    {
     "data": {
      "image/png": "[encoded data removed]",
      "text/plain": [
       "<Figure size 2100x600 with 3 Axes>"
      ]
     },
     "metadata": {},
     "output_type": "display_data"
    }
   ],
   "source": [
    "visualizer.plot_apps_polarity(dating_app_polarities, aspects = [\"casual sex\", \"relationship\"], figsize=(21,6))"
   ]
  },
  {
   "cell_type": "code",
   "execution_count": 127,
   "metadata": {},
   "outputs": [
    {
     "data": {
      "image/png": "[encoded data removed]",
      "text/plain": [
       "<Figure size 2300x500 with 3 Axes>"
      ]
     },
     "metadata": {},
     "output_type": "display_data"
    }
   ],
   "source": [
    "visualizer.plot_apps_polarity(dating_app_polarities, aspects= [\"men\", \"women\"], figsize=(23,5))"
   ]
  },
  {
   "cell_type": "code",
   "execution_count": 128,
   "metadata": {},
   "outputs": [
    {
     "data": {
      "image/png": "[encoded data removed]",
      "text/plain": [
       "<Figure size 2300x500 with 3 Axes>"
      ]
     },
     "metadata": {},
     "output_type": "display_data"
    }
   ],
   "source": [
    "visualizer.plot_apps_polarity(dating_app_polarities, aspects= [\"intelligence\", \"attractiveness\"], figsize=(23,5))"
   ]
  },
  {
   "cell_type": "code",
   "execution_count": 129,
   "metadata": {},
   "outputs": [
    {
     "data": {
      "image/png": "[encoded data removed]",
      "text/plain": [
       "<Figure size 2300x500 with 3 Axes>"
      ]
     },
     "metadata": {},
     "output_type": "display_data"
    }
   ],
   "source": [
    "visualizer.plot_apps_polarity(dating_app_polarities, aspects= [\"curiosity\", \"friendship\"], figsize=(23,5))"
   ]
  }
 ],
 "metadata": {
  "kernelspec": {
   "display_name": "venv",
   "language": "python",
   "name": "python3"
  },
  "language_info": {
   "codemirror_mode": {
    "name": "ipython",
    "version": 3
   },
   "file_extension": ".py",
   "mimetype": "text/x-python",
   "name": "python",
   "nbconvert_exporter": "python",
   "pygments_lexer": "ipython3",
   "version": "3.10.6"
  },
  "orig_nbformat": 4
 },
 "nbformat": 4,
 "nbformat_minor": 2
}
